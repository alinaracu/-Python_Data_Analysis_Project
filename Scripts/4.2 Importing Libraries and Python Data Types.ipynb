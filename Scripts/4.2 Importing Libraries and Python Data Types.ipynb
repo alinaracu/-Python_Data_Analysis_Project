{
 "cells": [
  {
   "cell_type": "markdown",
   "id": "45641870",
   "metadata": {},
   "source": [
    "# 01. Importing libraries"
   ]
  },
  {
   "cell_type": "code",
   "execution_count": 1,
   "id": "2230bf1b",
   "metadata": {},
   "outputs": [],
   "source": [
    "import pandas as pd\n",
    "import numpy as np\n",
    "import os"
   ]
  },
  {
   "cell_type": "markdown",
   "id": "e182ffcc",
   "metadata": {},
   "source": [
    "# 02. Data types"
   ]
  },
  {
   "cell_type": "code",
   "execution_count": null,
   "id": "1ac080fa",
   "metadata": {},
   "outputs": [],
   "source": [
    "# Operation 1 with integers"
   ]
  },
  {
   "cell_type": "code",
   "execution_count": 3,
   "id": "2fa7ca45",
   "metadata": {},
   "outputs": [],
   "source": [
    "x = 60"
   ]
  },
  {
   "cell_type": "code",
   "execution_count": 4,
   "id": "82ed2f01",
   "metadata": {},
   "outputs": [],
   "source": [
    "y = 40"
   ]
  },
  {
   "cell_type": "code",
   "execution_count": 5,
   "id": "21e4d648",
   "metadata": {},
   "outputs": [
    {
     "name": "stdout",
     "output_type": "stream",
     "text": [
      "100\n"
     ]
    }
   ],
   "source": [
    "print (x + y)"
   ]
  },
  {
   "cell_type": "code",
   "execution_count": null,
   "id": "b88627ae",
   "metadata": {},
   "outputs": [],
   "source": [
    "# Operation 2 with integers"
   ]
  },
  {
   "cell_type": "code",
   "execution_count": 6,
   "id": "2c8f748c",
   "metadata": {},
   "outputs": [],
   "source": [
    "z = 160"
   ]
  },
  {
   "cell_type": "code",
   "execution_count": 7,
   "id": "7e42958e",
   "metadata": {},
   "outputs": [
    {
     "name": "stdout",
     "output_type": "stream",
     "text": [
      "100\n"
     ]
    }
   ],
   "source": [
    "print (z - x)"
   ]
  },
  {
   "cell_type": "code",
   "execution_count": null,
   "id": "0a8a672d",
   "metadata": {},
   "outputs": [],
   "source": [
    "# Operation 3 with integers"
   ]
  },
  {
   "cell_type": "code",
   "execution_count": 8,
   "id": "c0372282",
   "metadata": {},
   "outputs": [],
   "source": [
    "x = x + 40"
   ]
  },
  {
   "cell_type": "code",
   "execution_count": 9,
   "id": "b59b7f58",
   "metadata": {},
   "outputs": [
    {
     "name": "stdout",
     "output_type": "stream",
     "text": [
      "100\n"
     ]
    }
   ],
   "source": [
    "print (x)"
   ]
  },
  {
   "cell_type": "code",
   "execution_count": null,
   "id": "0347cca2",
   "metadata": {},
   "outputs": [],
   "source": [
    "# Operation 4 with floating point variables"
   ]
  },
  {
   "cell_type": "code",
   "execution_count": 10,
   "id": "dec8fe25",
   "metadata": {},
   "outputs": [],
   "source": [
    "a = 10.5"
   ]
  },
  {
   "cell_type": "code",
   "execution_count": 11,
   "id": "6b6a6260",
   "metadata": {},
   "outputs": [],
   "source": [
    "b = 5.5"
   ]
  },
  {
   "cell_type": "code",
   "execution_count": 12,
   "id": "def87995",
   "metadata": {},
   "outputs": [
    {
     "name": "stdout",
     "output_type": "stream",
     "text": [
      "1.9090909090909092\n"
     ]
    }
   ],
   "source": [
    "print (a / b)"
   ]
  },
  {
   "cell_type": "code",
   "execution_count": null,
   "id": "21f99271",
   "metadata": {},
   "outputs": [],
   "source": [
    "# Short word from strings"
   ]
  },
  {
   "cell_type": "code",
   "execution_count": 21,
   "id": "d78ab99e",
   "metadata": {},
   "outputs": [],
   "source": [
    "c = \"Hel\""
   ]
  },
  {
   "cell_type": "code",
   "execution_count": 19,
   "id": "608f6341",
   "metadata": {},
   "outputs": [],
   "source": [
    "d = \"lo\""
   ]
  },
  {
   "cell_type": "code",
   "execution_count": 22,
   "id": "b071de9e",
   "metadata": {},
   "outputs": [
    {
     "name": "stdout",
     "output_type": "stream",
     "text": [
      "Hello\n"
     ]
    }
   ],
   "source": [
    "print (c + d)"
   ]
  },
  {
   "cell_type": "code",
   "execution_count": 23,
   "id": "d0754193",
   "metadata": {},
   "outputs": [],
   "source": [
    "# Sentences made of strings"
   ]
  },
  {
   "cell_type": "code",
   "execution_count": 28,
   "id": "db1cbbd4",
   "metadata": {},
   "outputs": [],
   "source": [
    "e = \", \""
   ]
  },
  {
   "cell_type": "code",
   "execution_count": 30,
   "id": "944c30f5",
   "metadata": {},
   "outputs": [],
   "source": [
    "f = \"my name is Alina. \""
   ]
  },
  {
   "cell_type": "code",
   "execution_count": 24,
   "id": "394e314c",
   "metadata": {},
   "outputs": [],
   "source": [
    "g = \"I am excited to learn Python.\""
   ]
  },
  {
   "cell_type": "code",
   "execution_count": 31,
   "id": "ff3f7d03",
   "metadata": {},
   "outputs": [
    {
     "name": "stdout",
     "output_type": "stream",
     "text": [
      "Hello, my name is Alina. I am excited to learn Python.\n"
     ]
    }
   ],
   "source": [
    "print (c + d + e + f + g)"
   ]
  }
 ],
 "metadata": {
  "kernelspec": {
   "display_name": "Python 3",
   "language": "python",
   "name": "python3"
  },
  "language_info": {
   "codemirror_mode": {
    "name": "ipython",
    "version": 3
   },
   "file_extension": ".py",
   "mimetype": "text/x-python",
   "name": "python",
   "nbconvert_exporter": "python",
   "pygments_lexer": "ipython3",
   "version": "3.8.8"
  }
 },
 "nbformat": 4,
 "nbformat_minor": 5
}
