{
 "cells": [
  {
   "cell_type": "markdown",
   "id": "68090c54",
   "metadata": {},
   "source": [
    "# Import data"
   ]
  },
  {
   "cell_type": "code",
   "execution_count": 2,
   "id": "d4b1199d",
   "metadata": {
    "ExecuteTime": {
     "end_time": "2021-11-10T20:05:06.734886Z",
     "start_time": "2021-11-10T20:05:05.203426Z"
    }
   },
   "outputs": [],
   "source": [
    "# Import libraries\n",
    "\n",
    "import pandas as pd\n",
    "import numpy as np\n",
    "import os\n",
    "import matplotlib.pyplot as plt\n",
    "import seaborn as sns\n",
    "import scipy"
   ]
  },
  {
   "cell_type": "code",
   "execution_count": 3,
   "id": "2ef83d5b",
   "metadata": {
    "ExecuteTime": {
     "end_time": "2021-11-10T20:05:06.750885Z",
     "start_time": "2021-11-10T20:05:06.736886Z"
    }
   },
   "outputs": [],
   "source": [
    "# Assign path string to variable\n",
    "path = r'D:\\Docs\\Career Foundry\\II. Data Immersion\\4. Python Fundamentals for Data Analysts\\Instacart Basket Analysis - Alina Racu'"
   ]
  },
  {
   "cell_type": "code",
   "execution_count": 4,
   "id": "e2ba5631",
   "metadata": {
    "ExecuteTime": {
     "end_time": "2021-11-10T20:05:26.511092Z",
     "start_time": "2021-11-10T20:05:08.131597Z"
    }
   },
   "outputs": [],
   "source": [
    "# Import pkl file\n",
    "ords_prods_merged = pd.read_pickle(os.path.join(path, '02 Data', 'Prepared Data', 'orders_products_merged_subset_variables_new.pkl'))"
   ]
  },
  {
   "cell_type": "code",
   "execution_count": 4,
   "id": "200e5817",
   "metadata": {
    "ExecuteTime": {
     "end_time": "2021-11-09T23:17:15.633108Z",
     "start_time": "2021-11-09T23:17:15.478928Z"
    }
   },
   "outputs": [
    {
     "data": {
      "text/html": [
       "<div>\n",
       "<style scoped>\n",
       "    .dataframe tbody tr th:only-of-type {\n",
       "        vertical-align: middle;\n",
       "    }\n",
       "\n",
       "    .dataframe tbody tr th {\n",
       "        vertical-align: top;\n",
       "    }\n",
       "\n",
       "    .dataframe thead th {\n",
       "        text-align: right;\n",
       "    }\n",
       "</style>\n",
       "<table border=\"1\" class=\"dataframe\">\n",
       "  <thead>\n",
       "    <tr style=\"text-align: right;\">\n",
       "      <th></th>\n",
       "      <th>order_id</th>\n",
       "      <th>user_id</th>\n",
       "      <th>order_number</th>\n",
       "      <th>order_day_of_the_week</th>\n",
       "      <th>order_hour_of_day</th>\n",
       "      <th>days_since_prior_order</th>\n",
       "      <th>product_id</th>\n",
       "      <th>add_to_cart_order</th>\n",
       "      <th>reordered</th>\n",
       "      <th>product_name</th>\n",
       "      <th>...</th>\n",
       "      <th>price_range_loc</th>\n",
       "      <th>busiest_day</th>\n",
       "      <th>busiest_days</th>\n",
       "      <th>busiest_hours</th>\n",
       "      <th>max_order</th>\n",
       "      <th>loyalty_flag</th>\n",
       "      <th>avg_price</th>\n",
       "      <th>spending_flag</th>\n",
       "      <th>median_prior_order</th>\n",
       "      <th>order_frequency_flag</th>\n",
       "    </tr>\n",
       "  </thead>\n",
       "  <tbody>\n",
       "    <tr>\n",
       "      <th>0</th>\n",
       "      <td>2539329</td>\n",
       "      <td>1</td>\n",
       "      <td>1</td>\n",
       "      <td>2</td>\n",
       "      <td>8</td>\n",
       "      <td>NaN</td>\n",
       "      <td>196</td>\n",
       "      <td>1</td>\n",
       "      <td>0</td>\n",
       "      <td>Soda</td>\n",
       "      <td>...</td>\n",
       "      <td>Mid-range product</td>\n",
       "      <td>Regularly busy</td>\n",
       "      <td>Regularly busy</td>\n",
       "      <td>Average orders</td>\n",
       "      <td>10</td>\n",
       "      <td>New customer</td>\n",
       "      <td>6.367797</td>\n",
       "      <td>Low spender</td>\n",
       "      <td>20.5</td>\n",
       "      <td>Non-frequent customer</td>\n",
       "    </tr>\n",
       "    <tr>\n",
       "      <th>1</th>\n",
       "      <td>2539329</td>\n",
       "      <td>1</td>\n",
       "      <td>1</td>\n",
       "      <td>2</td>\n",
       "      <td>8</td>\n",
       "      <td>NaN</td>\n",
       "      <td>14084</td>\n",
       "      <td>2</td>\n",
       "      <td>0</td>\n",
       "      <td>Organic Unsweetened Vanilla Almond Milk</td>\n",
       "      <td>...</td>\n",
       "      <td>Mid-range product</td>\n",
       "      <td>Regularly busy</td>\n",
       "      <td>Regularly busy</td>\n",
       "      <td>Average orders</td>\n",
       "      <td>10</td>\n",
       "      <td>New customer</td>\n",
       "      <td>6.367797</td>\n",
       "      <td>Low spender</td>\n",
       "      <td>20.5</td>\n",
       "      <td>Non-frequent customer</td>\n",
       "    </tr>\n",
       "    <tr>\n",
       "      <th>2</th>\n",
       "      <td>2539329</td>\n",
       "      <td>1</td>\n",
       "      <td>1</td>\n",
       "      <td>2</td>\n",
       "      <td>8</td>\n",
       "      <td>NaN</td>\n",
       "      <td>12427</td>\n",
       "      <td>3</td>\n",
       "      <td>0</td>\n",
       "      <td>Original Beef Jerky</td>\n",
       "      <td>...</td>\n",
       "      <td>Low-range product</td>\n",
       "      <td>Regularly busy</td>\n",
       "      <td>Regularly busy</td>\n",
       "      <td>Average orders</td>\n",
       "      <td>10</td>\n",
       "      <td>New customer</td>\n",
       "      <td>6.367797</td>\n",
       "      <td>Low spender</td>\n",
       "      <td>20.5</td>\n",
       "      <td>Non-frequent customer</td>\n",
       "    </tr>\n",
       "    <tr>\n",
       "      <th>3</th>\n",
       "      <td>2539329</td>\n",
       "      <td>1</td>\n",
       "      <td>1</td>\n",
       "      <td>2</td>\n",
       "      <td>8</td>\n",
       "      <td>NaN</td>\n",
       "      <td>26088</td>\n",
       "      <td>4</td>\n",
       "      <td>0</td>\n",
       "      <td>Aged White Cheddar Popcorn</td>\n",
       "      <td>...</td>\n",
       "      <td>Low-range product</td>\n",
       "      <td>Regularly busy</td>\n",
       "      <td>Regularly busy</td>\n",
       "      <td>Average orders</td>\n",
       "      <td>10</td>\n",
       "      <td>New customer</td>\n",
       "      <td>6.367797</td>\n",
       "      <td>Low spender</td>\n",
       "      <td>20.5</td>\n",
       "      <td>Non-frequent customer</td>\n",
       "    </tr>\n",
       "    <tr>\n",
       "      <th>4</th>\n",
       "      <td>2539329</td>\n",
       "      <td>1</td>\n",
       "      <td>1</td>\n",
       "      <td>2</td>\n",
       "      <td>8</td>\n",
       "      <td>NaN</td>\n",
       "      <td>26405</td>\n",
       "      <td>5</td>\n",
       "      <td>0</td>\n",
       "      <td>XL Pick-A-Size Paper Towel Rolls</td>\n",
       "      <td>...</td>\n",
       "      <td>Low-range product</td>\n",
       "      <td>Regularly busy</td>\n",
       "      <td>Regularly busy</td>\n",
       "      <td>Average orders</td>\n",
       "      <td>10</td>\n",
       "      <td>New customer</td>\n",
       "      <td>6.367797</td>\n",
       "      <td>Low spender</td>\n",
       "      <td>20.5</td>\n",
       "      <td>Non-frequent customer</td>\n",
       "    </tr>\n",
       "  </tbody>\n",
       "</table>\n",
       "<p>5 rows × 24 columns</p>\n",
       "</div>"
      ],
      "text/plain": [
       "   order_id  user_id  order_number  order_day_of_the_week  order_hour_of_day  \\\n",
       "0   2539329        1             1                      2                  8   \n",
       "1   2539329        1             1                      2                  8   \n",
       "2   2539329        1             1                      2                  8   \n",
       "3   2539329        1             1                      2                  8   \n",
       "4   2539329        1             1                      2                  8   \n",
       "\n",
       "   days_since_prior_order  product_id  add_to_cart_order  reordered  \\\n",
       "0                     NaN         196                  1          0   \n",
       "1                     NaN       14084                  2          0   \n",
       "2                     NaN       12427                  3          0   \n",
       "3                     NaN       26088                  4          0   \n",
       "4                     NaN       26405                  5          0   \n",
       "\n",
       "                              product_name  ...    price_range_loc  \\\n",
       "0                                     Soda  ...  Mid-range product   \n",
       "1  Organic Unsweetened Vanilla Almond Milk  ...  Mid-range product   \n",
       "2                      Original Beef Jerky  ...  Low-range product   \n",
       "3               Aged White Cheddar Popcorn  ...  Low-range product   \n",
       "4         XL Pick-A-Size Paper Towel Rolls  ...  Low-range product   \n",
       "\n",
       "      busiest_day    busiest_days   busiest_hours max_order  loyalty_flag  \\\n",
       "0  Regularly busy  Regularly busy  Average orders        10  New customer   \n",
       "1  Regularly busy  Regularly busy  Average orders        10  New customer   \n",
       "2  Regularly busy  Regularly busy  Average orders        10  New customer   \n",
       "3  Regularly busy  Regularly busy  Average orders        10  New customer   \n",
       "4  Regularly busy  Regularly busy  Average orders        10  New customer   \n",
       "\n",
       "  avg_price spending_flag  median_prior_order   order_frequency_flag  \n",
       "0  6.367797   Low spender                20.5  Non-frequent customer  \n",
       "1  6.367797   Low spender                20.5  Non-frequent customer  \n",
       "2  6.367797   Low spender                20.5  Non-frequent customer  \n",
       "3  6.367797   Low spender                20.5  Non-frequent customer  \n",
       "4  6.367797   Low spender                20.5  Non-frequent customer  \n",
       "\n",
       "[5 rows x 24 columns]"
      ]
     },
     "execution_count": 4,
     "metadata": {},
     "output_type": "execute_result"
    }
   ],
   "source": [
    "# Check\n",
    "ords_prods_merged.head()"
   ]
  },
  {
   "cell_type": "markdown",
   "id": "9b25f8a4",
   "metadata": {},
   "source": [
    "# Bar charts"
   ]
  },
  {
   "cell_type": "code",
   "execution_count": 5,
   "id": "c18f94eb",
   "metadata": {
    "ExecuteTime": {
     "end_time": "2021-11-09T23:17:18.865880Z",
     "start_time": "2021-11-09T23:17:18.215060Z"
    }
   },
   "outputs": [
    {
     "data": {
      "text/plain": [
       "<AxesSubplot:>"
      ]
     },
     "execution_count": 5,
     "metadata": {},
     "output_type": "execute_result"
    },
    {
     "data": {
      "image/png": "[encoded data removed]",
      "text/plain": [
       "<Figure size 432x288 with 1 Axes>"
      ]
     },
     "metadata": {
      "needs_background": "light"
     },
     "output_type": "display_data"
    }
   ],
   "source": [
    "# Create a bar chart for the \"orders_day_of_the_week\" column\n",
    "ords_prods_merged[\"order_day_of_the_week\"].value_counts().plot.bar()"
   ]
  },
  {
   "cell_type": "code",
   "execution_count": 6,
   "id": "9a984385",
   "metadata": {
    "ExecuteTime": {
     "end_time": "2021-11-09T23:17:20.121893Z",
     "start_time": "2021-11-09T23:17:19.731642Z"
    }
   },
   "outputs": [
    {
     "data": {
      "text/plain": [
       "<AxesSubplot:>"
      ]
     },
     "execution_count": 6,
     "metadata": {},
     "output_type": "execute_result"
    },
    {
     "data": {
      "image/png": "[encoded data removed]",
      "text/plain": [
       "<Figure size 432x288 with 1 Axes>"
      ]
     },
     "metadata": {
      "needs_background": "light"
     },
     "output_type": "display_data"
    }
   ],
   "source": [
    "# Create a bar chart for the \"orders_day_of_the_week\" column with categories re-sorted acc to their index order\n",
    "ords_prods_merged[\"order_day_of_the_week\"].value_counts().sort_index().plot.bar()"
   ]
  },
  {
   "cell_type": "code",
   "execution_count": 7,
   "id": "2d442122",
   "metadata": {
    "ExecuteTime": {
     "end_time": "2021-11-09T23:17:21.389476Z",
     "start_time": "2021-11-09T23:17:21.026884Z"
    }
   },
   "outputs": [
    {
     "data": {
      "text/plain": [
       "<AxesSubplot:>"
      ]
     },
     "execution_count": 7,
     "metadata": {},
     "output_type": "execute_result"
    },
    {
     "data": {
      "image/png": "[encoded data removed]",
      "text/plain": [
       "<Figure size 432x288 with 1 Axes>"
      ]
     },
     "metadata": {
      "needs_background": "light"
     },
     "output_type": "display_data"
    }
   ],
   "source": [
    "# Create a bar chart for the \"orders_day_of_the_week\" column with colored bars\n",
    "ords_prods_merged[\"order_day_of_the_week\"].value_counts().plot.bar(color = [\"purple\", \"red\", \"pink\", \"orange\",\"yellow\", \"green\", \"blue\"])"
   ]
  },
  {
   "cell_type": "code",
   "execution_count": 8,
   "id": "90762963",
   "metadata": {
    "ExecuteTime": {
     "end_time": "2021-11-09T23:17:22.289849Z",
     "start_time": "2021-11-09T23:17:22.104051Z"
    }
   },
   "outputs": [
    {
     "data": {
      "text/plain": [
       "0    3818311\n",
       "1    3496755\n",
       "6    2773796\n",
       "2    2599806\n",
       "5    2597128\n",
       "3    2372407\n",
       "4    2342129\n",
       "Name: order_day_of_the_week, dtype: int64"
      ]
     },
     "execution_count": 8,
     "metadata": {},
     "output_type": "execute_result"
    }
   ],
   "source": [
    "# Print frequencies\n",
    "ords_prods_merged[\"order_day_of_the_week\"].value_counts(dropna = False)"
   ]
  },
  {
   "cell_type": "code",
   "execution_count": 9,
   "id": "dd82b633",
   "metadata": {
    "ExecuteTime": {
     "end_time": "2021-11-09T23:17:23.257385Z",
     "start_time": "2021-11-09T23:17:23.084746Z"
    }
   },
   "outputs": [
    {
     "data": {
      "text/plain": [
       "0    3818311\n",
       "1    3496755\n",
       "2    2599806\n",
       "3    2372407\n",
       "4    2342129\n",
       "5    2597128\n",
       "6    2773796\n",
       "Name: order_day_of_the_week, dtype: int64"
      ]
     },
     "execution_count": 9,
     "metadata": {},
     "output_type": "execute_result"
    }
   ],
   "source": [
    "# Print frequencies with columns in their indexed order\n",
    "ords_prods_merged[\"order_day_of_the_week\"].value_counts(dropna = False).sort_index()"
   ]
  },
  {
   "cell_type": "markdown",
   "id": "a55e8486",
   "metadata": {},
   "source": [
    "# Export bar charts"
   ]
  },
  {
   "cell_type": "code",
   "execution_count": 10,
   "id": "8b2a0195",
   "metadata": {
    "ExecuteTime": {
     "end_time": "2021-11-09T23:17:25.299482Z",
     "start_time": "2021-11-09T23:17:24.967478Z"
    }
   },
   "outputs": [
    {
     "data": {
      "image/png": "[encoded data removed]",
      "text/plain": [
       "<Figure size 432x288 with 1 Axes>"
      ]
     },
     "metadata": {
      "needs_background": "light"
     },
     "output_type": "display_data"
    }
   ],
   "source": [
    "# Save bar chart within \"bar\" object\n",
    "bar = ords_prods_merged[\"order_day_of_the_week\"].value_counts().plot.bar(color = [\"purple\", \"red\", \"pink\", \"orange\",\"yellow\", \"green\", \"blue\"])"
   ]
  },
  {
   "cell_type": "code",
   "execution_count": 11,
   "id": "e5c9854c",
   "metadata": {
    "ExecuteTime": {
     "end_time": "2021-11-09T23:17:26.380205Z",
     "start_time": "2021-11-09T23:17:26.218056Z"
    }
   },
   "outputs": [
    {
     "data": {
      "image/png": "[encoded data removed]",
      "text/plain": [
       "<Figure size 432x288 with 1 Axes>"
      ]
     },
     "execution_count": 11,
     "metadata": {},
     "output_type": "execute_result"
    }
   ],
   "source": [
    "# Call \"bar\" object\n",
    "bar.figure"
   ]
  },
  {
   "cell_type": "code",
   "execution_count": 26,
   "id": "7be259d1",
   "metadata": {
    "ExecuteTime": {
     "end_time": "2021-11-09T23:19:10.533510Z",
     "start_time": "2021-11-09T23:19:10.471342Z"
    }
   },
   "outputs": [],
   "source": [
    "# Export bar chart outside Jupyter as image file\n",
    "bar.figure.savefig(os.path.join(path, '04 Analysis','Visualizations', 'Exercise','bar_orders_dow.png'))"
   ]
  },
  {
   "cell_type": "markdown",
   "id": "e3c57d03",
   "metadata": {},
   "source": [
    "# Histograms & scatterplots"
   ]
  },
  {
   "cell_type": "code",
   "execution_count": 13,
   "id": "e414a41a",
   "metadata": {
    "ExecuteTime": {
     "end_time": "2021-11-09T23:17:33.067680Z",
     "start_time": "2021-11-09T23:17:29.861101Z"
    }
   },
   "outputs": [
    {
     "data": {
      "text/plain": [
       "<AxesSubplot:ylabel='Frequency'>"
      ]
     },
     "execution_count": 13,
     "metadata": {},
     "output_type": "execute_result"
    },
    {
     "data": {
      "image/png": "[encoded data removed]",
      "text/plain": [
       "<Figure size 432x288 with 1 Axes>"
      ]
     },
     "metadata": {
      "needs_background": "light"
     },
     "output_type": "display_data"
    }
   ],
   "source": [
    "# Create a histogram for the \"prices\" column\n",
    "ords_prods_merged[\"prices\"].plot.hist(bins = 25)"
   ]
  },
  {
   "cell_type": "code",
   "execution_count": 14,
   "id": "a0d88912",
   "metadata": {
    "ExecuteTime": {
     "end_time": "2021-11-09T23:17:34.378951Z",
     "start_time": "2021-11-09T23:17:33.593136Z"
    }
   },
   "outputs": [
    {
     "data": {
      "text/plain": [
       "count    1.998182e+07\n",
       "mean     1.177559e+01\n",
       "std      4.761211e+02\n",
       "min      1.000000e+00\n",
       "25%      4.200000e+00\n",
       "50%      7.400000e+00\n",
       "75%      1.130000e+01\n",
       "max      9.999900e+04\n",
       "Name: prices, dtype: float64"
      ]
     },
     "execution_count": 14,
     "metadata": {},
     "output_type": "execute_result"
    }
   ],
   "source": [
    "# Investigate\n",
    "ords_prods_merged[\"prices\"].describe()"
   ]
  },
  {
   "cell_type": "code",
   "execution_count": 15,
   "id": "654613dc",
   "metadata": {
    "ExecuteTime": {
     "end_time": "2021-11-09T23:17:35.060998Z",
     "start_time": "2021-11-09T23:17:35.023789Z"
    }
   },
   "outputs": [
    {
     "data": {
      "text/plain": [
       "11.775589535000698"
      ]
     },
     "execution_count": 15,
     "metadata": {},
     "output_type": "execute_result"
    }
   ],
   "source": [
    "ords_prods_merged[\"prices\"].mean()"
   ]
  },
  {
   "cell_type": "code",
   "execution_count": 16,
   "id": "4af5f834",
   "metadata": {
    "ExecuteTime": {
     "end_time": "2021-11-09T23:17:36.113864Z",
     "start_time": "2021-11-09T23:17:35.816955Z"
    }
   },
   "outputs": [
    {
     "data": {
      "text/plain": [
       "7.4"
      ]
     },
     "execution_count": 16,
     "metadata": {},
     "output_type": "execute_result"
    }
   ],
   "source": [
    "ords_prods_merged[\"prices\"].median()"
   ]
  },
  {
   "cell_type": "code",
   "execution_count": 17,
   "id": "382ac23c",
   "metadata": {
    "ExecuteTime": {
     "end_time": "2021-11-09T23:17:36.477143Z",
     "start_time": "2021-11-09T23:17:36.429137Z"
    }
   },
   "outputs": [
    {
     "data": {
      "text/plain": [
       "99999.0"
      ]
     },
     "execution_count": 17,
     "metadata": {},
     "output_type": "execute_result"
    }
   ],
   "source": [
    "ords_prods_merged[\"prices\"].max()"
   ]
  },
  {
   "cell_type": "code",
   "execution_count": 18,
   "id": "e328ccb7",
   "metadata": {
    "ExecuteTime": {
     "end_time": "2021-11-09T23:18:19.659639Z",
     "start_time": "2021-11-09T23:17:37.180586Z"
    }
   },
   "outputs": [
    {
     "data": {
      "text/plain": [
       "<AxesSubplot:xlabel='prices', ylabel='prices'>"
      ]
     },
     "execution_count": 18,
     "metadata": {},
     "output_type": "execute_result"
    },
    {
     "data": {
      "image/png": "[encoded data removed]",
      "text/plain": [
       "<Figure size 432x288 with 1 Axes>"
      ]
     },
     "metadata": {
      "needs_background": "light"
     },
     "output_type": "display_data"
    }
   ],
   "source": [
    "# Create scatterplot to identify outliers\n",
    "sns.scatterplot(x = \"prices\", y = \"prices\", data = ords_prods_merged)"
   ]
  },
  {
   "cell_type": "code",
   "execution_count": 19,
   "id": "20db5fce",
   "metadata": {
    "ExecuteTime": {
     "end_time": "2021-11-09T23:18:44.008509Z",
     "start_time": "2021-11-09T23:18:19.659639Z"
    }
   },
   "outputs": [
    {
     "data": {
      "text/html": [
       "<div>\n",
       "<style scoped>\n",
       "    .dataframe tbody tr th:only-of-type {\n",
       "        vertical-align: middle;\n",
       "    }\n",
       "\n",
       "    .dataframe tbody tr th {\n",
       "        vertical-align: top;\n",
       "    }\n",
       "\n",
       "    .dataframe thead th {\n",
       "        text-align: right;\n",
       "    }\n",
       "</style>\n",
       "<table border=\"1\" class=\"dataframe\">\n",
       "  <thead>\n",
       "    <tr style=\"text-align: right;\">\n",
       "      <th></th>\n",
       "      <th>order_id</th>\n",
       "      <th>user_id</th>\n",
       "      <th>order_number</th>\n",
       "      <th>order_day_of_the_week</th>\n",
       "      <th>order_hour_of_day</th>\n",
       "      <th>days_since_prior_order</th>\n",
       "      <th>product_id</th>\n",
       "      <th>add_to_cart_order</th>\n",
       "      <th>reordered</th>\n",
       "      <th>product_name</th>\n",
       "      <th>...</th>\n",
       "      <th>price_range_loc</th>\n",
       "      <th>busiest_day</th>\n",
       "      <th>busiest_days</th>\n",
       "      <th>busiest_hours</th>\n",
       "      <th>max_order</th>\n",
       "      <th>loyalty_flag</th>\n",
       "      <th>avg_price</th>\n",
       "      <th>spending_flag</th>\n",
       "      <th>median_prior_order</th>\n",
       "      <th>order_frequency_flag</th>\n",
       "    </tr>\n",
       "  </thead>\n",
       "  <tbody>\n",
       "    <tr>\n",
       "      <th>1576</th>\n",
       "      <td>912404</td>\n",
       "      <td>17</td>\n",
       "      <td>12</td>\n",
       "      <td>2</td>\n",
       "      <td>14</td>\n",
       "      <td>5.0</td>\n",
       "      <td>21553</td>\n",
       "      <td>5</td>\n",
       "      <td>0</td>\n",
       "      <td>Lowfat 2% Milkfat Cottage Cheese</td>\n",
       "      <td>...</td>\n",
       "      <td>High-range product</td>\n",
       "      <td>Regularly busy</td>\n",
       "      <td>Regularly busy</td>\n",
       "      <td>Most orders</td>\n",
       "      <td>40</td>\n",
       "      <td>Regular customer</td>\n",
       "      <td>108.648299</td>\n",
       "      <td>High spender</td>\n",
       "      <td>5.0</td>\n",
       "      <td>Frequent customer</td>\n",
       "    </tr>\n",
       "    <tr>\n",
       "      <th>1638</th>\n",
       "      <td>603376</td>\n",
       "      <td>17</td>\n",
       "      <td>22</td>\n",
       "      <td>6</td>\n",
       "      <td>16</td>\n",
       "      <td>4.0</td>\n",
       "      <td>21553</td>\n",
       "      <td>3</td>\n",
       "      <td>1</td>\n",
       "      <td>Lowfat 2% Milkfat Cottage Cheese</td>\n",
       "      <td>...</td>\n",
       "      <td>High-range product</td>\n",
       "      <td>Regularly busy</td>\n",
       "      <td>Regularly busy</td>\n",
       "      <td>Average orders</td>\n",
       "      <td>40</td>\n",
       "      <td>Regular customer</td>\n",
       "      <td>108.648299</td>\n",
       "      <td>High spender</td>\n",
       "      <td>5.0</td>\n",
       "      <td>Frequent customer</td>\n",
       "    </tr>\n",
       "    <tr>\n",
       "      <th>16534</th>\n",
       "      <td>3264360</td>\n",
       "      <td>135</td>\n",
       "      <td>2</td>\n",
       "      <td>2</td>\n",
       "      <td>21</td>\n",
       "      <td>13.0</td>\n",
       "      <td>21553</td>\n",
       "      <td>6</td>\n",
       "      <td>0</td>\n",
       "      <td>Lowfat 2% Milkfat Cottage Cheese</td>\n",
       "      <td>...</td>\n",
       "      <td>High-range product</td>\n",
       "      <td>Regularly busy</td>\n",
       "      <td>Regularly busy</td>\n",
       "      <td>Average orders</td>\n",
       "      <td>4</td>\n",
       "      <td>New customer</td>\n",
       "      <td>1154.792308</td>\n",
       "      <td>High spender</td>\n",
       "      <td>12.0</td>\n",
       "      <td>Regular customer</td>\n",
       "    </tr>\n",
       "    <tr>\n",
       "      <th>16540</th>\n",
       "      <td>892534</td>\n",
       "      <td>135</td>\n",
       "      <td>3</td>\n",
       "      <td>0</td>\n",
       "      <td>8</td>\n",
       "      <td>12.0</td>\n",
       "      <td>21553</td>\n",
       "      <td>3</td>\n",
       "      <td>1</td>\n",
       "      <td>Lowfat 2% Milkfat Cottage Cheese</td>\n",
       "      <td>...</td>\n",
       "      <td>High-range product</td>\n",
       "      <td>Busiest day</td>\n",
       "      <td>Busiest days</td>\n",
       "      <td>Average orders</td>\n",
       "      <td>4</td>\n",
       "      <td>New customer</td>\n",
       "      <td>1154.792308</td>\n",
       "      <td>High spender</td>\n",
       "      <td>12.0</td>\n",
       "      <td>Regular customer</td>\n",
       "    </tr>\n",
       "    <tr>\n",
       "      <th>53712</th>\n",
       "      <td>229704</td>\n",
       "      <td>342</td>\n",
       "      <td>8</td>\n",
       "      <td>1</td>\n",
       "      <td>19</td>\n",
       "      <td>30.0</td>\n",
       "      <td>21553</td>\n",
       "      <td>9</td>\n",
       "      <td>0</td>\n",
       "      <td>Lowfat 2% Milkfat Cottage Cheese</td>\n",
       "      <td>...</td>\n",
       "      <td>High-range product</td>\n",
       "      <td>Regularly busy</td>\n",
       "      <td>Busiest days</td>\n",
       "      <td>Average orders</td>\n",
       "      <td>16</td>\n",
       "      <td>Regular customer</td>\n",
       "      <td>114.426619</td>\n",
       "      <td>High spender</td>\n",
       "      <td>23.0</td>\n",
       "      <td>Non-frequent customer</td>\n",
       "    </tr>\n",
       "    <tr>\n",
       "      <th>...</th>\n",
       "      <td>...</td>\n",
       "      <td>...</td>\n",
       "      <td>...</td>\n",
       "      <td>...</td>\n",
       "      <td>...</td>\n",
       "      <td>...</td>\n",
       "      <td>...</td>\n",
       "      <td>...</td>\n",
       "      <td>...</td>\n",
       "      <td>...</td>\n",
       "      <td>...</td>\n",
       "      <td>...</td>\n",
       "      <td>...</td>\n",
       "      <td>...</td>\n",
       "      <td>...</td>\n",
       "      <td>...</td>\n",
       "      <td>...</td>\n",
       "      <td>...</td>\n",
       "      <td>...</td>\n",
       "      <td>...</td>\n",
       "      <td>...</td>\n",
       "    </tr>\n",
       "    <tr>\n",
       "      <th>19967926</th>\n",
       "      <td>928073</td>\n",
       "      <td>126590</td>\n",
       "      <td>25</td>\n",
       "      <td>1</td>\n",
       "      <td>14</td>\n",
       "      <td>3.0</td>\n",
       "      <td>21553</td>\n",
       "      <td>15</td>\n",
       "      <td>0</td>\n",
       "      <td>Lowfat 2% Milkfat Cottage Cheese</td>\n",
       "      <td>...</td>\n",
       "      <td>High-range product</td>\n",
       "      <td>Regularly busy</td>\n",
       "      <td>Busiest days</td>\n",
       "      <td>Most orders</td>\n",
       "      <td>69</td>\n",
       "      <td>Loyal customer</td>\n",
       "      <td>46.564462</td>\n",
       "      <td>High spender</td>\n",
       "      <td>5.0</td>\n",
       "      <td>Frequent customer</td>\n",
       "    </tr>\n",
       "    <tr>\n",
       "      <th>19968408</th>\n",
       "      <td>1049906</td>\n",
       "      <td>126590</td>\n",
       "      <td>67</td>\n",
       "      <td>2</td>\n",
       "      <td>7</td>\n",
       "      <td>5.0</td>\n",
       "      <td>21553</td>\n",
       "      <td>11</td>\n",
       "      <td>1</td>\n",
       "      <td>Lowfat 2% Milkfat Cottage Cheese</td>\n",
       "      <td>...</td>\n",
       "      <td>High-range product</td>\n",
       "      <td>Regularly busy</td>\n",
       "      <td>Regularly busy</td>\n",
       "      <td>Average orders</td>\n",
       "      <td>69</td>\n",
       "      <td>Loyal customer</td>\n",
       "      <td>46.564462</td>\n",
       "      <td>High spender</td>\n",
       "      <td>5.0</td>\n",
       "      <td>Frequent customer</td>\n",
       "    </tr>\n",
       "    <tr>\n",
       "      <th>19968524</th>\n",
       "      <td>2728374</td>\n",
       "      <td>126592</td>\n",
       "      <td>3</td>\n",
       "      <td>1</td>\n",
       "      <td>18</td>\n",
       "      <td>30.0</td>\n",
       "      <td>21553</td>\n",
       "      <td>16</td>\n",
       "      <td>0</td>\n",
       "      <td>Lowfat 2% Milkfat Cottage Cheese</td>\n",
       "      <td>...</td>\n",
       "      <td>High-range product</td>\n",
       "      <td>Regularly busy</td>\n",
       "      <td>Busiest days</td>\n",
       "      <td>Average orders</td>\n",
       "      <td>14</td>\n",
       "      <td>Regular customer</td>\n",
       "      <td>92.130726</td>\n",
       "      <td>High spender</td>\n",
       "      <td>14.0</td>\n",
       "      <td>Regular customer</td>\n",
       "    </tr>\n",
       "    <tr>\n",
       "      <th>19972138</th>\n",
       "      <td>1579853</td>\n",
       "      <td>126620</td>\n",
       "      <td>30</td>\n",
       "      <td>3</td>\n",
       "      <td>7</td>\n",
       "      <td>23.0</td>\n",
       "      <td>21553</td>\n",
       "      <td>10</td>\n",
       "      <td>0</td>\n",
       "      <td>Lowfat 2% Milkfat Cottage Cheese</td>\n",
       "      <td>...</td>\n",
       "      <td>High-range product</td>\n",
       "      <td>Regularly busy</td>\n",
       "      <td>Slowest days</td>\n",
       "      <td>Average orders</td>\n",
       "      <td>32</td>\n",
       "      <td>Regular customer</td>\n",
       "      <td>74.618349</td>\n",
       "      <td>High spender</td>\n",
       "      <td>9.0</td>\n",
       "      <td>Frequent customer</td>\n",
       "    </tr>\n",
       "    <tr>\n",
       "      <th>19982253</th>\n",
       "      <td>1466758</td>\n",
       "      <td>126714</td>\n",
       "      <td>42</td>\n",
       "      <td>1</td>\n",
       "      <td>19</td>\n",
       "      <td>1.0</td>\n",
       "      <td>21553</td>\n",
       "      <td>6</td>\n",
       "      <td>0</td>\n",
       "      <td>Lowfat 2% Milkfat Cottage Cheese</td>\n",
       "      <td>...</td>\n",
       "      <td>High-range product</td>\n",
       "      <td>Regularly busy</td>\n",
       "      <td>Busiest days</td>\n",
       "      <td>Average orders</td>\n",
       "      <td>99</td>\n",
       "      <td>Loyal customer</td>\n",
       "      <td>28.338611</td>\n",
       "      <td>High spender</td>\n",
       "      <td>2.0</td>\n",
       "      <td>Frequent customer</td>\n",
       "    </tr>\n",
       "  </tbody>\n",
       "</table>\n",
       "<p>3100 rows × 24 columns</p>\n",
       "</div>"
      ],
      "text/plain": [
       "          order_id  user_id  order_number  order_day_of_the_week  \\\n",
       "1576        912404       17            12                      2   \n",
       "1638        603376       17            22                      6   \n",
       "16534      3264360      135             2                      2   \n",
       "16540       892534      135             3                      0   \n",
       "53712       229704      342             8                      1   \n",
       "...            ...      ...           ...                    ...   \n",
       "19967926    928073   126590            25                      1   \n",
       "19968408   1049906   126590            67                      2   \n",
       "19968524   2728374   126592             3                      1   \n",
       "19972138   1579853   126620            30                      3   \n",
       "19982253   1466758   126714            42                      1   \n",
       "\n",
       "          order_hour_of_day  days_since_prior_order  product_id  \\\n",
       "1576                     14                     5.0       21553   \n",
       "1638                     16                     4.0       21553   \n",
       "16534                    21                    13.0       21553   \n",
       "16540                     8                    12.0       21553   \n",
       "53712                    19                    30.0       21553   \n",
       "...                     ...                     ...         ...   \n",
       "19967926                 14                     3.0       21553   \n",
       "19968408                  7                     5.0       21553   \n",
       "19968524                 18                    30.0       21553   \n",
       "19972138                  7                    23.0       21553   \n",
       "19982253                 19                     1.0       21553   \n",
       "\n",
       "          add_to_cart_order  reordered                      product_name  ...  \\\n",
       "1576                      5          0  Lowfat 2% Milkfat Cottage Cheese  ...   \n",
       "1638                      3          1  Lowfat 2% Milkfat Cottage Cheese  ...   \n",
       "16534                     6          0  Lowfat 2% Milkfat Cottage Cheese  ...   \n",
       "16540                     3          1  Lowfat 2% Milkfat Cottage Cheese  ...   \n",
       "53712                     9          0  Lowfat 2% Milkfat Cottage Cheese  ...   \n",
       "...                     ...        ...                               ...  ...   \n",
       "19967926                 15          0  Lowfat 2% Milkfat Cottage Cheese  ...   \n",
       "19968408                 11          1  Lowfat 2% Milkfat Cottage Cheese  ...   \n",
       "19968524                 16          0  Lowfat 2% Milkfat Cottage Cheese  ...   \n",
       "19972138                 10          0  Lowfat 2% Milkfat Cottage Cheese  ...   \n",
       "19982253                  6          0  Lowfat 2% Milkfat Cottage Cheese  ...   \n",
       "\n",
       "             price_range_loc     busiest_day    busiest_days   busiest_hours  \\\n",
       "1576      High-range product  Regularly busy  Regularly busy     Most orders   \n",
       "1638      High-range product  Regularly busy  Regularly busy  Average orders   \n",
       "16534     High-range product  Regularly busy  Regularly busy  Average orders   \n",
       "16540     High-range product     Busiest day    Busiest days  Average orders   \n",
       "53712     High-range product  Regularly busy    Busiest days  Average orders   \n",
       "...                      ...             ...             ...             ...   \n",
       "19967926  High-range product  Regularly busy    Busiest days     Most orders   \n",
       "19968408  High-range product  Regularly busy  Regularly busy  Average orders   \n",
       "19968524  High-range product  Regularly busy    Busiest days  Average orders   \n",
       "19972138  High-range product  Regularly busy    Slowest days  Average orders   \n",
       "19982253  High-range product  Regularly busy    Busiest days  Average orders   \n",
       "\n",
       "         max_order      loyalty_flag    avg_price spending_flag  \\\n",
       "1576            40  Regular customer   108.648299  High spender   \n",
       "1638            40  Regular customer   108.648299  High spender   \n",
       "16534            4      New customer  1154.792308  High spender   \n",
       "16540            4      New customer  1154.792308  High spender   \n",
       "53712           16  Regular customer   114.426619  High spender   \n",
       "...            ...               ...          ...           ...   \n",
       "19967926        69    Loyal customer    46.564462  High spender   \n",
       "19968408        69    Loyal customer    46.564462  High spender   \n",
       "19968524        14  Regular customer    92.130726  High spender   \n",
       "19972138        32  Regular customer    74.618349  High spender   \n",
       "19982253        99    Loyal customer    28.338611  High spender   \n",
       "\n",
       "          median_prior_order   order_frequency_flag  \n",
       "1576                     5.0      Frequent customer  \n",
       "1638                     5.0      Frequent customer  \n",
       "16534                   12.0       Regular customer  \n",
       "16540                   12.0       Regular customer  \n",
       "53712                   23.0  Non-frequent customer  \n",
       "...                      ...                    ...  \n",
       "19967926                 5.0      Frequent customer  \n",
       "19968408                 5.0      Frequent customer  \n",
       "19968524                14.0       Regular customer  \n",
       "19972138                 9.0      Frequent customer  \n",
       "19982253                 2.0      Frequent customer  \n",
       "\n",
       "[3100 rows x 24 columns]"
      ]
     },
     "execution_count": 19,
     "metadata": {},
     "output_type": "execute_result"
    }
   ],
   "source": [
    "# Determine whether there are any values above the \"normal\" price of a supermarket item, e.g 100\n",
    "ords_prods_merged.loc[ords_prods_merged[\"prices\"] > 100]"
   ]
  },
  {
   "cell_type": "code",
   "execution_count": 20,
   "id": "094cf5c4",
   "metadata": {
    "ExecuteTime": {
     "end_time": "2021-11-09T23:18:44.024134Z",
     "start_time": "2021-11-09T23:18:44.008509Z"
    }
   },
   "outputs": [],
   "source": [
    "# Show all columns (do not assign any options re the max number of columns to display)\n",
    "pd.options.display.max_columns = None"
   ]
  },
  {
   "cell_type": "code",
   "execution_count": 21,
   "id": "34e2a528",
   "metadata": {
    "ExecuteTime": {
     "end_time": "2021-11-09T23:18:44.180746Z",
     "start_time": "2021-11-09T23:18:44.024134Z"
    }
   },
   "outputs": [
    {
     "data": {
      "text/html": [
       "<div>\n",
       "<style scoped>\n",
       "    .dataframe tbody tr th:only-of-type {\n",
       "        vertical-align: middle;\n",
       "    }\n",
       "\n",
       "    .dataframe tbody tr th {\n",
       "        vertical-align: top;\n",
       "    }\n",
       "\n",
       "    .dataframe thead th {\n",
       "        text-align: right;\n",
       "    }\n",
       "</style>\n",
       "<table border=\"1\" class=\"dataframe\">\n",
       "  <thead>\n",
       "    <tr style=\"text-align: right;\">\n",
       "      <th></th>\n",
       "      <th>order_id</th>\n",
       "      <th>user_id</th>\n",
       "      <th>order_number</th>\n",
       "      <th>order_day_of_the_week</th>\n",
       "      <th>order_hour_of_day</th>\n",
       "      <th>days_since_prior_order</th>\n",
       "      <th>product_id</th>\n",
       "      <th>add_to_cart_order</th>\n",
       "      <th>reordered</th>\n",
       "      <th>product_name</th>\n",
       "      <th>aisle_id</th>\n",
       "      <th>department_id</th>\n",
       "      <th>prices</th>\n",
       "      <th>_merge</th>\n",
       "      <th>price_range_loc</th>\n",
       "      <th>busiest_day</th>\n",
       "      <th>busiest_days</th>\n",
       "      <th>busiest_hours</th>\n",
       "      <th>max_order</th>\n",
       "      <th>loyalty_flag</th>\n",
       "      <th>avg_price</th>\n",
       "      <th>spending_flag</th>\n",
       "      <th>median_prior_order</th>\n",
       "      <th>order_frequency_flag</th>\n",
       "    </tr>\n",
       "  </thead>\n",
       "  <tbody>\n",
       "    <tr>\n",
       "      <th>1576</th>\n",
       "      <td>912404</td>\n",
       "      <td>17</td>\n",
       "      <td>12</td>\n",
       "      <td>2</td>\n",
       "      <td>14</td>\n",
       "      <td>5.0</td>\n",
       "      <td>21553</td>\n",
       "      <td>5</td>\n",
       "      <td>0</td>\n",
       "      <td>Lowfat 2% Milkfat Cottage Cheese</td>\n",
       "      <td>108.0</td>\n",
       "      <td>16.0</td>\n",
       "      <td>14900.0</td>\n",
       "      <td>both</td>\n",
       "      <td>High-range product</td>\n",
       "      <td>Regularly busy</td>\n",
       "      <td>Regularly busy</td>\n",
       "      <td>Most orders</td>\n",
       "      <td>40</td>\n",
       "      <td>Regular customer</td>\n",
       "      <td>108.648299</td>\n",
       "      <td>High spender</td>\n",
       "      <td>5.0</td>\n",
       "      <td>Frequent customer</td>\n",
       "    </tr>\n",
       "    <tr>\n",
       "      <th>1638</th>\n",
       "      <td>603376</td>\n",
       "      <td>17</td>\n",
       "      <td>22</td>\n",
       "      <td>6</td>\n",
       "      <td>16</td>\n",
       "      <td>4.0</td>\n",
       "      <td>21553</td>\n",
       "      <td>3</td>\n",
       "      <td>1</td>\n",
       "      <td>Lowfat 2% Milkfat Cottage Cheese</td>\n",
       "      <td>108.0</td>\n",
       "      <td>16.0</td>\n",
       "      <td>14900.0</td>\n",
       "      <td>both</td>\n",
       "      <td>High-range product</td>\n",
       "      <td>Regularly busy</td>\n",
       "      <td>Regularly busy</td>\n",
       "      <td>Average orders</td>\n",
       "      <td>40</td>\n",
       "      <td>Regular customer</td>\n",
       "      <td>108.648299</td>\n",
       "      <td>High spender</td>\n",
       "      <td>5.0</td>\n",
       "      <td>Frequent customer</td>\n",
       "    </tr>\n",
       "    <tr>\n",
       "      <th>16534</th>\n",
       "      <td>3264360</td>\n",
       "      <td>135</td>\n",
       "      <td>2</td>\n",
       "      <td>2</td>\n",
       "      <td>21</td>\n",
       "      <td>13.0</td>\n",
       "      <td>21553</td>\n",
       "      <td>6</td>\n",
       "      <td>0</td>\n",
       "      <td>Lowfat 2% Milkfat Cottage Cheese</td>\n",
       "      <td>108.0</td>\n",
       "      <td>16.0</td>\n",
       "      <td>14900.0</td>\n",
       "      <td>both</td>\n",
       "      <td>High-range product</td>\n",
       "      <td>Regularly busy</td>\n",
       "      <td>Regularly busy</td>\n",
       "      <td>Average orders</td>\n",
       "      <td>4</td>\n",
       "      <td>New customer</td>\n",
       "      <td>1154.792308</td>\n",
       "      <td>High spender</td>\n",
       "      <td>12.0</td>\n",
       "      <td>Regular customer</td>\n",
       "    </tr>\n",
       "    <tr>\n",
       "      <th>16540</th>\n",
       "      <td>892534</td>\n",
       "      <td>135</td>\n",
       "      <td>3</td>\n",
       "      <td>0</td>\n",
       "      <td>8</td>\n",
       "      <td>12.0</td>\n",
       "      <td>21553</td>\n",
       "      <td>3</td>\n",
       "      <td>1</td>\n",
       "      <td>Lowfat 2% Milkfat Cottage Cheese</td>\n",
       "      <td>108.0</td>\n",
       "      <td>16.0</td>\n",
       "      <td>14900.0</td>\n",
       "      <td>both</td>\n",
       "      <td>High-range product</td>\n",
       "      <td>Busiest day</td>\n",
       "      <td>Busiest days</td>\n",
       "      <td>Average orders</td>\n",
       "      <td>4</td>\n",
       "      <td>New customer</td>\n",
       "      <td>1154.792308</td>\n",
       "      <td>High spender</td>\n",
       "      <td>12.0</td>\n",
       "      <td>Regular customer</td>\n",
       "    </tr>\n",
       "    <tr>\n",
       "      <th>53712</th>\n",
       "      <td>229704</td>\n",
       "      <td>342</td>\n",
       "      <td>8</td>\n",
       "      <td>1</td>\n",
       "      <td>19</td>\n",
       "      <td>30.0</td>\n",
       "      <td>21553</td>\n",
       "      <td>9</td>\n",
       "      <td>0</td>\n",
       "      <td>Lowfat 2% Milkfat Cottage Cheese</td>\n",
       "      <td>108.0</td>\n",
       "      <td>16.0</td>\n",
       "      <td>14900.0</td>\n",
       "      <td>both</td>\n",
       "      <td>High-range product</td>\n",
       "      <td>Regularly busy</td>\n",
       "      <td>Busiest days</td>\n",
       "      <td>Average orders</td>\n",
       "      <td>16</td>\n",
       "      <td>Regular customer</td>\n",
       "      <td>114.426619</td>\n",
       "      <td>High spender</td>\n",
       "      <td>23.0</td>\n",
       "      <td>Non-frequent customer</td>\n",
       "    </tr>\n",
       "    <tr>\n",
       "      <th>...</th>\n",
       "      <td>...</td>\n",
       "      <td>...</td>\n",
       "      <td>...</td>\n",
       "      <td>...</td>\n",
       "      <td>...</td>\n",
       "      <td>...</td>\n",
       "      <td>...</td>\n",
       "      <td>...</td>\n",
       "      <td>...</td>\n",
       "      <td>...</td>\n",
       "      <td>...</td>\n",
       "      <td>...</td>\n",
       "      <td>...</td>\n",
       "      <td>...</td>\n",
       "      <td>...</td>\n",
       "      <td>...</td>\n",
       "      <td>...</td>\n",
       "      <td>...</td>\n",
       "      <td>...</td>\n",
       "      <td>...</td>\n",
       "      <td>...</td>\n",
       "      <td>...</td>\n",
       "      <td>...</td>\n",
       "      <td>...</td>\n",
       "    </tr>\n",
       "    <tr>\n",
       "      <th>19967926</th>\n",
       "      <td>928073</td>\n",
       "      <td>126590</td>\n",
       "      <td>25</td>\n",
       "      <td>1</td>\n",
       "      <td>14</td>\n",
       "      <td>3.0</td>\n",
       "      <td>21553</td>\n",
       "      <td>15</td>\n",
       "      <td>0</td>\n",
       "      <td>Lowfat 2% Milkfat Cottage Cheese</td>\n",
       "      <td>108.0</td>\n",
       "      <td>16.0</td>\n",
       "      <td>14900.0</td>\n",
       "      <td>both</td>\n",
       "      <td>High-range product</td>\n",
       "      <td>Regularly busy</td>\n",
       "      <td>Busiest days</td>\n",
       "      <td>Most orders</td>\n",
       "      <td>69</td>\n",
       "      <td>Loyal customer</td>\n",
       "      <td>46.564462</td>\n",
       "      <td>High spender</td>\n",
       "      <td>5.0</td>\n",
       "      <td>Frequent customer</td>\n",
       "    </tr>\n",
       "    <tr>\n",
       "      <th>19968408</th>\n",
       "      <td>1049906</td>\n",
       "      <td>126590</td>\n",
       "      <td>67</td>\n",
       "      <td>2</td>\n",
       "      <td>7</td>\n",
       "      <td>5.0</td>\n",
       "      <td>21553</td>\n",
       "      <td>11</td>\n",
       "      <td>1</td>\n",
       "      <td>Lowfat 2% Milkfat Cottage Cheese</td>\n",
       "      <td>108.0</td>\n",
       "      <td>16.0</td>\n",
       "      <td>14900.0</td>\n",
       "      <td>both</td>\n",
       "      <td>High-range product</td>\n",
       "      <td>Regularly busy</td>\n",
       "      <td>Regularly busy</td>\n",
       "      <td>Average orders</td>\n",
       "      <td>69</td>\n",
       "      <td>Loyal customer</td>\n",
       "      <td>46.564462</td>\n",
       "      <td>High spender</td>\n",
       "      <td>5.0</td>\n",
       "      <td>Frequent customer</td>\n",
       "    </tr>\n",
       "    <tr>\n",
       "      <th>19968524</th>\n",
       "      <td>2728374</td>\n",
       "      <td>126592</td>\n",
       "      <td>3</td>\n",
       "      <td>1</td>\n",
       "      <td>18</td>\n",
       "      <td>30.0</td>\n",
       "      <td>21553</td>\n",
       "      <td>16</td>\n",
       "      <td>0</td>\n",
       "      <td>Lowfat 2% Milkfat Cottage Cheese</td>\n",
       "      <td>108.0</td>\n",
       "      <td>16.0</td>\n",
       "      <td>14900.0</td>\n",
       "      <td>both</td>\n",
       "      <td>High-range product</td>\n",
       "      <td>Regularly busy</td>\n",
       "      <td>Busiest days</td>\n",
       "      <td>Average orders</td>\n",
       "      <td>14</td>\n",
       "      <td>Regular customer</td>\n",
       "      <td>92.130726</td>\n",
       "      <td>High spender</td>\n",
       "      <td>14.0</td>\n",
       "      <td>Regular customer</td>\n",
       "    </tr>\n",
       "    <tr>\n",
       "      <th>19972138</th>\n",
       "      <td>1579853</td>\n",
       "      <td>126620</td>\n",
       "      <td>30</td>\n",
       "      <td>3</td>\n",
       "      <td>7</td>\n",
       "      <td>23.0</td>\n",
       "      <td>21553</td>\n",
       "      <td>10</td>\n",
       "      <td>0</td>\n",
       "      <td>Lowfat 2% Milkfat Cottage Cheese</td>\n",
       "      <td>108.0</td>\n",
       "      <td>16.0</td>\n",
       "      <td>14900.0</td>\n",
       "      <td>both</td>\n",
       "      <td>High-range product</td>\n",
       "      <td>Regularly busy</td>\n",
       "      <td>Slowest days</td>\n",
       "      <td>Average orders</td>\n",
       "      <td>32</td>\n",
       "      <td>Regular customer</td>\n",
       "      <td>74.618349</td>\n",
       "      <td>High spender</td>\n",
       "      <td>9.0</td>\n",
       "      <td>Frequent customer</td>\n",
       "    </tr>\n",
       "    <tr>\n",
       "      <th>19982253</th>\n",
       "      <td>1466758</td>\n",
       "      <td>126714</td>\n",
       "      <td>42</td>\n",
       "      <td>1</td>\n",
       "      <td>19</td>\n",
       "      <td>1.0</td>\n",
       "      <td>21553</td>\n",
       "      <td>6</td>\n",
       "      <td>0</td>\n",
       "      <td>Lowfat 2% Milkfat Cottage Cheese</td>\n",
       "      <td>108.0</td>\n",
       "      <td>16.0</td>\n",
       "      <td>14900.0</td>\n",
       "      <td>both</td>\n",
       "      <td>High-range product</td>\n",
       "      <td>Regularly busy</td>\n",
       "      <td>Busiest days</td>\n",
       "      <td>Average orders</td>\n",
       "      <td>99</td>\n",
       "      <td>Loyal customer</td>\n",
       "      <td>28.338611</td>\n",
       "      <td>High spender</td>\n",
       "      <td>2.0</td>\n",
       "      <td>Frequent customer</td>\n",
       "    </tr>\n",
       "  </tbody>\n",
       "</table>\n",
       "<p>3100 rows × 24 columns</p>\n",
       "</div>"
      ],
      "text/plain": [
       "          order_id  user_id  order_number  order_day_of_the_week  \\\n",
       "1576        912404       17            12                      2   \n",
       "1638        603376       17            22                      6   \n",
       "16534      3264360      135             2                      2   \n",
       "16540       892534      135             3                      0   \n",
       "53712       229704      342             8                      1   \n",
       "...            ...      ...           ...                    ...   \n",
       "19967926    928073   126590            25                      1   \n",
       "19968408   1049906   126590            67                      2   \n",
       "19968524   2728374   126592             3                      1   \n",
       "19972138   1579853   126620            30                      3   \n",
       "19982253   1466758   126714            42                      1   \n",
       "\n",
       "          order_hour_of_day  days_since_prior_order  product_id  \\\n",
       "1576                     14                     5.0       21553   \n",
       "1638                     16                     4.0       21553   \n",
       "16534                    21                    13.0       21553   \n",
       "16540                     8                    12.0       21553   \n",
       "53712                    19                    30.0       21553   \n",
       "...                     ...                     ...         ...   \n",
       "19967926                 14                     3.0       21553   \n",
       "19968408                  7                     5.0       21553   \n",
       "19968524                 18                    30.0       21553   \n",
       "19972138                  7                    23.0       21553   \n",
       "19982253                 19                     1.0       21553   \n",
       "\n",
       "          add_to_cart_order  reordered                      product_name  \\\n",
       "1576                      5          0  Lowfat 2% Milkfat Cottage Cheese   \n",
       "1638                      3          1  Lowfat 2% Milkfat Cottage Cheese   \n",
       "16534                     6          0  Lowfat 2% Milkfat Cottage Cheese   \n",
       "16540                     3          1  Lowfat 2% Milkfat Cottage Cheese   \n",
       "53712                     9          0  Lowfat 2% Milkfat Cottage Cheese   \n",
       "...                     ...        ...                               ...   \n",
       "19967926                 15          0  Lowfat 2% Milkfat Cottage Cheese   \n",
       "19968408                 11          1  Lowfat 2% Milkfat Cottage Cheese   \n",
       "19968524                 16          0  Lowfat 2% Milkfat Cottage Cheese   \n",
       "19972138                 10          0  Lowfat 2% Milkfat Cottage Cheese   \n",
       "19982253                  6          0  Lowfat 2% Milkfat Cottage Cheese   \n",
       "\n",
       "          aisle_id  department_id   prices _merge     price_range_loc  \\\n",
       "1576         108.0           16.0  14900.0   both  High-range product   \n",
       "1638         108.0           16.0  14900.0   both  High-range product   \n",
       "16534        108.0           16.0  14900.0   both  High-range product   \n",
       "16540        108.0           16.0  14900.0   both  High-range product   \n",
       "53712        108.0           16.0  14900.0   both  High-range product   \n",
       "...            ...            ...      ...    ...                 ...   \n",
       "19967926     108.0           16.0  14900.0   both  High-range product   \n",
       "19968408     108.0           16.0  14900.0   both  High-range product   \n",
       "19968524     108.0           16.0  14900.0   both  High-range product   \n",
       "19972138     108.0           16.0  14900.0   both  High-range product   \n",
       "19982253     108.0           16.0  14900.0   both  High-range product   \n",
       "\n",
       "             busiest_day    busiest_days   busiest_hours  max_order  \\\n",
       "1576      Regularly busy  Regularly busy     Most orders         40   \n",
       "1638      Regularly busy  Regularly busy  Average orders         40   \n",
       "16534     Regularly busy  Regularly busy  Average orders          4   \n",
       "16540        Busiest day    Busiest days  Average orders          4   \n",
       "53712     Regularly busy    Busiest days  Average orders         16   \n",
       "...                  ...             ...             ...        ...   \n",
       "19967926  Regularly busy    Busiest days     Most orders         69   \n",
       "19968408  Regularly busy  Regularly busy  Average orders         69   \n",
       "19968524  Regularly busy    Busiest days  Average orders         14   \n",
       "19972138  Regularly busy    Slowest days  Average orders         32   \n",
       "19982253  Regularly busy    Busiest days  Average orders         99   \n",
       "\n",
       "              loyalty_flag    avg_price spending_flag  median_prior_order  \\\n",
       "1576      Regular customer   108.648299  High spender                 5.0   \n",
       "1638      Regular customer   108.648299  High spender                 5.0   \n",
       "16534         New customer  1154.792308  High spender                12.0   \n",
       "16540         New customer  1154.792308  High spender                12.0   \n",
       "53712     Regular customer   114.426619  High spender                23.0   \n",
       "...                    ...          ...           ...                 ...   \n",
       "19967926    Loyal customer    46.564462  High spender                 5.0   \n",
       "19968408    Loyal customer    46.564462  High spender                 5.0   \n",
       "19968524  Regular customer    92.130726  High spender                14.0   \n",
       "19972138  Regular customer    74.618349  High spender                 9.0   \n",
       "19982253    Loyal customer    28.338611  High spender                 2.0   \n",
       "\n",
       "           order_frequency_flag  \n",
       "1576          Frequent customer  \n",
       "1638          Frequent customer  \n",
       "16534          Regular customer  \n",
       "16540          Regular customer  \n",
       "53712     Non-frequent customer  \n",
       "...                         ...  \n",
       "19967926      Frequent customer  \n",
       "19968408      Frequent customer  \n",
       "19968524       Regular customer  \n",
       "19972138      Frequent customer  \n",
       "19982253      Frequent customer  \n",
       "\n",
       "[3100 rows x 24 columns]"
      ]
     },
     "execution_count": 21,
     "metadata": {},
     "output_type": "execute_result"
    }
   ],
   "source": [
    "ords_prods_merged.loc[ords_prods_merged[\"prices\"] > 100]"
   ]
  },
  {
   "cell_type": "code",
   "execution_count": 22,
   "id": "a8bfdd72",
   "metadata": {
    "ExecuteTime": {
     "end_time": "2021-11-09T23:18:44.401949Z",
     "start_time": "2021-11-09T23:18:44.182747Z"
    }
   },
   "outputs": [],
   "source": [
    "# Mark outliers as missing (NaN)\n",
    "ords_prods_merged.loc[ords_prods_merged[\"prices\"] > 100, \"prices\"] = np.nan"
   ]
  },
  {
   "cell_type": "code",
   "execution_count": 23,
   "id": "654dd00a",
   "metadata": {
    "ExecuteTime": {
     "end_time": "2021-11-09T23:18:44.449134Z",
     "start_time": "2021-11-09T23:18:44.404951Z"
    }
   },
   "outputs": [
    {
     "data": {
      "text/plain": [
       "25.0"
      ]
     },
     "execution_count": 23,
     "metadata": {},
     "output_type": "execute_result"
    }
   ],
   "source": [
    "# Check whether the replacement was successful\n",
    "ords_prods_merged[\"prices\"].max()"
   ]
  },
  {
   "cell_type": "code",
   "execution_count": 27,
   "id": "0249ed42",
   "metadata": {
    "ExecuteTime": {
     "end_time": "2021-11-09T23:19:47.974882Z",
     "start_time": "2021-11-09T23:19:45.370701Z"
    }
   },
   "outputs": [
    {
     "data": {
      "image/png": "[encoded data removed]",
      "text/plain": [
       "<Figure size 432x288 with 1 Axes>"
      ]
     },
     "metadata": {
      "needs_background": "light"
     },
     "output_type": "display_data"
    }
   ],
   "source": [
    "# Create a clean histogram for the \"prices\" column\n",
    "hist = ords_prods_merged[\"prices\"].plot.hist(bins = 25)"
   ]
  },
  {
   "cell_type": "code",
   "execution_count": 28,
   "id": "656709bd",
   "metadata": {
    "ExecuteTime": {
     "end_time": "2021-11-09T23:19:51.531527Z",
     "start_time": "2021-11-09T23:19:48.564306Z"
    },
    "scrolled": true
   },
   "outputs": [
    {
     "data": {
      "image/png": "[encoded data removed]",
      "text/plain": [
       "<Figure size 432x288 with 1 Axes>"
      ]
     },
     "metadata": {
      "needs_background": "light"
     },
     "output_type": "display_data"
    }
   ],
   "source": [
    "# Increase the level of granularity of the histogram\n",
    "hist_2 = ords_prods_merged[\"prices\"].plot.hist(bins = 70)"
   ]
  },
  {
   "cell_type": "code",
   "execution_count": 29,
   "id": "f4628d16",
   "metadata": {
    "ExecuteTime": {
     "end_time": "2021-11-09T23:19:52.319266Z",
     "start_time": "2021-11-09T23:19:52.104892Z"
    },
    "scrolled": true
   },
   "outputs": [
    {
     "data": {
      "image/png": "[encoded data removed]",
      "text/plain": [
       "<Figure size 432x288 with 1 Axes>"
      ]
     },
     "execution_count": 29,
     "metadata": {},
     "output_type": "execute_result"
    }
   ],
   "source": [
    "# Call histogram figure\n",
    "hist_2.figure"
   ]
  },
  {
   "cell_type": "markdown",
   "id": "0c45c30e",
   "metadata": {},
   "source": [
    "# Export histograms"
   ]
  },
  {
   "cell_type": "code",
   "execution_count": 30,
   "id": "8283e54a",
   "metadata": {
    "ExecuteTime": {
     "end_time": "2021-11-09T23:20:09.495077Z",
     "start_time": "2021-11-09T23:20:09.404078Z"
    }
   },
   "outputs": [],
   "source": [
    "# Export histogram outside Jupyter as image file\n",
    "hist.figure.savefig(os.path.join(path, '04 Analysis', 'Visualizations', 'Exercise', 'hist_prices.png'))"
   ]
  },
  {
   "cell_type": "code",
   "execution_count": 31,
   "id": "ddcf8163",
   "metadata": {
    "ExecuteTime": {
     "end_time": "2021-11-09T23:20:16.969763Z",
     "start_time": "2021-11-09T23:20:16.866581Z"
    }
   },
   "outputs": [],
   "source": [
    "# Export histogram outside Jupyter as image file\n",
    "hist_2.figure.savefig(os.path.join(path, '04 Analysis','Visualizations', 'Exercise', 'hist_2_prices.png'))"
   ]
  },
  {
   "cell_type": "markdown",
   "id": "6a0e9d69",
   "metadata": {},
   "source": [
    "# Line charts & data sampling"
   ]
  },
  {
   "cell_type": "code",
   "execution_count": 32,
   "id": "829e14f6",
   "metadata": {
    "ExecuteTime": {
     "end_time": "2021-11-09T23:20:18.814769Z",
     "start_time": "2021-11-09T23:20:18.809769Z"
    }
   },
   "outputs": [],
   "source": [
    "# Create subset, as line charts require a lot of computing power\n",
    "df = ords_prods_merged[:2000000]\n",
    "# But this subset is not representative of the entire population of the df!"
   ]
  },
  {
   "cell_type": "code",
   "execution_count": 33,
   "id": "53799b2f",
   "metadata": {
    "ExecuteTime": {
     "end_time": "2021-11-09T23:20:19.663378Z",
     "start_time": "2021-11-09T23:20:19.438364Z"
    }
   },
   "outputs": [],
   "source": [
    "# Create a list holding True/False values to the test np.random.rand() <= 0.7\n",
    "\n",
    "np.random.seed(4)\n",
    "dev = np.random.rand(len(ords_prods_merged)) <= 0.7"
   ]
  },
  {
   "cell_type": "code",
   "execution_count": 34,
   "id": "2ca99240",
   "metadata": {
    "ExecuteTime": {
     "end_time": "2021-11-09T23:20:20.219730Z",
     "start_time": "2021-11-09T23:20:20.199729Z"
    }
   },
   "outputs": [
    {
     "data": {
      "text/plain": [
       "array([False,  True, False, ...,  True, False, False])"
      ]
     },
     "execution_count": 34,
     "metadata": {},
     "output_type": "execute_result"
    }
   ],
   "source": [
    "# dev is a boolean list\n",
    "dev"
   ]
  },
  {
   "cell_type": "code",
   "execution_count": 35,
   "id": "167f1049",
   "metadata": {
    "ExecuteTime": {
     "end_time": "2021-11-09T23:20:21.117004Z",
     "start_time": "2021-11-09T23:20:21.091904Z"
    }
   },
   "outputs": [
    {
     "data": {
      "text/plain": [
       "array([0.51108511, 0.10053583, 0.09691507, 0.76118771, 0.92850397,\n",
       "       0.94789256, 0.22860528, 0.48836045, 0.24738444, 0.84052258])"
      ]
     },
     "execution_count": 35,
     "metadata": {},
     "output_type": "execute_result"
    }
   ],
   "source": [
    "# Produce 10 random numbers\n",
    "np.random.rand(10)"
   ]
  },
  {
   "cell_type": "code",
   "execution_count": 36,
   "id": "fc0f4904",
   "metadata": {
    "ExecuteTime": {
     "end_time": "2021-11-09T23:20:23.621736Z",
     "start_time": "2021-11-09T23:20:23.613851Z"
    }
   },
   "outputs": [],
   "source": [
    "# Use the list to split the dataframe into 2 samples"
   ]
  },
  {
   "cell_type": "code",
   "execution_count": 37,
   "id": "9ac72b81",
   "metadata": {
    "ExecuteTime": {
     "end_time": "2021-11-09T23:20:41.256207Z",
     "start_time": "2021-11-09T23:20:24.322257Z"
    }
   },
   "outputs": [],
   "source": [
    "# Store 70% of the sample in the df big\n",
    "big = ords_prods_merged[dev]"
   ]
  },
  {
   "cell_type": "code",
   "execution_count": 38,
   "id": "d80cc9fb",
   "metadata": {
    "ExecuteTime": {
     "end_time": "2021-11-09T23:21:40.569950Z",
     "start_time": "2021-11-09T23:20:41.276814Z"
    }
   },
   "outputs": [],
   "source": [
    "# Store 30% of the sample in the df small\n",
    "small = ords_prods_merged[~dev]"
   ]
  },
  {
   "cell_type": "code",
   "execution_count": 39,
   "id": "7ac540a8",
   "metadata": {
    "ExecuteTime": {
     "end_time": "2021-11-09T23:21:40.636725Z",
     "start_time": "2021-11-09T23:21:40.587040Z"
    }
   },
   "outputs": [
    {
     "data": {
      "text/plain": [
       "20000332"
      ]
     },
     "execution_count": 39,
     "metadata": {},
     "output_type": "execute_result"
    }
   ],
   "source": [
    "# Check\n",
    "len(ords_prods_merged)"
   ]
  },
  {
   "cell_type": "code",
   "execution_count": 40,
   "id": "220edd6a",
   "metadata": {
    "ExecuteTime": {
     "end_time": "2021-11-09T23:21:40.652350Z",
     "start_time": "2021-11-09T23:21:40.636725Z"
    }
   },
   "outputs": [
    {
     "data": {
      "text/plain": [
       "20000332"
      ]
     },
     "execution_count": 40,
     "metadata": {},
     "output_type": "execute_result"
    }
   ],
   "source": [
    "# Check\n",
    "len(big) + len(small)"
   ]
  },
  {
   "cell_type": "code",
   "execution_count": 42,
   "id": "d6bd47c3",
   "metadata": {
    "ExecuteTime": {
     "end_time": "2021-11-09T23:21:57.183879Z",
     "start_time": "2021-11-09T23:21:57.087779Z"
    }
   },
   "outputs": [],
   "source": [
    "# Reduce the samples to the columns necessary for the line chart\n",
    "df_2 = small[[\"order_day_of_the_week\", \"prices\"]]"
   ]
  },
  {
   "cell_type": "code",
   "execution_count": 43,
   "id": "d098eb8e",
   "metadata": {
    "ExecuteTime": {
     "end_time": "2021-11-09T23:24:54.416824Z",
     "start_time": "2021-11-09T23:22:00.232135Z"
    }
   },
   "outputs": [
    {
     "data": {
      "image/png": "[encoded data removed]",
      "text/plain": [
       "<Figure size 432x288 with 1 Axes>"
      ]
     },
     "metadata": {
      "needs_background": "light"
     },
     "output_type": "display_data"
    }
   ],
   "source": [
    "# Create line chart\n",
    "line = sns.lineplot(data = df_2, x = \"order_day_of_the_week\", y = \"prices\")"
   ]
  },
  {
   "cell_type": "code",
   "execution_count": 44,
   "id": "ae75e3c5",
   "metadata": {
    "ExecuteTime": {
     "end_time": "2021-11-09T23:24:54.990680Z",
     "start_time": "2021-11-09T23:24:54.421823Z"
    }
   },
   "outputs": [],
   "source": [
    "df_3 = big[[\"order_day_of_the_week\", \"prices\"]]"
   ]
  },
  {
   "cell_type": "code",
   "execution_count": 45,
   "id": "8d7267ac",
   "metadata": {
    "ExecuteTime": {
     "end_time": "2021-11-09T23:32:37.330916Z",
     "start_time": "2021-11-09T23:24:54.993682Z"
    }
   },
   "outputs": [
    {
     "data": {
      "image/png": "[encoded data removed]",
      "text/plain": [
       "<Figure size 432x288 with 1 Axes>"
      ]
     },
     "metadata": {
      "needs_background": "light"
     },
     "output_type": "display_data"
    }
   ],
   "source": [
    "# Create line chart\n",
    "line_2 = sns.lineplot(data = df_3, x = \"order_day_of_the_week\", y = \"prices\")"
   ]
  },
  {
   "cell_type": "markdown",
   "id": "c3ae864f",
   "metadata": {},
   "source": [
    "# Export line charts"
   ]
  },
  {
   "cell_type": "code",
   "execution_count": 46,
   "id": "cef99e0a",
   "metadata": {
    "ExecuteTime": {
     "end_time": "2021-11-09T23:33:30.524543Z",
     "start_time": "2021-11-09T23:33:30.415162Z"
    }
   },
   "outputs": [],
   "source": [
    "# Export line chart outside Jupyter as image file\n",
    "line.figure.savefig(os.path.join(path, '04 Analysis','Visualizations', 'Exercise', 'line_order_dow_prices.png'))"
   ]
  },
  {
   "cell_type": "code",
   "execution_count": 47,
   "id": "8cf04ac7",
   "metadata": {
    "ExecuteTime": {
     "end_time": "2021-11-09T23:33:31.327940Z",
     "start_time": "2021-11-09T23:33:31.227284Z"
    }
   },
   "outputs": [],
   "source": [
    "# Export line chart outside Jupyter as image file\n",
    "line_2.figure.savefig(os.path.join(path, '04 Analysis','Visualizations', 'Exercise', 'line_2_order_dow_prices.png'))"
   ]
  },
  {
   "cell_type": "markdown",
   "id": "19747c81",
   "metadata": {},
   "source": [
    "# Crosstabs"
   ]
  },
  {
   "cell_type": "code",
   "execution_count": 5,
   "id": "958434f7",
   "metadata": {
    "ExecuteTime": {
     "end_time": "2021-11-10T20:05:41.196622Z",
     "start_time": "2021-11-10T20:05:36.711117Z"
    }
   },
   "outputs": [],
   "source": [
    "# There are some missing values in the \"days_since_prior_order\" column\n",
    "# You can only assume that these missing values were caused by the fact that there can't be any days before a first order\n",
    "# Check assumption\n",
    "crosstab = pd.crosstab(ords_prods_merged['days_since_prior_order'], ords_prods_merged['order_number'], dropna = False)"
   ]
  },
  {
   "cell_type": "code",
   "execution_count": 6,
   "id": "dd59d341",
   "metadata": {
    "ExecuteTime": {
     "end_time": "2021-11-10T20:06:20.258271Z",
     "start_time": "2021-11-10T20:06:20.143349Z"
    }
   },
   "outputs": [
    {
     "data": {
      "text/html": [
       "<div>\n",
       "<style scoped>\n",
       "    .dataframe tbody tr th:only-of-type {\n",
       "        vertical-align: middle;\n",
       "    }\n",
       "\n",
       "    .dataframe tbody tr th {\n",
       "        vertical-align: top;\n",
       "    }\n",
       "\n",
       "    .dataframe thead th {\n",
       "        text-align: right;\n",
       "    }\n",
       "</style>\n",
       "<table border=\"1\" class=\"dataframe\">\n",
       "  <thead>\n",
       "    <tr style=\"text-align: right;\">\n",
       "      <th>order_number</th>\n",
       "      <th>1</th>\n",
       "      <th>2</th>\n",
       "      <th>3</th>\n",
       "      <th>4</th>\n",
       "      <th>5</th>\n",
       "      <th>6</th>\n",
       "      <th>7</th>\n",
       "      <th>8</th>\n",
       "      <th>9</th>\n",
       "      <th>10</th>\n",
       "      <th>...</th>\n",
       "      <th>90</th>\n",
       "      <th>91</th>\n",
       "      <th>92</th>\n",
       "      <th>93</th>\n",
       "      <th>94</th>\n",
       "      <th>95</th>\n",
       "      <th>96</th>\n",
       "      <th>97</th>\n",
       "      <th>98</th>\n",
       "      <th>99</th>\n",
       "    </tr>\n",
       "    <tr>\n",
       "      <th>days_since_prior_order</th>\n",
       "      <th></th>\n",
       "      <th></th>\n",
       "      <th></th>\n",
       "      <th></th>\n",
       "      <th></th>\n",
       "      <th></th>\n",
       "      <th></th>\n",
       "      <th></th>\n",
       "      <th></th>\n",
       "      <th></th>\n",
       "      <th></th>\n",
       "      <th></th>\n",
       "      <th></th>\n",
       "      <th></th>\n",
       "      <th></th>\n",
       "      <th></th>\n",
       "      <th></th>\n",
       "      <th></th>\n",
       "      <th></th>\n",
       "      <th></th>\n",
       "      <th></th>\n",
       "    </tr>\n",
       "  </thead>\n",
       "  <tbody>\n",
       "    <tr>\n",
       "      <th>0.0</th>\n",
       "      <td>0</td>\n",
       "      <td>12488</td>\n",
       "      <td>12393</td>\n",
       "      <td>10847</td>\n",
       "      <td>10160</td>\n",
       "      <td>9782</td>\n",
       "      <td>9090</td>\n",
       "      <td>8813</td>\n",
       "      <td>7884</td>\n",
       "      <td>7257</td>\n",
       "      <td>...</td>\n",
       "      <td>757</td>\n",
       "      <td>679</td>\n",
       "      <td>687</td>\n",
       "      <td>555</td>\n",
       "      <td>857</td>\n",
       "      <td>684</td>\n",
       "      <td>752</td>\n",
       "      <td>575</td>\n",
       "      <td>684</td>\n",
       "      <td>537</td>\n",
       "    </tr>\n",
       "    <tr>\n",
       "      <th>1.0</th>\n",
       "      <td>0</td>\n",
       "      <td>19201</td>\n",
       "      <td>18434</td>\n",
       "      <td>16954</td>\n",
       "      <td>16120</td>\n",
       "      <td>15637</td>\n",
       "      <td>15074</td>\n",
       "      <td>14320</td>\n",
       "      <td>13308</td>\n",
       "      <td>12993</td>\n",
       "      <td>...</td>\n",
       "      <td>1593</td>\n",
       "      <td>1653</td>\n",
       "      <td>1748</td>\n",
       "      <td>1670</td>\n",
       "      <td>1534</td>\n",
       "      <td>1596</td>\n",
       "      <td>1535</td>\n",
       "      <td>1520</td>\n",
       "      <td>1555</td>\n",
       "      <td>1424</td>\n",
       "    </tr>\n",
       "    <tr>\n",
       "      <th>2.0</th>\n",
       "      <td>0</td>\n",
       "      <td>28395</td>\n",
       "      <td>28212</td>\n",
       "      <td>27486</td>\n",
       "      <td>25297</td>\n",
       "      <td>24949</td>\n",
       "      <td>23388</td>\n",
       "      <td>23128</td>\n",
       "      <td>21894</td>\n",
       "      <td>21129</td>\n",
       "      <td>...</td>\n",
       "      <td>2368</td>\n",
       "      <td>2125</td>\n",
       "      <td>1940</td>\n",
       "      <td>2241</td>\n",
       "      <td>1943</td>\n",
       "      <td>1816</td>\n",
       "      <td>1722</td>\n",
       "      <td>1797</td>\n",
       "      <td>1905</td>\n",
       "      <td>1770</td>\n",
       "    </tr>\n",
       "    <tr>\n",
       "      <th>3.0</th>\n",
       "      <td>0</td>\n",
       "      <td>37874</td>\n",
       "      <td>39058</td>\n",
       "      <td>37382</td>\n",
       "      <td>34843</td>\n",
       "      <td>34740</td>\n",
       "      <td>32606</td>\n",
       "      <td>30972</td>\n",
       "      <td>30397</td>\n",
       "      <td>29469</td>\n",
       "      <td>...</td>\n",
       "      <td>1937</td>\n",
       "      <td>2062</td>\n",
       "      <td>1650</td>\n",
       "      <td>1841</td>\n",
       "      <td>1628</td>\n",
       "      <td>1596</td>\n",
       "      <td>1653</td>\n",
       "      <td>1609</td>\n",
       "      <td>1183</td>\n",
       "      <td>1398</td>\n",
       "    </tr>\n",
       "    <tr>\n",
       "      <th>4.0</th>\n",
       "      <td>0</td>\n",
       "      <td>46604</td>\n",
       "      <td>49388</td>\n",
       "      <td>45573</td>\n",
       "      <td>43466</td>\n",
       "      <td>40174</td>\n",
       "      <td>38572</td>\n",
       "      <td>37047</td>\n",
       "      <td>36044</td>\n",
       "      <td>35584</td>\n",
       "      <td>...</td>\n",
       "      <td>1387</td>\n",
       "      <td>1251</td>\n",
       "      <td>1619</td>\n",
       "      <td>1258</td>\n",
       "      <td>1053</td>\n",
       "      <td>1073</td>\n",
       "      <td>1103</td>\n",
       "      <td>1047</td>\n",
       "      <td>1012</td>\n",
       "      <td>1228</td>\n",
       "    </tr>\n",
       "    <tr>\n",
       "      <th>5.0</th>\n",
       "      <td>0</td>\n",
       "      <td>54661</td>\n",
       "      <td>55650</td>\n",
       "      <td>53616</td>\n",
       "      <td>51030</td>\n",
       "      <td>48381</td>\n",
       "      <td>44777</td>\n",
       "      <td>43001</td>\n",
       "      <td>40172</td>\n",
       "      <td>38891</td>\n",
       "      <td>...</td>\n",
       "      <td>1181</td>\n",
       "      <td>990</td>\n",
       "      <td>841</td>\n",
       "      <td>608</td>\n",
       "      <td>841</td>\n",
       "      <td>775</td>\n",
       "      <td>748</td>\n",
       "      <td>474</td>\n",
       "      <td>590</td>\n",
       "      <td>490</td>\n",
       "    </tr>\n",
       "    <tr>\n",
       "      <th>6.0</th>\n",
       "      <td>0</td>\n",
       "      <td>74227</td>\n",
       "      <td>77391</td>\n",
       "      <td>70267</td>\n",
       "      <td>65382</td>\n",
       "      <td>62170</td>\n",
       "      <td>58361</td>\n",
       "      <td>55436</td>\n",
       "      <td>53624</td>\n",
       "      <td>48874</td>\n",
       "      <td>...</td>\n",
       "      <td>440</td>\n",
       "      <td>549</td>\n",
       "      <td>461</td>\n",
       "      <td>542</td>\n",
       "      <td>455</td>\n",
       "      <td>350</td>\n",
       "      <td>293</td>\n",
       "      <td>404</td>\n",
       "      <td>334</td>\n",
       "      <td>337</td>\n",
       "    </tr>\n",
       "    <tr>\n",
       "      <th>7.0</th>\n",
       "      <td>0</td>\n",
       "      <td>114850</td>\n",
       "      <td>111141</td>\n",
       "      <td>102908</td>\n",
       "      <td>97932</td>\n",
       "      <td>89131</td>\n",
       "      <td>84598</td>\n",
       "      <td>79924</td>\n",
       "      <td>74480</td>\n",
       "      <td>71381</td>\n",
       "      <td>...</td>\n",
       "      <td>446</td>\n",
       "      <td>351</td>\n",
       "      <td>337</td>\n",
       "      <td>304</td>\n",
       "      <td>260</td>\n",
       "      <td>301</td>\n",
       "      <td>284</td>\n",
       "      <td>260</td>\n",
       "      <td>331</td>\n",
       "      <td>209</td>\n",
       "    </tr>\n",
       "    <tr>\n",
       "      <th>8.0</th>\n",
       "      <td>0</td>\n",
       "      <td>68404</td>\n",
       "      <td>68367</td>\n",
       "      <td>63428</td>\n",
       "      <td>59323</td>\n",
       "      <td>53887</td>\n",
       "      <td>51844</td>\n",
       "      <td>48200</td>\n",
       "      <td>44994</td>\n",
       "      <td>40975</td>\n",
       "      <td>...</td>\n",
       "      <td>123</td>\n",
       "      <td>190</td>\n",
       "      <td>135</td>\n",
       "      <td>118</td>\n",
       "      <td>128</td>\n",
       "      <td>142</td>\n",
       "      <td>122</td>\n",
       "      <td>77</td>\n",
       "      <td>95</td>\n",
       "      <td>53</td>\n",
       "    </tr>\n",
       "    <tr>\n",
       "      <th>9.0</th>\n",
       "      <td>0</td>\n",
       "      <td>45207</td>\n",
       "      <td>46388</td>\n",
       "      <td>41759</td>\n",
       "      <td>39888</td>\n",
       "      <td>36246</td>\n",
       "      <td>33567</td>\n",
       "      <td>30950</td>\n",
       "      <td>29711</td>\n",
       "      <td>26844</td>\n",
       "      <td>...</td>\n",
       "      <td>168</td>\n",
       "      <td>63</td>\n",
       "      <td>38</td>\n",
       "      <td>31</td>\n",
       "      <td>64</td>\n",
       "      <td>50</td>\n",
       "      <td>25</td>\n",
       "      <td>74</td>\n",
       "      <td>63</td>\n",
       "      <td>49</td>\n",
       "    </tr>\n",
       "    <tr>\n",
       "      <th>10.0</th>\n",
       "      <td>0</td>\n",
       "      <td>39414</td>\n",
       "      <td>38977</td>\n",
       "      <td>35058</td>\n",
       "      <td>32437</td>\n",
       "      <td>30538</td>\n",
       "      <td>26361</td>\n",
       "      <td>25392</td>\n",
       "      <td>23164</td>\n",
       "      <td>21546</td>\n",
       "      <td>...</td>\n",
       "      <td>40</td>\n",
       "      <td>35</td>\n",
       "      <td>99</td>\n",
       "      <td>43</td>\n",
       "      <td>34</td>\n",
       "      <td>75</td>\n",
       "      <td>0</td>\n",
       "      <td>15</td>\n",
       "      <td>29</td>\n",
       "      <td>38</td>\n",
       "    </tr>\n",
       "    <tr>\n",
       "      <th>11.0</th>\n",
       "      <td>0</td>\n",
       "      <td>34211</td>\n",
       "      <td>33491</td>\n",
       "      <td>32127</td>\n",
       "      <td>27801</td>\n",
       "      <td>26477</td>\n",
       "      <td>25120</td>\n",
       "      <td>22724</td>\n",
       "      <td>21010</td>\n",
       "      <td>18567</td>\n",
       "      <td>...</td>\n",
       "      <td>23</td>\n",
       "      <td>60</td>\n",
       "      <td>123</td>\n",
       "      <td>55</td>\n",
       "      <td>42</td>\n",
       "      <td>126</td>\n",
       "      <td>39</td>\n",
       "      <td>48</td>\n",
       "      <td>1</td>\n",
       "      <td>11</td>\n",
       "    </tr>\n",
       "    <tr>\n",
       "      <th>12.0</th>\n",
       "      <td>0</td>\n",
       "      <td>33966</td>\n",
       "      <td>35769</td>\n",
       "      <td>31727</td>\n",
       "      <td>27551</td>\n",
       "      <td>26367</td>\n",
       "      <td>23956</td>\n",
       "      <td>21644</td>\n",
       "      <td>21191</td>\n",
       "      <td>18808</td>\n",
       "      <td>...</td>\n",
       "      <td>21</td>\n",
       "      <td>5</td>\n",
       "      <td>61</td>\n",
       "      <td>22</td>\n",
       "      <td>38</td>\n",
       "      <td>64</td>\n",
       "      <td>21</td>\n",
       "      <td>32</td>\n",
       "      <td>5</td>\n",
       "      <td>66</td>\n",
       "    </tr>\n",
       "    <tr>\n",
       "      <th>13.0</th>\n",
       "      <td>0</td>\n",
       "      <td>39267</td>\n",
       "      <td>40837</td>\n",
       "      <td>36117</td>\n",
       "      <td>34279</td>\n",
       "      <td>28797</td>\n",
       "      <td>27637</td>\n",
       "      <td>25640</td>\n",
       "      <td>22877</td>\n",
       "      <td>20743</td>\n",
       "      <td>...</td>\n",
       "      <td>52</td>\n",
       "      <td>50</td>\n",
       "      <td>63</td>\n",
       "      <td>37</td>\n",
       "      <td>35</td>\n",
       "      <td>22</td>\n",
       "      <td>6</td>\n",
       "      <td>61</td>\n",
       "      <td>73</td>\n",
       "      <td>66</td>\n",
       "    </tr>\n",
       "    <tr>\n",
       "      <th>14.0</th>\n",
       "      <td>0</td>\n",
       "      <td>51461</td>\n",
       "      <td>49654</td>\n",
       "      <td>46155</td>\n",
       "      <td>41474</td>\n",
       "      <td>36421</td>\n",
       "      <td>34266</td>\n",
       "      <td>30501</td>\n",
       "      <td>28469</td>\n",
       "      <td>26467</td>\n",
       "      <td>...</td>\n",
       "      <td>0</td>\n",
       "      <td>8</td>\n",
       "      <td>5</td>\n",
       "      <td>54</td>\n",
       "      <td>14</td>\n",
       "      <td>36</td>\n",
       "      <td>29</td>\n",
       "      <td>32</td>\n",
       "      <td>33</td>\n",
       "      <td>5</td>\n",
       "    </tr>\n",
       "    <tr>\n",
       "      <th>15.0</th>\n",
       "      <td>0</td>\n",
       "      <td>33279</td>\n",
       "      <td>33191</td>\n",
       "      <td>31396</td>\n",
       "      <td>27787</td>\n",
       "      <td>23304</td>\n",
       "      <td>21505</td>\n",
       "      <td>21859</td>\n",
       "      <td>18547</td>\n",
       "      <td>17483</td>\n",
       "      <td>...</td>\n",
       "      <td>21</td>\n",
       "      <td>14</td>\n",
       "      <td>9</td>\n",
       "      <td>4</td>\n",
       "      <td>6</td>\n",
       "      <td>8</td>\n",
       "      <td>20</td>\n",
       "      <td>17</td>\n",
       "      <td>0</td>\n",
       "      <td>0</td>\n",
       "    </tr>\n",
       "    <tr>\n",
       "      <th>16.0</th>\n",
       "      <td>0</td>\n",
       "      <td>24076</td>\n",
       "      <td>23919</td>\n",
       "      <td>21108</td>\n",
       "      <td>18466</td>\n",
       "      <td>17593</td>\n",
       "      <td>16100</td>\n",
       "      <td>14508</td>\n",
       "      <td>13789</td>\n",
       "      <td>13482</td>\n",
       "      <td>...</td>\n",
       "      <td>65</td>\n",
       "      <td>20</td>\n",
       "      <td>7</td>\n",
       "      <td>0</td>\n",
       "      <td>10</td>\n",
       "      <td>0</td>\n",
       "      <td>7</td>\n",
       "      <td>29</td>\n",
       "      <td>11</td>\n",
       "      <td>0</td>\n",
       "    </tr>\n",
       "    <tr>\n",
       "      <th>17.0</th>\n",
       "      <td>0</td>\n",
       "      <td>20054</td>\n",
       "      <td>20941</td>\n",
       "      <td>18725</td>\n",
       "      <td>16299</td>\n",
       "      <td>15515</td>\n",
       "      <td>12648</td>\n",
       "      <td>11386</td>\n",
       "      <td>10555</td>\n",
       "      <td>9918</td>\n",
       "      <td>...</td>\n",
       "      <td>11</td>\n",
       "      <td>0</td>\n",
       "      <td>13</td>\n",
       "      <td>0</td>\n",
       "      <td>16</td>\n",
       "      <td>7</td>\n",
       "      <td>4</td>\n",
       "      <td>23</td>\n",
       "      <td>0</td>\n",
       "      <td>0</td>\n",
       "    </tr>\n",
       "    <tr>\n",
       "      <th>18.0</th>\n",
       "      <td>0</td>\n",
       "      <td>19424</td>\n",
       "      <td>18665</td>\n",
       "      <td>16515</td>\n",
       "      <td>15535</td>\n",
       "      <td>13482</td>\n",
       "      <td>11912</td>\n",
       "      <td>10898</td>\n",
       "      <td>10216</td>\n",
       "      <td>9550</td>\n",
       "      <td>...</td>\n",
       "      <td>0</td>\n",
       "      <td>1</td>\n",
       "      <td>0</td>\n",
       "      <td>0</td>\n",
       "      <td>9</td>\n",
       "      <td>0</td>\n",
       "      <td>51</td>\n",
       "      <td>0</td>\n",
       "      <td>0</td>\n",
       "      <td>26</td>\n",
       "    </tr>\n",
       "    <tr>\n",
       "      <th>19.0</th>\n",
       "      <td>0</td>\n",
       "      <td>18991</td>\n",
       "      <td>19445</td>\n",
       "      <td>16375</td>\n",
       "      <td>14407</td>\n",
       "      <td>13793</td>\n",
       "      <td>12640</td>\n",
       "      <td>11058</td>\n",
       "      <td>10057</td>\n",
       "      <td>8743</td>\n",
       "      <td>...</td>\n",
       "      <td>0</td>\n",
       "      <td>6</td>\n",
       "      <td>0</td>\n",
       "      <td>0</td>\n",
       "      <td>0</td>\n",
       "      <td>0</td>\n",
       "      <td>0</td>\n",
       "      <td>14</td>\n",
       "      <td>0</td>\n",
       "      <td>0</td>\n",
       "    </tr>\n",
       "    <tr>\n",
       "      <th>20.0</th>\n",
       "      <td>0</td>\n",
       "      <td>22376</td>\n",
       "      <td>22043</td>\n",
       "      <td>19333</td>\n",
       "      <td>17517</td>\n",
       "      <td>16227</td>\n",
       "      <td>14860</td>\n",
       "      <td>11824</td>\n",
       "      <td>10979</td>\n",
       "      <td>10067</td>\n",
       "      <td>...</td>\n",
       "      <td>11</td>\n",
       "      <td>34</td>\n",
       "      <td>0</td>\n",
       "      <td>0</td>\n",
       "      <td>9</td>\n",
       "      <td>0</td>\n",
       "      <td>0</td>\n",
       "      <td>0</td>\n",
       "      <td>0</td>\n",
       "      <td>0</td>\n",
       "    </tr>\n",
       "    <tr>\n",
       "      <th>21.0</th>\n",
       "      <td>0</td>\n",
       "      <td>26394</td>\n",
       "      <td>26993</td>\n",
       "      <td>22538</td>\n",
       "      <td>19593</td>\n",
       "      <td>19658</td>\n",
       "      <td>16424</td>\n",
       "      <td>15112</td>\n",
       "      <td>12464</td>\n",
       "      <td>11764</td>\n",
       "      <td>...</td>\n",
       "      <td>11</td>\n",
       "      <td>0</td>\n",
       "      <td>0</td>\n",
       "      <td>12</td>\n",
       "      <td>0</td>\n",
       "      <td>0</td>\n",
       "      <td>0</td>\n",
       "      <td>0</td>\n",
       "      <td>0</td>\n",
       "      <td>0</td>\n",
       "    </tr>\n",
       "    <tr>\n",
       "      <th>22.0</th>\n",
       "      <td>0</td>\n",
       "      <td>18947</td>\n",
       "      <td>17660</td>\n",
       "      <td>15946</td>\n",
       "      <td>14348</td>\n",
       "      <td>12754</td>\n",
       "      <td>11324</td>\n",
       "      <td>10371</td>\n",
       "      <td>9579</td>\n",
       "      <td>8848</td>\n",
       "      <td>...</td>\n",
       "      <td>0</td>\n",
       "      <td>0</td>\n",
       "      <td>0</td>\n",
       "      <td>0</td>\n",
       "      <td>0</td>\n",
       "      <td>0</td>\n",
       "      <td>0</td>\n",
       "      <td>0</td>\n",
       "      <td>0</td>\n",
       "      <td>0</td>\n",
       "    </tr>\n",
       "    <tr>\n",
       "      <th>23.0</th>\n",
       "      <td>0</td>\n",
       "      <td>14106</td>\n",
       "      <td>15054</td>\n",
       "      <td>12408</td>\n",
       "      <td>10989</td>\n",
       "      <td>9769</td>\n",
       "      <td>8280</td>\n",
       "      <td>7285</td>\n",
       "      <td>6929</td>\n",
       "      <td>5692</td>\n",
       "      <td>...</td>\n",
       "      <td>13</td>\n",
       "      <td>0</td>\n",
       "      <td>0</td>\n",
       "      <td>0</td>\n",
       "      <td>0</td>\n",
       "      <td>9</td>\n",
       "      <td>0</td>\n",
       "      <td>0</td>\n",
       "      <td>0</td>\n",
       "      <td>0</td>\n",
       "    </tr>\n",
       "    <tr>\n",
       "      <th>24.0</th>\n",
       "      <td>0</td>\n",
       "      <td>11902</td>\n",
       "      <td>11724</td>\n",
       "      <td>10138</td>\n",
       "      <td>9610</td>\n",
       "      <td>8477</td>\n",
       "      <td>7501</td>\n",
       "      <td>6456</td>\n",
       "      <td>5964</td>\n",
       "      <td>5159</td>\n",
       "      <td>...</td>\n",
       "      <td>0</td>\n",
       "      <td>0</td>\n",
       "      <td>0</td>\n",
       "      <td>0</td>\n",
       "      <td>0</td>\n",
       "      <td>0</td>\n",
       "      <td>0</td>\n",
       "      <td>0</td>\n",
       "      <td>0</td>\n",
       "      <td>0</td>\n",
       "    </tr>\n",
       "    <tr>\n",
       "      <th>25.0</th>\n",
       "      <td>0</td>\n",
       "      <td>11915</td>\n",
       "      <td>12029</td>\n",
       "      <td>10094</td>\n",
       "      <td>8594</td>\n",
       "      <td>7540</td>\n",
       "      <td>6966</td>\n",
       "      <td>5512</td>\n",
       "      <td>5293</td>\n",
       "      <td>4978</td>\n",
       "      <td>...</td>\n",
       "      <td>0</td>\n",
       "      <td>0</td>\n",
       "      <td>0</td>\n",
       "      <td>0</td>\n",
       "      <td>0</td>\n",
       "      <td>0</td>\n",
       "      <td>0</td>\n",
       "      <td>0</td>\n",
       "      <td>0</td>\n",
       "      <td>0</td>\n",
       "    </tr>\n",
       "    <tr>\n",
       "      <th>26.0</th>\n",
       "      <td>0</td>\n",
       "      <td>11786</td>\n",
       "      <td>11504</td>\n",
       "      <td>10160</td>\n",
       "      <td>9105</td>\n",
       "      <td>8248</td>\n",
       "      <td>7399</td>\n",
       "      <td>6404</td>\n",
       "      <td>5516</td>\n",
       "      <td>5037</td>\n",
       "      <td>...</td>\n",
       "      <td>0</td>\n",
       "      <td>0</td>\n",
       "      <td>0</td>\n",
       "      <td>0</td>\n",
       "      <td>0</td>\n",
       "      <td>9</td>\n",
       "      <td>0</td>\n",
       "      <td>0</td>\n",
       "      <td>0</td>\n",
       "      <td>0</td>\n",
       "    </tr>\n",
       "    <tr>\n",
       "      <th>27.0</th>\n",
       "      <td>0</td>\n",
       "      <td>13399</td>\n",
       "      <td>13698</td>\n",
       "      <td>12005</td>\n",
       "      <td>11118</td>\n",
       "      <td>9186</td>\n",
       "      <td>7603</td>\n",
       "      <td>7326</td>\n",
       "      <td>6368</td>\n",
       "      <td>5645</td>\n",
       "      <td>...</td>\n",
       "      <td>0</td>\n",
       "      <td>0</td>\n",
       "      <td>0</td>\n",
       "      <td>0</td>\n",
       "      <td>0</td>\n",
       "      <td>0</td>\n",
       "      <td>0</td>\n",
       "      <td>0</td>\n",
       "      <td>0</td>\n",
       "      <td>0</td>\n",
       "    </tr>\n",
       "    <tr>\n",
       "      <th>28.0</th>\n",
       "      <td>0</td>\n",
       "      <td>17301</td>\n",
       "      <td>17612</td>\n",
       "      <td>15366</td>\n",
       "      <td>13129</td>\n",
       "      <td>11398</td>\n",
       "      <td>10127</td>\n",
       "      <td>8685</td>\n",
       "      <td>7911</td>\n",
       "      <td>6394</td>\n",
       "      <td>...</td>\n",
       "      <td>0</td>\n",
       "      <td>0</td>\n",
       "      <td>0</td>\n",
       "      <td>0</td>\n",
       "      <td>0</td>\n",
       "      <td>0</td>\n",
       "      <td>0</td>\n",
       "      <td>0</td>\n",
       "      <td>0</td>\n",
       "      <td>0</td>\n",
       "    </tr>\n",
       "    <tr>\n",
       "      <th>29.0</th>\n",
       "      <td>0</td>\n",
       "      <td>12207</td>\n",
       "      <td>12095</td>\n",
       "      <td>10817</td>\n",
       "      <td>9205</td>\n",
       "      <td>8091</td>\n",
       "      <td>7059</td>\n",
       "      <td>6414</td>\n",
       "      <td>5166</td>\n",
       "      <td>4642</td>\n",
       "      <td>...</td>\n",
       "      <td>0</td>\n",
       "      <td>0</td>\n",
       "      <td>0</td>\n",
       "      <td>0</td>\n",
       "      <td>0</td>\n",
       "      <td>0</td>\n",
       "      <td>0</td>\n",
       "      <td>0</td>\n",
       "      <td>0</td>\n",
       "      <td>0</td>\n",
       "    </tr>\n",
       "    <tr>\n",
       "      <th>30.0</th>\n",
       "      <td>0</td>\n",
       "      <td>285780</td>\n",
       "      <td>282035</td>\n",
       "      <td>226498</td>\n",
       "      <td>182483</td>\n",
       "      <td>147951</td>\n",
       "      <td>121762</td>\n",
       "      <td>100375</td>\n",
       "      <td>83068</td>\n",
       "      <td>69193</td>\n",
       "      <td>...</td>\n",
       "      <td>0</td>\n",
       "      <td>11</td>\n",
       "      <td>0</td>\n",
       "      <td>0</td>\n",
       "      <td>0</td>\n",
       "      <td>5</td>\n",
       "      <td>0</td>\n",
       "      <td>0</td>\n",
       "      <td>0</td>\n",
       "      <td>13</td>\n",
       "    </tr>\n",
       "  </tbody>\n",
       "</table>\n",
       "<p>31 rows × 99 columns</p>\n",
       "</div>"
      ],
      "text/plain": [
       "order_number            1       2       3       4       5       6       7   \\\n",
       "days_since_prior_order                                                       \n",
       "0.0                      0   12488   12393   10847   10160    9782    9090   \n",
       "1.0                      0   19201   18434   16954   16120   15637   15074   \n",
       "2.0                      0   28395   28212   27486   25297   24949   23388   \n",
       "3.0                      0   37874   39058   37382   34843   34740   32606   \n",
       "4.0                      0   46604   49388   45573   43466   40174   38572   \n",
       "5.0                      0   54661   55650   53616   51030   48381   44777   \n",
       "6.0                      0   74227   77391   70267   65382   62170   58361   \n",
       "7.0                      0  114850  111141  102908   97932   89131   84598   \n",
       "8.0                      0   68404   68367   63428   59323   53887   51844   \n",
       "9.0                      0   45207   46388   41759   39888   36246   33567   \n",
       "10.0                     0   39414   38977   35058   32437   30538   26361   \n",
       "11.0                     0   34211   33491   32127   27801   26477   25120   \n",
       "12.0                     0   33966   35769   31727   27551   26367   23956   \n",
       "13.0                     0   39267   40837   36117   34279   28797   27637   \n",
       "14.0                     0   51461   49654   46155   41474   36421   34266   \n",
       "15.0                     0   33279   33191   31396   27787   23304   21505   \n",
       "16.0                     0   24076   23919   21108   18466   17593   16100   \n",
       "17.0                     0   20054   20941   18725   16299   15515   12648   \n",
       "18.0                     0   19424   18665   16515   15535   13482   11912   \n",
       "19.0                     0   18991   19445   16375   14407   13793   12640   \n",
       "20.0                     0   22376   22043   19333   17517   16227   14860   \n",
       "21.0                     0   26394   26993   22538   19593   19658   16424   \n",
       "22.0                     0   18947   17660   15946   14348   12754   11324   \n",
       "23.0                     0   14106   15054   12408   10989    9769    8280   \n",
       "24.0                     0   11902   11724   10138    9610    8477    7501   \n",
       "25.0                     0   11915   12029   10094    8594    7540    6966   \n",
       "26.0                     0   11786   11504   10160    9105    8248    7399   \n",
       "27.0                     0   13399   13698   12005   11118    9186    7603   \n",
       "28.0                     0   17301   17612   15366   13129   11398   10127   \n",
       "29.0                     0   12207   12095   10817    9205    8091    7059   \n",
       "30.0                     0  285780  282035  226498  182483  147951  121762   \n",
       "\n",
       "order_number                8      9      10  ...    90    91    92    93  \\\n",
       "days_since_prior_order                        ...                           \n",
       "0.0                       8813   7884   7257  ...   757   679   687   555   \n",
       "1.0                      14320  13308  12993  ...  1593  1653  1748  1670   \n",
       "2.0                      23128  21894  21129  ...  2368  2125  1940  2241   \n",
       "3.0                      30972  30397  29469  ...  1937  2062  1650  1841   \n",
       "4.0                      37047  36044  35584  ...  1387  1251  1619  1258   \n",
       "5.0                      43001  40172  38891  ...  1181   990   841   608   \n",
       "6.0                      55436  53624  48874  ...   440   549   461   542   \n",
       "7.0                      79924  74480  71381  ...   446   351   337   304   \n",
       "8.0                      48200  44994  40975  ...   123   190   135   118   \n",
       "9.0                      30950  29711  26844  ...   168    63    38    31   \n",
       "10.0                     25392  23164  21546  ...    40    35    99    43   \n",
       "11.0                     22724  21010  18567  ...    23    60   123    55   \n",
       "12.0                     21644  21191  18808  ...    21     5    61    22   \n",
       "13.0                     25640  22877  20743  ...    52    50    63    37   \n",
       "14.0                     30501  28469  26467  ...     0     8     5    54   \n",
       "15.0                     21859  18547  17483  ...    21    14     9     4   \n",
       "16.0                     14508  13789  13482  ...    65    20     7     0   \n",
       "17.0                     11386  10555   9918  ...    11     0    13     0   \n",
       "18.0                     10898  10216   9550  ...     0     1     0     0   \n",
       "19.0                     11058  10057   8743  ...     0     6     0     0   \n",
       "20.0                     11824  10979  10067  ...    11    34     0     0   \n",
       "21.0                     15112  12464  11764  ...    11     0     0    12   \n",
       "22.0                     10371   9579   8848  ...     0     0     0     0   \n",
       "23.0                      7285   6929   5692  ...    13     0     0     0   \n",
       "24.0                      6456   5964   5159  ...     0     0     0     0   \n",
       "25.0                      5512   5293   4978  ...     0     0     0     0   \n",
       "26.0                      6404   5516   5037  ...     0     0     0     0   \n",
       "27.0                      7326   6368   5645  ...     0     0     0     0   \n",
       "28.0                      8685   7911   6394  ...     0     0     0     0   \n",
       "29.0                      6414   5166   4642  ...     0     0     0     0   \n",
       "30.0                    100375  83068  69193  ...     0    11     0     0   \n",
       "\n",
       "order_number              94    95    96    97    98    99  \n",
       "days_since_prior_order                                      \n",
       "0.0                      857   684   752   575   684   537  \n",
       "1.0                     1534  1596  1535  1520  1555  1424  \n",
       "2.0                     1943  1816  1722  1797  1905  1770  \n",
       "3.0                     1628  1596  1653  1609  1183  1398  \n",
       "4.0                     1053  1073  1103  1047  1012  1228  \n",
       "5.0                      841   775   748   474   590   490  \n",
       "6.0                      455   350   293   404   334   337  \n",
       "7.0                      260   301   284   260   331   209  \n",
       "8.0                      128   142   122    77    95    53  \n",
       "9.0                       64    50    25    74    63    49  \n",
       "10.0                      34    75     0    15    29    38  \n",
       "11.0                      42   126    39    48     1    11  \n",
       "12.0                      38    64    21    32     5    66  \n",
       "13.0                      35    22     6    61    73    66  \n",
       "14.0                      14    36    29    32    33     5  \n",
       "15.0                       6     8    20    17     0     0  \n",
       "16.0                      10     0     7    29    11     0  \n",
       "17.0                      16     7     4    23     0     0  \n",
       "18.0                       9     0    51     0     0    26  \n",
       "19.0                       0     0     0    14     0     0  \n",
       "20.0                       9     0     0     0     0     0  \n",
       "21.0                       0     0     0     0     0     0  \n",
       "22.0                       0     0     0     0     0     0  \n",
       "23.0                       0     9     0     0     0     0  \n",
       "24.0                       0     0     0     0     0     0  \n",
       "25.0                       0     0     0     0     0     0  \n",
       "26.0                       0     9     0     0     0     0  \n",
       "27.0                       0     0     0     0     0     0  \n",
       "28.0                       0     0     0     0     0     0  \n",
       "29.0                       0     0     0     0     0     0  \n",
       "30.0                       0     5     0     0     0    13  \n",
       "\n",
       "[31 rows x 99 columns]"
      ]
     },
     "execution_count": 6,
     "metadata": {},
     "output_type": "execute_result"
    }
   ],
   "source": [
    "crosstab"
   ]
  },
  {
   "cell_type": "code",
   "execution_count": null,
   "id": "07afaaa9",
   "metadata": {},
   "outputs": [],
   "source": [
    "# All the missing values from \"days_since_prior_order\" fall where the order number is equal to 1"
   ]
  },
  {
   "cell_type": "code",
   "execution_count": 7,
   "id": "2bc4f976",
   "metadata": {
    "ExecuteTime": {
     "end_time": "2021-11-10T20:07:31.884829Z",
     "start_time": "2021-11-10T20:07:31.818829Z"
    }
   },
   "outputs": [],
   "source": [
    "# Copy the table straight to your clipboard\n",
    "crosstab.to_clipboard()\n",
    "\n",
    "# Then paste in Excel"
   ]
  },
  {
   "cell_type": "code",
   "execution_count": null,
   "id": "c8e6754a",
   "metadata": {},
   "outputs": [],
   "source": []
  }
 ],
 "metadata": {
  "kernelspec": {
   "display_name": "Python 3",
   "language": "python",
   "name": "python3"
  },
  "language_info": {
   "codemirror_mode": {
    "name": "ipython",
    "version": 3
   },
   "file_extension": ".py",
   "mimetype": "text/x-python",
   "name": "python",
   "nbconvert_exporter": "python",
   "pygments_lexer": "ipython3",
   "version": "3.8.8"
  }
 },
 "nbformat": 4,
 "nbformat_minor": 5
}
