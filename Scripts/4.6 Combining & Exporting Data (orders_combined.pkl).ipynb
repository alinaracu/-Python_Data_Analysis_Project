{
 "cells": [
  {
   "cell_type": "markdown",
   "id": "2e73ee1b",
   "metadata": {},
   "source": [
    "# Import data"
   ]
  },
  {
   "cell_type": "code",
   "execution_count": 1,
   "id": "d459a8b7",
   "metadata": {
    "ExecuteTime": {
     "end_time": "2021-11-16T19:13:14.049789Z",
     "start_time": "2021-11-16T19:13:13.180096Z"
    }
   },
   "outputs": [],
   "source": [
    "# Import libraries\n",
    "import pandas as pd\n",
    "import numpy as np\n",
    "import os"
   ]
  },
  {
   "cell_type": "code",
   "execution_count": 2,
   "id": "8b7f9788",
   "metadata": {
    "ExecuteTime": {
     "end_time": "2021-11-16T19:13:14.065794Z",
     "start_time": "2021-11-16T19:13:14.053791Z"
    }
   },
   "outputs": [],
   "source": [
    "# Assign path string to variable\n",
    "path = r'D:\\Docs\\Career Foundry\\II. Data Immersion\\4. Python Fundamentals for Data Analysts\\Instacart Basket Analysis - Alina Racu'"
   ]
  },
  {
   "cell_type": "code",
   "execution_count": 3,
   "id": "aea9a4be",
   "metadata": {
    "ExecuteTime": {
     "end_time": "2021-11-16T19:13:16.635490Z",
     "start_time": "2021-11-16T19:13:14.069794Z"
    }
   },
   "outputs": [],
   "source": [
    "# Import file\n",
    "df_ords = pd.read_csv(os.path.join(path, '02 Data', 'Prepared Data', '4.5 orders_checked.csv'), index_col = False)"
   ]
  },
  {
   "cell_type": "code",
   "execution_count": 4,
   "id": "193debc7",
   "metadata": {
    "ExecuteTime": {
     "end_time": "2021-11-16T19:13:16.727579Z",
     "start_time": "2021-11-16T19:13:16.637488Z"
    }
   },
   "outputs": [],
   "source": [
    "# Import file\n",
    "df_prods = pd.read_csv(os.path.join(path, '02 Data', 'Prepared Data', '4.5 products_checked.csv'), index_col = False)"
   ]
  },
  {
   "cell_type": "code",
   "execution_count": 5,
   "id": "0fa9b8b2",
   "metadata": {
    "ExecuteTime": {
     "end_time": "2021-11-16T19:13:27.148316Z",
     "start_time": "2021-11-16T19:13:16.728578Z"
    }
   },
   "outputs": [],
   "source": [
    "# Import file\n",
    "df_ords_prior = pd.read_csv(os.path.join(path, '02 Data', 'Original Data', 'order_products__prior.csv'), index_col = False)"
   ]
  },
  {
   "cell_type": "markdown",
   "id": "37df04bb",
   "metadata": {},
   "source": [
    "# Check dataframes"
   ]
  },
  {
   "cell_type": "markdown",
   "id": "5f1505b1",
   "metadata": {},
   "source": [
    "## df_ords"
   ]
  },
  {
   "cell_type": "code",
   "execution_count": 6,
   "id": "5f0f8f54",
   "metadata": {
    "ExecuteTime": {
     "end_time": "2021-11-16T19:13:27.222583Z",
     "start_time": "2021-11-16T19:13:27.148316Z"
    },
    "scrolled": false
   },
   "outputs": [
    {
     "data": {
      "text/html": [
       "<div>\n",
       "<style scoped>\n",
       "    .dataframe tbody tr th:only-of-type {\n",
       "        vertical-align: middle;\n",
       "    }\n",
       "\n",
       "    .dataframe tbody tr th {\n",
       "        vertical-align: top;\n",
       "    }\n",
       "\n",
       "    .dataframe thead th {\n",
       "        text-align: right;\n",
       "    }\n",
       "</style>\n",
       "<table border=\"1\" class=\"dataframe\">\n",
       "  <thead>\n",
       "    <tr style=\"text-align: right;\">\n",
       "      <th></th>\n",
       "      <th>Unnamed: 0</th>\n",
       "      <th>Unnamed: 0.1</th>\n",
       "      <th>order_id</th>\n",
       "      <th>user_id</th>\n",
       "      <th>order_number</th>\n",
       "      <th>order_day_of_week</th>\n",
       "      <th>order_hour_of_day</th>\n",
       "      <th>days_since_prior_order</th>\n",
       "    </tr>\n",
       "  </thead>\n",
       "  <tbody>\n",
       "    <tr>\n",
       "      <th>0</th>\n",
       "      <td>0</td>\n",
       "      <td>0</td>\n",
       "      <td>2539329</td>\n",
       "      <td>1</td>\n",
       "      <td>1</td>\n",
       "      <td>2</td>\n",
       "      <td>8</td>\n",
       "      <td>NaN</td>\n",
       "    </tr>\n",
       "    <tr>\n",
       "      <th>1</th>\n",
       "      <td>1</td>\n",
       "      <td>1</td>\n",
       "      <td>2398795</td>\n",
       "      <td>1</td>\n",
       "      <td>2</td>\n",
       "      <td>3</td>\n",
       "      <td>7</td>\n",
       "      <td>15.0</td>\n",
       "    </tr>\n",
       "    <tr>\n",
       "      <th>2</th>\n",
       "      <td>2</td>\n",
       "      <td>2</td>\n",
       "      <td>473747</td>\n",
       "      <td>1</td>\n",
       "      <td>3</td>\n",
       "      <td>3</td>\n",
       "      <td>12</td>\n",
       "      <td>21.0</td>\n",
       "    </tr>\n",
       "    <tr>\n",
       "      <th>3</th>\n",
       "      <td>3</td>\n",
       "      <td>3</td>\n",
       "      <td>2254736</td>\n",
       "      <td>1</td>\n",
       "      <td>4</td>\n",
       "      <td>4</td>\n",
       "      <td>7</td>\n",
       "      <td>29.0</td>\n",
       "    </tr>\n",
       "    <tr>\n",
       "      <th>4</th>\n",
       "      <td>4</td>\n",
       "      <td>4</td>\n",
       "      <td>431534</td>\n",
       "      <td>1</td>\n",
       "      <td>5</td>\n",
       "      <td>4</td>\n",
       "      <td>15</td>\n",
       "      <td>28.0</td>\n",
       "    </tr>\n",
       "  </tbody>\n",
       "</table>\n",
       "</div>"
      ],
      "text/plain": [
       "   Unnamed: 0  Unnamed: 0.1  order_id  user_id  order_number  \\\n",
       "0           0             0   2539329        1             1   \n",
       "1           1             1   2398795        1             2   \n",
       "2           2             2    473747        1             3   \n",
       "3           3             3   2254736        1             4   \n",
       "4           4             4    431534        1             5   \n",
       "\n",
       "   order_day_of_week  order_hour_of_day  days_since_prior_order  \n",
       "0                  2                  8                     NaN  \n",
       "1                  3                  7                    15.0  \n",
       "2                  3                 12                    21.0  \n",
       "3                  4                  7                    29.0  \n",
       "4                  4                 15                    28.0  "
      ]
     },
     "execution_count": 6,
     "metadata": {},
     "output_type": "execute_result"
    }
   ],
   "source": [
    "# Check\n",
    "df_ords.head()"
   ]
  },
  {
   "cell_type": "code",
   "execution_count": 7,
   "id": "7e91aaa8",
   "metadata": {
    "ExecuteTime": {
     "end_time": "2021-11-16T19:13:27.461602Z",
     "start_time": "2021-11-16T19:13:27.226586Z"
    }
   },
   "outputs": [],
   "source": [
    "# Delete the extra index colum\n",
    "df_ords = df_ords.drop(columns = [\"Unnamed: 0\", \"Unnamed: 0.1\"])"
   ]
  },
  {
   "cell_type": "code",
   "execution_count": 8,
   "id": "5a0167c3",
   "metadata": {
    "ExecuteTime": {
     "end_time": "2021-11-16T19:13:27.493604Z",
     "start_time": "2021-11-16T19:13:27.465603Z"
    },
    "scrolled": true
   },
   "outputs": [
    {
     "data": {
      "text/html": [
       "<div>\n",
       "<style scoped>\n",
       "    .dataframe tbody tr th:only-of-type {\n",
       "        vertical-align: middle;\n",
       "    }\n",
       "\n",
       "    .dataframe tbody tr th {\n",
       "        vertical-align: top;\n",
       "    }\n",
       "\n",
       "    .dataframe thead th {\n",
       "        text-align: right;\n",
       "    }\n",
       "</style>\n",
       "<table border=\"1\" class=\"dataframe\">\n",
       "  <thead>\n",
       "    <tr style=\"text-align: right;\">\n",
       "      <th></th>\n",
       "      <th>order_id</th>\n",
       "      <th>user_id</th>\n",
       "      <th>order_number</th>\n",
       "      <th>order_day_of_week</th>\n",
       "      <th>order_hour_of_day</th>\n",
       "      <th>days_since_prior_order</th>\n",
       "    </tr>\n",
       "  </thead>\n",
       "  <tbody>\n",
       "    <tr>\n",
       "      <th>0</th>\n",
       "      <td>2539329</td>\n",
       "      <td>1</td>\n",
       "      <td>1</td>\n",
       "      <td>2</td>\n",
       "      <td>8</td>\n",
       "      <td>NaN</td>\n",
       "    </tr>\n",
       "    <tr>\n",
       "      <th>1</th>\n",
       "      <td>2398795</td>\n",
       "      <td>1</td>\n",
       "      <td>2</td>\n",
       "      <td>3</td>\n",
       "      <td>7</td>\n",
       "      <td>15.0</td>\n",
       "    </tr>\n",
       "    <tr>\n",
       "      <th>2</th>\n",
       "      <td>473747</td>\n",
       "      <td>1</td>\n",
       "      <td>3</td>\n",
       "      <td>3</td>\n",
       "      <td>12</td>\n",
       "      <td>21.0</td>\n",
       "    </tr>\n",
       "    <tr>\n",
       "      <th>3</th>\n",
       "      <td>2254736</td>\n",
       "      <td>1</td>\n",
       "      <td>4</td>\n",
       "      <td>4</td>\n",
       "      <td>7</td>\n",
       "      <td>29.0</td>\n",
       "    </tr>\n",
       "    <tr>\n",
       "      <th>4</th>\n",
       "      <td>431534</td>\n",
       "      <td>1</td>\n",
       "      <td>5</td>\n",
       "      <td>4</td>\n",
       "      <td>15</td>\n",
       "      <td>28.0</td>\n",
       "    </tr>\n",
       "  </tbody>\n",
       "</table>\n",
       "</div>"
      ],
      "text/plain": [
       "   order_id  user_id  order_number  order_day_of_week  order_hour_of_day  \\\n",
       "0   2539329        1             1                  2                  8   \n",
       "1   2398795        1             2                  3                  7   \n",
       "2    473747        1             3                  3                 12   \n",
       "3   2254736        1             4                  4                  7   \n",
       "4    431534        1             5                  4                 15   \n",
       "\n",
       "   days_since_prior_order  \n",
       "0                     NaN  \n",
       "1                    15.0  \n",
       "2                    21.0  \n",
       "3                    29.0  \n",
       "4                    28.0  "
      ]
     },
     "execution_count": 8,
     "metadata": {},
     "output_type": "execute_result"
    }
   ],
   "source": [
    "# Check\n",
    "df_ords.head(5)"
   ]
  },
  {
   "cell_type": "code",
   "execution_count": 9,
   "id": "6dd0497b",
   "metadata": {
    "ExecuteTime": {
     "end_time": "2021-11-16T19:13:27.509606Z",
     "start_time": "2021-11-16T19:13:27.496607Z"
    },
    "scrolled": true
   },
   "outputs": [
    {
     "data": {
      "text/plain": [
       "(3421083, 6)"
      ]
     },
     "execution_count": 9,
     "metadata": {},
     "output_type": "execute_result"
    }
   ],
   "source": [
    "# Check\n",
    "df_ords.shape"
   ]
  },
  {
   "cell_type": "code",
   "execution_count": 10,
   "id": "aa8aed5e",
   "metadata": {
    "ExecuteTime": {
     "end_time": "2021-11-16T19:13:27.540607Z",
     "start_time": "2021-11-16T19:13:27.512609Z"
    },
    "scrolled": true
   },
   "outputs": [
    {
     "data": {
      "text/plain": [
       "order_id                    int64\n",
       "user_id                     int64\n",
       "order_number                int64\n",
       "order_day_of_week           int64\n",
       "order_hour_of_day           int64\n",
       "days_since_prior_order    float64\n",
       "dtype: object"
      ]
     },
     "execution_count": 10,
     "metadata": {},
     "output_type": "execute_result"
    }
   ],
   "source": [
    "# Check\n",
    "df_ords.dtypes"
   ]
  },
  {
   "cell_type": "code",
   "execution_count": 11,
   "id": "653dbb2a",
   "metadata": {
    "ExecuteTime": {
     "end_time": "2021-11-16T19:13:30.306512Z",
     "start_time": "2021-11-16T19:13:27.543612Z"
    }
   },
   "outputs": [],
   "source": [
    "# Change data type from numeric to string, e.g. to avoid being included when running describe()\n",
    "df_ords[\"order_id\"] = df_ords[\"order_id\"].astype(\"str\")"
   ]
  },
  {
   "cell_type": "code",
   "execution_count": 12,
   "id": "8a476423",
   "metadata": {
    "ExecuteTime": {
     "end_time": "2021-11-16T19:13:32.889497Z",
     "start_time": "2021-11-16T19:13:30.308515Z"
    }
   },
   "outputs": [],
   "source": [
    "# Change data type from numeric to string, e.g. to avoid being included when running describe()\n",
    "df_ords[\"user_id\"] = df_ords[\"user_id\"].astype(\"str\")"
   ]
  },
  {
   "cell_type": "code",
   "execution_count": 13,
   "id": "0a084078",
   "metadata": {
    "ExecuteTime": {
     "end_time": "2021-11-16T19:13:32.904861Z",
     "start_time": "2021-11-16T19:13:32.889497Z"
    }
   },
   "outputs": [
    {
     "data": {
      "text/plain": [
       "order_id                   object\n",
       "user_id                    object\n",
       "order_number                int64\n",
       "order_day_of_week           int64\n",
       "order_hour_of_day           int64\n",
       "days_since_prior_order    float64\n",
       "dtype: object"
      ]
     },
     "execution_count": 13,
     "metadata": {},
     "output_type": "execute_result"
    }
   ],
   "source": [
    "# Check\n",
    "df_ords.dtypes"
   ]
  },
  {
   "cell_type": "code",
   "execution_count": 14,
   "id": "c47834d8",
   "metadata": {
    "ExecuteTime": {
     "end_time": "2021-11-16T19:13:33.745424Z",
     "start_time": "2021-11-16T19:13:32.906861Z"
    },
    "scrolled": true
   },
   "outputs": [
    {
     "data": {
      "text/html": [
       "<div>\n",
       "<style scoped>\n",
       "    .dataframe tbody tr th:only-of-type {\n",
       "        vertical-align: middle;\n",
       "    }\n",
       "\n",
       "    .dataframe tbody tr th {\n",
       "        vertical-align: top;\n",
       "    }\n",
       "\n",
       "    .dataframe thead th {\n",
       "        text-align: right;\n",
       "    }\n",
       "</style>\n",
       "<table border=\"1\" class=\"dataframe\">\n",
       "  <thead>\n",
       "    <tr style=\"text-align: right;\">\n",
       "      <th></th>\n",
       "      <th>order_number</th>\n",
       "      <th>order_day_of_week</th>\n",
       "      <th>order_hour_of_day</th>\n",
       "      <th>days_since_prior_order</th>\n",
       "    </tr>\n",
       "  </thead>\n",
       "  <tbody>\n",
       "    <tr>\n",
       "      <th>count</th>\n",
       "      <td>3.421083e+06</td>\n",
       "      <td>3.421083e+06</td>\n",
       "      <td>3.421083e+06</td>\n",
       "      <td>3.214874e+06</td>\n",
       "    </tr>\n",
       "    <tr>\n",
       "      <th>mean</th>\n",
       "      <td>1.715486e+01</td>\n",
       "      <td>2.776219e+00</td>\n",
       "      <td>1.345202e+01</td>\n",
       "      <td>1.111484e+01</td>\n",
       "    </tr>\n",
       "    <tr>\n",
       "      <th>std</th>\n",
       "      <td>1.773316e+01</td>\n",
       "      <td>2.046829e+00</td>\n",
       "      <td>4.226088e+00</td>\n",
       "      <td>9.206737e+00</td>\n",
       "    </tr>\n",
       "    <tr>\n",
       "      <th>min</th>\n",
       "      <td>1.000000e+00</td>\n",
       "      <td>0.000000e+00</td>\n",
       "      <td>0.000000e+00</td>\n",
       "      <td>0.000000e+00</td>\n",
       "    </tr>\n",
       "    <tr>\n",
       "      <th>25%</th>\n",
       "      <td>5.000000e+00</td>\n",
       "      <td>1.000000e+00</td>\n",
       "      <td>1.000000e+01</td>\n",
       "      <td>4.000000e+00</td>\n",
       "    </tr>\n",
       "    <tr>\n",
       "      <th>50%</th>\n",
       "      <td>1.100000e+01</td>\n",
       "      <td>3.000000e+00</td>\n",
       "      <td>1.300000e+01</td>\n",
       "      <td>7.000000e+00</td>\n",
       "    </tr>\n",
       "    <tr>\n",
       "      <th>75%</th>\n",
       "      <td>2.300000e+01</td>\n",
       "      <td>5.000000e+00</td>\n",
       "      <td>1.600000e+01</td>\n",
       "      <td>1.500000e+01</td>\n",
       "    </tr>\n",
       "    <tr>\n",
       "      <th>max</th>\n",
       "      <td>1.000000e+02</td>\n",
       "      <td>6.000000e+00</td>\n",
       "      <td>2.300000e+01</td>\n",
       "      <td>3.000000e+01</td>\n",
       "    </tr>\n",
       "  </tbody>\n",
       "</table>\n",
       "</div>"
      ],
      "text/plain": [
       "       order_number  order_day_of_week  order_hour_of_day  \\\n",
       "count  3.421083e+06       3.421083e+06       3.421083e+06   \n",
       "mean   1.715486e+01       2.776219e+00       1.345202e+01   \n",
       "std    1.773316e+01       2.046829e+00       4.226088e+00   \n",
       "min    1.000000e+00       0.000000e+00       0.000000e+00   \n",
       "25%    5.000000e+00       1.000000e+00       1.000000e+01   \n",
       "50%    1.100000e+01       3.000000e+00       1.300000e+01   \n",
       "75%    2.300000e+01       5.000000e+00       1.600000e+01   \n",
       "max    1.000000e+02       6.000000e+00       2.300000e+01   \n",
       "\n",
       "       days_since_prior_order  \n",
       "count            3.214874e+06  \n",
       "mean             1.111484e+01  \n",
       "std              9.206737e+00  \n",
       "min              0.000000e+00  \n",
       "25%              4.000000e+00  \n",
       "50%              7.000000e+00  \n",
       "75%              1.500000e+01  \n",
       "max              3.000000e+01  "
      ]
     },
     "execution_count": 14,
     "metadata": {},
     "output_type": "execute_result"
    }
   ],
   "source": [
    "# Check\n",
    "df_ords.describe()"
   ]
  },
  {
   "cell_type": "markdown",
   "id": "f9155bb9",
   "metadata": {},
   "source": [
    "## df_prods"
   ]
  },
  {
   "cell_type": "code",
   "execution_count": 15,
   "id": "6aa09a50",
   "metadata": {
    "ExecuteTime": {
     "end_time": "2021-11-16T19:13:33.776582Z",
     "start_time": "2021-11-16T19:13:33.748588Z"
    }
   },
   "outputs": [
    {
     "data": {
      "text/html": [
       "<div>\n",
       "<style scoped>\n",
       "    .dataframe tbody tr th:only-of-type {\n",
       "        vertical-align: middle;\n",
       "    }\n",
       "\n",
       "    .dataframe tbody tr th {\n",
       "        vertical-align: top;\n",
       "    }\n",
       "\n",
       "    .dataframe thead th {\n",
       "        text-align: right;\n",
       "    }\n",
       "</style>\n",
       "<table border=\"1\" class=\"dataframe\">\n",
       "  <thead>\n",
       "    <tr style=\"text-align: right;\">\n",
       "      <th></th>\n",
       "      <th>Unnamed: 0</th>\n",
       "      <th>product_id</th>\n",
       "      <th>product_name</th>\n",
       "      <th>aisle_id</th>\n",
       "      <th>department_id</th>\n",
       "      <th>prices</th>\n",
       "    </tr>\n",
       "  </thead>\n",
       "  <tbody>\n",
       "    <tr>\n",
       "      <th>0</th>\n",
       "      <td>0</td>\n",
       "      <td>1</td>\n",
       "      <td>Chocolate Sandwich Cookies</td>\n",
       "      <td>61</td>\n",
       "      <td>19</td>\n",
       "      <td>5.8</td>\n",
       "    </tr>\n",
       "    <tr>\n",
       "      <th>1</th>\n",
       "      <td>1</td>\n",
       "      <td>2</td>\n",
       "      <td>All-Seasons Salt</td>\n",
       "      <td>104</td>\n",
       "      <td>13</td>\n",
       "      <td>9.3</td>\n",
       "    </tr>\n",
       "    <tr>\n",
       "      <th>2</th>\n",
       "      <td>2</td>\n",
       "      <td>3</td>\n",
       "      <td>Robust Golden Unsweetened Oolong Tea</td>\n",
       "      <td>94</td>\n",
       "      <td>7</td>\n",
       "      <td>4.5</td>\n",
       "    </tr>\n",
       "    <tr>\n",
       "      <th>3</th>\n",
       "      <td>3</td>\n",
       "      <td>4</td>\n",
       "      <td>Smart Ones Classic Favorites Mini Rigatoni Wit...</td>\n",
       "      <td>38</td>\n",
       "      <td>1</td>\n",
       "      <td>10.5</td>\n",
       "    </tr>\n",
       "    <tr>\n",
       "      <th>4</th>\n",
       "      <td>4</td>\n",
       "      <td>5</td>\n",
       "      <td>Green Chile Anytime Sauce</td>\n",
       "      <td>5</td>\n",
       "      <td>13</td>\n",
       "      <td>4.3</td>\n",
       "    </tr>\n",
       "  </tbody>\n",
       "</table>\n",
       "</div>"
      ],
      "text/plain": [
       "   Unnamed: 0  product_id                                       product_name  \\\n",
       "0           0           1                         Chocolate Sandwich Cookies   \n",
       "1           1           2                                   All-Seasons Salt   \n",
       "2           2           3               Robust Golden Unsweetened Oolong Tea   \n",
       "3           3           4  Smart Ones Classic Favorites Mini Rigatoni Wit...   \n",
       "4           4           5                          Green Chile Anytime Sauce   \n",
       "\n",
       "   aisle_id  department_id  prices  \n",
       "0        61             19     5.8  \n",
       "1       104             13     9.3  \n",
       "2        94              7     4.5  \n",
       "3        38              1    10.5  \n",
       "4         5             13     4.3  "
      ]
     },
     "execution_count": 15,
     "metadata": {},
     "output_type": "execute_result"
    }
   ],
   "source": [
    "# Check\n",
    "df_prods.head()"
   ]
  },
  {
   "cell_type": "code",
   "execution_count": 16,
   "id": "28addb84",
   "metadata": {
    "ExecuteTime": {
     "end_time": "2021-11-16T19:13:33.807644Z",
     "start_time": "2021-11-16T19:13:33.778584Z"
    }
   },
   "outputs": [],
   "source": [
    "# Delete the extra index colum\n",
    "df_prods = df_prods.drop(columns = [\"Unnamed: 0\"])"
   ]
  },
  {
   "cell_type": "code",
   "execution_count": 17,
   "id": "d82d0183",
   "metadata": {
    "ExecuteTime": {
     "end_time": "2021-11-16T19:13:33.823643Z",
     "start_time": "2021-11-16T19:13:33.809643Z"
    }
   },
   "outputs": [
    {
     "data": {
      "text/html": [
       "<div>\n",
       "<style scoped>\n",
       "    .dataframe tbody tr th:only-of-type {\n",
       "        vertical-align: middle;\n",
       "    }\n",
       "\n",
       "    .dataframe tbody tr th {\n",
       "        vertical-align: top;\n",
       "    }\n",
       "\n",
       "    .dataframe thead th {\n",
       "        text-align: right;\n",
       "    }\n",
       "</style>\n",
       "<table border=\"1\" class=\"dataframe\">\n",
       "  <thead>\n",
       "    <tr style=\"text-align: right;\">\n",
       "      <th></th>\n",
       "      <th>product_id</th>\n",
       "      <th>product_name</th>\n",
       "      <th>aisle_id</th>\n",
       "      <th>department_id</th>\n",
       "      <th>prices</th>\n",
       "    </tr>\n",
       "  </thead>\n",
       "  <tbody>\n",
       "    <tr>\n",
       "      <th>0</th>\n",
       "      <td>1</td>\n",
       "      <td>Chocolate Sandwich Cookies</td>\n",
       "      <td>61</td>\n",
       "      <td>19</td>\n",
       "      <td>5.8</td>\n",
       "    </tr>\n",
       "    <tr>\n",
       "      <th>1</th>\n",
       "      <td>2</td>\n",
       "      <td>All-Seasons Salt</td>\n",
       "      <td>104</td>\n",
       "      <td>13</td>\n",
       "      <td>9.3</td>\n",
       "    </tr>\n",
       "    <tr>\n",
       "      <th>2</th>\n",
       "      <td>3</td>\n",
       "      <td>Robust Golden Unsweetened Oolong Tea</td>\n",
       "      <td>94</td>\n",
       "      <td>7</td>\n",
       "      <td>4.5</td>\n",
       "    </tr>\n",
       "    <tr>\n",
       "      <th>3</th>\n",
       "      <td>4</td>\n",
       "      <td>Smart Ones Classic Favorites Mini Rigatoni Wit...</td>\n",
       "      <td>38</td>\n",
       "      <td>1</td>\n",
       "      <td>10.5</td>\n",
       "    </tr>\n",
       "    <tr>\n",
       "      <th>4</th>\n",
       "      <td>5</td>\n",
       "      <td>Green Chile Anytime Sauce</td>\n",
       "      <td>5</td>\n",
       "      <td>13</td>\n",
       "      <td>4.3</td>\n",
       "    </tr>\n",
       "  </tbody>\n",
       "</table>\n",
       "</div>"
      ],
      "text/plain": [
       "   product_id                                       product_name  aisle_id  \\\n",
       "0           1                         Chocolate Sandwich Cookies        61   \n",
       "1           2                                   All-Seasons Salt       104   \n",
       "2           3               Robust Golden Unsweetened Oolong Tea        94   \n",
       "3           4  Smart Ones Classic Favorites Mini Rigatoni Wit...        38   \n",
       "4           5                          Green Chile Anytime Sauce         5   \n",
       "\n",
       "   department_id  prices  \n",
       "0             19     5.8  \n",
       "1             13     9.3  \n",
       "2              7     4.5  \n",
       "3              1    10.5  \n",
       "4             13     4.3  "
      ]
     },
     "execution_count": 17,
     "metadata": {},
     "output_type": "execute_result"
    }
   ],
   "source": [
    "# Check\n",
    "df_prods.head()"
   ]
  },
  {
   "cell_type": "code",
   "execution_count": 18,
   "id": "8a553a05",
   "metadata": {
    "ExecuteTime": {
     "end_time": "2021-11-16T19:13:33.839646Z",
     "start_time": "2021-11-16T19:13:33.829645Z"
    }
   },
   "outputs": [
    {
     "data": {
      "text/plain": [
       "(49672, 5)"
      ]
     },
     "execution_count": 18,
     "metadata": {},
     "output_type": "execute_result"
    }
   ],
   "source": [
    "# Check\n",
    "df_prods.shape"
   ]
  },
  {
   "cell_type": "code",
   "execution_count": 19,
   "id": "ba47ea52",
   "metadata": {
    "ExecuteTime": {
     "end_time": "2021-11-16T19:13:33.855647Z",
     "start_time": "2021-11-16T19:13:33.842647Z"
    }
   },
   "outputs": [
    {
     "data": {
      "text/plain": [
       "product_id         int64\n",
       "product_name      object\n",
       "aisle_id           int64\n",
       "department_id      int64\n",
       "prices           float64\n",
       "dtype: object"
      ]
     },
     "execution_count": 19,
     "metadata": {},
     "output_type": "execute_result"
    }
   ],
   "source": [
    "# Check\n",
    "df_prods.dtypes"
   ]
  },
  {
   "cell_type": "code",
   "execution_count": 20,
   "id": "8d160abd",
   "metadata": {
    "ExecuteTime": {
     "end_time": "2021-11-16T19:13:33.919668Z",
     "start_time": "2021-11-16T19:13:33.857647Z"
    }
   },
   "outputs": [],
   "source": [
    "# Change data type from numeric to string, e.g. to avoid being included when running describe()\n",
    "df_prods[\"product_id\"] = df_prods[\"product_id\"].astype(\"str\")"
   ]
  },
  {
   "cell_type": "code",
   "execution_count": 21,
   "id": "00a90965",
   "metadata": {
    "ExecuteTime": {
     "end_time": "2021-11-16T19:13:33.935667Z",
     "start_time": "2021-11-16T19:13:33.921667Z"
    }
   },
   "outputs": [
    {
     "data": {
      "text/plain": [
       "product_id        object\n",
       "product_name      object\n",
       "aisle_id           int64\n",
       "department_id      int64\n",
       "prices           float64\n",
       "dtype: object"
      ]
     },
     "execution_count": 21,
     "metadata": {},
     "output_type": "execute_result"
    }
   ],
   "source": [
    "# Check\n",
    "df_prods.dtypes"
   ]
  },
  {
   "cell_type": "code",
   "execution_count": 22,
   "id": "9d5f3980",
   "metadata": {
    "ExecuteTime": {
     "end_time": "2021-11-16T19:13:33.983670Z",
     "start_time": "2021-11-16T19:13:33.937668Z"
    }
   },
   "outputs": [
    {
     "data": {
      "text/html": [
       "<div>\n",
       "<style scoped>\n",
       "    .dataframe tbody tr th:only-of-type {\n",
       "        vertical-align: middle;\n",
       "    }\n",
       "\n",
       "    .dataframe tbody tr th {\n",
       "        vertical-align: top;\n",
       "    }\n",
       "\n",
       "    .dataframe thead th {\n",
       "        text-align: right;\n",
       "    }\n",
       "</style>\n",
       "<table border=\"1\" class=\"dataframe\">\n",
       "  <thead>\n",
       "    <tr style=\"text-align: right;\">\n",
       "      <th></th>\n",
       "      <th>aisle_id</th>\n",
       "      <th>department_id</th>\n",
       "      <th>prices</th>\n",
       "    </tr>\n",
       "  </thead>\n",
       "  <tbody>\n",
       "    <tr>\n",
       "      <th>count</th>\n",
       "      <td>49672.000000</td>\n",
       "      <td>49672.000000</td>\n",
       "      <td>49672.000000</td>\n",
       "    </tr>\n",
       "    <tr>\n",
       "      <th>mean</th>\n",
       "      <td>67.762442</td>\n",
       "      <td>11.728942</td>\n",
       "      <td>9.993282</td>\n",
       "    </tr>\n",
       "    <tr>\n",
       "      <th>std</th>\n",
       "      <td>38.315784</td>\n",
       "      <td>5.850779</td>\n",
       "      <td>453.615536</td>\n",
       "    </tr>\n",
       "    <tr>\n",
       "      <th>min</th>\n",
       "      <td>1.000000</td>\n",
       "      <td>1.000000</td>\n",
       "      <td>1.000000</td>\n",
       "    </tr>\n",
       "    <tr>\n",
       "      <th>25%</th>\n",
       "      <td>35.000000</td>\n",
       "      <td>7.000000</td>\n",
       "      <td>4.100000</td>\n",
       "    </tr>\n",
       "    <tr>\n",
       "      <th>50%</th>\n",
       "      <td>69.000000</td>\n",
       "      <td>13.000000</td>\n",
       "      <td>7.100000</td>\n",
       "    </tr>\n",
       "    <tr>\n",
       "      <th>75%</th>\n",
       "      <td>100.000000</td>\n",
       "      <td>17.000000</td>\n",
       "      <td>11.100000</td>\n",
       "    </tr>\n",
       "    <tr>\n",
       "      <th>max</th>\n",
       "      <td>134.000000</td>\n",
       "      <td>21.000000</td>\n",
       "      <td>99999.000000</td>\n",
       "    </tr>\n",
       "  </tbody>\n",
       "</table>\n",
       "</div>"
      ],
      "text/plain": [
       "           aisle_id  department_id        prices\n",
       "count  49672.000000   49672.000000  49672.000000\n",
       "mean      67.762442      11.728942      9.993282\n",
       "std       38.315784       5.850779    453.615536\n",
       "min        1.000000       1.000000      1.000000\n",
       "25%       35.000000       7.000000      4.100000\n",
       "50%       69.000000      13.000000      7.100000\n",
       "75%      100.000000      17.000000     11.100000\n",
       "max      134.000000      21.000000  99999.000000"
      ]
     },
     "execution_count": 22,
     "metadata": {},
     "output_type": "execute_result"
    }
   ],
   "source": [
    "# Check\n",
    "df_prods.describe()"
   ]
  },
  {
   "cell_type": "markdown",
   "id": "f477e99a",
   "metadata": {},
   "source": [
    "## df_ords_prior"
   ]
  },
  {
   "cell_type": "code",
   "execution_count": 23,
   "id": "079838fc",
   "metadata": {
    "ExecuteTime": {
     "end_time": "2021-11-16T19:13:33.999675Z",
     "start_time": "2021-11-16T19:13:33.985674Z"
    },
    "scrolled": false
   },
   "outputs": [
    {
     "data": {
      "text/html": [
       "<div>\n",
       "<style scoped>\n",
       "    .dataframe tbody tr th:only-of-type {\n",
       "        vertical-align: middle;\n",
       "    }\n",
       "\n",
       "    .dataframe tbody tr th {\n",
       "        vertical-align: top;\n",
       "    }\n",
       "\n",
       "    .dataframe thead th {\n",
       "        text-align: right;\n",
       "    }\n",
       "</style>\n",
       "<table border=\"1\" class=\"dataframe\">\n",
       "  <thead>\n",
       "    <tr style=\"text-align: right;\">\n",
       "      <th></th>\n",
       "      <th>order_id</th>\n",
       "      <th>product_id</th>\n",
       "      <th>add_to_cart_order</th>\n",
       "      <th>reordered</th>\n",
       "    </tr>\n",
       "  </thead>\n",
       "  <tbody>\n",
       "    <tr>\n",
       "      <th>0</th>\n",
       "      <td>2</td>\n",
       "      <td>33120</td>\n",
       "      <td>1</td>\n",
       "      <td>1</td>\n",
       "    </tr>\n",
       "    <tr>\n",
       "      <th>1</th>\n",
       "      <td>2</td>\n",
       "      <td>28985</td>\n",
       "      <td>2</td>\n",
       "      <td>1</td>\n",
       "    </tr>\n",
       "    <tr>\n",
       "      <th>2</th>\n",
       "      <td>2</td>\n",
       "      <td>9327</td>\n",
       "      <td>3</td>\n",
       "      <td>0</td>\n",
       "    </tr>\n",
       "    <tr>\n",
       "      <th>3</th>\n",
       "      <td>2</td>\n",
       "      <td>45918</td>\n",
       "      <td>4</td>\n",
       "      <td>1</td>\n",
       "    </tr>\n",
       "    <tr>\n",
       "      <th>4</th>\n",
       "      <td>2</td>\n",
       "      <td>30035</td>\n",
       "      <td>5</td>\n",
       "      <td>0</td>\n",
       "    </tr>\n",
       "  </tbody>\n",
       "</table>\n",
       "</div>"
      ],
      "text/plain": [
       "   order_id  product_id  add_to_cart_order  reordered\n",
       "0         2       33120                  1          1\n",
       "1         2       28985                  2          1\n",
       "2         2        9327                  3          0\n",
       "3         2       45918                  4          1\n",
       "4         2       30035                  5          0"
      ]
     },
     "execution_count": 23,
     "metadata": {},
     "output_type": "execute_result"
    }
   ],
   "source": [
    "# Check\n",
    "df_ords_prior.head()"
   ]
  },
  {
   "cell_type": "code",
   "execution_count": 24,
   "id": "bddd2c09",
   "metadata": {
    "ExecuteTime": {
     "end_time": "2021-11-16T19:13:34.015680Z",
     "start_time": "2021-11-16T19:13:34.003675Z"
    },
    "scrolled": true
   },
   "outputs": [
    {
     "data": {
      "text/plain": [
       "(32434489, 4)"
      ]
     },
     "execution_count": 24,
     "metadata": {},
     "output_type": "execute_result"
    }
   ],
   "source": [
    "# Check\n",
    "df_ords_prior.shape"
   ]
  },
  {
   "cell_type": "code",
   "execution_count": 25,
   "id": "26996847",
   "metadata": {
    "ExecuteTime": {
     "end_time": "2021-11-16T19:13:34.031676Z",
     "start_time": "2021-11-16T19:13:34.018676Z"
    }
   },
   "outputs": [
    {
     "data": {
      "text/plain": [
       "order_id             int64\n",
       "product_id           int64\n",
       "add_to_cart_order    int64\n",
       "reordered            int64\n",
       "dtype: object"
      ]
     },
     "execution_count": 25,
     "metadata": {},
     "output_type": "execute_result"
    }
   ],
   "source": [
    "# Check\n",
    "df_ords_prior.dtypes"
   ]
  },
  {
   "cell_type": "code",
   "execution_count": 26,
   "id": "4f866617",
   "metadata": {
    "ExecuteTime": {
     "end_time": "2021-11-16T19:14:17.325887Z",
     "start_time": "2021-11-16T19:13:34.034675Z"
    }
   },
   "outputs": [],
   "source": [
    "# Change data type from numeric to string, e.g. to avoid being included when running describe()\n",
    "df_ords_prior[\"order_id\"] = df_ords_prior[\"order_id\"].astype(\"str\")"
   ]
  },
  {
   "cell_type": "code",
   "execution_count": 27,
   "id": "6dbe54e7",
   "metadata": {
    "ExecuteTime": {
     "end_time": "2021-11-16T19:14:47.496972Z",
     "start_time": "2021-11-16T19:14:17.325887Z"
    }
   },
   "outputs": [],
   "source": [
    "# Change data type from numeric to string, e.g. to avoid being included when running describe()\n",
    "df_ords_prior[\"product_id\"] = df_ords_prior[\"product_id\"].astype(\"str\")"
   ]
  },
  {
   "cell_type": "code",
   "execution_count": 28,
   "id": "7cb61ad1",
   "metadata": {
    "ExecuteTime": {
     "end_time": "2021-11-16T19:14:47.585912Z",
     "start_time": "2021-11-16T19:14:47.507681Z"
    }
   },
   "outputs": [
    {
     "data": {
      "text/plain": [
       "order_id             object\n",
       "product_id           object\n",
       "add_to_cart_order     int64\n",
       "reordered             int64\n",
       "dtype: object"
      ]
     },
     "execution_count": 28,
     "metadata": {},
     "output_type": "execute_result"
    }
   ],
   "source": [
    "# Check\n",
    "df_ords_prior.dtypes"
   ]
  },
  {
   "cell_type": "code",
   "execution_count": 29,
   "id": "4eef82db",
   "metadata": {
    "ExecuteTime": {
     "end_time": "2021-11-16T19:15:44.299844Z",
     "start_time": "2021-11-16T19:14:47.588913Z"
    },
    "scrolled": true
   },
   "outputs": [
    {
     "data": {
      "text/html": [
       "<div>\n",
       "<style scoped>\n",
       "    .dataframe tbody tr th:only-of-type {\n",
       "        vertical-align: middle;\n",
       "    }\n",
       "\n",
       "    .dataframe tbody tr th {\n",
       "        vertical-align: top;\n",
       "    }\n",
       "\n",
       "    .dataframe thead th {\n",
       "        text-align: right;\n",
       "    }\n",
       "</style>\n",
       "<table border=\"1\" class=\"dataframe\">\n",
       "  <thead>\n",
       "    <tr style=\"text-align: right;\">\n",
       "      <th></th>\n",
       "      <th>add_to_cart_order</th>\n",
       "      <th>reordered</th>\n",
       "    </tr>\n",
       "  </thead>\n",
       "  <tbody>\n",
       "    <tr>\n",
       "      <th>count</th>\n",
       "      <td>3.243449e+07</td>\n",
       "      <td>3.243449e+07</td>\n",
       "    </tr>\n",
       "    <tr>\n",
       "      <th>mean</th>\n",
       "      <td>8.351076e+00</td>\n",
       "      <td>5.896975e-01</td>\n",
       "    </tr>\n",
       "    <tr>\n",
       "      <th>std</th>\n",
       "      <td>7.126671e+00</td>\n",
       "      <td>4.918886e-01</td>\n",
       "    </tr>\n",
       "    <tr>\n",
       "      <th>min</th>\n",
       "      <td>1.000000e+00</td>\n",
       "      <td>0.000000e+00</td>\n",
       "    </tr>\n",
       "    <tr>\n",
       "      <th>25%</th>\n",
       "      <td>3.000000e+00</td>\n",
       "      <td>0.000000e+00</td>\n",
       "    </tr>\n",
       "    <tr>\n",
       "      <th>50%</th>\n",
       "      <td>6.000000e+00</td>\n",
       "      <td>1.000000e+00</td>\n",
       "    </tr>\n",
       "    <tr>\n",
       "      <th>75%</th>\n",
       "      <td>1.100000e+01</td>\n",
       "      <td>1.000000e+00</td>\n",
       "    </tr>\n",
       "    <tr>\n",
       "      <th>max</th>\n",
       "      <td>1.450000e+02</td>\n",
       "      <td>1.000000e+00</td>\n",
       "    </tr>\n",
       "  </tbody>\n",
       "</table>\n",
       "</div>"
      ],
      "text/plain": [
       "       add_to_cart_order     reordered\n",
       "count       3.243449e+07  3.243449e+07\n",
       "mean        8.351076e+00  5.896975e-01\n",
       "std         7.126671e+00  4.918886e-01\n",
       "min         1.000000e+00  0.000000e+00\n",
       "25%         3.000000e+00  0.000000e+00\n",
       "50%         6.000000e+00  1.000000e+00\n",
       "75%         1.100000e+01  1.000000e+00\n",
       "max         1.450000e+02  1.000000e+00"
      ]
     },
     "execution_count": 29,
     "metadata": {},
     "output_type": "execute_result"
    }
   ],
   "source": [
    "# Check\n",
    "df_ords_prior.describe()"
   ]
  },
  {
   "cell_type": "markdown",
   "id": "95dc708c",
   "metadata": {},
   "source": [
    "# Merge dataframes"
   ]
  },
  {
   "cell_type": "code",
   "execution_count": 30,
   "id": "4c0c2616",
   "metadata": {
    "ExecuteTime": {
     "end_time": "2021-11-16T19:15:44.362342Z",
     "start_time": "2021-11-16T19:15:44.315468Z"
    }
   },
   "outputs": [],
   "source": [
    "# Create subset with 10 mln rows of the original \"df_ords_prior\" due to lack of computing power\n",
    "df_ords_prior_small = df_ords_prior.iloc[0:10000000]"
   ]
  },
  {
   "cell_type": "code",
   "execution_count": 31,
   "id": "40a9cf71",
   "metadata": {
    "ExecuteTime": {
     "end_time": "2021-11-16T19:16:06.333807Z",
     "start_time": "2021-11-16T19:15:44.362342Z"
    },
    "scrolled": true
   },
   "outputs": [],
   "source": [
    "# Merge \"df_ords\" with \"df_ords_prior\", inner join (default)\n",
    "df_ords_merged = df_ords.merge(df_ords_prior_small, on = 'order_id', indicator = True)"
   ]
  },
  {
   "cell_type": "code",
   "execution_count": 32,
   "id": "e89d16a1",
   "metadata": {
    "ExecuteTime": {
     "end_time": "2021-11-16T19:16:06.396092Z",
     "start_time": "2021-11-16T19:16:06.333807Z"
    }
   },
   "outputs": [
    {
     "data": {
      "text/html": [
       "<div>\n",
       "<style scoped>\n",
       "    .dataframe tbody tr th:only-of-type {\n",
       "        vertical-align: middle;\n",
       "    }\n",
       "\n",
       "    .dataframe tbody tr th {\n",
       "        vertical-align: top;\n",
       "    }\n",
       "\n",
       "    .dataframe thead th {\n",
       "        text-align: right;\n",
       "    }\n",
       "</style>\n",
       "<table border=\"1\" class=\"dataframe\">\n",
       "  <thead>\n",
       "    <tr style=\"text-align: right;\">\n",
       "      <th></th>\n",
       "      <th>order_id</th>\n",
       "      <th>user_id</th>\n",
       "      <th>order_number</th>\n",
       "      <th>order_day_of_week</th>\n",
       "      <th>order_hour_of_day</th>\n",
       "      <th>days_since_prior_order</th>\n",
       "      <th>product_id</th>\n",
       "      <th>add_to_cart_order</th>\n",
       "      <th>reordered</th>\n",
       "      <th>_merge</th>\n",
       "    </tr>\n",
       "  </thead>\n",
       "  <tbody>\n",
       "    <tr>\n",
       "      <th>0</th>\n",
       "      <td>473747</td>\n",
       "      <td>1</td>\n",
       "      <td>3</td>\n",
       "      <td>3</td>\n",
       "      <td>12</td>\n",
       "      <td>21.0</td>\n",
       "      <td>196</td>\n",
       "      <td>1</td>\n",
       "      <td>1</td>\n",
       "      <td>both</td>\n",
       "    </tr>\n",
       "    <tr>\n",
       "      <th>1</th>\n",
       "      <td>473747</td>\n",
       "      <td>1</td>\n",
       "      <td>3</td>\n",
       "      <td>3</td>\n",
       "      <td>12</td>\n",
       "      <td>21.0</td>\n",
       "      <td>12427</td>\n",
       "      <td>2</td>\n",
       "      <td>1</td>\n",
       "      <td>both</td>\n",
       "    </tr>\n",
       "    <tr>\n",
       "      <th>2</th>\n",
       "      <td>473747</td>\n",
       "      <td>1</td>\n",
       "      <td>3</td>\n",
       "      <td>3</td>\n",
       "      <td>12</td>\n",
       "      <td>21.0</td>\n",
       "      <td>10258</td>\n",
       "      <td>3</td>\n",
       "      <td>1</td>\n",
       "      <td>both</td>\n",
       "    </tr>\n",
       "    <tr>\n",
       "      <th>3</th>\n",
       "      <td>473747</td>\n",
       "      <td>1</td>\n",
       "      <td>3</td>\n",
       "      <td>3</td>\n",
       "      <td>12</td>\n",
       "      <td>21.0</td>\n",
       "      <td>25133</td>\n",
       "      <td>4</td>\n",
       "      <td>0</td>\n",
       "      <td>both</td>\n",
       "    </tr>\n",
       "    <tr>\n",
       "      <th>4</th>\n",
       "      <td>473747</td>\n",
       "      <td>1</td>\n",
       "      <td>3</td>\n",
       "      <td>3</td>\n",
       "      <td>12</td>\n",
       "      <td>21.0</td>\n",
       "      <td>30450</td>\n",
       "      <td>5</td>\n",
       "      <td>0</td>\n",
       "      <td>both</td>\n",
       "    </tr>\n",
       "  </tbody>\n",
       "</table>\n",
       "</div>"
      ],
      "text/plain": [
       "  order_id user_id  order_number  order_day_of_week  order_hour_of_day  \\\n",
       "0   473747       1             3                  3                 12   \n",
       "1   473747       1             3                  3                 12   \n",
       "2   473747       1             3                  3                 12   \n",
       "3   473747       1             3                  3                 12   \n",
       "4   473747       1             3                  3                 12   \n",
       "\n",
       "   days_since_prior_order product_id  add_to_cart_order  reordered _merge  \n",
       "0                    21.0        196                  1          1   both  \n",
       "1                    21.0      12427                  2          1   both  \n",
       "2                    21.0      10258                  3          1   both  \n",
       "3                    21.0      25133                  4          0   both  \n",
       "4                    21.0      30450                  5          0   both  "
      ]
     },
     "execution_count": 32,
     "metadata": {},
     "output_type": "execute_result"
    }
   ],
   "source": [
    "# Check\n",
    "df_ords_merged.head()"
   ]
  },
  {
   "cell_type": "code",
   "execution_count": 33,
   "id": "c7d639da",
   "metadata": {
    "ExecuteTime": {
     "end_time": "2021-11-16T19:16:06.426094Z",
     "start_time": "2021-11-16T19:16:06.398092Z"
    }
   },
   "outputs": [
    {
     "data": {
      "text/plain": [
       "(10000000, 10)"
      ]
     },
     "execution_count": 33,
     "metadata": {},
     "output_type": "execute_result"
    }
   ],
   "source": [
    "df_ords_merged.shape"
   ]
  },
  {
   "cell_type": "markdown",
   "id": "bde3dc92",
   "metadata": {},
   "source": [
    "# Export data to .csv"
   ]
  },
  {
   "cell_type": "code",
   "execution_count": 34,
   "id": "74760926",
   "metadata": {
    "ExecuteTime": {
     "end_time": "2021-11-16T19:16:17.195087Z",
     "start_time": "2021-11-16T19:16:06.429095Z"
    }
   },
   "outputs": [],
   "source": [
    "df_ords.to_csv(os.path.join(path, '02 Data','Prepared Data', '4.6 orders_checked.csv'))"
   ]
  },
  {
   "cell_type": "code",
   "execution_count": 35,
   "id": "f435611c",
   "metadata": {
    "ExecuteTime": {
     "end_time": "2021-11-16T19:16:17.444663Z",
     "start_time": "2021-11-16T19:16:17.195087Z"
    }
   },
   "outputs": [],
   "source": [
    "df_prods.to_csv(os.path.join(path, '02 Data','Prepared Data', '4.6 products_checked.csv'))"
   ]
  },
  {
   "cell_type": "code",
   "execution_count": 36,
   "id": "9baa86b8",
   "metadata": {
    "ExecuteTime": {
     "end_time": "2021-11-16T19:17:46.153270Z",
     "start_time": "2021-11-16T19:16:17.448657Z"
    }
   },
   "outputs": [],
   "source": [
    "df_ords_prior.to_csv(os.path.join(path, '02 Data','Prepared Data', '4.6 orders_prior_checked.csv'))"
   ]
  },
  {
   "cell_type": "markdown",
   "id": "e0cbae26",
   "metadata": {},
   "source": [
    "# Export data to .pkl"
   ]
  },
  {
   "cell_type": "code",
   "execution_count": 38,
   "id": "95a2f7a8",
   "metadata": {
    "ExecuteTime": {
     "end_time": "2021-11-16T19:18:43.086249Z",
     "start_time": "2021-11-16T19:18:34.591368Z"
    }
   },
   "outputs": [],
   "source": [
    "df_ords_merged.to_pickle(os.path.join(path, '02 Data','Prepared Data', '4.6 orders_combined.pkl'))"
   ]
  },
  {
   "cell_type": "code",
   "execution_count": null,
   "id": "e46faa64",
   "metadata": {},
   "outputs": [],
   "source": []
  }
 ],
 "metadata": {
  "kernelspec": {
   "display_name": "Python 3",
   "language": "python",
   "name": "python3"
  },
  "language_info": {
   "codemirror_mode": {
    "name": "ipython",
    "version": 3
   },
   "file_extension": ".py",
   "mimetype": "text/x-python",
   "name": "python",
   "nbconvert_exporter": "python",
   "pygments_lexer": "ipython3",
   "version": "3.8.8"
  }
 },
 "nbformat": 4,
 "nbformat_minor": 5
}
