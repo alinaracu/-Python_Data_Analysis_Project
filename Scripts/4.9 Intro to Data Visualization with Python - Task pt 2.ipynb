{
 "cells": [
  {
   "cell_type": "markdown",
   "id": "24819992",
   "metadata": {},
   "source": [
    "# Import data"
   ]
  },
  {
   "cell_type": "code",
   "execution_count": 1,
   "id": "45c7ab25",
   "metadata": {
    "ExecuteTime": {
     "end_time": "2021-11-21T20:34:28.350190Z",
     "start_time": "2021-11-21T20:34:25.889458Z"
    }
   },
   "outputs": [],
   "source": [
    "# Import libraries\n",
    "\n",
    "import pandas as pd\n",
    "import numpy as np\n",
    "import os\n",
    "import matplotlib.pyplot as plt\n",
    "import seaborn as sns\n",
    "import scipy"
   ]
  },
  {
   "cell_type": "code",
   "execution_count": 2,
   "id": "fdd08e0c",
   "metadata": {
    "ExecuteTime": {
     "end_time": "2021-11-21T20:34:28.366193Z",
     "start_time": "2021-11-21T20:34:28.352191Z"
    }
   },
   "outputs": [],
   "source": [
    "# Assign path string to variable\n",
    "path = r'D:\\Docs\\Career Foundry\\II. Data Immersion\\4. Python Fundamentals for Data Analysts\\Instacart Basket Analysis - Alina Racu'"
   ]
  },
  {
   "cell_type": "code",
   "execution_count": 3,
   "id": "e20bf9b7",
   "metadata": {
    "ExecuteTime": {
     "end_time": "2021-11-21T20:35:00.155026Z",
     "start_time": "2021-11-21T20:34:28.369195Z"
    }
   },
   "outputs": [],
   "source": [
    "# Import file\n",
    "df_ords_prods_cust_merged = pd.read_pickle(os.path.join(path, '02 Data', 'Prepared Data', '4.9 ords_prods_cust_merged.pkl'))"
   ]
  },
  {
   "cell_type": "code",
   "execution_count": 4,
   "id": "5c6e9e4d",
   "metadata": {
    "ExecuteTime": {
     "end_time": "2021-11-21T20:35:00.301700Z",
     "start_time": "2021-11-21T20:35:00.155026Z"
    }
   },
   "outputs": [
    {
     "data": {
      "text/html": [
       "<div>\n",
       "<style scoped>\n",
       "    .dataframe tbody tr th:only-of-type {\n",
       "        vertical-align: middle;\n",
       "    }\n",
       "\n",
       "    .dataframe tbody tr th {\n",
       "        vertical-align: top;\n",
       "    }\n",
       "\n",
       "    .dataframe thead th {\n",
       "        text-align: right;\n",
       "    }\n",
       "</style>\n",
       "<table border=\"1\" class=\"dataframe\">\n",
       "  <thead>\n",
       "    <tr style=\"text-align: right;\">\n",
       "      <th></th>\n",
       "      <th>order_id</th>\n",
       "      <th>user_id</th>\n",
       "      <th>order_number</th>\n",
       "      <th>order_day_of_week</th>\n",
       "      <th>order_hour_of_day</th>\n",
       "      <th>days_since_prior_order</th>\n",
       "      <th>product_id</th>\n",
       "      <th>add_to_cart_order</th>\n",
       "      <th>reordered</th>\n",
       "      <th>product_name</th>\n",
       "      <th>...</th>\n",
       "      <th>median_prior_order</th>\n",
       "      <th>order_frequency_flag</th>\n",
       "      <th>gender</th>\n",
       "      <th>state</th>\n",
       "      <th>age</th>\n",
       "      <th>date_joined</th>\n",
       "      <th>n_dependants</th>\n",
       "      <th>fam_status</th>\n",
       "      <th>income</th>\n",
       "      <th>_merge</th>\n",
       "    </tr>\n",
       "  </thead>\n",
       "  <tbody>\n",
       "    <tr>\n",
       "      <th>0</th>\n",
       "      <td>473747</td>\n",
       "      <td>1</td>\n",
       "      <td>3</td>\n",
       "      <td>3</td>\n",
       "      <td>12</td>\n",
       "      <td>21.0</td>\n",
       "      <td>196</td>\n",
       "      <td>1</td>\n",
       "      <td>1</td>\n",
       "      <td>Soda</td>\n",
       "      <td>...</td>\n",
       "      <td>21.0</td>\n",
       "      <td>Non-frequent customer</td>\n",
       "      <td>Female</td>\n",
       "      <td>Alabama</td>\n",
       "      <td>31</td>\n",
       "      <td>2/17/2019</td>\n",
       "      <td>3</td>\n",
       "      <td>married</td>\n",
       "      <td>40423</td>\n",
       "      <td>both</td>\n",
       "    </tr>\n",
       "    <tr>\n",
       "      <th>1</th>\n",
       "      <td>431534</td>\n",
       "      <td>1</td>\n",
       "      <td>5</td>\n",
       "      <td>4</td>\n",
       "      <td>15</td>\n",
       "      <td>28.0</td>\n",
       "      <td>196</td>\n",
       "      <td>1</td>\n",
       "      <td>1</td>\n",
       "      <td>Soda</td>\n",
       "      <td>...</td>\n",
       "      <td>21.0</td>\n",
       "      <td>Non-frequent customer</td>\n",
       "      <td>Female</td>\n",
       "      <td>Alabama</td>\n",
       "      <td>31</td>\n",
       "      <td>2/17/2019</td>\n",
       "      <td>3</td>\n",
       "      <td>married</td>\n",
       "      <td>40423</td>\n",
       "      <td>both</td>\n",
       "    </tr>\n",
       "    <tr>\n",
       "      <th>2</th>\n",
       "      <td>550135</td>\n",
       "      <td>1</td>\n",
       "      <td>7</td>\n",
       "      <td>1</td>\n",
       "      <td>9</td>\n",
       "      <td>20.0</td>\n",
       "      <td>196</td>\n",
       "      <td>1</td>\n",
       "      <td>1</td>\n",
       "      <td>Soda</td>\n",
       "      <td>...</td>\n",
       "      <td>21.0</td>\n",
       "      <td>Non-frequent customer</td>\n",
       "      <td>Female</td>\n",
       "      <td>Alabama</td>\n",
       "      <td>31</td>\n",
       "      <td>2/17/2019</td>\n",
       "      <td>3</td>\n",
       "      <td>married</td>\n",
       "      <td>40423</td>\n",
       "      <td>both</td>\n",
       "    </tr>\n",
       "    <tr>\n",
       "      <th>3</th>\n",
       "      <td>473747</td>\n",
       "      <td>1</td>\n",
       "      <td>3</td>\n",
       "      <td>3</td>\n",
       "      <td>12</td>\n",
       "      <td>21.0</td>\n",
       "      <td>12427</td>\n",
       "      <td>2</td>\n",
       "      <td>1</td>\n",
       "      <td>Original Beef Jerky</td>\n",
       "      <td>...</td>\n",
       "      <td>21.0</td>\n",
       "      <td>Non-frequent customer</td>\n",
       "      <td>Female</td>\n",
       "      <td>Alabama</td>\n",
       "      <td>31</td>\n",
       "      <td>2/17/2019</td>\n",
       "      <td>3</td>\n",
       "      <td>married</td>\n",
       "      <td>40423</td>\n",
       "      <td>both</td>\n",
       "    </tr>\n",
       "    <tr>\n",
       "      <th>4</th>\n",
       "      <td>431534</td>\n",
       "      <td>1</td>\n",
       "      <td>5</td>\n",
       "      <td>4</td>\n",
       "      <td>15</td>\n",
       "      <td>28.0</td>\n",
       "      <td>12427</td>\n",
       "      <td>2</td>\n",
       "      <td>1</td>\n",
       "      <td>Original Beef Jerky</td>\n",
       "      <td>...</td>\n",
       "      <td>21.0</td>\n",
       "      <td>Non-frequent customer</td>\n",
       "      <td>Female</td>\n",
       "      <td>Alabama</td>\n",
       "      <td>31</td>\n",
       "      <td>2/17/2019</td>\n",
       "      <td>3</td>\n",
       "      <td>married</td>\n",
       "      <td>40423</td>\n",
       "      <td>both</td>\n",
       "    </tr>\n",
       "  </tbody>\n",
       "</table>\n",
       "<p>5 rows × 31 columns</p>\n",
       "</div>"
      ],
      "text/plain": [
       "  order_id user_id  order_number  order_day_of_week  order_hour_of_day  \\\n",
       "0   473747       1             3                  3                 12   \n",
       "1   431534       1             5                  4                 15   \n",
       "2   550135       1             7                  1                  9   \n",
       "3   473747       1             3                  3                 12   \n",
       "4   431534       1             5                  4                 15   \n",
       "\n",
       "   days_since_prior_order product_id  add_to_cart_order  reordered  \\\n",
       "0                    21.0        196                  1          1   \n",
       "1                    28.0        196                  1          1   \n",
       "2                    20.0        196                  1          1   \n",
       "3                    21.0      12427                  2          1   \n",
       "4                    28.0      12427                  2          1   \n",
       "\n",
       "          product_name  ...  median_prior_order   order_frequency_flag  \\\n",
       "0                 Soda  ...                21.0  Non-frequent customer   \n",
       "1                 Soda  ...                21.0  Non-frequent customer   \n",
       "2                 Soda  ...                21.0  Non-frequent customer   \n",
       "3  Original Beef Jerky  ...                21.0  Non-frequent customer   \n",
       "4  Original Beef Jerky  ...                21.0  Non-frequent customer   \n",
       "\n",
       "   gender    state age date_joined n_dependants  fam_status income  _merge  \n",
       "0  Female  Alabama  31   2/17/2019            3     married  40423    both  \n",
       "1  Female  Alabama  31   2/17/2019            3     married  40423    both  \n",
       "2  Female  Alabama  31   2/17/2019            3     married  40423    both  \n",
       "3  Female  Alabama  31   2/17/2019            3     married  40423    both  \n",
       "4  Female  Alabama  31   2/17/2019            3     married  40423    both  \n",
       "\n",
       "[5 rows x 31 columns]"
      ]
     },
     "execution_count": 4,
     "metadata": {},
     "output_type": "execute_result"
    }
   ],
   "source": [
    "# Check\n",
    "df_ords_prods_cust_merged.head()"
   ]
  },
  {
   "cell_type": "markdown",
   "id": "1ffc9e02",
   "metadata": {},
   "source": [
    "# Bar chart: sales distribution by day of the week"
   ]
  },
  {
   "cell_type": "code",
   "execution_count": 5,
   "id": "6213e65b",
   "metadata": {
    "ExecuteTime": {
     "end_time": "2021-11-21T20:35:00.752021Z",
     "start_time": "2021-11-21T20:35:00.304700Z"
    }
   },
   "outputs": [
    {
     "data": {
      "text/plain": [
       "<AxesSubplot:>"
      ]
     },
     "execution_count": 5,
     "metadata": {},
     "output_type": "execute_result"
    },
    {
     "data": {
      "image/png": "[encoded data removed]",
      "text/plain": [
       "<Figure size 432x288 with 1 Axes>"
      ]
     },
     "metadata": {
      "needs_background": "light"
     },
     "output_type": "display_data"
    }
   ],
   "source": [
    "# Create a bar chart for the \"order_day_of_week\" column\n",
    "df_ords_prods_cust_merged[\"order_day_of_week\"].value_counts().plot.bar()"
   ]
  },
  {
   "cell_type": "code",
   "execution_count": 6,
   "id": "2b7e3b6f",
   "metadata": {
    "ExecuteTime": {
     "end_time": "2021-11-21T20:35:01.111291Z",
     "start_time": "2021-11-21T20:35:00.752021Z"
    }
   },
   "outputs": [
    {
     "data": {
      "image/png": "[encoded data removed]",
      "text/plain": [
       "<Figure size 432x288 with 1 Axes>"
      ]
     },
     "metadata": {
      "needs_background": "light"
     },
     "output_type": "display_data"
    }
   ],
   "source": [
    "# Create a bar chart for the \"order_day_of_week\" column with categories re-sorted acc to their index order\n",
    "df_ords_prods_cust_merged[\"order_day_of_week\"].value_counts().sort_index().plot.bar()\n",
    "plt.title(\"Busiest Days of the Week\")\n",
    "plt.tight_layout()"
   ]
  },
  {
   "cell_type": "code",
   "execution_count": 7,
   "id": "064a3f67",
   "metadata": {
    "ExecuteTime": {
     "end_time": "2021-11-21T20:35:01.265428Z",
     "start_time": "2021-11-21T20:35:01.111291Z"
    }
   },
   "outputs": [
    {
     "data": {
      "text/plain": [
       "0    1912844\n",
       "1    1746698\n",
       "2    1305496\n",
       "3    1183852\n",
       "4    1164303\n",
       "5    1293220\n",
       "6    1384493\n",
       "Name: order_day_of_week, dtype: int64"
      ]
     },
     "execution_count": 7,
     "metadata": {},
     "output_type": "execute_result"
    }
   ],
   "source": [
    "# Print frequencies with columns in their indexed order\n",
    "df_ords_prods_cust_merged[\"order_day_of_week\"].value_counts(dropna = False).sort_index()"
   ]
  },
  {
   "cell_type": "code",
   "execution_count": 8,
   "id": "f6b4a601",
   "metadata": {
    "ExecuteTime": {
     "end_time": "2021-11-21T20:35:01.593043Z",
     "start_time": "2021-11-21T20:35:01.271120Z"
    }
   },
   "outputs": [
    {
     "data": {
      "text/plain": [
       "Text(0.5, 1.0, 'Busiest Days of the Week')"
      ]
     },
     "execution_count": 8,
     "metadata": {},
     "output_type": "execute_result"
    },
    {
     "data": {
      "image/png": "[encoded data removed]",
      "text/plain": [
       "<Figure size 432x288 with 1 Axes>"
      ]
     },
     "metadata": {
      "needs_background": "light"
     },
     "output_type": "display_data"
    }
   ],
   "source": [
    "# Save bar chart within \"bar\" object\n",
    "bar_orders_dow = df_ords_prods_cust_merged[\"order_day_of_week\"].value_counts().sort_index().plot.bar()\n",
    "plt.title(\"Busiest Days of the Week\")"
   ]
  },
  {
   "cell_type": "code",
   "execution_count": 9,
   "id": "e38eacd5",
   "metadata": {
    "ExecuteTime": {
     "end_time": "2021-11-21T20:35:01.697449Z",
     "start_time": "2021-11-21T20:35:01.595164Z"
    }
   },
   "outputs": [],
   "source": [
    "# Export bar chart outside Jupyter as image file\n",
    "bar_orders_dow.figure.savefig(os.path.join(path, '04 Analysis','Visualizations', '4.9 bar_orders_dow.png'))"
   ]
  },
  {
   "cell_type": "markdown",
   "id": "84f38e8c",
   "metadata": {
    "ExecuteTime": {
     "end_time": "2021-11-09T20:51:34.890614Z",
     "start_time": "2021-11-09T20:51:34.887611Z"
    }
   },
   "source": [
    "# Histogram & scatterplot: price distribution"
   ]
  },
  {
   "cell_type": "code",
   "execution_count": 10,
   "id": "8ba34dac",
   "metadata": {
    "ExecuteTime": {
     "end_time": "2021-11-21T20:35:03.627275Z",
     "start_time": "2021-11-21T20:35:01.697449Z"
    }
   },
   "outputs": [
    {
     "data": {
      "text/plain": [
       "<AxesSubplot:ylabel='Frequency'>"
      ]
     },
     "execution_count": 10,
     "metadata": {},
     "output_type": "execute_result"
    },
    {
     "data": {
      "image/png": "[encoded data removed]",
      "text/plain": [
       "<Figure size 432x288 with 1 Axes>"
      ]
     },
     "metadata": {
      "needs_background": "light"
     },
     "output_type": "display_data"
    }
   ],
   "source": [
    "# Create a histogram for the \"prices\" column\n",
    "df_ords_prods_cust_merged[\"prices\"].plot.hist(bins = 25)"
   ]
  },
  {
   "cell_type": "code",
   "execution_count": 11,
   "id": "5e730492",
   "metadata": {
    "ExecuteTime": {
     "end_time": "2021-11-21T20:35:04.037185Z",
     "start_time": "2021-11-21T20:35:03.628268Z"
    }
   },
   "outputs": [
    {
     "data": {
      "text/plain": [
       "count    9.990906e+06\n",
       "mean     1.212100e+01\n",
       "std      5.111234e+02\n",
       "min      1.000000e+00\n",
       "25%      4.200000e+00\n",
       "50%      7.400000e+00\n",
       "75%      1.130000e+01\n",
       "max      9.999900e+04\n",
       "Name: prices, dtype: float64"
      ]
     },
     "execution_count": 11,
     "metadata": {},
     "output_type": "execute_result"
    }
   ],
   "source": [
    "# Investigate\n",
    "df_ords_prods_cust_merged[\"prices\"].describe()"
   ]
  },
  {
   "cell_type": "code",
   "execution_count": 12,
   "id": "db8786e3",
   "metadata": {
    "ExecuteTime": {
     "end_time": "2021-11-21T20:35:04.062363Z",
     "start_time": "2021-11-21T20:35:04.039181Z"
    }
   },
   "outputs": [
    {
     "data": {
      "text/plain": [
       "12.120996824448131"
      ]
     },
     "execution_count": 12,
     "metadata": {},
     "output_type": "execute_result"
    }
   ],
   "source": [
    "df_ords_prods_cust_merged[\"prices\"].mean()"
   ]
  },
  {
   "cell_type": "code",
   "execution_count": 13,
   "id": "381e455b",
   "metadata": {
    "ExecuteTime": {
     "end_time": "2021-11-21T20:35:04.226757Z",
     "start_time": "2021-11-21T20:35:04.064982Z"
    }
   },
   "outputs": [
    {
     "data": {
      "text/plain": [
       "7.4"
      ]
     },
     "execution_count": 13,
     "metadata": {},
     "output_type": "execute_result"
    }
   ],
   "source": [
    "df_ords_prods_cust_merged[\"prices\"].median()"
   ]
  },
  {
   "cell_type": "code",
   "execution_count": 14,
   "id": "4d9bb9cf",
   "metadata": {
    "ExecuteTime": {
     "end_time": "2021-11-21T20:35:04.258044Z",
     "start_time": "2021-11-21T20:35:04.227792Z"
    }
   },
   "outputs": [
    {
     "data": {
      "text/plain": [
       "99999.0"
      ]
     },
     "execution_count": 14,
     "metadata": {},
     "output_type": "execute_result"
    }
   ],
   "source": [
    "df_ords_prods_cust_merged[\"prices\"].max()"
   ]
  },
  {
   "cell_type": "code",
   "execution_count": 15,
   "id": "b16b1587",
   "metadata": {
    "ExecuteTime": {
     "end_time": "2021-11-21T20:35:24.997288Z",
     "start_time": "2021-11-21T20:35:04.260038Z"
    }
   },
   "outputs": [
    {
     "data": {
      "text/plain": [
       "<AxesSubplot:xlabel='prices', ylabel='prices'>"
      ]
     },
     "execution_count": 15,
     "metadata": {},
     "output_type": "execute_result"
    },
    {
     "data": {
      "image/png": "[encoded data removed]",
      "text/plain": [
       "<Figure size 432x288 with 1 Axes>"
      ]
     },
     "metadata": {
      "needs_background": "light"
     },
     "output_type": "display_data"
    }
   ],
   "source": [
    "# Create scatterplot to identify outliers\n",
    "sns.scatterplot(x = \"prices\", y = \"prices\", data = df_ords_prods_cust_merged)"
   ]
  },
  {
   "cell_type": "code",
   "execution_count": 16,
   "id": "2a1d206d",
   "metadata": {
    "ExecuteTime": {
     "end_time": "2021-11-21T20:35:25.014606Z",
     "start_time": "2021-11-21T20:35:24.998980Z"
    }
   },
   "outputs": [],
   "source": [
    "# Show all columns\n",
    "pd.options.display.max_columns = None"
   ]
  },
  {
   "cell_type": "code",
   "execution_count": 17,
   "id": "59d15c7d",
   "metadata": {
    "ExecuteTime": {
     "end_time": "2021-11-21T20:35:25.329411Z",
     "start_time": "2021-11-21T20:35:25.017890Z"
    }
   },
   "outputs": [
    {
     "data": {
      "text/html": [
       "<div>\n",
       "<style scoped>\n",
       "    .dataframe tbody tr th:only-of-type {\n",
       "        vertical-align: middle;\n",
       "    }\n",
       "\n",
       "    .dataframe tbody tr th {\n",
       "        vertical-align: top;\n",
       "    }\n",
       "\n",
       "    .dataframe thead th {\n",
       "        text-align: right;\n",
       "    }\n",
       "</style>\n",
       "<table border=\"1\" class=\"dataframe\">\n",
       "  <thead>\n",
       "    <tr style=\"text-align: right;\">\n",
       "      <th></th>\n",
       "      <th>order_id</th>\n",
       "      <th>user_id</th>\n",
       "      <th>order_number</th>\n",
       "      <th>order_day_of_week</th>\n",
       "      <th>order_hour_of_day</th>\n",
       "      <th>days_since_prior_order</th>\n",
       "      <th>product_id</th>\n",
       "      <th>add_to_cart_order</th>\n",
       "      <th>reordered</th>\n",
       "      <th>product_name</th>\n",
       "      <th>aisle_id</th>\n",
       "      <th>department_id</th>\n",
       "      <th>prices</th>\n",
       "      <th>price_range_loc</th>\n",
       "      <th>busiest_day</th>\n",
       "      <th>busiest_days</th>\n",
       "      <th>busiest_period_of_day</th>\n",
       "      <th>max_order</th>\n",
       "      <th>loyalty_flag</th>\n",
       "      <th>avg_price</th>\n",
       "      <th>spending_flag</th>\n",
       "      <th>median_prior_order</th>\n",
       "      <th>order_frequency_flag</th>\n",
       "      <th>gender</th>\n",
       "      <th>state</th>\n",
       "      <th>age</th>\n",
       "      <th>date_joined</th>\n",
       "      <th>n_dependants</th>\n",
       "      <th>fam_status</th>\n",
       "      <th>income</th>\n",
       "      <th>_merge</th>\n",
       "    </tr>\n",
       "  </thead>\n",
       "  <tbody>\n",
       "    <tr>\n",
       "      <th>4170</th>\n",
       "      <td>172425</td>\n",
       "      <td>3819</td>\n",
       "      <td>3</td>\n",
       "      <td>1</td>\n",
       "      <td>12</td>\n",
       "      <td>30.0</td>\n",
       "      <td>21553</td>\n",
       "      <td>14</td>\n",
       "      <td>0</td>\n",
       "      <td>Lowfat 2% Milkfat Cottage Cheese</td>\n",
       "      <td>108</td>\n",
       "      <td>16</td>\n",
       "      <td>14900.0</td>\n",
       "      <td>High-range product</td>\n",
       "      <td>Regularly busy</td>\n",
       "      <td>Busiest days</td>\n",
       "      <td>Average orders</td>\n",
       "      <td>8</td>\n",
       "      <td>New customer</td>\n",
       "      <td>191.746914</td>\n",
       "      <td>High spender</td>\n",
       "      <td>10.0</td>\n",
       "      <td>Frequent customer</td>\n",
       "      <td>Male</td>\n",
       "      <td>Utah</td>\n",
       "      <td>69</td>\n",
       "      <td>1/26/2020</td>\n",
       "      <td>2</td>\n",
       "      <td>married</td>\n",
       "      <td>129749</td>\n",
       "      <td>both</td>\n",
       "    </tr>\n",
       "    <tr>\n",
       "      <th>11010</th>\n",
       "      <td>478171</td>\n",
       "      <td>8942</td>\n",
       "      <td>3</td>\n",
       "      <td>4</td>\n",
       "      <td>12</td>\n",
       "      <td>30.0</td>\n",
       "      <td>33664</td>\n",
       "      <td>1</td>\n",
       "      <td>1</td>\n",
       "      <td>2 % Reduced Fat  Milk</td>\n",
       "      <td>84</td>\n",
       "      <td>16</td>\n",
       "      <td>99999.0</td>\n",
       "      <td>High-range product</td>\n",
       "      <td>Least busy</td>\n",
       "      <td>Slowest days</td>\n",
       "      <td>Average orders</td>\n",
       "      <td>4</td>\n",
       "      <td>New customer</td>\n",
       "      <td>3710.125926</td>\n",
       "      <td>High spender</td>\n",
       "      <td>30.0</td>\n",
       "      <td>Non-frequent customer</td>\n",
       "      <td>Female</td>\n",
       "      <td>Kansas</td>\n",
       "      <td>81</td>\n",
       "      <td>3/23/2018</td>\n",
       "      <td>1</td>\n",
       "      <td>married</td>\n",
       "      <td>130668</td>\n",
       "      <td>both</td>\n",
       "    </tr>\n",
       "    <tr>\n",
       "      <th>15656</th>\n",
       "      <td>950332</td>\n",
       "      <td>13460</td>\n",
       "      <td>4</td>\n",
       "      <td>3</td>\n",
       "      <td>9</td>\n",
       "      <td>16.0</td>\n",
       "      <td>21553</td>\n",
       "      <td>8</td>\n",
       "      <td>0</td>\n",
       "      <td>Lowfat 2% Milkfat Cottage Cheese</td>\n",
       "      <td>108</td>\n",
       "      <td>16</td>\n",
       "      <td>14900.0</td>\n",
       "      <td>High-range product</td>\n",
       "      <td>Regularly busy</td>\n",
       "      <td>Slowest days</td>\n",
       "      <td>Average orders</td>\n",
       "      <td>4</td>\n",
       "      <td>New customer</td>\n",
       "      <td>1248.958333</td>\n",
       "      <td>High spender</td>\n",
       "      <td>16.0</td>\n",
       "      <td>Regular customer</td>\n",
       "      <td>Male</td>\n",
       "      <td>Virginia</td>\n",
       "      <td>73</td>\n",
       "      <td>10/2/2018</td>\n",
       "      <td>1</td>\n",
       "      <td>married</td>\n",
       "      <td>215922</td>\n",
       "      <td>both</td>\n",
       "    </tr>\n",
       "    <tr>\n",
       "      <th>35641</th>\n",
       "      <td>244176</td>\n",
       "      <td>32927</td>\n",
       "      <td>3</td>\n",
       "      <td>1</td>\n",
       "      <td>22</td>\n",
       "      <td>9.0</td>\n",
       "      <td>21553</td>\n",
       "      <td>5</td>\n",
       "      <td>0</td>\n",
       "      <td>Lowfat 2% Milkfat Cottage Cheese</td>\n",
       "      <td>108</td>\n",
       "      <td>16</td>\n",
       "      <td>14900.0</td>\n",
       "      <td>High-range product</td>\n",
       "      <td>Regularly busy</td>\n",
       "      <td>Busiest days</td>\n",
       "      <td>Average orders</td>\n",
       "      <td>59</td>\n",
       "      <td>Loyal customer</td>\n",
       "      <td>96.606287</td>\n",
       "      <td>High spender</td>\n",
       "      <td>5.0</td>\n",
       "      <td>Frequent customer</td>\n",
       "      <td>Male</td>\n",
       "      <td>Oregon</td>\n",
       "      <td>42</td>\n",
       "      <td>4/17/2019</td>\n",
       "      <td>1</td>\n",
       "      <td>married</td>\n",
       "      <td>268346</td>\n",
       "      <td>both</td>\n",
       "    </tr>\n",
       "    <tr>\n",
       "      <th>35642</th>\n",
       "      <td>927199</td>\n",
       "      <td>32927</td>\n",
       "      <td>11</td>\n",
       "      <td>2</td>\n",
       "      <td>14</td>\n",
       "      <td>1.0</td>\n",
       "      <td>21553</td>\n",
       "      <td>14</td>\n",
       "      <td>1</td>\n",
       "      <td>Lowfat 2% Milkfat Cottage Cheese</td>\n",
       "      <td>108</td>\n",
       "      <td>16</td>\n",
       "      <td>14900.0</td>\n",
       "      <td>High-range product</td>\n",
       "      <td>Regularly busy</td>\n",
       "      <td>Regularly busy</td>\n",
       "      <td>Most orders</td>\n",
       "      <td>59</td>\n",
       "      <td>Loyal customer</td>\n",
       "      <td>96.606287</td>\n",
       "      <td>High spender</td>\n",
       "      <td>5.0</td>\n",
       "      <td>Frequent customer</td>\n",
       "      <td>Male</td>\n",
       "      <td>Oregon</td>\n",
       "      <td>42</td>\n",
       "      <td>4/17/2019</td>\n",
       "      <td>1</td>\n",
       "      <td>married</td>\n",
       "      <td>268346</td>\n",
       "      <td>both</td>\n",
       "    </tr>\n",
       "    <tr>\n",
       "      <th>...</th>\n",
       "      <td>...</td>\n",
       "      <td>...</td>\n",
       "      <td>...</td>\n",
       "      <td>...</td>\n",
       "      <td>...</td>\n",
       "      <td>...</td>\n",
       "      <td>...</td>\n",
       "      <td>...</td>\n",
       "      <td>...</td>\n",
       "      <td>...</td>\n",
       "      <td>...</td>\n",
       "      <td>...</td>\n",
       "      <td>...</td>\n",
       "      <td>...</td>\n",
       "      <td>...</td>\n",
       "      <td>...</td>\n",
       "      <td>...</td>\n",
       "      <td>...</td>\n",
       "      <td>...</td>\n",
       "      <td>...</td>\n",
       "      <td>...</td>\n",
       "      <td>...</td>\n",
       "      <td>...</td>\n",
       "      <td>...</td>\n",
       "      <td>...</td>\n",
       "      <td>...</td>\n",
       "      <td>...</td>\n",
       "      <td>...</td>\n",
       "      <td>...</td>\n",
       "      <td>...</td>\n",
       "      <td>...</td>\n",
       "    </tr>\n",
       "    <tr>\n",
       "      <th>9869545</th>\n",
       "      <td>710665</td>\n",
       "      <td>11969</td>\n",
       "      <td>3</td>\n",
       "      <td>3</td>\n",
       "      <td>14</td>\n",
       "      <td>11.0</td>\n",
       "      <td>33664</td>\n",
       "      <td>1</td>\n",
       "      <td>0</td>\n",
       "      <td>2 % Reduced Fat  Milk</td>\n",
       "      <td>84</td>\n",
       "      <td>16</td>\n",
       "      <td>99999.0</td>\n",
       "      <td>High-range product</td>\n",
       "      <td>Regularly busy</td>\n",
       "      <td>Slowest days</td>\n",
       "      <td>Most orders</td>\n",
       "      <td>3</td>\n",
       "      <td>New customer</td>\n",
       "      <td>5562.433333</td>\n",
       "      <td>High spender</td>\n",
       "      <td>11.0</td>\n",
       "      <td>Regular customer</td>\n",
       "      <td>Male</td>\n",
       "      <td>Michigan</td>\n",
       "      <td>77</td>\n",
       "      <td>5/9/2019</td>\n",
       "      <td>2</td>\n",
       "      <td>married</td>\n",
       "      <td>213624</td>\n",
       "      <td>both</td>\n",
       "    </tr>\n",
       "    <tr>\n",
       "      <th>9888619</th>\n",
       "      <td>886775</td>\n",
       "      <td>191328</td>\n",
       "      <td>5</td>\n",
       "      <td>1</td>\n",
       "      <td>18</td>\n",
       "      <td>30.0</td>\n",
       "      <td>33664</td>\n",
       "      <td>4</td>\n",
       "      <td>0</td>\n",
       "      <td>2 % Reduced Fat  Milk</td>\n",
       "      <td>84</td>\n",
       "      <td>16</td>\n",
       "      <td>99999.0</td>\n",
       "      <td>High-range product</td>\n",
       "      <td>Regularly busy</td>\n",
       "      <td>Busiest days</td>\n",
       "      <td>Average orders</td>\n",
       "      <td>5</td>\n",
       "      <td>New customer</td>\n",
       "      <td>3577.825000</td>\n",
       "      <td>High spender</td>\n",
       "      <td>15.0</td>\n",
       "      <td>Regular customer</td>\n",
       "      <td>Male</td>\n",
       "      <td>New York</td>\n",
       "      <td>71</td>\n",
       "      <td>5/9/2017</td>\n",
       "      <td>2</td>\n",
       "      <td>married</td>\n",
       "      <td>166452</td>\n",
       "      <td>both</td>\n",
       "    </tr>\n",
       "    <tr>\n",
       "      <th>9946149</th>\n",
       "      <td>214066</td>\n",
       "      <td>92034</td>\n",
       "      <td>7</td>\n",
       "      <td>5</td>\n",
       "      <td>10</td>\n",
       "      <td>13.0</td>\n",
       "      <td>33664</td>\n",
       "      <td>2</td>\n",
       "      <td>1</td>\n",
       "      <td>2 % Reduced Fat  Milk</td>\n",
       "      <td>84</td>\n",
       "      <td>16</td>\n",
       "      <td>99999.0</td>\n",
       "      <td>High-range product</td>\n",
       "      <td>Regularly busy</td>\n",
       "      <td>Regularly busy</td>\n",
       "      <td>Most orders</td>\n",
       "      <td>7</td>\n",
       "      <td>New customer</td>\n",
       "      <td>10008.060000</td>\n",
       "      <td>High spender</td>\n",
       "      <td>13.0</td>\n",
       "      <td>Regular customer</td>\n",
       "      <td>Male</td>\n",
       "      <td>Ohio</td>\n",
       "      <td>40</td>\n",
       "      <td>2/10/2020</td>\n",
       "      <td>0</td>\n",
       "      <td>single</td>\n",
       "      <td>97243</td>\n",
       "      <td>both</td>\n",
       "    </tr>\n",
       "    <tr>\n",
       "      <th>9953905</th>\n",
       "      <td>706331</td>\n",
       "      <td>147991</td>\n",
       "      <td>1</td>\n",
       "      <td>2</td>\n",
       "      <td>8</td>\n",
       "      <td>NaN</td>\n",
       "      <td>33664</td>\n",
       "      <td>2</td>\n",
       "      <td>0</td>\n",
       "      <td>2 % Reduced Fat  Milk</td>\n",
       "      <td>84</td>\n",
       "      <td>16</td>\n",
       "      <td>99999.0</td>\n",
       "      <td>High-range product</td>\n",
       "      <td>Regularly busy</td>\n",
       "      <td>Regularly busy</td>\n",
       "      <td>Average orders</td>\n",
       "      <td>1</td>\n",
       "      <td>New customer</td>\n",
       "      <td>25004.875000</td>\n",
       "      <td>High spender</td>\n",
       "      <td>NaN</td>\n",
       "      <td>NaN</td>\n",
       "      <td>Male</td>\n",
       "      <td>Rhode Island</td>\n",
       "      <td>74</td>\n",
       "      <td>1/11/2019</td>\n",
       "      <td>3</td>\n",
       "      <td>married</td>\n",
       "      <td>227994</td>\n",
       "      <td>both</td>\n",
       "    </tr>\n",
       "    <tr>\n",
       "      <th>9986208</th>\n",
       "      <td>676281</td>\n",
       "      <td>125119</td>\n",
       "      <td>3</td>\n",
       "      <td>6</td>\n",
       "      <td>16</td>\n",
       "      <td>8.0</td>\n",
       "      <td>33664</td>\n",
       "      <td>2</td>\n",
       "      <td>0</td>\n",
       "      <td>2 % Reduced Fat  Milk</td>\n",
       "      <td>84</td>\n",
       "      <td>16</td>\n",
       "      <td>99999.0</td>\n",
       "      <td>High-range product</td>\n",
       "      <td>Regularly busy</td>\n",
       "      <td>Regularly busy</td>\n",
       "      <td>Average orders</td>\n",
       "      <td>3</td>\n",
       "      <td>New customer</td>\n",
       "      <td>25006.150000</td>\n",
       "      <td>High spender</td>\n",
       "      <td>8.0</td>\n",
       "      <td>Frequent customer</td>\n",
       "      <td>Male</td>\n",
       "      <td>Iowa</td>\n",
       "      <td>23</td>\n",
       "      <td>10/3/2018</td>\n",
       "      <td>2</td>\n",
       "      <td>married</td>\n",
       "      <td>371653</td>\n",
       "      <td>both</td>\n",
       "    </tr>\n",
       "  </tbody>\n",
       "</table>\n",
       "<p>1586 rows × 31 columns</p>\n",
       "</div>"
      ],
      "text/plain": [
       "        order_id user_id  order_number  order_day_of_week  order_hour_of_day  \\\n",
       "4170      172425    3819             3                  1                 12   \n",
       "11010     478171    8942             3                  4                 12   \n",
       "15656     950332   13460             4                  3                  9   \n",
       "35641     244176   32927             3                  1                 22   \n",
       "35642     927199   32927            11                  2                 14   \n",
       "...          ...     ...           ...                ...                ...   \n",
       "9869545   710665   11969             3                  3                 14   \n",
       "9888619   886775  191328             5                  1                 18   \n",
       "9946149   214066   92034             7                  5                 10   \n",
       "9953905   706331  147991             1                  2                  8   \n",
       "9986208   676281  125119             3                  6                 16   \n",
       "\n",
       "         days_since_prior_order product_id  add_to_cart_order  reordered  \\\n",
       "4170                       30.0      21553                 14          0   \n",
       "11010                      30.0      33664                  1          1   \n",
       "15656                      16.0      21553                  8          0   \n",
       "35641                       9.0      21553                  5          0   \n",
       "35642                       1.0      21553                 14          1   \n",
       "...                         ...        ...                ...        ...   \n",
       "9869545                    11.0      33664                  1          0   \n",
       "9888619                    30.0      33664                  4          0   \n",
       "9946149                    13.0      33664                  2          1   \n",
       "9953905                     NaN      33664                  2          0   \n",
       "9986208                     8.0      33664                  2          0   \n",
       "\n",
       "                             product_name  aisle_id  department_id   prices  \\\n",
       "4170     Lowfat 2% Milkfat Cottage Cheese       108             16  14900.0   \n",
       "11010               2 % Reduced Fat  Milk        84             16  99999.0   \n",
       "15656    Lowfat 2% Milkfat Cottage Cheese       108             16  14900.0   \n",
       "35641    Lowfat 2% Milkfat Cottage Cheese       108             16  14900.0   \n",
       "35642    Lowfat 2% Milkfat Cottage Cheese       108             16  14900.0   \n",
       "...                                   ...       ...            ...      ...   \n",
       "9869545             2 % Reduced Fat  Milk        84             16  99999.0   \n",
       "9888619             2 % Reduced Fat  Milk        84             16  99999.0   \n",
       "9946149             2 % Reduced Fat  Milk        84             16  99999.0   \n",
       "9953905             2 % Reduced Fat  Milk        84             16  99999.0   \n",
       "9986208             2 % Reduced Fat  Milk        84             16  99999.0   \n",
       "\n",
       "            price_range_loc     busiest_day    busiest_days  \\\n",
       "4170     High-range product  Regularly busy    Busiest days   \n",
       "11010    High-range product      Least busy    Slowest days   \n",
       "15656    High-range product  Regularly busy    Slowest days   \n",
       "35641    High-range product  Regularly busy    Busiest days   \n",
       "35642    High-range product  Regularly busy  Regularly busy   \n",
       "...                     ...             ...             ...   \n",
       "9869545  High-range product  Regularly busy    Slowest days   \n",
       "9888619  High-range product  Regularly busy    Busiest days   \n",
       "9946149  High-range product  Regularly busy  Regularly busy   \n",
       "9953905  High-range product  Regularly busy  Regularly busy   \n",
       "9986208  High-range product  Regularly busy  Regularly busy   \n",
       "\n",
       "        busiest_period_of_day  max_order    loyalty_flag     avg_price  \\\n",
       "4170           Average orders          8    New customer    191.746914   \n",
       "11010          Average orders          4    New customer   3710.125926   \n",
       "15656          Average orders          4    New customer   1248.958333   \n",
       "35641          Average orders         59  Loyal customer     96.606287   \n",
       "35642             Most orders         59  Loyal customer     96.606287   \n",
       "...                       ...        ...             ...           ...   \n",
       "9869545           Most orders          3    New customer   5562.433333   \n",
       "9888619        Average orders          5    New customer   3577.825000   \n",
       "9946149           Most orders          7    New customer  10008.060000   \n",
       "9953905        Average orders          1    New customer  25004.875000   \n",
       "9986208        Average orders          3    New customer  25006.150000   \n",
       "\n",
       "        spending_flag  median_prior_order   order_frequency_flag  gender  \\\n",
       "4170     High spender                10.0      Frequent customer    Male   \n",
       "11010    High spender                30.0  Non-frequent customer  Female   \n",
       "15656    High spender                16.0       Regular customer    Male   \n",
       "35641    High spender                 5.0      Frequent customer    Male   \n",
       "35642    High spender                 5.0      Frequent customer    Male   \n",
       "...               ...                 ...                    ...     ...   \n",
       "9869545  High spender                11.0       Regular customer    Male   \n",
       "9888619  High spender                15.0       Regular customer    Male   \n",
       "9946149  High spender                13.0       Regular customer    Male   \n",
       "9953905  High spender                 NaN                    NaN    Male   \n",
       "9986208  High spender                 8.0      Frequent customer    Male   \n",
       "\n",
       "                state  age date_joined  n_dependants fam_status  income _merge  \n",
       "4170             Utah   69   1/26/2020             2    married  129749   both  \n",
       "11010          Kansas   81   3/23/2018             1    married  130668   both  \n",
       "15656        Virginia   73   10/2/2018             1    married  215922   both  \n",
       "35641          Oregon   42   4/17/2019             1    married  268346   both  \n",
       "35642          Oregon   42   4/17/2019             1    married  268346   both  \n",
       "...               ...  ...         ...           ...        ...     ...    ...  \n",
       "9869545      Michigan   77    5/9/2019             2    married  213624   both  \n",
       "9888619      New York   71    5/9/2017             2    married  166452   both  \n",
       "9946149          Ohio   40   2/10/2020             0     single   97243   both  \n",
       "9953905  Rhode Island   74   1/11/2019             3    married  227994   both  \n",
       "9986208          Iowa   23   10/3/2018             2    married  371653   both  \n",
       "\n",
       "[1586 rows x 31 columns]"
      ]
     },
     "execution_count": 17,
     "metadata": {},
     "output_type": "execute_result"
    }
   ],
   "source": [
    "df_ords_prods_cust_merged.loc[df_ords_prods_cust_merged[\"prices\"] > 100]"
   ]
  },
  {
   "cell_type": "code",
   "execution_count": 18,
   "id": "45a34a64",
   "metadata": {
    "ExecuteTime": {
     "end_time": "2021-11-21T20:35:25.448470Z",
     "start_time": "2021-11-21T20:35:25.331414Z"
    }
   },
   "outputs": [],
   "source": [
    "# Mark outliers as missing (NaN)\n",
    "df_ords_prods_cust_merged.loc[df_ords_prods_cust_merged[\"prices\"] > 100, \"prices\"] = np.nan"
   ]
  },
  {
   "cell_type": "code",
   "execution_count": 19,
   "id": "7774e501",
   "metadata": {
    "ExecuteTime": {
     "end_time": "2021-11-21T20:35:25.474348Z",
     "start_time": "2021-11-21T20:35:25.448470Z"
    }
   },
   "outputs": [
    {
     "data": {
      "text/plain": [
       "25.0"
      ]
     },
     "execution_count": 19,
     "metadata": {},
     "output_type": "execute_result"
    }
   ],
   "source": [
    "# Check whether the replacement was successful\n",
    "df_ords_prods_cust_merged[\"prices\"].max()"
   ]
  },
  {
   "cell_type": "code",
   "execution_count": 20,
   "id": "1f1c4c2f",
   "metadata": {
    "ExecuteTime": {
     "end_time": "2021-11-21T20:35:26.866172Z",
     "start_time": "2021-11-21T20:35:25.474348Z"
    }
   },
   "outputs": [
    {
     "data": {
      "image/png": "[encoded data removed]",
      "text/plain": [
       "<Figure size 432x288 with 1 Axes>"
      ]
     },
     "metadata": {
      "needs_background": "light"
     },
     "output_type": "display_data"
    }
   ],
   "source": [
    "# Create a clean histogram for the \"prices\" column\n",
    "hist_prices = df_ords_prods_cust_merged[\"prices\"].plot.hist(bins = 25)"
   ]
  },
  {
   "cell_type": "code",
   "execution_count": 21,
   "id": "1540f3eb",
   "metadata": {
    "ExecuteTime": {
     "end_time": "2021-11-21T20:35:28.382242Z",
     "start_time": "2021-11-21T20:35:26.868171Z"
    }
   },
   "outputs": [
    {
     "data": {
      "image/png": "[encoded data removed]",
      "text/plain": [
       "<Figure size 432x288 with 1 Axes>"
      ]
     },
     "metadata": {
      "needs_background": "light"
     },
     "output_type": "display_data"
    }
   ],
   "source": [
    "# Increase the level of granularity of the histogram\n",
    "hist_prices_2 = df_ords_prods_cust_merged[\"prices\"].plot.hist(bins = 70)"
   ]
  },
  {
   "cell_type": "code",
   "execution_count": 22,
   "id": "37f37a59",
   "metadata": {
    "ExecuteTime": {
     "end_time": "2021-11-21T20:35:28.467810Z",
     "start_time": "2021-11-21T20:35:28.384240Z"
    }
   },
   "outputs": [],
   "source": [
    "# Export histogram\n",
    "hist_prices.figure.savefig(os.path.join(path, '04 Analysis','Visualizations', '4.9 hist_prices.png'))"
   ]
  },
  {
   "cell_type": "code",
   "execution_count": 23,
   "id": "30d71041",
   "metadata": {
    "ExecuteTime": {
     "end_time": "2021-11-21T20:35:28.561590Z",
     "start_time": "2021-11-21T20:35:28.467810Z"
    }
   },
   "outputs": [],
   "source": [
    "# Export histogram\n",
    "hist_prices_2.figure.savefig(os.path.join(path, '04 Analysis','Visualizations', '4.9 hist_prices_2.png'))"
   ]
  },
  {
   "cell_type": "markdown",
   "id": "ec21dcd2",
   "metadata": {},
   "source": [
    "# Line charts using data sampling: prices by day of the week"
   ]
  },
  {
   "cell_type": "code",
   "execution_count": 24,
   "id": "44150210",
   "metadata": {
    "ExecuteTime": {
     "end_time": "2021-11-21T20:35:28.665434Z",
     "start_time": "2021-11-21T20:35:28.561590Z"
    }
   },
   "outputs": [],
   "source": [
    "# Create a list holding True/False values to the test np.random.rand() <= 0.7\n",
    "np.random.seed(4)\n",
    "dev = np.random.rand(len(df_ords_prods_cust_merged)) <= 0.7"
   ]
  },
  {
   "cell_type": "code",
   "execution_count": 25,
   "id": "f06eaeb2",
   "metadata": {
    "ExecuteTime": {
     "end_time": "2021-11-21T20:35:41.137885Z",
     "start_time": "2021-11-21T20:35:28.665434Z"
    }
   },
   "outputs": [],
   "source": [
    "# Store 70% of the sample in the df big\n",
    "big = df_ords_prods_cust_merged[dev]"
   ]
  },
  {
   "cell_type": "code",
   "execution_count": 26,
   "id": "da1f155e",
   "metadata": {
    "ExecuteTime": {
     "end_time": "2021-11-21T20:35:57.042007Z",
     "start_time": "2021-11-21T20:35:41.137885Z"
    }
   },
   "outputs": [],
   "source": [
    "# Store 30% of the sample in the df small\n",
    "small = df_ords_prods_cust_merged[~dev]"
   ]
  },
  {
   "cell_type": "code",
   "execution_count": 27,
   "id": "07000477",
   "metadata": {
    "ExecuteTime": {
     "end_time": "2021-11-21T20:35:57.088894Z",
     "start_time": "2021-11-21T20:35:57.057634Z"
    }
   },
   "outputs": [
    {
     "data": {
      "text/plain": [
       "9990906"
      ]
     },
     "execution_count": 27,
     "metadata": {},
     "output_type": "execute_result"
    }
   ],
   "source": [
    "# Check\n",
    "len(df_ords_prods_cust_merged)"
   ]
  },
  {
   "cell_type": "code",
   "execution_count": 28,
   "id": "417a1afd",
   "metadata": {
    "ExecuteTime": {
     "end_time": "2021-11-21T20:35:57.104832Z",
     "start_time": "2021-11-21T20:35:57.088894Z"
    }
   },
   "outputs": [
    {
     "data": {
      "text/plain": [
       "9990906"
      ]
     },
     "execution_count": 28,
     "metadata": {},
     "output_type": "execute_result"
    }
   ],
   "source": [
    "# Check\n",
    "len(big) + len(small)"
   ]
  },
  {
   "cell_type": "code",
   "execution_count": 29,
   "id": "c7ca7e04",
   "metadata": {
    "ExecuteTime": {
     "end_time": "2021-11-21T20:35:57.178119Z",
     "start_time": "2021-11-21T20:35:57.106829Z"
    }
   },
   "outputs": [],
   "source": [
    "# Reduce the sample to the columns necessary for the line chart\n",
    "sample_small_prices_odow = small[[\"order_day_of_week\", \"prices\"]]"
   ]
  },
  {
   "cell_type": "code",
   "execution_count": 30,
   "id": "9f9732fd",
   "metadata": {
    "ExecuteTime": {
     "end_time": "2021-11-21T20:37:06.465107Z",
     "start_time": "2021-11-21T20:35:57.178119Z"
    }
   },
   "outputs": [
    {
     "data": {
      "image/png": "[encoded data removed]",
      "text/plain": [
       "<Figure size 432x288 with 1 Axes>"
      ]
     },
     "metadata": {
      "needs_background": "light"
     },
     "output_type": "display_data"
    }
   ],
   "source": [
    "# Create line chart\n",
    "line_prices_odow = sns.lineplot(data = sample_small_prices_odow, x = \"order_day_of_week\", y = \"prices\")"
   ]
  },
  {
   "cell_type": "code",
   "execution_count": 31,
   "id": "e405cb32",
   "metadata": {
    "ExecuteTime": {
     "end_time": "2021-11-21T20:37:06.596819Z",
     "start_time": "2021-11-21T20:37:06.466117Z"
    }
   },
   "outputs": [],
   "source": [
    "# Reduce the sample to the columns necessary for the line chart\n",
    "sample_big_prices_odow = big[[\"order_day_of_week\", \"prices\"]]"
   ]
  },
  {
   "cell_type": "code",
   "execution_count": 32,
   "id": "15941e13",
   "metadata": {
    "ExecuteTime": {
     "end_time": "2021-11-21T20:40:37.102019Z",
     "start_time": "2021-11-21T20:37:06.596819Z"
    }
   },
   "outputs": [
    {
     "data": {
      "image/png": "[encoded data removed]",
      "text/plain": [
       "<Figure size 432x288 with 1 Axes>"
      ]
     },
     "metadata": {
      "needs_background": "light"
     },
     "output_type": "display_data"
    }
   ],
   "source": [
    "# Create line chart to double check sample\n",
    "line_prices_odow_2 = sns.lineplot(data = sample_big_prices_odow, x = \"order_day_of_week\", y = \"prices\")"
   ]
  },
  {
   "cell_type": "code",
   "execution_count": 33,
   "id": "4a91734c",
   "metadata": {
    "ExecuteTime": {
     "end_time": "2021-11-21T20:40:37.207612Z",
     "start_time": "2021-11-21T20:40:37.102019Z"
    }
   },
   "outputs": [],
   "source": [
    "# Export line chart\n",
    "line_prices_odow.figure.savefig(os.path.join(path, '04 Analysis','Visualizations', '4.9 line_prices_odow.png'))"
   ]
  },
  {
   "cell_type": "code",
   "execution_count": 34,
   "id": "0fddc55a",
   "metadata": {
    "ExecuteTime": {
     "end_time": "2021-11-21T20:40:37.301389Z",
     "start_time": "2021-11-21T20:40:37.207612Z"
    }
   },
   "outputs": [],
   "source": [
    "# Export line chart\n",
    "line_prices_odow_2.figure.savefig(os.path.join(path, '04 Analysis','Visualizations', '4.9 line_prices_odow_2.png'))"
   ]
  },
  {
   "cell_type": "markdown",
   "id": "225f9cc8",
   "metadata": {
    "ExecuteTime": {
     "end_time": "2021-11-09T21:06:05.794886Z",
     "start_time": "2021-11-09T21:06:05.780876Z"
    }
   },
   "source": [
    "# Histogram: sales distribution by time of the day"
   ]
  },
  {
   "cell_type": "code",
   "execution_count": 35,
   "id": "56eac347",
   "metadata": {
    "ExecuteTime": {
     "end_time": "2021-11-21T20:40:39.243818Z",
     "start_time": "2021-11-21T20:40:37.301389Z"
    }
   },
   "outputs": [
    {
     "data": {
      "image/png": "[encoded data removed]",
      "text/plain": [
       "<Figure size 432x288 with 1 Axes>"
      ]
     },
     "metadata": {
      "needs_background": "light"
     },
     "output_type": "display_data"
    }
   ],
   "source": [
    "# Create histogram\n",
    "hist_orders_hod = df_ords_prods_cust_merged[\"order_hour_of_day\"].plot.hist(bins = 70)\n",
    "plt.title(\"Busiest Hours of the Day\")\n",
    "plt.tight_layout()"
   ]
  },
  {
   "cell_type": "markdown",
   "id": "9905cc1c",
   "metadata": {
    "ExecuteTime": {
     "end_time": "2021-11-09T21:59:32.268705Z",
     "start_time": "2021-11-09T21:59:32.244104Z"
    }
   },
   "source": [
    "The busiest shopping hours are between 10:00 and 15:00, while the least busy time is after midnight."
   ]
  },
  {
   "cell_type": "code",
   "execution_count": 36,
   "id": "02ee8456",
   "metadata": {
    "ExecuteTime": {
     "end_time": "2021-11-21T20:40:39.355433Z",
     "start_time": "2021-11-21T20:40:39.245819Z"
    }
   },
   "outputs": [],
   "source": [
    "# Export histogram\n",
    "hist_orders_hod.figure.savefig(os.path.join(path, '04 Analysis','Visualizations', '4.9 hist_orders_hod.png'))"
   ]
  },
  {
   "cell_type": "markdown",
   "id": "943cd56c",
   "metadata": {},
   "source": [
    "# Bar chart: customer loyalty distribution"
   ]
  },
  {
   "cell_type": "code",
   "execution_count": 37,
   "id": "6d597383",
   "metadata": {
    "ExecuteTime": {
     "end_time": "2021-11-21T20:40:39.371435Z",
     "start_time": "2021-11-21T20:40:39.358434Z"
    }
   },
   "outputs": [
    {
     "data": {
      "text/plain": [
       "Index(['order_id', 'user_id', 'order_number', 'order_day_of_week',\n",
       "       'order_hour_of_day', 'days_since_prior_order', 'product_id',\n",
       "       'add_to_cart_order', 'reordered', 'product_name', 'aisle_id',\n",
       "       'department_id', 'prices', 'price_range_loc', 'busiest_day',\n",
       "       'busiest_days', 'busiest_period_of_day', 'max_order', 'loyalty_flag',\n",
       "       'avg_price', 'spending_flag', 'median_prior_order',\n",
       "       'order_frequency_flag', 'gender', 'state', 'age', 'date_joined',\n",
       "       'n_dependants', 'fam_status', 'income', '_merge'],\n",
       "      dtype='object')"
      ]
     },
     "execution_count": 37,
     "metadata": {},
     "output_type": "execute_result"
    }
   ],
   "source": [
    "# Check\n",
    "df_ords_prods_cust_merged.columns"
   ]
  },
  {
   "cell_type": "code",
   "execution_count": 38,
   "id": "b23d674b",
   "metadata": {
    "ExecuteTime": {
     "end_time": "2021-11-21T20:40:40.489743Z",
     "start_time": "2021-11-21T20:40:39.373437Z"
    },
    "scrolled": false
   },
   "outputs": [
    {
     "data": {
      "image/png": "[encoded data removed]",
      "text/plain": [
       "<Figure size 432x288 with 1 Axes>"
      ]
     },
     "metadata": {
      "needs_background": "light"
     },
     "output_type": "display_data"
    }
   ],
   "source": [
    "# Create bar chart\n",
    "bar_loyalty = df_ords_prods_cust_merged[\"loyalty_flag\"].value_counts().plot.bar()\n",
    "plt.title(\"Customer Loyalty Categories\")\n",
    "plt.tight_layout()"
   ]
  },
  {
   "cell_type": "markdown",
   "id": "4b275675",
   "metadata": {},
   "source": [
    "The largest customer category is accounted by regular customers, followed by the loyal customer category."
   ]
  },
  {
   "cell_type": "code",
   "execution_count": 39,
   "id": "672b9582",
   "metadata": {
    "ExecuteTime": {
     "end_time": "2021-11-21T20:40:40.555616Z",
     "start_time": "2021-11-21T20:40:40.492040Z"
    }
   },
   "outputs": [],
   "source": [
    "# Export chart\n",
    "bar_loyalty.figure.savefig(os.path.join(path, '04 Analysis','Visualizations', '4.9 bar_loyalty.png'))"
   ]
  },
  {
   "cell_type": "markdown",
   "id": "05f4430a",
   "metadata": {
    "ExecuteTime": {
     "end_time": "2021-11-09T21:11:27.277441Z",
     "start_time": "2021-11-09T21:11:27.270191Z"
    }
   },
   "source": [
    "# Line chart: prices by hour of the day"
   ]
  },
  {
   "cell_type": "code",
   "execution_count": 40,
   "id": "b35be0f1",
   "metadata": {
    "ExecuteTime": {
     "end_time": "2021-11-21T20:40:40.602504Z",
     "start_time": "2021-11-21T20:40:40.555616Z"
    }
   },
   "outputs": [],
   "source": [
    "# Reduce the sample to the columns necessary for the line chart\n",
    "sample_small_prices_hour = small[[\"order_hour_of_day\", \"prices\"]]"
   ]
  },
  {
   "cell_type": "code",
   "execution_count": 41,
   "id": "cf9923f1",
   "metadata": {
    "ExecuteTime": {
     "end_time": "2021-11-21T20:41:28.640379Z",
     "start_time": "2021-11-21T20:40:40.602504Z"
    },
    "scrolled": false
   },
   "outputs": [
    {
     "data": {
      "text/plain": [
       "Text(0.5, 1.0, 'Prices by Hour of the Day')"
      ]
     },
     "execution_count": 41,
     "metadata": {},
     "output_type": "execute_result"
    },
    {
     "data": {
      "image/png": "[encoded data removed]",
      "text/plain": [
       "<Figure size 432x288 with 1 Axes>"
      ]
     },
     "metadata": {
      "needs_background": "light"
     },
     "output_type": "display_data"
    }
   ],
   "source": [
    "# Create line chart\n",
    "line_prices_ohod = sns.lineplot(data = sample_small_prices_hour, x = \"order_hour_of_day\", y = \"prices\")\n",
    "plt.title(\"Prices by Hour of the Day\")"
   ]
  },
  {
   "cell_type": "markdown",
   "id": "8765451d",
   "metadata": {},
   "source": [
    "The most expensive products tend to be purchased after midnight with a peak around 2 am."
   ]
  },
  {
   "cell_type": "code",
   "execution_count": 42,
   "id": "61c0a00d",
   "metadata": {
    "ExecuteTime": {
     "end_time": "2021-11-21T20:41:28.726620Z",
     "start_time": "2021-11-21T20:41:28.640379Z"
    }
   },
   "outputs": [],
   "source": [
    "# Export line chart\n",
    "line_prices_ohod.figure.savefig(os.path.join(path, '04 Analysis','Visualizations', '4.9 line_prices_ohod.png'))"
   ]
  },
  {
   "cell_type": "markdown",
   "id": "759ec9c8",
   "metadata": {},
   "source": [
    "# Line chart: customer age & number of dependants"
   ]
  },
  {
   "cell_type": "code",
   "execution_count": 43,
   "id": "b484c1c5",
   "metadata": {
    "ExecuteTime": {
     "end_time": "2021-11-21T20:41:28.742479Z",
     "start_time": "2021-11-21T20:41:28.726620Z"
    },
    "scrolled": true
   },
   "outputs": [
    {
     "data": {
      "text/plain": [
       "Index(['order_id', 'user_id', 'order_number', 'order_day_of_week',\n",
       "       'order_hour_of_day', 'days_since_prior_order', 'product_id',\n",
       "       'add_to_cart_order', 'reordered', 'product_name', 'aisle_id',\n",
       "       'department_id', 'prices', 'price_range_loc', 'busiest_day',\n",
       "       'busiest_days', 'busiest_period_of_day', 'max_order', 'loyalty_flag',\n",
       "       'avg_price', 'spending_flag', 'median_prior_order',\n",
       "       'order_frequency_flag', 'gender', 'state', 'age', 'date_joined',\n",
       "       'n_dependants', 'fam_status', 'income', '_merge'],\n",
       "      dtype='object')"
      ]
     },
     "execution_count": 43,
     "metadata": {},
     "output_type": "execute_result"
    }
   ],
   "source": [
    "# Check\n",
    "df_ords_prods_cust_merged.columns"
   ]
  },
  {
   "cell_type": "code",
   "execution_count": 44,
   "id": "3f99d296",
   "metadata": {
    "ExecuteTime": {
     "end_time": "2021-11-21T20:41:28.789503Z",
     "start_time": "2021-11-21T20:41:28.742616Z"
    }
   },
   "outputs": [],
   "source": [
    "# Reduce the sample to the columns necessary for the line chart\n",
    "sample_small_age_dep = small[[\"age\", \"n_dependants\"]]"
   ]
  },
  {
   "cell_type": "code",
   "execution_count": 45,
   "id": "8facf1a7",
   "metadata": {
    "ExecuteTime": {
     "end_time": "2021-11-21T20:41:56.504143Z",
     "start_time": "2021-11-21T20:41:28.789503Z"
    },
    "scrolled": true
   },
   "outputs": [
    {
     "data": {
      "image/png": "[encoded data removed]",
      "text/plain": [
       "<Figure size 432x288 with 1 Axes>"
      ]
     },
     "metadata": {
      "needs_background": "light"
     },
     "output_type": "display_data"
    }
   ],
   "source": [
    "# Create line chart\n",
    "line_age_dep = sns.lineplot(data = sample_small_age_dep, x = \"age\", y = \"n_dependants\")\n",
    "plt.title(\"Relation between Age & Number of Dependants\")\n",
    "plt.tight_layout()"
   ]
  },
  {
   "cell_type": "markdown",
   "id": "7588cc2a",
   "metadata": {},
   "source": [
    "There is no clear pattern that would show that the age of the customers correlate with the number of dependants in their families."
   ]
  },
  {
   "cell_type": "code",
   "execution_count": 46,
   "id": "9667b1d4",
   "metadata": {
    "ExecuteTime": {
     "end_time": "2021-11-21T20:41:56.534928Z",
     "start_time": "2021-11-21T20:41:56.504143Z"
    }
   },
   "outputs": [
    {
     "data": {
      "text/plain": [
       "3"
      ]
     },
     "execution_count": 46,
     "metadata": {},
     "output_type": "execute_result"
    }
   ],
   "source": [
    "sample_small_age_dep[\"n_dependants\"].max()"
   ]
  },
  {
   "cell_type": "code",
   "execution_count": 47,
   "id": "89eb878a",
   "metadata": {
    "ExecuteTime": {
     "end_time": "2021-11-21T20:41:56.618494Z",
     "start_time": "2021-11-21T20:41:56.536929Z"
    }
   },
   "outputs": [],
   "source": [
    "# Export chart\n",
    "line_age_dep.figure.savefig(os.path.join(path, '04 Analysis','Visualizations', '4.9 line_age_dep.png'))"
   ]
  },
  {
   "cell_type": "markdown",
   "id": "3a8825f2",
   "metadata": {},
   "source": [
    "# Scatterplot: customer age & income"
   ]
  },
  {
   "cell_type": "code",
   "execution_count": 48,
   "id": "70306778",
   "metadata": {
    "ExecuteTime": {
     "end_time": "2021-11-21T20:41:56.634414Z",
     "start_time": "2021-11-21T20:41:56.618494Z"
    }
   },
   "outputs": [
    {
     "data": {
      "text/plain": [
       "Index(['order_id', 'user_id', 'order_number', 'order_day_of_week',\n",
       "       'order_hour_of_day', 'days_since_prior_order', 'product_id',\n",
       "       'add_to_cart_order', 'reordered', 'product_name', 'aisle_id',\n",
       "       'department_id', 'prices', 'price_range_loc', 'busiest_day',\n",
       "       'busiest_days', 'busiest_period_of_day', 'max_order', 'loyalty_flag',\n",
       "       'avg_price', 'spending_flag', 'median_prior_order',\n",
       "       'order_frequency_flag', 'gender', 'state', 'age', 'date_joined',\n",
       "       'n_dependants', 'fam_status', 'income', '_merge'],\n",
       "      dtype='object')"
      ]
     },
     "execution_count": 48,
     "metadata": {},
     "output_type": "execute_result"
    }
   ],
   "source": [
    "# Check\n",
    "df_ords_prods_cust_merged.columns"
   ]
  },
  {
   "cell_type": "code",
   "execution_count": 49,
   "id": "86b9a697",
   "metadata": {
    "ExecuteTime": {
     "end_time": "2021-11-21T20:42:17.513125Z",
     "start_time": "2021-11-21T20:41:56.634414Z"
    },
    "scrolled": true
   },
   "outputs": [
    {
     "data": {
      "image/png": "[encoded data removed]",
      "text/plain": [
       "<Figure size 432x288 with 1 Axes>"
      ]
     },
     "metadata": {
      "needs_background": "light"
     },
     "output_type": "display_data"
    }
   ],
   "source": [
    "# Create scatterplot\n",
    "scatterplot_age_income = sns.scatterplot(x = \"age\", y = \"income\", data = df_ords_prods_cust_merged)\n",
    "plt.title(\"Relation Age & Income\")\n",
    "plt.tight_layout()"
   ]
  },
  {
   "cell_type": "markdown",
   "id": "038bfab7",
   "metadata": {
    "ExecuteTime": {
     "end_time": "2021-11-09T21:51:16.713229Z",
     "start_time": "2021-11-09T21:51:16.696230Z"
    }
   },
   "source": [
    "Customers over age of 40 tend to have a higher spending power than their younger peers.\n",
    "Outliers exist in most age categories, but are prevalent in customers over 40."
   ]
  },
  {
   "cell_type": "code",
   "execution_count": 50,
   "id": "e8fd4dc0",
   "metadata": {
    "ExecuteTime": {
     "end_time": "2021-11-21T20:42:35.624578Z",
     "start_time": "2021-11-21T20:42:17.515114Z"
    }
   },
   "outputs": [],
   "source": [
    "# Export chart\n",
    "scatterplot_age_income.figure.savefig(os.path.join(path, '04 Analysis','Visualizations', '4.9 scatterplot_age_income.png'))"
   ]
  },
  {
   "cell_type": "markdown",
   "id": "72be4c96",
   "metadata": {},
   "source": [
    "# Scatterplot: customer age & family status"
   ]
  },
  {
   "cell_type": "code",
   "execution_count": 51,
   "id": "9f759d21",
   "metadata": {
    "ExecuteTime": {
     "end_time": "2021-11-21T20:43:01.162993Z",
     "start_time": "2021-11-21T20:42:35.624578Z"
    },
    "scrolled": true
   },
   "outputs": [
    {
     "data": {
      "image/png": "[encoded data removed]",
      "text/plain": [
       "<Figure size 432x288 with 1 Axes>"
      ]
     },
     "metadata": {
      "needs_background": "light"
     },
     "output_type": "display_data"
    }
   ],
   "source": [
    "# Create scatterplot\n",
    "scatterplot_age_fam = sns.scatterplot(x = \"age\", y = \"fam_status\", data = df_ords_prods_cust_merged)\n",
    "plt.title(\"Relation between Age & Family Status\")\n",
    "plt.tight_layout()"
   ]
  },
  {
   "cell_type": "code",
   "execution_count": 52,
   "id": "9ae3c086",
   "metadata": {
    "ExecuteTime": {
     "end_time": "2021-11-21T20:43:19.362497Z",
     "start_time": "2021-11-21T20:43:01.164994Z"
    }
   },
   "outputs": [],
   "source": [
    "# Export chart\n",
    "scatterplot_age_fam.figure.savefig(os.path.join(path, '04 Analysis','Visualizations', '4.9 scatterplot_age_fam.png'))"
   ]
  },
  {
   "cell_type": "markdown",
   "id": "4dd8f9fb",
   "metadata": {},
   "source": [
    "# Pie chart: price range categories"
   ]
  },
  {
   "cell_type": "code",
   "execution_count": 53,
   "id": "51be758e",
   "metadata": {
    "ExecuteTime": {
     "end_time": "2021-11-21T20:43:20.160103Z",
     "start_time": "2021-11-21T20:43:19.364497Z"
    }
   },
   "outputs": [
    {
     "data": {
      "text/plain": [
       "High-range product     128743\n",
       "Low-range product     3122612\n",
       "Mid-range product     6739551\n",
       "Name: price_range_loc, dtype: int64"
      ]
     },
     "execution_count": 53,
     "metadata": {},
     "output_type": "execute_result"
    }
   ],
   "source": [
    "# Check\n",
    "df_ords_prods_cust_merged[\"price_range_loc\"].value_counts().sort_index()"
   ]
  },
  {
   "cell_type": "code",
   "execution_count": 54,
   "id": "cfca9ecd",
   "metadata": {
    "ExecuteTime": {
     "end_time": "2021-11-21T20:43:21.112298Z",
     "start_time": "2021-11-21T20:43:20.160103Z"
    },
    "scrolled": true
   },
   "outputs": [
    {
     "name": "stderr",
     "output_type": "stream",
     "text": [
      "<ipython-input-54-36c7d59648e6>:4: MatplotlibDeprecationWarning: Adding an axes using the same arguments as a previous axes currently reuses the earlier instance.  In a future version, a new instance will always be created and returned.  Meanwhile, this warning can be suppressed, and the future behavior ensured, by passing a unique label to each axes instance.\n",
      "  plt.axes().set_ylabel(\"\")\n"
     ]
    },
    {
     "data": {
      "text/plain": [
       "Text(0, 0.5, '')"
      ]
     },
     "execution_count": 54,
     "metadata": {},
     "output_type": "execute_result"
    },
    {
     "data": {
      "image/png": "[encoded data removed]",
      "text/plain": [
       "<Figure size 432x288 with 1 Axes>"
      ]
     },
     "metadata": {},
     "output_type": "display_data"
    }
   ],
   "source": [
    "# Create pie chart\n",
    "pie_price = df_ords_prods_cust_merged[\"price_range_loc\"].value_counts().sort_index().plot.pie(colors = sns.color_palette(\"Blues_r\"), autopct='%1.1f%%')\n",
    "plt.title(\"Price Categories\")\n",
    "plt.axes().set_ylabel(\"\")"
   ]
  },
  {
   "cell_type": "code",
   "execution_count": 56,
   "id": "d77ee88f",
   "metadata": {
    "ExecuteTime": {
     "end_time": "2021-11-21T20:43:53.926308Z",
     "start_time": "2021-11-21T20:43:53.880304Z"
    }
   },
   "outputs": [],
   "source": [
    "# Export line chart outside Jupyter as image file\n",
    "pie_price.figure.savefig(os.path.join(path, '04 Analysis','Visualizations', '4.9 pie_prices.png'))"
   ]
  },
  {
   "cell_type": "markdown",
   "id": "46205a70",
   "metadata": {},
   "source": [
    "# Export data"
   ]
  },
  {
   "cell_type": "code",
   "execution_count": 72,
   "id": "8dbd2033",
   "metadata": {
    "ExecuteTime": {
     "end_time": "2021-11-17T18:18:46.290813Z",
     "start_time": "2021-11-17T18:18:09.913528Z"
    }
   },
   "outputs": [],
   "source": [
    "df_ords_prods_cust_merged.to_pickle(os.path.join(path, '02 Data','Prepared Data', '4.9 ords_prods_cust_merged_clean.pkl'))"
   ]
  },
  {
   "cell_type": "code",
   "execution_count": null,
   "id": "ee8091dd",
   "metadata": {},
   "outputs": [],
   "source": []
  }
 ],
 "metadata": {
  "kernelspec": {
   "display_name": "Python 3",
   "language": "python",
   "name": "python3"
  },
  "language_info": {
   "codemirror_mode": {
    "name": "ipython",
    "version": 3
   },
   "file_extension": ".py",
   "mimetype": "text/x-python",
   "name": "python",
   "nbconvert_exporter": "python",
   "pygments_lexer": "ipython3",
   "version": "3.8.8"
  },
  "toc": {
   "base_numbering": 1,
   "nav_menu": {},
   "number_sections": true,
   "sideBar": true,
   "skip_h1_title": false,
   "title_cell": "Table of Contents",
   "title_sidebar": "Contents",
   "toc_cell": false,
   "toc_position": {},
   "toc_section_display": true,
   "toc_window_display": false
  }
 },
 "nbformat": 4,
 "nbformat_minor": 5
}
