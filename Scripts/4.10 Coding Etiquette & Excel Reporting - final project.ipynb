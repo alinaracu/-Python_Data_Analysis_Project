{
 "cells": [
  {
   "cell_type": "markdown",
   "id": "83c12b67",
   "metadata": {},
   "source": [
    "# Import data"
   ]
  },
  {
   "cell_type": "code",
   "execution_count": 1,
   "id": "38dea897",
   "metadata": {
    "ExecuteTime": {
     "end_time": "2021-11-21T21:26:01.089809Z",
     "start_time": "2021-11-21T21:25:58.821894Z"
    }
   },
   "outputs": [],
   "source": [
    "# Import libraries\n",
    "\n",
    "import pandas as pd\n",
    "import numpy as np\n",
    "import os\n",
    "import matplotlib.pyplot as plt\n",
    "import seaborn as sns\n",
    "import scipy"
   ]
  },
  {
   "cell_type": "code",
   "execution_count": 2,
   "id": "8df07e74",
   "metadata": {
    "ExecuteTime": {
     "end_time": "2021-11-21T21:26:01.105724Z",
     "start_time": "2021-11-21T21:26:01.089809Z"
    }
   },
   "outputs": [],
   "source": [
    "# Assign path string to variable\n",
    "path = r'D:\\Docs\\Career Foundry\\II. Data Immersion\\4. Python Fundamentals for Data Analysts\\Instacart Basket Analysis - Alina Racu'"
   ]
  },
  {
   "cell_type": "code",
   "execution_count": 3,
   "id": "f4b19d2e",
   "metadata": {
    "ExecuteTime": {
     "end_time": "2021-11-21T21:26:33.394028Z",
     "start_time": "2021-11-21T21:26:01.108726Z"
    }
   },
   "outputs": [],
   "source": [
    "# Import pkl file\n",
    "df_ords_prods_cust_merged = pd.read_pickle(os.path.join(path, '02 Data', 'Prepared Data', '4.9 ords_prods_cust_merged_clean.pkl'))"
   ]
  },
  {
   "cell_type": "code",
   "execution_count": 4,
   "id": "e97ce5c4",
   "metadata": {
    "ExecuteTime": {
     "end_time": "2021-11-21T21:26:33.469035Z",
     "start_time": "2021-11-21T21:26:33.420032Z"
    }
   },
   "outputs": [
    {
     "data": {
      "text/plain": [
       "(9990906, 31)"
      ]
     },
     "execution_count": 4,
     "metadata": {},
     "output_type": "execute_result"
    }
   ],
   "source": [
    "# Check\n",
    "df_ords_prods_cust_merged.shape"
   ]
  },
  {
   "cell_type": "code",
   "execution_count": 5,
   "id": "11084a04",
   "metadata": {
    "ExecuteTime": {
     "end_time": "2021-11-21T21:26:33.485036Z",
     "start_time": "2021-11-21T21:26:33.474040Z"
    }
   },
   "outputs": [],
   "source": [
    "# Show all columns\n",
    "pd.options.display.max_columns = None"
   ]
  },
  {
   "cell_type": "code",
   "execution_count": 6,
   "id": "6d51627d",
   "metadata": {
    "ExecuteTime": {
     "end_time": "2021-11-21T21:26:33.645047Z",
     "start_time": "2021-11-21T21:26:33.489039Z"
    }
   },
   "outputs": [
    {
     "data": {
      "text/html": [
       "<div>\n",
       "<style scoped>\n",
       "    .dataframe tbody tr th:only-of-type {\n",
       "        vertical-align: middle;\n",
       "    }\n",
       "\n",
       "    .dataframe tbody tr th {\n",
       "        vertical-align: top;\n",
       "    }\n",
       "\n",
       "    .dataframe thead th {\n",
       "        text-align: right;\n",
       "    }\n",
       "</style>\n",
       "<table border=\"1\" class=\"dataframe\">\n",
       "  <thead>\n",
       "    <tr style=\"text-align: right;\">\n",
       "      <th></th>\n",
       "      <th>order_id</th>\n",
       "      <th>user_id</th>\n",
       "      <th>order_number</th>\n",
       "      <th>order_day_of_week</th>\n",
       "      <th>order_hour_of_day</th>\n",
       "      <th>days_since_prior_order</th>\n",
       "      <th>product_id</th>\n",
       "      <th>add_to_cart_order</th>\n",
       "      <th>reordered</th>\n",
       "      <th>product_name</th>\n",
       "      <th>aisle_id</th>\n",
       "      <th>department_id</th>\n",
       "      <th>prices</th>\n",
       "      <th>price_range_loc</th>\n",
       "      <th>busiest_day</th>\n",
       "      <th>busiest_days</th>\n",
       "      <th>busiest_period_of_day</th>\n",
       "      <th>max_order</th>\n",
       "      <th>loyalty_flag</th>\n",
       "      <th>avg_price</th>\n",
       "      <th>spending_flag</th>\n",
       "      <th>median_prior_order</th>\n",
       "      <th>order_frequency_flag</th>\n",
       "      <th>gender</th>\n",
       "      <th>state</th>\n",
       "      <th>age</th>\n",
       "      <th>date_joined</th>\n",
       "      <th>n_dependants</th>\n",
       "      <th>fam_status</th>\n",
       "      <th>income</th>\n",
       "      <th>_merge</th>\n",
       "    </tr>\n",
       "  </thead>\n",
       "  <tbody>\n",
       "    <tr>\n",
       "      <th>0</th>\n",
       "      <td>473747</td>\n",
       "      <td>1</td>\n",
       "      <td>3</td>\n",
       "      <td>3</td>\n",
       "      <td>12</td>\n",
       "      <td>21.0</td>\n",
       "      <td>196</td>\n",
       "      <td>1</td>\n",
       "      <td>1</td>\n",
       "      <td>Soda</td>\n",
       "      <td>77</td>\n",
       "      <td>7</td>\n",
       "      <td>9.0</td>\n",
       "      <td>Mid-range product</td>\n",
       "      <td>Regularly busy</td>\n",
       "      <td>Slowest days</td>\n",
       "      <td>Average orders</td>\n",
       "      <td>7</td>\n",
       "      <td>New customer</td>\n",
       "      <td>6.344444</td>\n",
       "      <td>Low spender</td>\n",
       "      <td>21.0</td>\n",
       "      <td>Non-frequent customer</td>\n",
       "      <td>Female</td>\n",
       "      <td>Alabama</td>\n",
       "      <td>31</td>\n",
       "      <td>2/17/2019</td>\n",
       "      <td>3</td>\n",
       "      <td>married</td>\n",
       "      <td>40423</td>\n",
       "      <td>both</td>\n",
       "    </tr>\n",
       "    <tr>\n",
       "      <th>1</th>\n",
       "      <td>431534</td>\n",
       "      <td>1</td>\n",
       "      <td>5</td>\n",
       "      <td>4</td>\n",
       "      <td>15</td>\n",
       "      <td>28.0</td>\n",
       "      <td>196</td>\n",
       "      <td>1</td>\n",
       "      <td>1</td>\n",
       "      <td>Soda</td>\n",
       "      <td>77</td>\n",
       "      <td>7</td>\n",
       "      <td>9.0</td>\n",
       "      <td>Mid-range product</td>\n",
       "      <td>Least busy</td>\n",
       "      <td>Slowest days</td>\n",
       "      <td>Average orders</td>\n",
       "      <td>7</td>\n",
       "      <td>New customer</td>\n",
       "      <td>6.344444</td>\n",
       "      <td>Low spender</td>\n",
       "      <td>21.0</td>\n",
       "      <td>Non-frequent customer</td>\n",
       "      <td>Female</td>\n",
       "      <td>Alabama</td>\n",
       "      <td>31</td>\n",
       "      <td>2/17/2019</td>\n",
       "      <td>3</td>\n",
       "      <td>married</td>\n",
       "      <td>40423</td>\n",
       "      <td>both</td>\n",
       "    </tr>\n",
       "    <tr>\n",
       "      <th>2</th>\n",
       "      <td>550135</td>\n",
       "      <td>1</td>\n",
       "      <td>7</td>\n",
       "      <td>1</td>\n",
       "      <td>9</td>\n",
       "      <td>20.0</td>\n",
       "      <td>196</td>\n",
       "      <td>1</td>\n",
       "      <td>1</td>\n",
       "      <td>Soda</td>\n",
       "      <td>77</td>\n",
       "      <td>7</td>\n",
       "      <td>9.0</td>\n",
       "      <td>Mid-range product</td>\n",
       "      <td>Regularly busy</td>\n",
       "      <td>Busiest days</td>\n",
       "      <td>Average orders</td>\n",
       "      <td>7</td>\n",
       "      <td>New customer</td>\n",
       "      <td>6.344444</td>\n",
       "      <td>Low spender</td>\n",
       "      <td>21.0</td>\n",
       "      <td>Non-frequent customer</td>\n",
       "      <td>Female</td>\n",
       "      <td>Alabama</td>\n",
       "      <td>31</td>\n",
       "      <td>2/17/2019</td>\n",
       "      <td>3</td>\n",
       "      <td>married</td>\n",
       "      <td>40423</td>\n",
       "      <td>both</td>\n",
       "    </tr>\n",
       "    <tr>\n",
       "      <th>3</th>\n",
       "      <td>473747</td>\n",
       "      <td>1</td>\n",
       "      <td>3</td>\n",
       "      <td>3</td>\n",
       "      <td>12</td>\n",
       "      <td>21.0</td>\n",
       "      <td>12427</td>\n",
       "      <td>2</td>\n",
       "      <td>1</td>\n",
       "      <td>Original Beef Jerky</td>\n",
       "      <td>23</td>\n",
       "      <td>19</td>\n",
       "      <td>4.4</td>\n",
       "      <td>Low-range product</td>\n",
       "      <td>Regularly busy</td>\n",
       "      <td>Slowest days</td>\n",
       "      <td>Average orders</td>\n",
       "      <td>7</td>\n",
       "      <td>New customer</td>\n",
       "      <td>6.344444</td>\n",
       "      <td>Low spender</td>\n",
       "      <td>21.0</td>\n",
       "      <td>Non-frequent customer</td>\n",
       "      <td>Female</td>\n",
       "      <td>Alabama</td>\n",
       "      <td>31</td>\n",
       "      <td>2/17/2019</td>\n",
       "      <td>3</td>\n",
       "      <td>married</td>\n",
       "      <td>40423</td>\n",
       "      <td>both</td>\n",
       "    </tr>\n",
       "    <tr>\n",
       "      <th>4</th>\n",
       "      <td>431534</td>\n",
       "      <td>1</td>\n",
       "      <td>5</td>\n",
       "      <td>4</td>\n",
       "      <td>15</td>\n",
       "      <td>28.0</td>\n",
       "      <td>12427</td>\n",
       "      <td>2</td>\n",
       "      <td>1</td>\n",
       "      <td>Original Beef Jerky</td>\n",
       "      <td>23</td>\n",
       "      <td>19</td>\n",
       "      <td>4.4</td>\n",
       "      <td>Low-range product</td>\n",
       "      <td>Least busy</td>\n",
       "      <td>Slowest days</td>\n",
       "      <td>Average orders</td>\n",
       "      <td>7</td>\n",
       "      <td>New customer</td>\n",
       "      <td>6.344444</td>\n",
       "      <td>Low spender</td>\n",
       "      <td>21.0</td>\n",
       "      <td>Non-frequent customer</td>\n",
       "      <td>Female</td>\n",
       "      <td>Alabama</td>\n",
       "      <td>31</td>\n",
       "      <td>2/17/2019</td>\n",
       "      <td>3</td>\n",
       "      <td>married</td>\n",
       "      <td>40423</td>\n",
       "      <td>both</td>\n",
       "    </tr>\n",
       "  </tbody>\n",
       "</table>\n",
       "</div>"
      ],
      "text/plain": [
       "  order_id user_id  order_number  order_day_of_week  order_hour_of_day  \\\n",
       "0   473747       1             3                  3                 12   \n",
       "1   431534       1             5                  4                 15   \n",
       "2   550135       1             7                  1                  9   \n",
       "3   473747       1             3                  3                 12   \n",
       "4   431534       1             5                  4                 15   \n",
       "\n",
       "   days_since_prior_order product_id  add_to_cart_order  reordered  \\\n",
       "0                    21.0        196                  1          1   \n",
       "1                    28.0        196                  1          1   \n",
       "2                    20.0        196                  1          1   \n",
       "3                    21.0      12427                  2          1   \n",
       "4                    28.0      12427                  2          1   \n",
       "\n",
       "          product_name  aisle_id  department_id  prices    price_range_loc  \\\n",
       "0                 Soda        77              7     9.0  Mid-range product   \n",
       "1                 Soda        77              7     9.0  Mid-range product   \n",
       "2                 Soda        77              7     9.0  Mid-range product   \n",
       "3  Original Beef Jerky        23             19     4.4  Low-range product   \n",
       "4  Original Beef Jerky        23             19     4.4  Low-range product   \n",
       "\n",
       "      busiest_day  busiest_days busiest_period_of_day  max_order  \\\n",
       "0  Regularly busy  Slowest days        Average orders          7   \n",
       "1      Least busy  Slowest days        Average orders          7   \n",
       "2  Regularly busy  Busiest days        Average orders          7   \n",
       "3  Regularly busy  Slowest days        Average orders          7   \n",
       "4      Least busy  Slowest days        Average orders          7   \n",
       "\n",
       "   loyalty_flag  avg_price spending_flag  median_prior_order  \\\n",
       "0  New customer   6.344444   Low spender                21.0   \n",
       "1  New customer   6.344444   Low spender                21.0   \n",
       "2  New customer   6.344444   Low spender                21.0   \n",
       "3  New customer   6.344444   Low spender                21.0   \n",
       "4  New customer   6.344444   Low spender                21.0   \n",
       "\n",
       "    order_frequency_flag  gender    state  age date_joined  n_dependants  \\\n",
       "0  Non-frequent customer  Female  Alabama   31   2/17/2019             3   \n",
       "1  Non-frequent customer  Female  Alabama   31   2/17/2019             3   \n",
       "2  Non-frequent customer  Female  Alabama   31   2/17/2019             3   \n",
       "3  Non-frequent customer  Female  Alabama   31   2/17/2019             3   \n",
       "4  Non-frequent customer  Female  Alabama   31   2/17/2019             3   \n",
       "\n",
       "  fam_status  income _merge  \n",
       "0    married   40423   both  \n",
       "1    married   40423   both  \n",
       "2    married   40423   both  \n",
       "3    married   40423   both  \n",
       "4    married   40423   both  "
      ]
     },
     "execution_count": 6,
     "metadata": {},
     "output_type": "execute_result"
    }
   ],
   "source": [
    "# Check\n",
    "df_ords_prods_cust_merged.head()"
   ]
  },
  {
   "cell_type": "markdown",
   "id": "ee639307",
   "metadata": {},
   "source": [
    "# Security implications"
   ]
  },
  {
   "cell_type": "markdown",
   "id": "c4ce9601",
   "metadata": {},
   "source": [
    "Names and surnames of customers have been removed from the dataframe in previous steps due to the sensitivity of such data."
   ]
  },
  {
   "cell_type": "markdown",
   "id": "9314b3b6",
   "metadata": {},
   "source": [
    "# Customer profiling & visualizations"
   ]
  },
  {
   "cell_type": "markdown",
   "id": "bffc323f",
   "metadata": {},
   "source": [
    "## Exclude low activity customers from dataframe"
   ]
  },
  {
   "cell_type": "code",
   "execution_count": 7,
   "id": "7d822d34",
   "metadata": {
    "ExecuteTime": {
     "end_time": "2021-11-21T21:26:34.909108Z",
     "start_time": "2021-11-21T21:26:33.648049Z"
    }
   },
   "outputs": [],
   "source": [
    "# Create a flag for customer activity\n",
    "df_ords_prods_cust_merged.loc[df_ords_prods_cust_merged[\"max_order\"] < 5, \"customer_activity\"] = \"Low activity\"\n",
    "df_ords_prods_cust_merged.loc[df_ords_prods_cust_merged[\"max_order\"] >= 5, \"customer_activity\"] = \"High activity\""
   ]
  },
  {
   "cell_type": "code",
   "execution_count": 8,
   "id": "3bcf9b19",
   "metadata": {
    "ExecuteTime": {
     "end_time": "2021-11-21T21:26:34.957110Z",
     "start_time": "2021-11-21T21:26:34.911107Z"
    },
    "scrolled": true
   },
   "outputs": [
    {
     "data": {
      "text/html": [
       "<div>\n",
       "<style scoped>\n",
       "    .dataframe tbody tr th:only-of-type {\n",
       "        vertical-align: middle;\n",
       "    }\n",
       "\n",
       "    .dataframe tbody tr th {\n",
       "        vertical-align: top;\n",
       "    }\n",
       "\n",
       "    .dataframe thead th {\n",
       "        text-align: right;\n",
       "    }\n",
       "</style>\n",
       "<table border=\"1\" class=\"dataframe\">\n",
       "  <thead>\n",
       "    <tr style=\"text-align: right;\">\n",
       "      <th></th>\n",
       "      <th>order_id</th>\n",
       "      <th>user_id</th>\n",
       "      <th>order_number</th>\n",
       "      <th>order_day_of_week</th>\n",
       "      <th>order_hour_of_day</th>\n",
       "      <th>days_since_prior_order</th>\n",
       "      <th>product_id</th>\n",
       "      <th>add_to_cart_order</th>\n",
       "      <th>reordered</th>\n",
       "      <th>product_name</th>\n",
       "      <th>aisle_id</th>\n",
       "      <th>department_id</th>\n",
       "      <th>prices</th>\n",
       "      <th>price_range_loc</th>\n",
       "      <th>busiest_day</th>\n",
       "      <th>busiest_days</th>\n",
       "      <th>busiest_period_of_day</th>\n",
       "      <th>max_order</th>\n",
       "      <th>loyalty_flag</th>\n",
       "      <th>avg_price</th>\n",
       "      <th>spending_flag</th>\n",
       "      <th>median_prior_order</th>\n",
       "      <th>order_frequency_flag</th>\n",
       "      <th>gender</th>\n",
       "      <th>state</th>\n",
       "      <th>age</th>\n",
       "      <th>date_joined</th>\n",
       "      <th>n_dependants</th>\n",
       "      <th>fam_status</th>\n",
       "      <th>income</th>\n",
       "      <th>_merge</th>\n",
       "      <th>customer_activity</th>\n",
       "    </tr>\n",
       "  </thead>\n",
       "  <tbody>\n",
       "    <tr>\n",
       "      <th>0</th>\n",
       "      <td>473747</td>\n",
       "      <td>1</td>\n",
       "      <td>3</td>\n",
       "      <td>3</td>\n",
       "      <td>12</td>\n",
       "      <td>21.0</td>\n",
       "      <td>196</td>\n",
       "      <td>1</td>\n",
       "      <td>1</td>\n",
       "      <td>Soda</td>\n",
       "      <td>77</td>\n",
       "      <td>7</td>\n",
       "      <td>9.0</td>\n",
       "      <td>Mid-range product</td>\n",
       "      <td>Regularly busy</td>\n",
       "      <td>Slowest days</td>\n",
       "      <td>Average orders</td>\n",
       "      <td>7</td>\n",
       "      <td>New customer</td>\n",
       "      <td>6.344444</td>\n",
       "      <td>Low spender</td>\n",
       "      <td>21.0</td>\n",
       "      <td>Non-frequent customer</td>\n",
       "      <td>Female</td>\n",
       "      <td>Alabama</td>\n",
       "      <td>31</td>\n",
       "      <td>2/17/2019</td>\n",
       "      <td>3</td>\n",
       "      <td>married</td>\n",
       "      <td>40423</td>\n",
       "      <td>both</td>\n",
       "      <td>High activity</td>\n",
       "    </tr>\n",
       "    <tr>\n",
       "      <th>1</th>\n",
       "      <td>431534</td>\n",
       "      <td>1</td>\n",
       "      <td>5</td>\n",
       "      <td>4</td>\n",
       "      <td>15</td>\n",
       "      <td>28.0</td>\n",
       "      <td>196</td>\n",
       "      <td>1</td>\n",
       "      <td>1</td>\n",
       "      <td>Soda</td>\n",
       "      <td>77</td>\n",
       "      <td>7</td>\n",
       "      <td>9.0</td>\n",
       "      <td>Mid-range product</td>\n",
       "      <td>Least busy</td>\n",
       "      <td>Slowest days</td>\n",
       "      <td>Average orders</td>\n",
       "      <td>7</td>\n",
       "      <td>New customer</td>\n",
       "      <td>6.344444</td>\n",
       "      <td>Low spender</td>\n",
       "      <td>21.0</td>\n",
       "      <td>Non-frequent customer</td>\n",
       "      <td>Female</td>\n",
       "      <td>Alabama</td>\n",
       "      <td>31</td>\n",
       "      <td>2/17/2019</td>\n",
       "      <td>3</td>\n",
       "      <td>married</td>\n",
       "      <td>40423</td>\n",
       "      <td>both</td>\n",
       "      <td>High activity</td>\n",
       "    </tr>\n",
       "    <tr>\n",
       "      <th>2</th>\n",
       "      <td>550135</td>\n",
       "      <td>1</td>\n",
       "      <td>7</td>\n",
       "      <td>1</td>\n",
       "      <td>9</td>\n",
       "      <td>20.0</td>\n",
       "      <td>196</td>\n",
       "      <td>1</td>\n",
       "      <td>1</td>\n",
       "      <td>Soda</td>\n",
       "      <td>77</td>\n",
       "      <td>7</td>\n",
       "      <td>9.0</td>\n",
       "      <td>Mid-range product</td>\n",
       "      <td>Regularly busy</td>\n",
       "      <td>Busiest days</td>\n",
       "      <td>Average orders</td>\n",
       "      <td>7</td>\n",
       "      <td>New customer</td>\n",
       "      <td>6.344444</td>\n",
       "      <td>Low spender</td>\n",
       "      <td>21.0</td>\n",
       "      <td>Non-frequent customer</td>\n",
       "      <td>Female</td>\n",
       "      <td>Alabama</td>\n",
       "      <td>31</td>\n",
       "      <td>2/17/2019</td>\n",
       "      <td>3</td>\n",
       "      <td>married</td>\n",
       "      <td>40423</td>\n",
       "      <td>both</td>\n",
       "      <td>High activity</td>\n",
       "    </tr>\n",
       "    <tr>\n",
       "      <th>3</th>\n",
       "      <td>473747</td>\n",
       "      <td>1</td>\n",
       "      <td>3</td>\n",
       "      <td>3</td>\n",
       "      <td>12</td>\n",
       "      <td>21.0</td>\n",
       "      <td>12427</td>\n",
       "      <td>2</td>\n",
       "      <td>1</td>\n",
       "      <td>Original Beef Jerky</td>\n",
       "      <td>23</td>\n",
       "      <td>19</td>\n",
       "      <td>4.4</td>\n",
       "      <td>Low-range product</td>\n",
       "      <td>Regularly busy</td>\n",
       "      <td>Slowest days</td>\n",
       "      <td>Average orders</td>\n",
       "      <td>7</td>\n",
       "      <td>New customer</td>\n",
       "      <td>6.344444</td>\n",
       "      <td>Low spender</td>\n",
       "      <td>21.0</td>\n",
       "      <td>Non-frequent customer</td>\n",
       "      <td>Female</td>\n",
       "      <td>Alabama</td>\n",
       "      <td>31</td>\n",
       "      <td>2/17/2019</td>\n",
       "      <td>3</td>\n",
       "      <td>married</td>\n",
       "      <td>40423</td>\n",
       "      <td>both</td>\n",
       "      <td>High activity</td>\n",
       "    </tr>\n",
       "    <tr>\n",
       "      <th>4</th>\n",
       "      <td>431534</td>\n",
       "      <td>1</td>\n",
       "      <td>5</td>\n",
       "      <td>4</td>\n",
       "      <td>15</td>\n",
       "      <td>28.0</td>\n",
       "      <td>12427</td>\n",
       "      <td>2</td>\n",
       "      <td>1</td>\n",
       "      <td>Original Beef Jerky</td>\n",
       "      <td>23</td>\n",
       "      <td>19</td>\n",
       "      <td>4.4</td>\n",
       "      <td>Low-range product</td>\n",
       "      <td>Least busy</td>\n",
       "      <td>Slowest days</td>\n",
       "      <td>Average orders</td>\n",
       "      <td>7</td>\n",
       "      <td>New customer</td>\n",
       "      <td>6.344444</td>\n",
       "      <td>Low spender</td>\n",
       "      <td>21.0</td>\n",
       "      <td>Non-frequent customer</td>\n",
       "      <td>Female</td>\n",
       "      <td>Alabama</td>\n",
       "      <td>31</td>\n",
       "      <td>2/17/2019</td>\n",
       "      <td>3</td>\n",
       "      <td>married</td>\n",
       "      <td>40423</td>\n",
       "      <td>both</td>\n",
       "      <td>High activity</td>\n",
       "    </tr>\n",
       "  </tbody>\n",
       "</table>\n",
       "</div>"
      ],
      "text/plain": [
       "  order_id user_id  order_number  order_day_of_week  order_hour_of_day  \\\n",
       "0   473747       1             3                  3                 12   \n",
       "1   431534       1             5                  4                 15   \n",
       "2   550135       1             7                  1                  9   \n",
       "3   473747       1             3                  3                 12   \n",
       "4   431534       1             5                  4                 15   \n",
       "\n",
       "   days_since_prior_order product_id  add_to_cart_order  reordered  \\\n",
       "0                    21.0        196                  1          1   \n",
       "1                    28.0        196                  1          1   \n",
       "2                    20.0        196                  1          1   \n",
       "3                    21.0      12427                  2          1   \n",
       "4                    28.0      12427                  2          1   \n",
       "\n",
       "          product_name  aisle_id  department_id  prices    price_range_loc  \\\n",
       "0                 Soda        77              7     9.0  Mid-range product   \n",
       "1                 Soda        77              7     9.0  Mid-range product   \n",
       "2                 Soda        77              7     9.0  Mid-range product   \n",
       "3  Original Beef Jerky        23             19     4.4  Low-range product   \n",
       "4  Original Beef Jerky        23             19     4.4  Low-range product   \n",
       "\n",
       "      busiest_day  busiest_days busiest_period_of_day  max_order  \\\n",
       "0  Regularly busy  Slowest days        Average orders          7   \n",
       "1      Least busy  Slowest days        Average orders          7   \n",
       "2  Regularly busy  Busiest days        Average orders          7   \n",
       "3  Regularly busy  Slowest days        Average orders          7   \n",
       "4      Least busy  Slowest days        Average orders          7   \n",
       "\n",
       "   loyalty_flag  avg_price spending_flag  median_prior_order  \\\n",
       "0  New customer   6.344444   Low spender                21.0   \n",
       "1  New customer   6.344444   Low spender                21.0   \n",
       "2  New customer   6.344444   Low spender                21.0   \n",
       "3  New customer   6.344444   Low spender                21.0   \n",
       "4  New customer   6.344444   Low spender                21.0   \n",
       "\n",
       "    order_frequency_flag  gender    state  age date_joined  n_dependants  \\\n",
       "0  Non-frequent customer  Female  Alabama   31   2/17/2019             3   \n",
       "1  Non-frequent customer  Female  Alabama   31   2/17/2019             3   \n",
       "2  Non-frequent customer  Female  Alabama   31   2/17/2019             3   \n",
       "3  Non-frequent customer  Female  Alabama   31   2/17/2019             3   \n",
       "4  Non-frequent customer  Female  Alabama   31   2/17/2019             3   \n",
       "\n",
       "  fam_status  income _merge customer_activity  \n",
       "0    married   40423   both     High activity  \n",
       "1    married   40423   both     High activity  \n",
       "2    married   40423   both     High activity  \n",
       "3    married   40423   both     High activity  \n",
       "4    married   40423   both     High activity  "
      ]
     },
     "execution_count": 8,
     "metadata": {},
     "output_type": "execute_result"
    }
   ],
   "source": [
    "# Check\n",
    "df_ords_prods_cust_merged.head()"
   ]
  },
  {
   "cell_type": "code",
   "execution_count": 9,
   "id": "9c03a3e7",
   "metadata": {
    "ExecuteTime": {
     "end_time": "2021-11-21T21:27:05.058872Z",
     "start_time": "2021-11-21T21:26:34.960113Z"
    }
   },
   "outputs": [],
   "source": [
    "# Create subset with high activity customers only (exclude low-activity)\n",
    "df_ords_prods_cust_merged_new = df_ords_prods_cust_merged[df_ords_prods_cust_merged[\"customer_activity\"] == \"High activity\"]"
   ]
  },
  {
   "cell_type": "code",
   "execution_count": 10,
   "id": "2f3e6f1e",
   "metadata": {
    "ExecuteTime": {
     "end_time": "2021-11-21T21:27:05.104973Z",
     "start_time": "2021-11-21T21:27:05.076971Z"
    }
   },
   "outputs": [
    {
     "data": {
      "text/plain": [
       "(9216591, 32)"
      ]
     },
     "execution_count": 10,
     "metadata": {},
     "output_type": "execute_result"
    }
   ],
   "source": [
    "# Check\n",
    "df_ords_prods_cust_merged_new.shape"
   ]
  },
  {
   "cell_type": "code",
   "execution_count": 11,
   "id": "5a8ccedb",
   "metadata": {
    "ExecuteTime": {
     "end_time": "2021-11-21T21:27:10.324741Z",
     "start_time": "2021-11-21T21:27:05.108975Z"
    }
   },
   "outputs": [],
   "source": [
    "# Create subset with low activity customers only \n",
    "low_activity_cust = df_ords_prods_cust_merged[df_ords_prods_cust_merged[\"customer_activity\"] == \"Low activity\"]"
   ]
  },
  {
   "cell_type": "code",
   "execution_count": 12,
   "id": "71907d8f",
   "metadata": {
    "ExecuteTime": {
     "end_time": "2021-11-21T21:27:10.340500Z",
     "start_time": "2021-11-21T21:27:10.324741Z"
    },
    "scrolled": true
   },
   "outputs": [
    {
     "data": {
      "text/plain": [
       "(774315, 32)"
      ]
     },
     "execution_count": 12,
     "metadata": {},
     "output_type": "execute_result"
    }
   ],
   "source": [
    "# Check\n",
    "low_activity_cust.shape"
   ]
  },
  {
   "cell_type": "code",
   "execution_count": 13,
   "id": "34ff9456",
   "metadata": {
    "ExecuteTime": {
     "end_time": "2021-11-21T21:27:10.356505Z",
     "start_time": "2021-11-21T21:27:10.342500Z"
    },
    "scrolled": true
   },
   "outputs": [
    {
     "data": {
      "text/plain": [
       "9990906"
      ]
     },
     "execution_count": 13,
     "metadata": {},
     "output_type": "execute_result"
    }
   ],
   "source": [
    "# Check\n",
    "len(df_ords_prods_cust_merged_new)+len(low_activity_cust)"
   ]
  },
  {
   "cell_type": "code",
   "execution_count": 14,
   "id": "d1a6053c",
   "metadata": {
    "ExecuteTime": {
     "end_time": "2021-11-21T21:27:10.484544Z",
     "start_time": "2021-11-21T21:27:10.359502Z"
    }
   },
   "outputs": [
    {
     "data": {
      "text/plain": [
       "5"
      ]
     },
     "execution_count": 14,
     "metadata": {},
     "output_type": "execute_result"
    }
   ],
   "source": [
    "# Check\n",
    "df_ords_prods_cust_merged_new[\"max_order\"].min()"
   ]
  },
  {
   "cell_type": "code",
   "execution_count": 15,
   "id": "bd9a2bfa",
   "metadata": {
    "ExecuteTime": {
     "end_time": "2021-11-21T21:27:10.500544Z",
     "start_time": "2021-11-21T21:27:10.487544Z"
    },
    "scrolled": true
   },
   "outputs": [
    {
     "data": {
      "text/plain": [
       "4"
      ]
     },
     "execution_count": 15,
     "metadata": {},
     "output_type": "execute_result"
    }
   ],
   "source": [
    "# Check\n",
    "low_activity_cust[\"max_order\"].max()"
   ]
  },
  {
   "cell_type": "code",
   "execution_count": 16,
   "id": "d9c9658c",
   "metadata": {
    "ExecuteTime": {
     "end_time": "2021-11-21T21:27:34.662627Z",
     "start_time": "2021-11-21T21:27:10.502546Z"
    }
   },
   "outputs": [],
   "source": [
    "# Export subset with high activity customers\n",
    "df_ords_prods_cust_merged_new.to_pickle(os.path.join(path, '02 Data','Prepared Data', '4.10 ords_prods_cust_merged_new.pkl'))"
   ]
  },
  {
   "cell_type": "code",
   "execution_count": 17,
   "id": "d894f860",
   "metadata": {
    "ExecuteTime": {
     "end_time": "2021-11-21T21:27:36.040668Z",
     "start_time": "2021-11-21T21:27:34.662627Z"
    }
   },
   "outputs": [],
   "source": [
    "# Export subset with low activity customers\n",
    "low_activity_cust.to_pickle(os.path.join(path, '02 Data','Prepared Data', '4.10 low_activity_cust.pkl'))"
   ]
  },
  {
   "cell_type": "markdown",
   "id": "3020dcf1",
   "metadata": {},
   "source": [
    "## Define regions"
   ]
  },
  {
   "cell_type": "code",
   "execution_count": 18,
   "id": "b327795e",
   "metadata": {
    "ExecuteTime": {
     "end_time": "2021-11-21T21:27:52.445240Z",
     "start_time": "2021-11-21T21:27:36.047149Z"
    }
   },
   "outputs": [],
   "source": [
    "# Create empty list\n",
    "result = []\n",
    "\n",
    "# For loop\n",
    "for value in df_ords_prods_cust_merged_new[\"state\"]:\n",
    "    if (value == \"Maine\") or (value == \"New Hampshire\") or (value == \"Vermont\") or (value == \"Massachusetts\") or (value == \"Rhode Island\") or (value == \"Connecticut\") or (value == \"New York\")  or (value == \"Pennsylvania\") or (value == \"New Jersey\"):\n",
    "        result.append(\"Northeast\")\n",
    "    elif (value == \"Wisconsin\") or (value == \"Michigan\") or (value == \"Illinois\") or (value == \"Indiana\") or (value == \"Ohio\") or (value == \"North Dakota\") or (value == \"South Dakota\")  or (value == \"Nebraska\") or (value == \"Kansas\") or (value == \"Minnesota\") or (value == \"Iowa\") or (value == \"Missouri\"):\n",
    "        result.append(\"Midwest\")\n",
    "    elif (value == \"Delaware\") or (value == \"Maryland\") or (value == \"District of Columbia\") or (value == \"Virginia\") or (value == \"West Virginia\") or (value == \"North Carolina\") or (value == \"South Carolina\")  or (value == \"Georgia\") or (value == \"Florida\") or (value == \"Kentucky\") or (value == \"Tennessee\") or (value == \"Mississippi\") or (value == \"Alabama\") or (value == \"Oklahoma\") or (value == \"Texas\") or (value == \"Arkansas\") or (value == \"Louisiana\"):\n",
    "        result.append(\"South\")\n",
    "    elif (value == \"Idaho\") or (value == \"Montana\") or (value == \"Wyoming\") or (value == \"Nevada\") or (value == \"Utah\") or (value == \"Colorado\") or (value == \"Arizona\")  or (value == \"New Mexico\") or (value == \"Alaska\") or (value == \"Washington\") or (value == \"Oregon\") or (value == \"California\") or (value == \"Hawaii\"):\n",
    "        result.append(\"West\")\n",
    "    else:\n",
    "        result.append(\"NA\")"
   ]
  },
  {
   "cell_type": "code",
   "execution_count": 19,
   "id": "4fd0fb60",
   "metadata": {
    "ExecuteTime": {
     "end_time": "2021-11-21T21:27:52.493245Z",
     "start_time": "2021-11-21T21:27:52.448240Z"
    }
   },
   "outputs": [
    {
     "data": {
      "text/plain": [
       "['South',\n",
       " 'South',\n",
       " 'South',\n",
       " 'South',\n",
       " 'South',\n",
       " 'South',\n",
       " 'South',\n",
       " 'South',\n",
       " 'South',\n",
       " 'South',\n",
       " 'South',\n",
       " 'South',\n",
       " 'South',\n",
       " 'South',\n",
       " 'South',\n",
       " 'South',\n",
       " 'South',\n",
       " 'South',\n",
       " 'Midwest',\n",
       " 'Midwest',\n",
       " 'Midwest',\n",
       " 'Midwest',\n",
       " 'Midwest',\n",
       " 'Midwest',\n",
       " 'Midwest',\n",
       " 'Midwest',\n",
       " 'Midwest',\n",
       " 'Midwest',\n",
       " 'Midwest',\n",
       " 'Midwest',\n",
       " 'Midwest',\n",
       " 'Midwest',\n",
       " 'Midwest',\n",
       " 'Midwest',\n",
       " 'South',\n",
       " 'South',\n",
       " 'South',\n",
       " 'South',\n",
       " 'South',\n",
       " 'South',\n",
       " 'South',\n",
       " 'South',\n",
       " 'South',\n",
       " 'South',\n",
       " 'South',\n",
       " 'South',\n",
       " 'South',\n",
       " 'South',\n",
       " 'South',\n",
       " 'South',\n",
       " 'South',\n",
       " 'South',\n",
       " 'South',\n",
       " 'South',\n",
       " 'South',\n",
       " 'South',\n",
       " 'South',\n",
       " 'South',\n",
       " 'South',\n",
       " 'South',\n",
       " 'South',\n",
       " 'South',\n",
       " 'South',\n",
       " 'South',\n",
       " 'South',\n",
       " 'South',\n",
       " 'South',\n",
       " 'South',\n",
       " 'South',\n",
       " 'South',\n",
       " 'South',\n",
       " 'South',\n",
       " 'South',\n",
       " 'South',\n",
       " 'South',\n",
       " 'South',\n",
       " 'South',\n",
       " 'South',\n",
       " 'South',\n",
       " 'South',\n",
       " 'South',\n",
       " 'South',\n",
       " 'South',\n",
       " 'South',\n",
       " 'South',\n",
       " 'South',\n",
       " 'South',\n",
       " 'South',\n",
       " 'South',\n",
       " 'South',\n",
       " 'South',\n",
       " 'South',\n",
       " 'South',\n",
       " 'South',\n",
       " 'South',\n",
       " 'South',\n",
       " 'South',\n",
       " 'South',\n",
       " 'South',\n",
       " 'South',\n",
       " 'South',\n",
       " 'South',\n",
       " 'South',\n",
       " 'South',\n",
       " 'South',\n",
       " 'South',\n",
       " 'South',\n",
       " 'South',\n",
       " 'South',\n",
       " 'South',\n",
       " 'South',\n",
       " 'South',\n",
       " 'South',\n",
       " 'South',\n",
       " 'South',\n",
       " 'South',\n",
       " 'South',\n",
       " 'South',\n",
       " 'South',\n",
       " 'South',\n",
       " 'South',\n",
       " 'South',\n",
       " 'South',\n",
       " 'South',\n",
       " 'South',\n",
       " 'South',\n",
       " 'South',\n",
       " 'South',\n",
       " 'South',\n",
       " 'South',\n",
       " 'South',\n",
       " 'Midwest',\n",
       " 'Midwest',\n",
       " 'Midwest',\n",
       " 'Midwest',\n",
       " 'Midwest',\n",
       " 'Midwest',\n",
       " 'Midwest',\n",
       " 'Midwest',\n",
       " 'Midwest',\n",
       " 'Midwest',\n",
       " 'Midwest',\n",
       " 'Midwest',\n",
       " 'Midwest',\n",
       " 'Midwest',\n",
       " 'Midwest',\n",
       " 'Midwest',\n",
       " 'Midwest',\n",
       " 'Midwest',\n",
       " 'Midwest',\n",
       " 'Midwest',\n",
       " 'Midwest',\n",
       " 'Midwest',\n",
       " 'Midwest',\n",
       " 'Midwest',\n",
       " 'Midwest',\n",
       " 'Midwest',\n",
       " 'South',\n",
       " 'South',\n",
       " 'South',\n",
       " 'South',\n",
       " 'South',\n",
       " 'South',\n",
       " 'South',\n",
       " 'South',\n",
       " 'South',\n",
       " 'South',\n",
       " 'South',\n",
       " 'South',\n",
       " 'South',\n",
       " 'South',\n",
       " 'South',\n",
       " 'South',\n",
       " 'South',\n",
       " 'South',\n",
       " 'South',\n",
       " 'South',\n",
       " 'South',\n",
       " 'South',\n",
       " 'South',\n",
       " 'South',\n",
       " 'South',\n",
       " 'South',\n",
       " 'South',\n",
       " 'South',\n",
       " 'South',\n",
       " 'South',\n",
       " 'South',\n",
       " 'South',\n",
       " 'South',\n",
       " 'South',\n",
       " 'South',\n",
       " 'South',\n",
       " 'South',\n",
       " 'South',\n",
       " 'South',\n",
       " 'South',\n",
       " 'South',\n",
       " 'South',\n",
       " 'South',\n",
       " 'South',\n",
       " 'Midwest',\n",
       " 'Midwest',\n",
       " 'Midwest',\n",
       " 'Midwest',\n",
       " 'Midwest',\n",
       " 'Midwest',\n",
       " 'Midwest',\n",
       " 'Midwest',\n",
       " 'Midwest',\n",
       " 'Midwest',\n",
       " 'Midwest',\n",
       " 'Midwest',\n",
       " 'Midwest',\n",
       " 'Midwest',\n",
       " 'Midwest',\n",
       " 'Midwest',\n",
       " 'Midwest',\n",
       " 'Midwest',\n",
       " 'Midwest',\n",
       " 'Midwest',\n",
       " 'Midwest',\n",
       " 'Midwest',\n",
       " 'Midwest',\n",
       " 'Midwest',\n",
       " 'Midwest',\n",
       " 'Midwest',\n",
       " 'Midwest',\n",
       " 'Midwest',\n",
       " 'Midwest',\n",
       " 'Midwest',\n",
       " 'Midwest',\n",
       " 'Midwest',\n",
       " 'Midwest',\n",
       " 'Midwest',\n",
       " 'Midwest',\n",
       " 'Midwest',\n",
       " 'Midwest',\n",
       " 'Midwest',\n",
       " 'Midwest',\n",
       " 'Midwest',\n",
       " 'Midwest',\n",
       " 'Midwest',\n",
       " 'Midwest',\n",
       " 'Midwest',\n",
       " 'Midwest',\n",
       " 'Midwest',\n",
       " 'Midwest',\n",
       " 'Midwest',\n",
       " 'Midwest',\n",
       " 'Midwest',\n",
       " 'Midwest',\n",
       " 'Midwest',\n",
       " 'Midwest',\n",
       " 'Midwest',\n",
       " 'Midwest',\n",
       " 'Midwest',\n",
       " 'Midwest',\n",
       " 'Midwest',\n",
       " 'Midwest',\n",
       " 'Midwest',\n",
       " 'Midwest',\n",
       " 'Midwest',\n",
       " 'West',\n",
       " 'West',\n",
       " 'West',\n",
       " 'West',\n",
       " 'West',\n",
       " 'West',\n",
       " 'West',\n",
       " 'West',\n",
       " 'West',\n",
       " 'West',\n",
       " 'West',\n",
       " 'West',\n",
       " 'West',\n",
       " 'West',\n",
       " 'West',\n",
       " 'West',\n",
       " 'West',\n",
       " 'West',\n",
       " 'West',\n",
       " 'West',\n",
       " 'West',\n",
       " 'West',\n",
       " 'West',\n",
       " 'West',\n",
       " 'West',\n",
       " 'West',\n",
       " 'West',\n",
       " 'West',\n",
       " 'West',\n",
       " 'West',\n",
       " 'West',\n",
       " 'West',\n",
       " 'West',\n",
       " 'West',\n",
       " 'West',\n",
       " 'West',\n",
       " 'West',\n",
       " 'West',\n",
       " 'West',\n",
       " 'Midwest',\n",
       " 'Midwest',\n",
       " 'Midwest',\n",
       " 'Midwest',\n",
       " 'Midwest',\n",
       " 'Midwest',\n",
       " 'Midwest',\n",
       " 'Midwest',\n",
       " 'Midwest',\n",
       " 'Midwest',\n",
       " 'Midwest',\n",
       " 'Midwest',\n",
       " 'Midwest',\n",
       " 'Midwest',\n",
       " 'Midwest',\n",
       " 'Midwest',\n",
       " 'Midwest',\n",
       " 'Midwest',\n",
       " 'Midwest',\n",
       " 'Midwest',\n",
       " 'Midwest',\n",
       " 'Midwest',\n",
       " 'Midwest',\n",
       " 'Midwest',\n",
       " 'Midwest',\n",
       " 'Midwest',\n",
       " 'Midwest',\n",
       " 'Midwest',\n",
       " 'Midwest',\n",
       " 'Midwest',\n",
       " 'Midwest',\n",
       " 'Midwest',\n",
       " 'Midwest',\n",
       " 'Midwest',\n",
       " 'Midwest',\n",
       " 'Midwest',\n",
       " 'Midwest',\n",
       " 'Midwest',\n",
       " 'Midwest',\n",
       " 'Midwest',\n",
       " 'Midwest',\n",
       " 'Midwest',\n",
       " 'Midwest',\n",
       " 'Midwest',\n",
       " 'Midwest',\n",
       " 'Midwest',\n",
       " 'Midwest',\n",
       " 'Midwest',\n",
       " 'Midwest',\n",
       " 'Midwest',\n",
       " 'Midwest',\n",
       " 'Midwest',\n",
       " 'Midwest',\n",
       " 'Midwest',\n",
       " 'Midwest',\n",
       " 'Midwest',\n",
       " 'Midwest',\n",
       " 'Midwest',\n",
       " 'Midwest',\n",
       " 'Midwest',\n",
       " 'Midwest',\n",
       " 'Midwest',\n",
       " 'Midwest',\n",
       " 'Midwest',\n",
       " 'Midwest',\n",
       " 'Midwest',\n",
       " 'Midwest',\n",
       " 'Midwest',\n",
       " 'Midwest',\n",
       " 'Midwest',\n",
       " 'Midwest',\n",
       " 'Midwest',\n",
       " 'Midwest',\n",
       " 'Midwest',\n",
       " 'Midwest',\n",
       " 'Midwest',\n",
       " 'Midwest',\n",
       " 'Midwest',\n",
       " 'Midwest',\n",
       " 'Midwest',\n",
       " 'Midwest',\n",
       " 'Midwest',\n",
       " 'Midwest',\n",
       " 'Midwest',\n",
       " 'Midwest',\n",
       " 'Midwest',\n",
       " 'Midwest',\n",
       " 'Midwest',\n",
       " 'Midwest',\n",
       " 'Midwest',\n",
       " 'Midwest',\n",
       " 'Midwest',\n",
       " 'Midwest',\n",
       " 'Midwest',\n",
       " 'Midwest',\n",
       " 'Midwest',\n",
       " 'Midwest',\n",
       " 'Midwest',\n",
       " 'Midwest',\n",
       " 'Midwest',\n",
       " 'Midwest',\n",
       " 'Midwest',\n",
       " 'Midwest',\n",
       " 'Midwest',\n",
       " 'Midwest',\n",
       " 'Midwest',\n",
       " 'Midwest',\n",
       " 'Midwest',\n",
       " 'Midwest',\n",
       " 'Midwest',\n",
       " 'Midwest',\n",
       " 'Midwest',\n",
       " 'Midwest',\n",
       " 'Midwest',\n",
       " 'Midwest',\n",
       " 'Midwest',\n",
       " 'Midwest',\n",
       " 'Midwest',\n",
       " 'Midwest',\n",
       " 'Midwest',\n",
       " 'Midwest',\n",
       " 'Midwest',\n",
       " 'Midwest',\n",
       " 'Midwest',\n",
       " 'Midwest',\n",
       " 'Midwest',\n",
       " 'Midwest',\n",
       " 'Midwest',\n",
       " 'Midwest',\n",
       " 'Midwest',\n",
       " 'Midwest',\n",
       " 'Midwest',\n",
       " 'Midwest',\n",
       " 'Midwest',\n",
       " 'Midwest',\n",
       " 'Midwest',\n",
       " 'Midwest',\n",
       " 'Midwest',\n",
       " 'Midwest',\n",
       " 'Midwest',\n",
       " 'Midwest',\n",
       " 'Midwest',\n",
       " 'Midwest',\n",
       " 'Midwest',\n",
       " 'Midwest',\n",
       " 'Midwest',\n",
       " 'Midwest',\n",
       " 'Midwest',\n",
       " 'Midwest',\n",
       " 'Midwest',\n",
       " 'Midwest',\n",
       " 'Midwest',\n",
       " 'Midwest',\n",
       " 'Midwest',\n",
       " 'Midwest',\n",
       " 'Midwest',\n",
       " 'Midwest',\n",
       " 'Midwest',\n",
       " 'Midwest',\n",
       " 'Midwest',\n",
       " 'Midwest',\n",
       " 'Midwest',\n",
       " 'Midwest',\n",
       " 'Midwest',\n",
       " 'Midwest',\n",
       " 'Midwest',\n",
       " 'Midwest',\n",
       " 'Midwest',\n",
       " 'Midwest',\n",
       " 'Midwest',\n",
       " 'Midwest',\n",
       " 'Midwest',\n",
       " 'Midwest',\n",
       " 'Midwest',\n",
       " 'Midwest',\n",
       " 'Midwest',\n",
       " 'Midwest',\n",
       " 'Midwest',\n",
       " 'Midwest',\n",
       " 'Midwest',\n",
       " 'Midwest',\n",
       " 'Midwest',\n",
       " 'Midwest',\n",
       " 'Midwest',\n",
       " 'Midwest',\n",
       " 'Midwest',\n",
       " 'Midwest',\n",
       " 'Midwest',\n",
       " 'Midwest',\n",
       " 'Midwest',\n",
       " 'Midwest',\n",
       " 'Midwest',\n",
       " 'Midwest',\n",
       " 'Midwest',\n",
       " 'Midwest',\n",
       " 'Midwest',\n",
       " 'Midwest',\n",
       " 'Midwest',\n",
       " 'Midwest',\n",
       " 'Midwest',\n",
       " 'Midwest',\n",
       " 'Midwest',\n",
       " 'Midwest',\n",
       " 'Midwest',\n",
       " 'Midwest',\n",
       " 'Midwest',\n",
       " 'Midwest',\n",
       " 'Midwest',\n",
       " 'Midwest',\n",
       " 'Midwest',\n",
       " 'Midwest',\n",
       " 'Midwest',\n",
       " 'Midwest',\n",
       " 'Midwest',\n",
       " 'Midwest',\n",
       " 'Midwest',\n",
       " 'Midwest',\n",
       " 'Midwest',\n",
       " 'Midwest',\n",
       " 'Midwest',\n",
       " 'Midwest',\n",
       " 'Midwest',\n",
       " 'Midwest',\n",
       " 'Midwest',\n",
       " 'Midwest',\n",
       " 'Midwest',\n",
       " 'Midwest',\n",
       " 'Midwest',\n",
       " 'Midwest',\n",
       " 'Midwest',\n",
       " 'Midwest',\n",
       " 'West',\n",
       " 'West',\n",
       " 'West',\n",
       " 'West',\n",
       " 'West',\n",
       " 'West',\n",
       " 'West',\n",
       " 'West',\n",
       " 'Midwest',\n",
       " 'Midwest',\n",
       " 'Midwest',\n",
       " 'Midwest',\n",
       " 'Midwest',\n",
       " 'Midwest',\n",
       " 'Midwest',\n",
       " 'Midwest',\n",
       " 'Midwest',\n",
       " 'South',\n",
       " 'South',\n",
       " 'South',\n",
       " 'South',\n",
       " 'South',\n",
       " 'South',\n",
       " 'South',\n",
       " 'South',\n",
       " 'South',\n",
       " 'South',\n",
       " 'South',\n",
       " 'South',\n",
       " 'South',\n",
       " 'South',\n",
       " 'South',\n",
       " 'South',\n",
       " 'South',\n",
       " 'South',\n",
       " 'South',\n",
       " 'South',\n",
       " 'South',\n",
       " 'South',\n",
       " 'South',\n",
       " 'South',\n",
       " 'South',\n",
       " 'South',\n",
       " 'West',\n",
       " 'West',\n",
       " 'West',\n",
       " 'West',\n",
       " 'West',\n",
       " 'West',\n",
       " 'West',\n",
       " 'West',\n",
       " 'West',\n",
       " 'West',\n",
       " 'West',\n",
       " 'West',\n",
       " 'West',\n",
       " 'West',\n",
       " 'West',\n",
       " 'West',\n",
       " 'West',\n",
       " 'West',\n",
       " 'West',\n",
       " 'West',\n",
       " 'West',\n",
       " 'West',\n",
       " 'West',\n",
       " 'West',\n",
       " 'West',\n",
       " 'West',\n",
       " 'West',\n",
       " 'West',\n",
       " 'West',\n",
       " 'West',\n",
       " 'West',\n",
       " 'West',\n",
       " 'West',\n",
       " 'West',\n",
       " 'South',\n",
       " 'South',\n",
       " 'South',\n",
       " 'South',\n",
       " 'South',\n",
       " 'South',\n",
       " 'South',\n",
       " 'South',\n",
       " 'South',\n",
       " 'South',\n",
       " 'South',\n",
       " 'South',\n",
       " 'South',\n",
       " 'South',\n",
       " 'South',\n",
       " 'South',\n",
       " 'South',\n",
       " 'South',\n",
       " 'South',\n",
       " 'South',\n",
       " 'South',\n",
       " 'South',\n",
       " 'South',\n",
       " 'South',\n",
       " 'South',\n",
       " 'Midwest',\n",
       " 'Midwest',\n",
       " 'Midwest',\n",
       " 'Midwest',\n",
       " 'Midwest',\n",
       " 'Midwest',\n",
       " 'Midwest',\n",
       " 'Midwest',\n",
       " 'Midwest',\n",
       " 'Midwest',\n",
       " 'Midwest',\n",
       " 'Midwest',\n",
       " 'Midwest',\n",
       " 'Midwest',\n",
       " 'Midwest',\n",
       " 'Midwest',\n",
       " 'Midwest',\n",
       " 'Midwest',\n",
       " 'Midwest',\n",
       " 'Midwest',\n",
       " 'Midwest',\n",
       " 'Midwest',\n",
       " 'Midwest',\n",
       " 'Midwest',\n",
       " 'Midwest',\n",
       " 'Midwest',\n",
       " 'Midwest',\n",
       " 'Midwest',\n",
       " 'Midwest',\n",
       " 'Midwest',\n",
       " 'Midwest',\n",
       " 'Midwest',\n",
       " 'Midwest',\n",
       " 'Midwest',\n",
       " 'Midwest',\n",
       " 'Midwest',\n",
       " 'Midwest',\n",
       " 'Midwest',\n",
       " 'Midwest',\n",
       " 'Midwest',\n",
       " 'Midwest',\n",
       " 'Midwest',\n",
       " 'Midwest',\n",
       " 'Midwest',\n",
       " 'Midwest',\n",
       " 'Midwest',\n",
       " 'Midwest',\n",
       " 'Midwest',\n",
       " 'Midwest',\n",
       " 'Midwest',\n",
       " 'Midwest',\n",
       " 'Midwest',\n",
       " 'Midwest',\n",
       " 'Midwest',\n",
       " 'Midwest',\n",
       " 'Midwest',\n",
       " 'Midwest',\n",
       " 'Midwest',\n",
       " 'Midwest',\n",
       " 'Midwest',\n",
       " 'Midwest',\n",
       " 'Midwest',\n",
       " 'Midwest',\n",
       " 'Midwest',\n",
       " 'Midwest',\n",
       " 'Midwest',\n",
       " 'Midwest',\n",
       " 'Midwest',\n",
       " 'Midwest',\n",
       " 'Midwest',\n",
       " 'Midwest',\n",
       " 'Midwest',\n",
       " 'Midwest',\n",
       " 'Midwest',\n",
       " 'Midwest',\n",
       " 'Midwest',\n",
       " 'Midwest',\n",
       " 'Midwest',\n",
       " 'Midwest',\n",
       " 'Midwest',\n",
       " 'Midwest',\n",
       " 'Midwest',\n",
       " 'Midwest',\n",
       " 'Midwest',\n",
       " 'Midwest',\n",
       " 'Midwest',\n",
       " 'Midwest',\n",
       " 'Midwest',\n",
       " 'Midwest',\n",
       " 'Midwest',\n",
       " 'Midwest',\n",
       " 'Midwest',\n",
       " 'Midwest',\n",
       " 'Midwest',\n",
       " 'Midwest',\n",
       " 'Midwest',\n",
       " 'Midwest',\n",
       " 'Midwest',\n",
       " 'Midwest',\n",
       " 'Midwest',\n",
       " 'Midwest',\n",
       " 'Midwest',\n",
       " 'Midwest',\n",
       " 'Midwest',\n",
       " 'Midwest',\n",
       " 'Midwest',\n",
       " 'Midwest',\n",
       " 'Midwest',\n",
       " 'Midwest',\n",
       " 'Midwest',\n",
       " 'Midwest',\n",
       " 'Northeast',\n",
       " 'Northeast',\n",
       " 'Northeast',\n",
       " 'Northeast',\n",
       " 'Northeast',\n",
       " 'Northeast',\n",
       " 'Northeast',\n",
       " 'Northeast',\n",
       " 'Northeast',\n",
       " 'Northeast',\n",
       " 'Northeast',\n",
       " 'Northeast',\n",
       " 'Northeast',\n",
       " 'Northeast',\n",
       " 'Northeast',\n",
       " 'Northeast',\n",
       " 'Northeast',\n",
       " 'Northeast',\n",
       " 'Northeast',\n",
       " 'Northeast',\n",
       " 'Northeast',\n",
       " 'Northeast',\n",
       " 'Northeast',\n",
       " 'Northeast',\n",
       " 'Northeast',\n",
       " 'Northeast',\n",
       " 'Northeast',\n",
       " 'Northeast',\n",
       " 'Northeast',\n",
       " 'Northeast',\n",
       " 'Northeast',\n",
       " 'West',\n",
       " 'West',\n",
       " 'West',\n",
       " 'West',\n",
       " 'West',\n",
       " 'West',\n",
       " 'West',\n",
       " 'West',\n",
       " 'West',\n",
       " 'West',\n",
       " 'West',\n",
       " 'West',\n",
       " 'West',\n",
       " 'West',\n",
       " 'West',\n",
       " 'West',\n",
       " 'West',\n",
       " 'West',\n",
       " 'West',\n",
       " 'West',\n",
       " 'West',\n",
       " 'West',\n",
       " 'West',\n",
       " 'West',\n",
       " 'West',\n",
       " 'West',\n",
       " 'West',\n",
       " 'West',\n",
       " 'West',\n",
       " 'West',\n",
       " 'West',\n",
       " 'West',\n",
       " 'West',\n",
       " 'West',\n",
       " 'West',\n",
       " 'West',\n",
       " 'West',\n",
       " 'West',\n",
       " 'West',\n",
       " 'West',\n",
       " 'West',\n",
       " 'West',\n",
       " 'West',\n",
       " 'West',\n",
       " 'West',\n",
       " 'South',\n",
       " 'South',\n",
       " 'South',\n",
       " 'South',\n",
       " 'South',\n",
       " 'South',\n",
       " 'South',\n",
       " 'South',\n",
       " 'South',\n",
       " 'South',\n",
       " 'South',\n",
       " 'South',\n",
       " 'South',\n",
       " 'South',\n",
       " 'South',\n",
       " 'South',\n",
       " 'South',\n",
       " 'South',\n",
       " 'South',\n",
       " 'South',\n",
       " 'South',\n",
       " 'South',\n",
       " 'South',\n",
       " 'South',\n",
       " 'South',\n",
       " 'South',\n",
       " 'South',\n",
       " 'South',\n",
       " 'South',\n",
       " 'South',\n",
       " 'South',\n",
       " 'South',\n",
       " 'South',\n",
       " 'South',\n",
       " 'South',\n",
       " 'South',\n",
       " 'South',\n",
       " 'South',\n",
       " 'South',\n",
       " 'South',\n",
       " 'South',\n",
       " 'South',\n",
       " 'South',\n",
       " 'South',\n",
       " 'South',\n",
       " 'South',\n",
       " 'South',\n",
       " 'South',\n",
       " 'South',\n",
       " 'South',\n",
       " 'South',\n",
       " 'South',\n",
       " 'South',\n",
       " 'South',\n",
       " 'South',\n",
       " 'South',\n",
       " 'South',\n",
       " 'South',\n",
       " 'South',\n",
       " 'South',\n",
       " 'South',\n",
       " 'South',\n",
       " 'South',\n",
       " 'South',\n",
       " 'South',\n",
       " 'South',\n",
       " 'South',\n",
       " 'South',\n",
       " 'South',\n",
       " 'South',\n",
       " 'South',\n",
       " 'South',\n",
       " 'South',\n",
       " 'South',\n",
       " 'South',\n",
       " 'South',\n",
       " 'South',\n",
       " 'South',\n",
       " 'South',\n",
       " 'South',\n",
       " 'South',\n",
       " 'South',\n",
       " 'South',\n",
       " 'South',\n",
       " 'South',\n",
       " 'South',\n",
       " 'South',\n",
       " 'South',\n",
       " 'South',\n",
       " 'South',\n",
       " 'South',\n",
       " 'South',\n",
       " 'West',\n",
       " 'West',\n",
       " 'West',\n",
       " 'West',\n",
       " 'West',\n",
       " 'West',\n",
       " 'West',\n",
       " 'West',\n",
       " 'West',\n",
       " 'West',\n",
       " 'West',\n",
       " 'West',\n",
       " 'West',\n",
       " 'West',\n",
       " 'West',\n",
       " 'West',\n",
       " 'West',\n",
       " 'West',\n",
       " 'West',\n",
       " 'South',\n",
       " 'South',\n",
       " 'South',\n",
       " 'South',\n",
       " 'South',\n",
       " 'South',\n",
       " 'South',\n",
       " 'South',\n",
       " 'South',\n",
       " 'South',\n",
       " 'South',\n",
       " 'South',\n",
       " 'South',\n",
       " 'South',\n",
       " 'South',\n",
       " 'South',\n",
       " 'South',\n",
       " 'South',\n",
       " 'South',\n",
       " 'South',\n",
       " 'South',\n",
       " 'South',\n",
       " 'South',\n",
       " 'South',\n",
       " 'South',\n",
       " 'South',\n",
       " 'South',\n",
       " 'South',\n",
       " 'South',\n",
       " 'South',\n",
       " 'South',\n",
       " 'South',\n",
       " 'South',\n",
       " 'South',\n",
       " 'South',\n",
       " 'South',\n",
       " 'South',\n",
       " 'South',\n",
       " 'South',\n",
       " 'South',\n",
       " 'South',\n",
       " 'South',\n",
       " 'South',\n",
       " 'South',\n",
       " 'South',\n",
       " 'South',\n",
       " 'South',\n",
       " 'South',\n",
       " 'South',\n",
       " 'South',\n",
       " 'South',\n",
       " 'South',\n",
       " 'South',\n",
       " 'South',\n",
       " 'South',\n",
       " 'South',\n",
       " 'South',\n",
       " 'South',\n",
       " 'South',\n",
       " 'South',\n",
       " 'South',\n",
       " 'South',\n",
       " 'South',\n",
       " 'South',\n",
       " 'South',\n",
       " 'South',\n",
       " 'South',\n",
       " ...]"
      ]
     },
     "execution_count": 19,
     "metadata": {},
     "output_type": "execute_result"
    }
   ],
   "source": [
    "# Print list \"result\"\n",
    "result"
   ]
  },
  {
   "cell_type": "code",
   "execution_count": 20,
   "id": "aaff17af",
   "metadata": {
    "ExecuteTime": {
     "end_time": "2021-11-21T21:27:52.925277Z",
     "start_time": "2021-11-21T21:27:52.497243Z"
    }
   },
   "outputs": [
    {
     "name": "stderr",
     "output_type": "stream",
     "text": [
      "<ipython-input-20-f384b78bba0a>:2: SettingWithCopyWarning: \n",
      "A value is trying to be set on a copy of a slice from a DataFrame.\n",
      "Try using .loc[row_indexer,col_indexer] = value instead\n",
      "\n",
      "See the caveats in the documentation: https://pandas.pydata.org/pandas-docs/stable/user_guide/indexing.html#returning-a-view-versus-a-copy\n",
      "  df_ords_prods_cust_merged_new[\"region\"] = result\n"
     ]
    }
   ],
   "source": [
    "# Create new column \"region\" and set it equal to list \"result\"\n",
    "df_ords_prods_cust_merged_new[\"region\"] = result"
   ]
  },
  {
   "cell_type": "code",
   "execution_count": 21,
   "id": "b00e23a1",
   "metadata": {
    "ExecuteTime": {
     "end_time": "2021-11-21T21:27:53.786500Z",
     "start_time": "2021-11-21T21:27:52.929277Z"
    }
   },
   "outputs": [
    {
     "data": {
      "text/plain": [
       "South        3077021\n",
       "West         2359270\n",
       "Midwest      2150271\n",
       "Northeast    1630029\n",
       "Name: region, dtype: int64"
      ]
     },
     "execution_count": 21,
     "metadata": {},
     "output_type": "execute_result"
    }
   ],
   "source": [
    "# Check\n",
    "df_ords_prods_cust_merged_new[\"region\"].value_counts()"
   ]
  },
  {
   "cell_type": "code",
   "execution_count": 22,
   "id": "723f5f7e",
   "metadata": {
    "ExecuteTime": {
     "end_time": "2021-11-21T21:27:59.416511Z",
     "start_time": "2021-11-21T21:27:53.790502Z"
    }
   },
   "outputs": [],
   "source": [
    "# Determine whether there's a difference in spending habits between the different US regions\n",
    "# Create a crosstab between \"region\" and \"spending_flag\"\n",
    "crosstab_region_spend = pd.crosstab(df_ords_prods_cust_merged_new[\"region\"], df_ords_prods_cust_merged[\"spending_flag\"], dropna = False)"
   ]
  },
  {
   "cell_type": "code",
   "execution_count": 23,
   "id": "33dda4c9",
   "metadata": {
    "ExecuteTime": {
     "end_time": "2021-11-21T21:27:59.447746Z",
     "start_time": "2021-11-21T21:27:59.416511Z"
    }
   },
   "outputs": [
    {
     "data": {
      "text/html": [
       "<div>\n",
       "<style scoped>\n",
       "    .dataframe tbody tr th:only-of-type {\n",
       "        vertical-align: middle;\n",
       "    }\n",
       "\n",
       "    .dataframe tbody tr th {\n",
       "        vertical-align: top;\n",
       "    }\n",
       "\n",
       "    .dataframe thead th {\n",
       "        text-align: right;\n",
       "    }\n",
       "</style>\n",
       "<table border=\"1\" class=\"dataframe\">\n",
       "  <thead>\n",
       "    <tr style=\"text-align: right;\">\n",
       "      <th>spending_flag</th>\n",
       "      <th>High spender</th>\n",
       "      <th>Low spender</th>\n",
       "    </tr>\n",
       "    <tr>\n",
       "      <th>region</th>\n",
       "      <th></th>\n",
       "      <th></th>\n",
       "    </tr>\n",
       "  </thead>\n",
       "  <tbody>\n",
       "    <tr>\n",
       "      <th>Midwest</th>\n",
       "      <td>36882</td>\n",
       "      <td>2113389</td>\n",
       "    </tr>\n",
       "    <tr>\n",
       "      <th>Northeast</th>\n",
       "      <td>25674</td>\n",
       "      <td>1604355</td>\n",
       "    </tr>\n",
       "    <tr>\n",
       "      <th>South</th>\n",
       "      <td>52526</td>\n",
       "      <td>3024495</td>\n",
       "    </tr>\n",
       "    <tr>\n",
       "      <th>West</th>\n",
       "      <td>40126</td>\n",
       "      <td>2319144</td>\n",
       "    </tr>\n",
       "  </tbody>\n",
       "</table>\n",
       "</div>"
      ],
      "text/plain": [
       "spending_flag  High spender  Low spender\n",
       "region                                  \n",
       "Midwest               36882      2113389\n",
       "Northeast             25674      1604355\n",
       "South                 52526      3024495\n",
       "West                  40126      2319144"
      ]
     },
     "execution_count": 23,
     "metadata": {},
     "output_type": "execute_result"
    }
   ],
   "source": [
    "# Print\n",
    "crosstab_region_spend"
   ]
  },
  {
   "cell_type": "markdown",
   "id": "68087d15",
   "metadata": {
    "ExecuteTime": {
     "end_time": "2021-11-14T12:21:15.175580Z",
     "start_time": "2021-11-14T12:21:15.155710Z"
    }
   },
   "source": [
    "The highest number of high spenders are based in the South, while the highest number of low spenders are located in the West."
   ]
  },
  {
   "cell_type": "code",
   "execution_count": 24,
   "id": "aeebbcea",
   "metadata": {
    "ExecuteTime": {
     "end_time": "2021-11-21T21:27:59.540328Z",
     "start_time": "2021-11-21T21:27:59.455746Z"
    }
   },
   "outputs": [],
   "source": [
    "# Copy to clipboard\n",
    "crosstab_region_spend.to_clipboard()"
   ]
  },
  {
   "cell_type": "code",
   "execution_count": 25,
   "id": "5cfc5e4f",
   "metadata": {
    "ExecuteTime": {
     "end_time": "2021-11-21T21:28:00.164011Z",
     "start_time": "2021-11-21T21:27:59.550336Z"
    }
   },
   "outputs": [
    {
     "data": {
      "image/png": "[encoded data removed]",
      "text/plain": [
       "<Figure size 432x288 with 1 Axes>"
      ]
     },
     "metadata": {
      "needs_background": "light"
     },
     "output_type": "display_data"
    }
   ],
   "source": [
    "# Create bar chart\n",
    "crosstab_region_spend_chart = crosstab_region_spend.plot(kind='bar', stacked=True, color = sns.color_palette(\"Blues_r\"))\n",
    "plt.title(\"Spending Habits by Region\")\n",
    "plt.tight_layout()"
   ]
  },
  {
   "cell_type": "code",
   "execution_count": 26,
   "id": "c5275ea8",
   "metadata": {
    "ExecuteTime": {
     "end_time": "2021-11-21T21:28:00.291018Z",
     "start_time": "2021-11-21T21:28:00.169011Z"
    }
   },
   "outputs": [],
   "source": [
    "# Export chart\n",
    "crosstab_region_spend_chart.figure.savefig(os.path.join(path, '04 Analysis','Visualizations', 'crosstab_region_spend_chart'))"
   ]
  },
  {
   "cell_type": "markdown",
   "id": "8e6da6fb",
   "metadata": {
    "ExecuteTime": {
     "end_time": "2021-11-14T14:40:47.895393Z",
     "start_time": "2021-11-14T14:40:47.881985Z"
    }
   },
   "source": [
    "## Define age groups"
   ]
  },
  {
   "cell_type": "code",
   "execution_count": 27,
   "id": "2220d0c0",
   "metadata": {
    "ExecuteTime": {
     "end_time": "2021-11-21T21:28:00.307020Z",
     "start_time": "2021-11-21T21:28:00.293020Z"
    }
   },
   "outputs": [
    {
     "data": {
      "text/plain": [
       "Index(['order_id', 'user_id', 'order_number', 'order_day_of_week',\n",
       "       'order_hour_of_day', 'days_since_prior_order', 'product_id',\n",
       "       'add_to_cart_order', 'reordered', 'product_name', 'aisle_id',\n",
       "       'department_id', 'prices', 'price_range_loc', 'busiest_day',\n",
       "       'busiest_days', 'busiest_period_of_day', 'max_order', 'loyalty_flag',\n",
       "       'avg_price', 'spending_flag', 'median_prior_order',\n",
       "       'order_frequency_flag', 'gender', 'state', 'age', 'date_joined',\n",
       "       'n_dependants', 'fam_status', 'income', '_merge', 'customer_activity',\n",
       "       'region'],\n",
       "      dtype='object')"
      ]
     },
     "execution_count": 27,
     "metadata": {},
     "output_type": "execute_result"
    }
   ],
   "source": [
    "# Check\n",
    "df_ords_prods_cust_merged_new.columns"
   ]
  },
  {
   "cell_type": "code",
   "execution_count": 28,
   "id": "b69008bf",
   "metadata": {
    "ExecuteTime": {
     "end_time": "2021-11-21T21:28:00.435031Z",
     "start_time": "2021-11-21T21:28:00.309020Z"
    }
   },
   "outputs": [
    {
     "data": {
      "text/plain": [
       "18"
      ]
     },
     "execution_count": 28,
     "metadata": {},
     "output_type": "execute_result"
    }
   ],
   "source": [
    "# Check min\n",
    "df_ords_prods_cust_merged_new[\"age\"].min()"
   ]
  },
  {
   "cell_type": "code",
   "execution_count": 29,
   "id": "0b8df617",
   "metadata": {
    "ExecuteTime": {
     "end_time": "2021-11-21T21:28:00.467032Z",
     "start_time": "2021-11-21T21:28:00.438030Z"
    }
   },
   "outputs": [
    {
     "data": {
      "text/plain": [
       "81"
      ]
     },
     "execution_count": 29,
     "metadata": {},
     "output_type": "execute_result"
    }
   ],
   "source": [
    "# Check max\n",
    "df_ords_prods_cust_merged_new[\"age\"].max()"
   ]
  },
  {
   "cell_type": "code",
   "execution_count": 30,
   "id": "a3dcb2d9",
   "metadata": {
    "ExecuteTime": {
     "end_time": "2021-11-21T21:28:02.368216Z",
     "start_time": "2021-11-21T21:28:00.470035Z"
    },
    "scrolled": true
   },
   "outputs": [
    {
     "name": "stderr",
     "output_type": "stream",
     "text": [
      "C:\\Users\\Alina\\anaconda3\\lib\\site-packages\\pandas\\core\\indexing.py:1599: SettingWithCopyWarning: \n",
      "A value is trying to be set on a copy of a slice from a DataFrame.\n",
      "Try using .loc[row_indexer,col_indexer] = value instead\n",
      "\n",
      "See the caveats in the documentation: https://pandas.pydata.org/pandas-docs/stable/user_guide/indexing.html#returning-a-view-versus-a-copy\n",
      "  self.obj[key] = infer_fill_value(value)\n",
      "C:\\Users\\Alina\\anaconda3\\lib\\site-packages\\pandas\\core\\indexing.py:1720: SettingWithCopyWarning: \n",
      "A value is trying to be set on a copy of a slice from a DataFrame.\n",
      "Try using .loc[row_indexer,col_indexer] = value instead\n",
      "\n",
      "See the caveats in the documentation: https://pandas.pydata.org/pandas-docs/stable/user_guide/indexing.html#returning-a-view-versus-a-copy\n",
      "  self._setitem_single_column(loc, value, pi)\n",
      "C:\\Users\\Alina\\anaconda3\\lib\\site-packages\\pandas\\core\\indexing.py:1720: SettingWithCopyWarning: \n",
      "A value is trying to be set on a copy of a slice from a DataFrame.\n",
      "Try using .loc[row_indexer,col_indexer] = value instead\n",
      "\n",
      "See the caveats in the documentation: https://pandas.pydata.org/pandas-docs/stable/user_guide/indexing.html#returning-a-view-versus-a-copy\n",
      "  self._setitem_single_column(loc, value, pi)\n",
      "C:\\Users\\Alina\\anaconda3\\lib\\site-packages\\pandas\\core\\indexing.py:1720: SettingWithCopyWarning: \n",
      "A value is trying to be set on a copy of a slice from a DataFrame.\n",
      "Try using .loc[row_indexer,col_indexer] = value instead\n",
      "\n",
      "See the caveats in the documentation: https://pandas.pydata.org/pandas-docs/stable/user_guide/indexing.html#returning-a-view-versus-a-copy\n",
      "  self._setitem_single_column(loc, value, pi)\n",
      "C:\\Users\\Alina\\anaconda3\\lib\\site-packages\\pandas\\core\\indexing.py:1720: SettingWithCopyWarning: \n",
      "A value is trying to be set on a copy of a slice from a DataFrame.\n",
      "Try using .loc[row_indexer,col_indexer] = value instead\n",
      "\n",
      "See the caveats in the documentation: https://pandas.pydata.org/pandas-docs/stable/user_guide/indexing.html#returning-a-view-versus-a-copy\n",
      "  self._setitem_single_column(loc, value, pi)\n"
     ]
    }
   ],
   "source": [
    "# Create variable \"age_group\"\n",
    "df_ords_prods_cust_merged_new.loc[(df_ords_prods_cust_merged_new[\"age\"] >= 18) & (df_ords_prods_cust_merged_new[\"age\"] < 35), \"age_group\"] = \"Young adults\"\n",
    "df_ords_prods_cust_merged_new.loc[(df_ords_prods_cust_merged_new[\"age\"] >= 35) & (df_ords_prods_cust_merged_new[\"age\"] < 45), \"age_group\"] = \"Middle aged adults\"\n",
    "df_ords_prods_cust_merged_new.loc[(df_ords_prods_cust_merged_new[\"age\"] >= 45) & (df_ords_prods_cust_merged_new[\"age\"] < 65), \"age_group\"] = \"Late middle aged adults\"\n",
    "df_ords_prods_cust_merged_new.loc[df_ords_prods_cust_merged_new[\"age\"] >=65, \"age_group\"] = \"Seniors\""
   ]
  },
  {
   "cell_type": "code",
   "execution_count": 31,
   "id": "915b28d8",
   "metadata": {
    "ExecuteTime": {
     "end_time": "2021-11-21T21:28:03.159251Z",
     "start_time": "2021-11-21T21:28:02.370220Z"
    }
   },
   "outputs": [
    {
     "data": {
      "text/plain": [
       "Late middle aged adults    2885332\n",
       "Young adults               2446742\n",
       "Seniors                    2444854\n",
       "Middle aged adults         1439663\n",
       "Name: age_group, dtype: int64"
      ]
     },
     "execution_count": 31,
     "metadata": {},
     "output_type": "execute_result"
    }
   ],
   "source": [
    "# Check\n",
    "df_ords_prods_cust_merged_new[\"age_group\"].value_counts()"
   ]
  },
  {
   "cell_type": "code",
   "execution_count": 32,
   "id": "0443d201",
   "metadata": {
    "ExecuteTime": {
     "end_time": "2021-11-21T21:28:04.027254Z",
     "start_time": "2021-11-21T21:28:03.161253Z"
    },
    "scrolled": true
   },
   "outputs": [
    {
     "data": {
      "image/png": "[encoded data removed]",
      "text/plain": [
       "<Figure size 432x288 with 1 Axes>"
      ]
     },
     "metadata": {
      "needs_background": "light"
     },
     "output_type": "display_data"
    }
   ],
   "source": [
    "# Create bar chart\n",
    "age_chart = df_ords_prods_cust_merged_new[\"age_group\"].value_counts().plot.bar()\n",
    "plt.title(\"Customers by Age Group\")\n",
    "plt.tight_layout()"
   ]
  },
  {
   "cell_type": "code",
   "execution_count": 33,
   "id": "c0700d47",
   "metadata": {
    "ExecuteTime": {
     "end_time": "2021-11-21T21:28:04.105401Z",
     "start_time": "2021-11-21T21:28:04.027254Z"
    }
   },
   "outputs": [],
   "source": [
    "# Export chart\n",
    "age_chart.figure.savefig(os.path.join(path, '04 Analysis','Visualizations', 'age_chart.png'))"
   ]
  },
  {
   "cell_type": "markdown",
   "id": "b4fcfbfd",
   "metadata": {
    "ExecuteTime": {
     "end_time": "2021-11-14T14:31:43.804267Z",
     "start_time": "2021-11-14T14:31:43.793586Z"
    }
   },
   "source": [
    "## Define income categories"
   ]
  },
  {
   "cell_type": "code",
   "execution_count": 34,
   "id": "b3ed7f4c",
   "metadata": {
    "ExecuteTime": {
     "end_time": "2021-11-21T21:28:04.152291Z",
     "start_time": "2021-11-21T21:28:04.105401Z"
    }
   },
   "outputs": [
    {
     "data": {
      "text/plain": [
       "25903"
      ]
     },
     "execution_count": 34,
     "metadata": {},
     "output_type": "execute_result"
    }
   ],
   "source": [
    "# Check min\n",
    "df_ords_prods_cust_merged_new[\"income\"].min()"
   ]
  },
  {
   "cell_type": "code",
   "execution_count": 35,
   "id": "00b96c10",
   "metadata": {
    "ExecuteTime": {
     "end_time": "2021-11-21T21:28:04.183553Z",
     "start_time": "2021-11-21T21:28:04.152291Z"
    },
    "scrolled": true
   },
   "outputs": [
    {
     "data": {
      "text/plain": [
       "593901"
      ]
     },
     "execution_count": 35,
     "metadata": {},
     "output_type": "execute_result"
    }
   ],
   "source": [
    "# Check max\n",
    "df_ords_prods_cust_merged_new[\"income\"].max()"
   ]
  },
  {
   "cell_type": "code",
   "execution_count": 36,
   "id": "3dc903bf",
   "metadata": {
    "ExecuteTime": {
     "end_time": "2021-11-21T21:28:05.933084Z",
     "start_time": "2021-11-21T21:28:04.183553Z"
    },
    "scrolled": true
   },
   "outputs": [
    {
     "name": "stderr",
     "output_type": "stream",
     "text": [
      "C:\\Users\\Alina\\anaconda3\\lib\\site-packages\\pandas\\core\\indexing.py:1599: SettingWithCopyWarning: \n",
      "A value is trying to be set on a copy of a slice from a DataFrame.\n",
      "Try using .loc[row_indexer,col_indexer] = value instead\n",
      "\n",
      "See the caveats in the documentation: https://pandas.pydata.org/pandas-docs/stable/user_guide/indexing.html#returning-a-view-versus-a-copy\n",
      "  self.obj[key] = infer_fill_value(value)\n",
      "C:\\Users\\Alina\\anaconda3\\lib\\site-packages\\pandas\\core\\indexing.py:1720: SettingWithCopyWarning: \n",
      "A value is trying to be set on a copy of a slice from a DataFrame.\n",
      "Try using .loc[row_indexer,col_indexer] = value instead\n",
      "\n",
      "See the caveats in the documentation: https://pandas.pydata.org/pandas-docs/stable/user_guide/indexing.html#returning-a-view-versus-a-copy\n",
      "  self._setitem_single_column(loc, value, pi)\n",
      "C:\\Users\\Alina\\anaconda3\\lib\\site-packages\\pandas\\core\\indexing.py:1720: SettingWithCopyWarning: \n",
      "A value is trying to be set on a copy of a slice from a DataFrame.\n",
      "Try using .loc[row_indexer,col_indexer] = value instead\n",
      "\n",
      "See the caveats in the documentation: https://pandas.pydata.org/pandas-docs/stable/user_guide/indexing.html#returning-a-view-versus-a-copy\n",
      "  self._setitem_single_column(loc, value, pi)\n",
      "C:\\Users\\Alina\\anaconda3\\lib\\site-packages\\pandas\\core\\indexing.py:1720: SettingWithCopyWarning: \n",
      "A value is trying to be set on a copy of a slice from a DataFrame.\n",
      "Try using .loc[row_indexer,col_indexer] = value instead\n",
      "\n",
      "See the caveats in the documentation: https://pandas.pydata.org/pandas-docs/stable/user_guide/indexing.html#returning-a-view-versus-a-copy\n",
      "  self._setitem_single_column(loc, value, pi)\n",
      "C:\\Users\\Alina\\anaconda3\\lib\\site-packages\\pandas\\core\\indexing.py:1720: SettingWithCopyWarning: \n",
      "A value is trying to be set on a copy of a slice from a DataFrame.\n",
      "Try using .loc[row_indexer,col_indexer] = value instead\n",
      "\n",
      "See the caveats in the documentation: https://pandas.pydata.org/pandas-docs/stable/user_guide/indexing.html#returning-a-view-versus-a-copy\n",
      "  self._setitem_single_column(loc, value, pi)\n"
     ]
    }
   ],
   "source": [
    "# Create variable \"income_categ\"\n",
    "df_ords_prods_cust_merged_new.loc[df_ords_prods_cust_merged_new[\"income\"] < 50000, \"income_categ\"] = \"Low income\"\n",
    "df_ords_prods_cust_merged_new.loc[(df_ords_prods_cust_merged_new[\"income\"] >= 50000) & (df_ords_prods_cust_merged_new[\"income\"] < 150000), \"income_categ\"] = \"Middle class\"\n",
    "df_ords_prods_cust_merged_new.loc[(df_ords_prods_cust_merged_new[\"income\"] >= 150000) & (df_ords_prods_cust_merged_new[\"income\"] < 200000), \"income_categ\"] = \"Upper middle class\"\n",
    "df_ords_prods_cust_merged_new.loc[df_ords_prods_cust_merged_new[\"income\"] >= 200000, \"income_categ\"] = \"High income\""
   ]
  },
  {
   "cell_type": "code",
   "execution_count": 37,
   "id": "811fece3",
   "metadata": {
    "ExecuteTime": {
     "end_time": "2021-11-21T21:28:06.652669Z",
     "start_time": "2021-11-21T21:28:05.935085Z"
    },
    "scrolled": true
   },
   "outputs": [
    {
     "data": {
      "text/plain": [
       "Middle class          7052909\n",
       "Upper middle class    1092046\n",
       "Low income             994187\n",
       "High income             77449\n",
       "Name: income_categ, dtype: int64"
      ]
     },
     "execution_count": 37,
     "metadata": {},
     "output_type": "execute_result"
    }
   ],
   "source": [
    "# Check\n",
    "df_ords_prods_cust_merged_new[\"income_categ\"].value_counts()"
   ]
  },
  {
   "cell_type": "code",
   "execution_count": 38,
   "id": "1c86c261",
   "metadata": {
    "ExecuteTime": {
     "end_time": "2021-11-21T21:28:07.583581Z",
     "start_time": "2021-11-21T21:28:06.654671Z"
    },
    "scrolled": true
   },
   "outputs": [
    {
     "data": {
      "image/png": "[encoded data removed]",
      "text/plain": [
       "<Figure size 432x288 with 1 Axes>"
      ]
     },
     "metadata": {
      "needs_background": "light"
     },
     "output_type": "display_data"
    }
   ],
   "source": [
    "# Create bar chart\n",
    "income_chart = df_ords_prods_cust_merged_new[\"income_categ\"].value_counts().plot.bar()\n",
    "plt.title(\"Customers by Income Category\")\n",
    "plt.tight_layout()"
   ]
  },
  {
   "cell_type": "code",
   "execution_count": 39,
   "id": "5efed750",
   "metadata": {
    "ExecuteTime": {
     "end_time": "2021-11-21T21:28:07.656974Z",
     "start_time": "2021-11-21T21:28:07.585580Z"
    }
   },
   "outputs": [],
   "source": [
    "# Export chart\n",
    "income_chart.figure.savefig(os.path.join(path, '04 Analysis','Visualizations', 'income_chart.png'))"
   ]
  },
  {
   "cell_type": "markdown",
   "id": "fcf3846b",
   "metadata": {
    "ExecuteTime": {
     "end_time": "2021-11-14T17:50:22.269796Z",
     "start_time": "2021-11-14T17:50:22.240695Z"
    }
   },
   "source": [
    "## Label department"
   ]
  },
  {
   "cell_type": "code",
   "execution_count": 40,
   "id": "8fd7cf38",
   "metadata": {
    "ExecuteTime": {
     "end_time": "2021-11-21T21:28:07.688818Z",
     "start_time": "2021-11-21T21:28:07.659824Z"
    }
   },
   "outputs": [],
   "source": [
    "# Import department data \n",
    "df_dept = pd.read_csv(os.path.join(path, '02 Data', 'Original Data', 'departments.csv'), index_col = False)"
   ]
  },
  {
   "cell_type": "code",
   "execution_count": 41,
   "id": "fe73de46",
   "metadata": {
    "ExecuteTime": {
     "end_time": "2021-11-21T21:28:07.722960Z",
     "start_time": "2021-11-21T21:28:07.691416Z"
    }
   },
   "outputs": [
    {
     "data": {
      "text/html": [
       "<div>\n",
       "<style scoped>\n",
       "    .dataframe tbody tr th:only-of-type {\n",
       "        vertical-align: middle;\n",
       "    }\n",
       "\n",
       "    .dataframe tbody tr th {\n",
       "        vertical-align: top;\n",
       "    }\n",
       "\n",
       "    .dataframe thead th {\n",
       "        text-align: right;\n",
       "    }\n",
       "</style>\n",
       "<table border=\"1\" class=\"dataframe\">\n",
       "  <thead>\n",
       "    <tr style=\"text-align: right;\">\n",
       "      <th></th>\n",
       "      <th>department_id</th>\n",
       "      <th>1</th>\n",
       "      <th>2</th>\n",
       "      <th>3</th>\n",
       "      <th>4</th>\n",
       "      <th>5</th>\n",
       "      <th>6</th>\n",
       "      <th>7</th>\n",
       "      <th>8</th>\n",
       "      <th>9</th>\n",
       "      <th>10</th>\n",
       "      <th>11</th>\n",
       "      <th>12</th>\n",
       "      <th>13</th>\n",
       "      <th>14</th>\n",
       "      <th>15</th>\n",
       "      <th>16</th>\n",
       "      <th>17</th>\n",
       "      <th>18</th>\n",
       "      <th>19</th>\n",
       "      <th>20</th>\n",
       "      <th>21</th>\n",
       "    </tr>\n",
       "  </thead>\n",
       "  <tbody>\n",
       "    <tr>\n",
       "      <th>0</th>\n",
       "      <td>department</td>\n",
       "      <td>frozen</td>\n",
       "      <td>other</td>\n",
       "      <td>bakery</td>\n",
       "      <td>produce</td>\n",
       "      <td>alcohol</td>\n",
       "      <td>international</td>\n",
       "      <td>beverages</td>\n",
       "      <td>pets</td>\n",
       "      <td>dry goods pasta</td>\n",
       "      <td>bulk</td>\n",
       "      <td>personal care</td>\n",
       "      <td>meat seafood</td>\n",
       "      <td>pantry</td>\n",
       "      <td>breakfast</td>\n",
       "      <td>canned goods</td>\n",
       "      <td>dairy eggs</td>\n",
       "      <td>household</td>\n",
       "      <td>babies</td>\n",
       "      <td>snacks</td>\n",
       "      <td>deli</td>\n",
       "      <td>missing</td>\n",
       "    </tr>\n",
       "  </tbody>\n",
       "</table>\n",
       "</div>"
      ],
      "text/plain": [
       "  department_id       1      2       3        4        5              6  \\\n",
       "0    department  frozen  other  bakery  produce  alcohol  international   \n",
       "\n",
       "           7     8                9    10             11            12  \\\n",
       "0  beverages  pets  dry goods pasta  bulk  personal care  meat seafood   \n",
       "\n",
       "       13         14            15          16         17      18      19  \\\n",
       "0  pantry  breakfast  canned goods  dairy eggs  household  babies  snacks   \n",
       "\n",
       "     20       21  \n",
       "0  deli  missing  "
      ]
     },
     "execution_count": 41,
     "metadata": {},
     "output_type": "execute_result"
    }
   ],
   "source": [
    "# Check\n",
    "df_dept.head()"
   ]
  },
  {
   "cell_type": "code",
   "execution_count": 42,
   "id": "e2fb43fc",
   "metadata": {
    "ExecuteTime": {
     "end_time": "2021-11-21T21:28:16.917587Z",
     "start_time": "2021-11-21T21:28:07.725961Z"
    },
    "scrolled": false
   },
   "outputs": [
    {
     "name": "stderr",
     "output_type": "stream",
     "text": [
      "C:\\Users\\Alina\\anaconda3\\lib\\site-packages\\pandas\\core\\indexing.py:1599: SettingWithCopyWarning: \n",
      "A value is trying to be set on a copy of a slice from a DataFrame.\n",
      "Try using .loc[row_indexer,col_indexer] = value instead\n",
      "\n",
      "See the caveats in the documentation: https://pandas.pydata.org/pandas-docs/stable/user_guide/indexing.html#returning-a-view-versus-a-copy\n",
      "  self.obj[key] = infer_fill_value(value)\n",
      "C:\\Users\\Alina\\anaconda3\\lib\\site-packages\\pandas\\core\\indexing.py:1720: SettingWithCopyWarning: \n",
      "A value is trying to be set on a copy of a slice from a DataFrame.\n",
      "Try using .loc[row_indexer,col_indexer] = value instead\n",
      "\n",
      "See the caveats in the documentation: https://pandas.pydata.org/pandas-docs/stable/user_guide/indexing.html#returning-a-view-versus-a-copy\n",
      "  self._setitem_single_column(loc, value, pi)\n",
      "C:\\Users\\Alina\\anaconda3\\lib\\site-packages\\pandas\\core\\indexing.py:1720: SettingWithCopyWarning: \n",
      "A value is trying to be set on a copy of a slice from a DataFrame.\n",
      "Try using .loc[row_indexer,col_indexer] = value instead\n",
      "\n",
      "See the caveats in the documentation: https://pandas.pydata.org/pandas-docs/stable/user_guide/indexing.html#returning-a-view-versus-a-copy\n",
      "  self._setitem_single_column(loc, value, pi)\n",
      "C:\\Users\\Alina\\anaconda3\\lib\\site-packages\\pandas\\core\\indexing.py:1720: SettingWithCopyWarning: \n",
      "A value is trying to be set on a copy of a slice from a DataFrame.\n",
      "Try using .loc[row_indexer,col_indexer] = value instead\n",
      "\n",
      "See the caveats in the documentation: https://pandas.pydata.org/pandas-docs/stable/user_guide/indexing.html#returning-a-view-versus-a-copy\n",
      "  self._setitem_single_column(loc, value, pi)\n",
      "C:\\Users\\Alina\\anaconda3\\lib\\site-packages\\pandas\\core\\indexing.py:1720: SettingWithCopyWarning: \n",
      "A value is trying to be set on a copy of a slice from a DataFrame.\n",
      "Try using .loc[row_indexer,col_indexer] = value instead\n",
      "\n",
      "See the caveats in the documentation: https://pandas.pydata.org/pandas-docs/stable/user_guide/indexing.html#returning-a-view-versus-a-copy\n",
      "  self._setitem_single_column(loc, value, pi)\n",
      "C:\\Users\\Alina\\anaconda3\\lib\\site-packages\\pandas\\core\\indexing.py:1720: SettingWithCopyWarning: \n",
      "A value is trying to be set on a copy of a slice from a DataFrame.\n",
      "Try using .loc[row_indexer,col_indexer] = value instead\n",
      "\n",
      "See the caveats in the documentation: https://pandas.pydata.org/pandas-docs/stable/user_guide/indexing.html#returning-a-view-versus-a-copy\n",
      "  self._setitem_single_column(loc, value, pi)\n",
      "C:\\Users\\Alina\\anaconda3\\lib\\site-packages\\pandas\\core\\indexing.py:1720: SettingWithCopyWarning: \n",
      "A value is trying to be set on a copy of a slice from a DataFrame.\n",
      "Try using .loc[row_indexer,col_indexer] = value instead\n",
      "\n",
      "See the caveats in the documentation: https://pandas.pydata.org/pandas-docs/stable/user_guide/indexing.html#returning-a-view-versus-a-copy\n",
      "  self._setitem_single_column(loc, value, pi)\n",
      "C:\\Users\\Alina\\anaconda3\\lib\\site-packages\\pandas\\core\\indexing.py:1720: SettingWithCopyWarning: \n",
      "A value is trying to be set on a copy of a slice from a DataFrame.\n",
      "Try using .loc[row_indexer,col_indexer] = value instead\n",
      "\n",
      "See the caveats in the documentation: https://pandas.pydata.org/pandas-docs/stable/user_guide/indexing.html#returning-a-view-versus-a-copy\n",
      "  self._setitem_single_column(loc, value, pi)\n",
      "C:\\Users\\Alina\\anaconda3\\lib\\site-packages\\pandas\\core\\indexing.py:1720: SettingWithCopyWarning: \n",
      "A value is trying to be set on a copy of a slice from a DataFrame.\n",
      "Try using .loc[row_indexer,col_indexer] = value instead\n",
      "\n",
      "See the caveats in the documentation: https://pandas.pydata.org/pandas-docs/stable/user_guide/indexing.html#returning-a-view-versus-a-copy\n",
      "  self._setitem_single_column(loc, value, pi)\n",
      "C:\\Users\\Alina\\anaconda3\\lib\\site-packages\\pandas\\core\\indexing.py:1720: SettingWithCopyWarning: \n",
      "A value is trying to be set on a copy of a slice from a DataFrame.\n",
      "Try using .loc[row_indexer,col_indexer] = value instead\n",
      "\n",
      "See the caveats in the documentation: https://pandas.pydata.org/pandas-docs/stable/user_guide/indexing.html#returning-a-view-versus-a-copy\n",
      "  self._setitem_single_column(loc, value, pi)\n",
      "C:\\Users\\Alina\\anaconda3\\lib\\site-packages\\pandas\\core\\indexing.py:1720: SettingWithCopyWarning: \n",
      "A value is trying to be set on a copy of a slice from a DataFrame.\n",
      "Try using .loc[row_indexer,col_indexer] = value instead\n",
      "\n",
      "See the caveats in the documentation: https://pandas.pydata.org/pandas-docs/stable/user_guide/indexing.html#returning-a-view-versus-a-copy\n",
      "  self._setitem_single_column(loc, value, pi)\n",
      "C:\\Users\\Alina\\anaconda3\\lib\\site-packages\\pandas\\core\\indexing.py:1720: SettingWithCopyWarning: \n",
      "A value is trying to be set on a copy of a slice from a DataFrame.\n",
      "Try using .loc[row_indexer,col_indexer] = value instead\n",
      "\n",
      "See the caveats in the documentation: https://pandas.pydata.org/pandas-docs/stable/user_guide/indexing.html#returning-a-view-versus-a-copy\n",
      "  self._setitem_single_column(loc, value, pi)\n",
      "C:\\Users\\Alina\\anaconda3\\lib\\site-packages\\pandas\\core\\indexing.py:1720: SettingWithCopyWarning: \n",
      "A value is trying to be set on a copy of a slice from a DataFrame.\n",
      "Try using .loc[row_indexer,col_indexer] = value instead\n",
      "\n",
      "See the caveats in the documentation: https://pandas.pydata.org/pandas-docs/stable/user_guide/indexing.html#returning-a-view-versus-a-copy\n",
      "  self._setitem_single_column(loc, value, pi)\n",
      "C:\\Users\\Alina\\anaconda3\\lib\\site-packages\\pandas\\core\\indexing.py:1720: SettingWithCopyWarning: \n",
      "A value is trying to be set on a copy of a slice from a DataFrame.\n",
      "Try using .loc[row_indexer,col_indexer] = value instead\n",
      "\n",
      "See the caveats in the documentation: https://pandas.pydata.org/pandas-docs/stable/user_guide/indexing.html#returning-a-view-versus-a-copy\n",
      "  self._setitem_single_column(loc, value, pi)\n",
      "C:\\Users\\Alina\\anaconda3\\lib\\site-packages\\pandas\\core\\indexing.py:1720: SettingWithCopyWarning: \n",
      "A value is trying to be set on a copy of a slice from a DataFrame.\n",
      "Try using .loc[row_indexer,col_indexer] = value instead\n",
      "\n",
      "See the caveats in the documentation: https://pandas.pydata.org/pandas-docs/stable/user_guide/indexing.html#returning-a-view-versus-a-copy\n",
      "  self._setitem_single_column(loc, value, pi)\n",
      "C:\\Users\\Alina\\anaconda3\\lib\\site-packages\\pandas\\core\\indexing.py:1720: SettingWithCopyWarning: \n",
      "A value is trying to be set on a copy of a slice from a DataFrame.\n",
      "Try using .loc[row_indexer,col_indexer] = value instead\n",
      "\n",
      "See the caveats in the documentation: https://pandas.pydata.org/pandas-docs/stable/user_guide/indexing.html#returning-a-view-versus-a-copy\n",
      "  self._setitem_single_column(loc, value, pi)\n",
      "C:\\Users\\Alina\\anaconda3\\lib\\site-packages\\pandas\\core\\indexing.py:1720: SettingWithCopyWarning: \n",
      "A value is trying to be set on a copy of a slice from a DataFrame.\n",
      "Try using .loc[row_indexer,col_indexer] = value instead\n",
      "\n",
      "See the caveats in the documentation: https://pandas.pydata.org/pandas-docs/stable/user_guide/indexing.html#returning-a-view-versus-a-copy\n",
      "  self._setitem_single_column(loc, value, pi)\n",
      "C:\\Users\\Alina\\anaconda3\\lib\\site-packages\\pandas\\core\\indexing.py:1720: SettingWithCopyWarning: \n",
      "A value is trying to be set on a copy of a slice from a DataFrame.\n",
      "Try using .loc[row_indexer,col_indexer] = value instead\n",
      "\n",
      "See the caveats in the documentation: https://pandas.pydata.org/pandas-docs/stable/user_guide/indexing.html#returning-a-view-versus-a-copy\n",
      "  self._setitem_single_column(loc, value, pi)\n",
      "C:\\Users\\Alina\\anaconda3\\lib\\site-packages\\pandas\\core\\indexing.py:1720: SettingWithCopyWarning: \n",
      "A value is trying to be set on a copy of a slice from a DataFrame.\n",
      "Try using .loc[row_indexer,col_indexer] = value instead\n",
      "\n",
      "See the caveats in the documentation: https://pandas.pydata.org/pandas-docs/stable/user_guide/indexing.html#returning-a-view-versus-a-copy\n",
      "  self._setitem_single_column(loc, value, pi)\n",
      "C:\\Users\\Alina\\anaconda3\\lib\\site-packages\\pandas\\core\\indexing.py:1720: SettingWithCopyWarning: \n",
      "A value is trying to be set on a copy of a slice from a DataFrame.\n",
      "Try using .loc[row_indexer,col_indexer] = value instead\n",
      "\n",
      "See the caveats in the documentation: https://pandas.pydata.org/pandas-docs/stable/user_guide/indexing.html#returning-a-view-versus-a-copy\n",
      "  self._setitem_single_column(loc, value, pi)\n",
      "C:\\Users\\Alina\\anaconda3\\lib\\site-packages\\pandas\\core\\indexing.py:1720: SettingWithCopyWarning: \n",
      "A value is trying to be set on a copy of a slice from a DataFrame.\n",
      "Try using .loc[row_indexer,col_indexer] = value instead\n",
      "\n",
      "See the caveats in the documentation: https://pandas.pydata.org/pandas-docs/stable/user_guide/indexing.html#returning-a-view-versus-a-copy\n",
      "  self._setitem_single_column(loc, value, pi)\n",
      "C:\\Users\\Alina\\anaconda3\\lib\\site-packages\\pandas\\core\\indexing.py:1720: SettingWithCopyWarning: \n",
      "A value is trying to be set on a copy of a slice from a DataFrame.\n",
      "Try using .loc[row_indexer,col_indexer] = value instead\n",
      "\n",
      "See the caveats in the documentation: https://pandas.pydata.org/pandas-docs/stable/user_guide/indexing.html#returning-a-view-versus-a-copy\n",
      "  self._setitem_single_column(loc, value, pi)\n"
     ]
    }
   ],
   "source": [
    "# Create column \"department\"\n",
    "df_ords_prods_cust_merged_new.loc[df_ords_prods_cust_merged_new['department_id'] == 1, 'department'] = 'frozen'\n",
    "df_ords_prods_cust_merged_new.loc[df_ords_prods_cust_merged_new['department_id'] == 2, 'department'] = 'other'\n",
    "df_ords_prods_cust_merged_new.loc[df_ords_prods_cust_merged_new['department_id'] == 3, 'department'] = 'bakery'\n",
    "df_ords_prods_cust_merged_new.loc[df_ords_prods_cust_merged_new['department_id'] == 4, 'department'] = 'produce'\n",
    "df_ords_prods_cust_merged_new.loc[df_ords_prods_cust_merged_new['department_id'] == 5, 'department'] = 'alcohol'\n",
    "df_ords_prods_cust_merged_new.loc[df_ords_prods_cust_merged_new['department_id'] == 6, 'department'] = 'international'\n",
    "df_ords_prods_cust_merged_new.loc[df_ords_prods_cust_merged_new['department_id'] == 7, 'department'] = 'beverages'\n",
    "df_ords_prods_cust_merged_new.loc[df_ords_prods_cust_merged_new['department_id'] == 8, 'department'] = 'pets'\n",
    "df_ords_prods_cust_merged_new.loc[df_ords_prods_cust_merged_new['department_id'] == 9, 'department'] = 'dry goods pasta'\n",
    "df_ords_prods_cust_merged_new.loc[df_ords_prods_cust_merged_new['department_id'] == 10, 'department'] = 'bulk'\n",
    "df_ords_prods_cust_merged_new.loc[df_ords_prods_cust_merged_new['department_id'] == 11, 'department'] = 'personal care'\n",
    "df_ords_prods_cust_merged_new.loc[df_ords_prods_cust_merged_new['department_id'] == 12, 'department'] = 'meat seafood'\n",
    "df_ords_prods_cust_merged_new.loc[df_ords_prods_cust_merged_new['department_id'] == 13, 'department'] = 'pantry'\n",
    "df_ords_prods_cust_merged_new.loc[df_ords_prods_cust_merged_new['department_id'] == 14, 'department'] = 'breakfast'\n",
    "df_ords_prods_cust_merged_new.loc[df_ords_prods_cust_merged_new['department_id'] == 15, 'department'] = 'canned goods'\n",
    "df_ords_prods_cust_merged_new.loc[df_ords_prods_cust_merged_new['department_id'] == 16, 'department'] = 'dairy eggs'\n",
    "df_ords_prods_cust_merged_new.loc[df_ords_prods_cust_merged_new['department_id'] == 17, 'department'] = 'households'\n",
    "df_ords_prods_cust_merged_new.loc[df_ords_prods_cust_merged_new['department_id'] == 18, 'department'] = 'babies'\n",
    "df_ords_prods_cust_merged_new.loc[df_ords_prods_cust_merged_new['department_id'] == 19, 'department'] = 'snacks'\n",
    "df_ords_prods_cust_merged_new.loc[df_ords_prods_cust_merged_new['department_id'] == 20, 'department'] = 'deli'\n",
    "df_ords_prods_cust_merged_new.loc[df_ords_prods_cust_merged_new['department_id'] == 21, 'department'] = 'missing'"
   ]
  },
  {
   "cell_type": "code",
   "execution_count": 43,
   "id": "2d0afbb5",
   "metadata": {
    "ExecuteTime": {
     "end_time": "2021-11-21T21:28:17.606973Z",
     "start_time": "2021-11-21T21:28:16.919810Z"
    },
    "scrolled": true
   },
   "outputs": [
    {
     "data": {
      "text/plain": [
       "produce            2710605\n",
       "dairy eggs         1544854\n",
       "snacks              825914\n",
       "beverages           764777\n",
       "frozen              627942\n",
       "pantry              527679\n",
       "bakery              333381\n",
       "canned goods        298890\n",
       "deli                298687\n",
       "dry goods pasta     243446\n",
       "households          206232\n",
       "meat seafood        199737\n",
       "breakfast           199493\n",
       "personal care       125278\n",
       "babies              124077\n",
       "international        76220\n",
       "alcohol              42514\n",
       "pets                 27616\n",
       "missing              19104\n",
       "other                10147\n",
       "bulk                  9998\n",
       "Name: department, dtype: int64"
      ]
     },
     "execution_count": 43,
     "metadata": {},
     "output_type": "execute_result"
    }
   ],
   "source": [
    "# Check\n",
    "df_ords_prods_cust_merged_new[\"department\"].value_counts()"
   ]
  },
  {
   "cell_type": "code",
   "execution_count": 44,
   "id": "a4472521",
   "metadata": {
    "ExecuteTime": {
     "end_time": "2021-11-21T21:28:18.637994Z",
     "start_time": "2021-11-21T21:28:17.608974Z"
    },
    "scrolled": true
   },
   "outputs": [
    {
     "data": {
      "image/png": "[encoded data removed]",
      "text/plain": [
       "<Figure size 432x288 with 1 Axes>"
      ]
     },
     "metadata": {
      "needs_background": "light"
     },
     "output_type": "display_data"
    }
   ],
   "source": [
    "# Create bar chart\n",
    "dept_chart = df_ords_prods_cust_merged_new[\"department\"].value_counts().plot.bar()\n",
    "plt.title(\"Order Frequency by Department\")\n",
    "plt.xticks(rotation=90)\n",
    "plt.tight_layout()"
   ]
  },
  {
   "cell_type": "code",
   "execution_count": 45,
   "id": "9b5ef76d",
   "metadata": {
    "ExecuteTime": {
     "end_time": "2021-11-21T21:28:18.798006Z",
     "start_time": "2021-11-21T21:28:18.640997Z"
    }
   },
   "outputs": [],
   "source": [
    "# Export chart\n",
    "dept_chart.figure.savefig(os.path.join(path, '04 Analysis','Visualizations', 'dept_chart.png'))"
   ]
  },
  {
   "cell_type": "markdown",
   "id": "8960cb0e",
   "metadata": {},
   "source": [
    "## Define parental status"
   ]
  },
  {
   "cell_type": "code",
   "execution_count": 46,
   "id": "cac00a43",
   "metadata": {
    "ExecuteTime": {
     "end_time": "2021-11-21T21:28:18.974003Z",
     "start_time": "2021-11-21T21:28:18.800006Z"
    }
   },
   "outputs": [
    {
     "data": {
      "text/plain": [
       "0    2297688\n",
       "1    2297575\n",
       "2    2302428\n",
       "3    2318900\n",
       "Name: n_dependants, dtype: int64"
      ]
     },
     "execution_count": 46,
     "metadata": {},
     "output_type": "execute_result"
    }
   ],
   "source": [
    "# Check\n",
    "df_ords_prods_cust_merged_new[\"n_dependants\"].value_counts().sort_index()"
   ]
  },
  {
   "cell_type": "code",
   "execution_count": 47,
   "id": "e324a5f8",
   "metadata": {
    "ExecuteTime": {
     "end_time": "2021-11-21T21:28:20.030822Z",
     "start_time": "2021-11-21T21:28:18.977005Z"
    }
   },
   "outputs": [
    {
     "name": "stderr",
     "output_type": "stream",
     "text": [
      "C:\\Users\\Alina\\anaconda3\\lib\\site-packages\\pandas\\core\\indexing.py:1599: SettingWithCopyWarning: \n",
      "A value is trying to be set on a copy of a slice from a DataFrame.\n",
      "Try using .loc[row_indexer,col_indexer] = value instead\n",
      "\n",
      "See the caveats in the documentation: https://pandas.pydata.org/pandas-docs/stable/user_guide/indexing.html#returning-a-view-versus-a-copy\n",
      "  self.obj[key] = infer_fill_value(value)\n",
      "C:\\Users\\Alina\\anaconda3\\lib\\site-packages\\pandas\\core\\indexing.py:1720: SettingWithCopyWarning: \n",
      "A value is trying to be set on a copy of a slice from a DataFrame.\n",
      "Try using .loc[row_indexer,col_indexer] = value instead\n",
      "\n",
      "See the caveats in the documentation: https://pandas.pydata.org/pandas-docs/stable/user_guide/indexing.html#returning-a-view-versus-a-copy\n",
      "  self._setitem_single_column(loc, value, pi)\n",
      "C:\\Users\\Alina\\anaconda3\\lib\\site-packages\\pandas\\core\\indexing.py:1720: SettingWithCopyWarning: \n",
      "A value is trying to be set on a copy of a slice from a DataFrame.\n",
      "Try using .loc[row_indexer,col_indexer] = value instead\n",
      "\n",
      "See the caveats in the documentation: https://pandas.pydata.org/pandas-docs/stable/user_guide/indexing.html#returning-a-view-versus-a-copy\n",
      "  self._setitem_single_column(loc, value, pi)\n"
     ]
    }
   ],
   "source": [
    "# Create variable \"parental_status\"\n",
    "df_ords_prods_cust_merged_new.loc[df_ords_prods_cust_merged_new[\"n_dependants\"] == 0, \"parental_status\"] = \"Not parent\"\n",
    "df_ords_prods_cust_merged_new.loc[df_ords_prods_cust_merged_new[\"n_dependants\"] > 0, \"parental_status\"] = \"Parent\""
   ]
  },
  {
   "cell_type": "code",
   "execution_count": 48,
   "id": "d23e6d85",
   "metadata": {
    "ExecuteTime": {
     "end_time": "2021-11-21T21:28:20.674809Z",
     "start_time": "2021-11-21T21:28:20.032823Z"
    }
   },
   "outputs": [
    {
     "data": {
      "text/plain": [
       "Parent        6918903\n",
       "Not parent    2297688\n",
       "Name: parental_status, dtype: int64"
      ]
     },
     "execution_count": 48,
     "metadata": {},
     "output_type": "execute_result"
    }
   ],
   "source": [
    "# Check\n",
    "df_ords_prods_cust_merged_new[\"parental_status\"].value_counts()"
   ]
  },
  {
   "cell_type": "code",
   "execution_count": 49,
   "id": "5fca9f6b",
   "metadata": {
    "ExecuteTime": {
     "end_time": "2021-11-21T21:28:21.436162Z",
     "start_time": "2021-11-21T21:28:20.674809Z"
    },
    "scrolled": false
   },
   "outputs": [
    {
     "name": "stderr",
     "output_type": "stream",
     "text": [
      "<ipython-input-49-fa79a69e365b>:4: MatplotlibDeprecationWarning: Adding an axes using the same arguments as a previous axes currently reuses the earlier instance.  In a future version, a new instance will always be created and returned.  Meanwhile, this warning can be suppressed, and the future behavior ensured, by passing a unique label to each axes instance.\n",
      "  plt.axes().set_ylabel(\"\")\n"
     ]
    },
    {
     "data": {
      "text/plain": [
       "Text(0, 0.5, '')"
      ]
     },
     "execution_count": 49,
     "metadata": {},
     "output_type": "execute_result"
    },
    {
     "data": {
      "image/png": "[encoded data removed]",
      "text/plain": [
       "<Figure size 432x288 with 1 Axes>"
      ]
     },
     "metadata": {},
     "output_type": "display_data"
    }
   ],
   "source": [
    "# Create pie chart\n",
    "parent_chart = df_ords_prods_cust_merged_new['parental_status'].value_counts().sort_index().plot.pie(colors = sns.color_palette('Blues_r', 2), autopct='%1.1f%%')\n",
    "plt.title(\"Family Status\")\n",
    "plt.axes().set_ylabel(\"\")\n"
   ]
  },
  {
   "cell_type": "code",
   "execution_count": 50,
   "id": "ba985ed1",
   "metadata": {
    "ExecuteTime": {
     "end_time": "2021-11-21T21:28:21.482158Z",
     "start_time": "2021-11-21T21:28:21.438158Z"
    }
   },
   "outputs": [],
   "source": [
    "# Export chart\n",
    "parent_chart.figure.savefig(os.path.join(path, '04 Analysis','Visualizations', 'parent_chart.png'))"
   ]
  },
  {
   "cell_type": "markdown",
   "id": "c262b9ea",
   "metadata": {},
   "source": [
    "# Max, mean, min aggregations for usage frequency & expenditure on a customer-profile level"
   ]
  },
  {
   "cell_type": "code",
   "execution_count": 52,
   "id": "81e6f939",
   "metadata": {
    "ExecuteTime": {
     "end_time": "2021-11-21T20:47:58.817571Z",
     "start_time": "2021-11-21T20:47:58.773236Z"
    }
   },
   "outputs": [
    {
     "data": {
      "text/html": [
       "<div>\n",
       "<style scoped>\n",
       "    .dataframe tbody tr th:only-of-type {\n",
       "        vertical-align: middle;\n",
       "    }\n",
       "\n",
       "    .dataframe tbody tr th {\n",
       "        vertical-align: top;\n",
       "    }\n",
       "\n",
       "    .dataframe thead th {\n",
       "        text-align: right;\n",
       "    }\n",
       "</style>\n",
       "<table border=\"1\" class=\"dataframe\">\n",
       "  <thead>\n",
       "    <tr style=\"text-align: right;\">\n",
       "      <th></th>\n",
       "      <th>order_id</th>\n",
       "      <th>user_id</th>\n",
       "      <th>order_number</th>\n",
       "      <th>order_day_of_week</th>\n",
       "      <th>order_hour_of_day</th>\n",
       "      <th>days_since_prior_order</th>\n",
       "      <th>product_id</th>\n",
       "      <th>add_to_cart_order</th>\n",
       "      <th>reordered</th>\n",
       "      <th>product_name</th>\n",
       "      <th>aisle_id</th>\n",
       "      <th>department_id</th>\n",
       "      <th>prices</th>\n",
       "      <th>price_range_loc</th>\n",
       "      <th>busiest_day</th>\n",
       "      <th>busiest_days</th>\n",
       "      <th>busiest_period_of_day</th>\n",
       "      <th>max_order</th>\n",
       "      <th>loyalty_flag</th>\n",
       "      <th>avg_price</th>\n",
       "      <th>spending_flag</th>\n",
       "      <th>median_prior_order</th>\n",
       "      <th>order_frequency_flag</th>\n",
       "      <th>gender</th>\n",
       "      <th>state</th>\n",
       "      <th>age</th>\n",
       "      <th>date_joined</th>\n",
       "      <th>n_dependants</th>\n",
       "      <th>fam_status</th>\n",
       "      <th>income</th>\n",
       "      <th>_merge</th>\n",
       "      <th>customer_activity</th>\n",
       "      <th>region</th>\n",
       "      <th>age_group</th>\n",
       "      <th>income_categ</th>\n",
       "      <th>department</th>\n",
       "      <th>parental_status</th>\n",
       "    </tr>\n",
       "  </thead>\n",
       "  <tbody>\n",
       "    <tr>\n",
       "      <th>0</th>\n",
       "      <td>473747</td>\n",
       "      <td>1</td>\n",
       "      <td>3</td>\n",
       "      <td>3</td>\n",
       "      <td>12</td>\n",
       "      <td>21.0</td>\n",
       "      <td>196</td>\n",
       "      <td>1</td>\n",
       "      <td>1</td>\n",
       "      <td>Soda</td>\n",
       "      <td>77</td>\n",
       "      <td>7</td>\n",
       "      <td>9.0</td>\n",
       "      <td>Mid-range product</td>\n",
       "      <td>Regularly busy</td>\n",
       "      <td>Slowest days</td>\n",
       "      <td>Average orders</td>\n",
       "      <td>7</td>\n",
       "      <td>New customer</td>\n",
       "      <td>6.344444</td>\n",
       "      <td>Low spender</td>\n",
       "      <td>21.0</td>\n",
       "      <td>Non-frequent customer</td>\n",
       "      <td>Female</td>\n",
       "      <td>Alabama</td>\n",
       "      <td>31</td>\n",
       "      <td>2/17/2019</td>\n",
       "      <td>3</td>\n",
       "      <td>married</td>\n",
       "      <td>40423</td>\n",
       "      <td>both</td>\n",
       "      <td>High activity</td>\n",
       "      <td>South</td>\n",
       "      <td>Young adults</td>\n",
       "      <td>Low income</td>\n",
       "      <td>beverages</td>\n",
       "      <td>Parent</td>\n",
       "    </tr>\n",
       "  </tbody>\n",
       "</table>\n",
       "</div>"
      ],
      "text/plain": [
       "  order_id user_id  order_number  order_day_of_week  order_hour_of_day  \\\n",
       "0   473747       1             3                  3                 12   \n",
       "\n",
       "   days_since_prior_order product_id  add_to_cart_order  reordered  \\\n",
       "0                    21.0        196                  1          1   \n",
       "\n",
       "  product_name  aisle_id  department_id  prices    price_range_loc  \\\n",
       "0         Soda        77              7     9.0  Mid-range product   \n",
       "\n",
       "      busiest_day  busiest_days busiest_period_of_day  max_order  \\\n",
       "0  Regularly busy  Slowest days        Average orders          7   \n",
       "\n",
       "   loyalty_flag  avg_price spending_flag  median_prior_order  \\\n",
       "0  New customer   6.344444   Low spender                21.0   \n",
       "\n",
       "    order_frequency_flag  gender    state  age date_joined  n_dependants  \\\n",
       "0  Non-frequent customer  Female  Alabama   31   2/17/2019             3   \n",
       "\n",
       "  fam_status  income _merge customer_activity region     age_group  \\\n",
       "0    married   40423   both     High activity  South  Young adults   \n",
       "\n",
       "  income_categ department parental_status  \n",
       "0   Low income  beverages          Parent  "
      ]
     },
     "execution_count": 52,
     "metadata": {},
     "output_type": "execute_result"
    }
   ],
   "source": [
    "# Check\n",
    "df_ords_prods_cust_merged_new.head(1)"
   ]
  },
  {
   "cell_type": "markdown",
   "id": "08a57850",
   "metadata": {},
   "source": [
    "## Usage frequency by age group"
   ]
  },
  {
   "cell_type": "code",
   "execution_count": 53,
   "id": "1ca93bd4",
   "metadata": {
    "ExecuteTime": {
     "end_time": "2021-11-21T20:48:00.370681Z",
     "start_time": "2021-11-21T20:47:58.819568Z"
    }
   },
   "outputs": [
    {
     "data": {
      "text/html": [
       "<div>\n",
       "<style scoped>\n",
       "    .dataframe tbody tr th:only-of-type {\n",
       "        vertical-align: middle;\n",
       "    }\n",
       "\n",
       "    .dataframe tbody tr th {\n",
       "        vertical-align: top;\n",
       "    }\n",
       "\n",
       "    .dataframe thead tr th {\n",
       "        text-align: left;\n",
       "    }\n",
       "\n",
       "    .dataframe thead tr:last-of-type th {\n",
       "        text-align: right;\n",
       "    }\n",
       "</style>\n",
       "<table border=\"1\" class=\"dataframe\">\n",
       "  <thead>\n",
       "    <tr>\n",
       "      <th></th>\n",
       "      <th colspan=\"3\" halign=\"left\">days_since_prior_order</th>\n",
       "    </tr>\n",
       "    <tr>\n",
       "      <th></th>\n",
       "      <th>mean</th>\n",
       "      <th>min</th>\n",
       "      <th>max</th>\n",
       "    </tr>\n",
       "    <tr>\n",
       "      <th>age_group</th>\n",
       "      <th></th>\n",
       "      <th></th>\n",
       "      <th></th>\n",
       "    </tr>\n",
       "  </thead>\n",
       "  <tbody>\n",
       "    <tr>\n",
       "      <th>Late middle aged adults</th>\n",
       "      <td>10.595487</td>\n",
       "      <td>0.0</td>\n",
       "      <td>30.0</td>\n",
       "    </tr>\n",
       "    <tr>\n",
       "      <th>Middle aged adults</th>\n",
       "      <td>10.568823</td>\n",
       "      <td>0.0</td>\n",
       "      <td>30.0</td>\n",
       "    </tr>\n",
       "    <tr>\n",
       "      <th>Seniors</th>\n",
       "      <td>10.600149</td>\n",
       "      <td>0.0</td>\n",
       "      <td>30.0</td>\n",
       "    </tr>\n",
       "    <tr>\n",
       "      <th>Young adults</th>\n",
       "      <td>10.642400</td>\n",
       "      <td>0.0</td>\n",
       "      <td>30.0</td>\n",
       "    </tr>\n",
       "  </tbody>\n",
       "</table>\n",
       "</div>"
      ],
      "text/plain": [
       "                        days_since_prior_order           \n",
       "                                          mean  min   max\n",
       "age_group                                                \n",
       "Late middle aged adults              10.595487  0.0  30.0\n",
       "Middle aged adults                   10.568823  0.0  30.0\n",
       "Seniors                              10.600149  0.0  30.0\n",
       "Young adults                         10.642400  0.0  30.0"
      ]
     },
     "execution_count": 53,
     "metadata": {},
     "output_type": "execute_result"
    }
   ],
   "source": [
    "# Aggregate usage frenquency and group by age category\n",
    "df_ords_prods_cust_merged_new.groupby(\"age_group\").agg({\"days_since_prior_order\": ['mean', 'min', 'max']})"
   ]
  },
  {
   "cell_type": "markdown",
   "id": "ab60626d",
   "metadata": {},
   "source": [
    "## Usage frequency by income category"
   ]
  },
  {
   "cell_type": "code",
   "execution_count": 54,
   "id": "39489a78",
   "metadata": {
    "ExecuteTime": {
     "end_time": "2021-11-21T20:48:01.390511Z",
     "start_time": "2021-11-21T20:48:00.372817Z"
    }
   },
   "outputs": [
    {
     "data": {
      "text/html": [
       "<div>\n",
       "<style scoped>\n",
       "    .dataframe tbody tr th:only-of-type {\n",
       "        vertical-align: middle;\n",
       "    }\n",
       "\n",
       "    .dataframe tbody tr th {\n",
       "        vertical-align: top;\n",
       "    }\n",
       "\n",
       "    .dataframe thead tr th {\n",
       "        text-align: left;\n",
       "    }\n",
       "\n",
       "    .dataframe thead tr:last-of-type th {\n",
       "        text-align: right;\n",
       "    }\n",
       "</style>\n",
       "<table border=\"1\" class=\"dataframe\">\n",
       "  <thead>\n",
       "    <tr>\n",
       "      <th></th>\n",
       "      <th colspan=\"3\" halign=\"left\">days_since_prior_order</th>\n",
       "    </tr>\n",
       "    <tr>\n",
       "      <th></th>\n",
       "      <th>mean</th>\n",
       "      <th>min</th>\n",
       "      <th>max</th>\n",
       "    </tr>\n",
       "    <tr>\n",
       "      <th>income_categ</th>\n",
       "      <th></th>\n",
       "      <th></th>\n",
       "      <th></th>\n",
       "    </tr>\n",
       "  </thead>\n",
       "  <tbody>\n",
       "    <tr>\n",
       "      <th>High income</th>\n",
       "      <td>10.019449</td>\n",
       "      <td>0.0</td>\n",
       "      <td>30.0</td>\n",
       "    </tr>\n",
       "    <tr>\n",
       "      <th>Low income</th>\n",
       "      <td>10.950112</td>\n",
       "      <td>0.0</td>\n",
       "      <td>30.0</td>\n",
       "    </tr>\n",
       "    <tr>\n",
       "      <th>Middle class</th>\n",
       "      <td>10.582305</td>\n",
       "      <td>0.0</td>\n",
       "      <td>30.0</td>\n",
       "    </tr>\n",
       "    <tr>\n",
       "      <th>Upper middle class</th>\n",
       "      <td>10.480341</td>\n",
       "      <td>0.0</td>\n",
       "      <td>30.0</td>\n",
       "    </tr>\n",
       "  </tbody>\n",
       "</table>\n",
       "</div>"
      ],
      "text/plain": [
       "                   days_since_prior_order           \n",
       "                                     mean  min   max\n",
       "income_categ                                        \n",
       "High income                     10.019449  0.0  30.0\n",
       "Low income                      10.950112  0.0  30.0\n",
       "Middle class                    10.582305  0.0  30.0\n",
       "Upper middle class              10.480341  0.0  30.0"
      ]
     },
     "execution_count": 54,
     "metadata": {},
     "output_type": "execute_result"
    }
   ],
   "source": [
    "# Aggregate usage frenquency and group by income category\n",
    "df_ords_prods_cust_merged_new.groupby(\"income_categ\").agg({\"days_since_prior_order\": ['mean', 'min', 'max']})"
   ]
  },
  {
   "cell_type": "markdown",
   "id": "81599633",
   "metadata": {},
   "source": [
    "## Usage frequency by parental status"
   ]
  },
  {
   "cell_type": "code",
   "execution_count": 55,
   "id": "0c0c17ee",
   "metadata": {
    "ExecuteTime": {
     "end_time": "2021-11-21T20:48:02.328530Z",
     "start_time": "2021-11-21T20:48:01.393515Z"
    }
   },
   "outputs": [
    {
     "data": {
      "text/html": [
       "<div>\n",
       "<style scoped>\n",
       "    .dataframe tbody tr th:only-of-type {\n",
       "        vertical-align: middle;\n",
       "    }\n",
       "\n",
       "    .dataframe tbody tr th {\n",
       "        vertical-align: top;\n",
       "    }\n",
       "\n",
       "    .dataframe thead tr th {\n",
       "        text-align: left;\n",
       "    }\n",
       "\n",
       "    .dataframe thead tr:last-of-type th {\n",
       "        text-align: right;\n",
       "    }\n",
       "</style>\n",
       "<table border=\"1\" class=\"dataframe\">\n",
       "  <thead>\n",
       "    <tr>\n",
       "      <th></th>\n",
       "      <th colspan=\"3\" halign=\"left\">days_since_prior_order</th>\n",
       "    </tr>\n",
       "    <tr>\n",
       "      <th></th>\n",
       "      <th>mean</th>\n",
       "      <th>min</th>\n",
       "      <th>max</th>\n",
       "    </tr>\n",
       "    <tr>\n",
       "      <th>parental_status</th>\n",
       "      <th></th>\n",
       "      <th></th>\n",
       "      <th></th>\n",
       "    </tr>\n",
       "  </thead>\n",
       "  <tbody>\n",
       "    <tr>\n",
       "      <th>Not parent</th>\n",
       "      <td>10.596944</td>\n",
       "      <td>0.0</td>\n",
       "      <td>30.0</td>\n",
       "    </tr>\n",
       "    <tr>\n",
       "      <th>Parent</th>\n",
       "      <td>10.607693</td>\n",
       "      <td>0.0</td>\n",
       "      <td>30.0</td>\n",
       "    </tr>\n",
       "  </tbody>\n",
       "</table>\n",
       "</div>"
      ],
      "text/plain": [
       "                days_since_prior_order           \n",
       "                                  mean  min   max\n",
       "parental_status                                  \n",
       "Not parent                   10.596944  0.0  30.0\n",
       "Parent                       10.607693  0.0  30.0"
      ]
     },
     "execution_count": 55,
     "metadata": {},
     "output_type": "execute_result"
    }
   ],
   "source": [
    "# Aggregate usage frenquency and group by parental status\n",
    "df_ords_prods_cust_merged_new.groupby(\"parental_status\").agg({\"days_since_prior_order\": ['mean', 'min', 'max']})"
   ]
  },
  {
   "cell_type": "markdown",
   "id": "afc9a5bd",
   "metadata": {},
   "source": [
    "## Usage frequency by department"
   ]
  },
  {
   "cell_type": "code",
   "execution_count": 56,
   "id": "02d38678",
   "metadata": {
    "ExecuteTime": {
     "end_time": "2021-11-21T20:48:03.226455Z",
     "start_time": "2021-11-21T20:48:02.331513Z"
    }
   },
   "outputs": [
    {
     "data": {
      "text/html": [
       "<div>\n",
       "<style scoped>\n",
       "    .dataframe tbody tr th:only-of-type {\n",
       "        vertical-align: middle;\n",
       "    }\n",
       "\n",
       "    .dataframe tbody tr th {\n",
       "        vertical-align: top;\n",
       "    }\n",
       "\n",
       "    .dataframe thead tr th {\n",
       "        text-align: left;\n",
       "    }\n",
       "\n",
       "    .dataframe thead tr:last-of-type th {\n",
       "        text-align: right;\n",
       "    }\n",
       "</style>\n",
       "<table border=\"1\" class=\"dataframe\">\n",
       "  <thead>\n",
       "    <tr>\n",
       "      <th></th>\n",
       "      <th colspan=\"3\" halign=\"left\">days_since_prior_order</th>\n",
       "    </tr>\n",
       "    <tr>\n",
       "      <th></th>\n",
       "      <th>mean</th>\n",
       "      <th>min</th>\n",
       "      <th>max</th>\n",
       "    </tr>\n",
       "    <tr>\n",
       "      <th>department</th>\n",
       "      <th></th>\n",
       "      <th></th>\n",
       "      <th></th>\n",
       "    </tr>\n",
       "  </thead>\n",
       "  <tbody>\n",
       "    <tr>\n",
       "      <th>alcohol</th>\n",
       "      <td>9.820486</td>\n",
       "      <td>0.0</td>\n",
       "      <td>30.0</td>\n",
       "    </tr>\n",
       "    <tr>\n",
       "      <th>babies</th>\n",
       "      <td>9.633235</td>\n",
       "      <td>0.0</td>\n",
       "      <td>30.0</td>\n",
       "    </tr>\n",
       "    <tr>\n",
       "      <th>bakery</th>\n",
       "      <td>10.591315</td>\n",
       "      <td>0.0</td>\n",
       "      <td>30.0</td>\n",
       "    </tr>\n",
       "    <tr>\n",
       "      <th>beverages</th>\n",
       "      <td>10.555663</td>\n",
       "      <td>0.0</td>\n",
       "      <td>30.0</td>\n",
       "    </tr>\n",
       "    <tr>\n",
       "      <th>breakfast</th>\n",
       "      <td>10.820123</td>\n",
       "      <td>0.0</td>\n",
       "      <td>30.0</td>\n",
       "    </tr>\n",
       "    <tr>\n",
       "      <th>bulk</th>\n",
       "      <td>9.760370</td>\n",
       "      <td>0.0</td>\n",
       "      <td>30.0</td>\n",
       "    </tr>\n",
       "    <tr>\n",
       "      <th>canned goods</th>\n",
       "      <td>11.080440</td>\n",
       "      <td>0.0</td>\n",
       "      <td>30.0</td>\n",
       "    </tr>\n",
       "    <tr>\n",
       "      <th>dairy eggs</th>\n",
       "      <td>10.497822</td>\n",
       "      <td>0.0</td>\n",
       "      <td>30.0</td>\n",
       "    </tr>\n",
       "    <tr>\n",
       "      <th>deli</th>\n",
       "      <td>10.856368</td>\n",
       "      <td>0.0</td>\n",
       "      <td>30.0</td>\n",
       "    </tr>\n",
       "    <tr>\n",
       "      <th>dry goods pasta</th>\n",
       "      <td>11.207444</td>\n",
       "      <td>0.0</td>\n",
       "      <td>30.0</td>\n",
       "    </tr>\n",
       "    <tr>\n",
       "      <th>frozen</th>\n",
       "      <td>11.194208</td>\n",
       "      <td>0.0</td>\n",
       "      <td>30.0</td>\n",
       "    </tr>\n",
       "    <tr>\n",
       "      <th>households</th>\n",
       "      <td>11.406454</td>\n",
       "      <td>0.0</td>\n",
       "      <td>30.0</td>\n",
       "    </tr>\n",
       "    <tr>\n",
       "      <th>international</th>\n",
       "      <td>10.720485</td>\n",
       "      <td>0.0</td>\n",
       "      <td>30.0</td>\n",
       "    </tr>\n",
       "    <tr>\n",
       "      <th>meat seafood</th>\n",
       "      <td>10.883617</td>\n",
       "      <td>0.0</td>\n",
       "      <td>30.0</td>\n",
       "    </tr>\n",
       "    <tr>\n",
       "      <th>missing</th>\n",
       "      <td>9.820219</td>\n",
       "      <td>0.0</td>\n",
       "      <td>30.0</td>\n",
       "    </tr>\n",
       "    <tr>\n",
       "      <th>other</th>\n",
       "      <td>10.490427</td>\n",
       "      <td>0.0</td>\n",
       "      <td>30.0</td>\n",
       "    </tr>\n",
       "    <tr>\n",
       "      <th>pantry</th>\n",
       "      <td>10.624234</td>\n",
       "      <td>0.0</td>\n",
       "      <td>30.0</td>\n",
       "    </tr>\n",
       "    <tr>\n",
       "      <th>personal care</th>\n",
       "      <td>11.024745</td>\n",
       "      <td>0.0</td>\n",
       "      <td>30.0</td>\n",
       "    </tr>\n",
       "    <tr>\n",
       "      <th>pets</th>\n",
       "      <td>11.274537</td>\n",
       "      <td>0.0</td>\n",
       "      <td>30.0</td>\n",
       "    </tr>\n",
       "    <tr>\n",
       "      <th>produce</th>\n",
       "      <td>10.379596</td>\n",
       "      <td>0.0</td>\n",
       "      <td>30.0</td>\n",
       "    </tr>\n",
       "    <tr>\n",
       "      <th>snacks</th>\n",
       "      <td>10.503213</td>\n",
       "      <td>0.0</td>\n",
       "      <td>30.0</td>\n",
       "    </tr>\n",
       "  </tbody>\n",
       "</table>\n",
       "</div>"
      ],
      "text/plain": [
       "                days_since_prior_order           \n",
       "                                  mean  min   max\n",
       "department                                       \n",
       "alcohol                       9.820486  0.0  30.0\n",
       "babies                        9.633235  0.0  30.0\n",
       "bakery                       10.591315  0.0  30.0\n",
       "beverages                    10.555663  0.0  30.0\n",
       "breakfast                    10.820123  0.0  30.0\n",
       "bulk                          9.760370  0.0  30.0\n",
       "canned goods                 11.080440  0.0  30.0\n",
       "dairy eggs                   10.497822  0.0  30.0\n",
       "deli                         10.856368  0.0  30.0\n",
       "dry goods pasta              11.207444  0.0  30.0\n",
       "frozen                       11.194208  0.0  30.0\n",
       "households                   11.406454  0.0  30.0\n",
       "international                10.720485  0.0  30.0\n",
       "meat seafood                 10.883617  0.0  30.0\n",
       "missing                       9.820219  0.0  30.0\n",
       "other                        10.490427  0.0  30.0\n",
       "pantry                       10.624234  0.0  30.0\n",
       "personal care                11.024745  0.0  30.0\n",
       "pets                         11.274537  0.0  30.0\n",
       "produce                      10.379596  0.0  30.0\n",
       "snacks                       10.503213  0.0  30.0"
      ]
     },
     "execution_count": 56,
     "metadata": {},
     "output_type": "execute_result"
    }
   ],
   "source": [
    "# Aggregate usage frenquency and group by department\n",
    "df_ords_prods_cust_merged_new.groupby(\"department\").agg({\"days_since_prior_order\": ['mean', 'min', 'max']})"
   ]
  },
  {
   "cell_type": "markdown",
   "id": "b82f5278",
   "metadata": {
    "ExecuteTime": {
     "end_time": "2021-11-14T22:12:05.846047Z",
     "start_time": "2021-11-14T22:12:05.823515Z"
    }
   },
   "source": [
    "## Expenditure by age group"
   ]
  },
  {
   "cell_type": "code",
   "execution_count": 57,
   "id": "529d60c5",
   "metadata": {
    "ExecuteTime": {
     "end_time": "2021-11-21T20:48:04.368741Z",
     "start_time": "2021-11-21T20:48:03.228457Z"
    }
   },
   "outputs": [
    {
     "data": {
      "text/html": [
       "<div>\n",
       "<style scoped>\n",
       "    .dataframe tbody tr th:only-of-type {\n",
       "        vertical-align: middle;\n",
       "    }\n",
       "\n",
       "    .dataframe tbody tr th {\n",
       "        vertical-align: top;\n",
       "    }\n",
       "\n",
       "    .dataframe thead tr th {\n",
       "        text-align: left;\n",
       "    }\n",
       "\n",
       "    .dataframe thead tr:last-of-type th {\n",
       "        text-align: right;\n",
       "    }\n",
       "</style>\n",
       "<table border=\"1\" class=\"dataframe\">\n",
       "  <thead>\n",
       "    <tr>\n",
       "      <th></th>\n",
       "      <th colspan=\"3\" halign=\"left\">prices</th>\n",
       "    </tr>\n",
       "    <tr>\n",
       "      <th></th>\n",
       "      <th>mean</th>\n",
       "      <th>min</th>\n",
       "      <th>max</th>\n",
       "    </tr>\n",
       "    <tr>\n",
       "      <th>age_group</th>\n",
       "      <th></th>\n",
       "      <th></th>\n",
       "      <th></th>\n",
       "    </tr>\n",
       "  </thead>\n",
       "  <tbody>\n",
       "    <tr>\n",
       "      <th>Late middle aged adults</th>\n",
       "      <td>7.787869</td>\n",
       "      <td>1.0</td>\n",
       "      <td>25.0</td>\n",
       "    </tr>\n",
       "    <tr>\n",
       "      <th>Middle aged adults</th>\n",
       "      <td>7.790457</td>\n",
       "      <td>1.0</td>\n",
       "      <td>25.0</td>\n",
       "    </tr>\n",
       "    <tr>\n",
       "      <th>Seniors</th>\n",
       "      <td>7.793134</td>\n",
       "      <td>1.0</td>\n",
       "      <td>25.0</td>\n",
       "    </tr>\n",
       "    <tr>\n",
       "      <th>Young adults</th>\n",
       "      <td>7.781882</td>\n",
       "      <td>1.0</td>\n",
       "      <td>25.0</td>\n",
       "    </tr>\n",
       "  </tbody>\n",
       "</table>\n",
       "</div>"
      ],
      "text/plain": [
       "                           prices           \n",
       "                             mean  min   max\n",
       "age_group                                   \n",
       "Late middle aged adults  7.787869  1.0  25.0\n",
       "Middle aged adults       7.790457  1.0  25.0\n",
       "Seniors                  7.793134  1.0  25.0\n",
       "Young adults             7.781882  1.0  25.0"
      ]
     },
     "execution_count": 57,
     "metadata": {},
     "output_type": "execute_result"
    }
   ],
   "source": [
    "# Aggregate prices and group by age category\n",
    "df_ords_prods_cust_merged_new.groupby(\"age_group\").agg({\"prices\": ['mean', 'min', 'max']})"
   ]
  },
  {
   "cell_type": "markdown",
   "id": "7b83da88",
   "metadata": {},
   "source": [
    "## Expenditure by income category"
   ]
  },
  {
   "cell_type": "code",
   "execution_count": 58,
   "id": "dc9b42fc",
   "metadata": {
    "ExecuteTime": {
     "end_time": "2021-11-21T20:48:05.365997Z",
     "start_time": "2021-11-21T20:48:04.370742Z"
    }
   },
   "outputs": [
    {
     "data": {
      "text/html": [
       "<div>\n",
       "<style scoped>\n",
       "    .dataframe tbody tr th:only-of-type {\n",
       "        vertical-align: middle;\n",
       "    }\n",
       "\n",
       "    .dataframe tbody tr th {\n",
       "        vertical-align: top;\n",
       "    }\n",
       "\n",
       "    .dataframe thead tr th {\n",
       "        text-align: left;\n",
       "    }\n",
       "\n",
       "    .dataframe thead tr:last-of-type th {\n",
       "        text-align: right;\n",
       "    }\n",
       "</style>\n",
       "<table border=\"1\" class=\"dataframe\">\n",
       "  <thead>\n",
       "    <tr>\n",
       "      <th></th>\n",
       "      <th colspan=\"3\" halign=\"left\">prices</th>\n",
       "    </tr>\n",
       "    <tr>\n",
       "      <th></th>\n",
       "      <th>mean</th>\n",
       "      <th>min</th>\n",
       "      <th>max</th>\n",
       "    </tr>\n",
       "    <tr>\n",
       "      <th>age_group</th>\n",
       "      <th></th>\n",
       "      <th></th>\n",
       "      <th></th>\n",
       "    </tr>\n",
       "  </thead>\n",
       "  <tbody>\n",
       "    <tr>\n",
       "      <th>Late middle aged adults</th>\n",
       "      <td>7.787869</td>\n",
       "      <td>1.0</td>\n",
       "      <td>25.0</td>\n",
       "    </tr>\n",
       "    <tr>\n",
       "      <th>Middle aged adults</th>\n",
       "      <td>7.790457</td>\n",
       "      <td>1.0</td>\n",
       "      <td>25.0</td>\n",
       "    </tr>\n",
       "    <tr>\n",
       "      <th>Seniors</th>\n",
       "      <td>7.793134</td>\n",
       "      <td>1.0</td>\n",
       "      <td>25.0</td>\n",
       "    </tr>\n",
       "    <tr>\n",
       "      <th>Young adults</th>\n",
       "      <td>7.781882</td>\n",
       "      <td>1.0</td>\n",
       "      <td>25.0</td>\n",
       "    </tr>\n",
       "  </tbody>\n",
       "</table>\n",
       "</div>"
      ],
      "text/plain": [
       "                           prices           \n",
       "                             mean  min   max\n",
       "age_group                                   \n",
       "Late middle aged adults  7.787869  1.0  25.0\n",
       "Middle aged adults       7.790457  1.0  25.0\n",
       "Seniors                  7.793134  1.0  25.0\n",
       "Young adults             7.781882  1.0  25.0"
      ]
     },
     "execution_count": 58,
     "metadata": {},
     "output_type": "execute_result"
    }
   ],
   "source": [
    "# Aggregate prices and group by income category\n",
    "df_ords_prods_cust_merged_new.groupby(\"age_group\").agg({\"prices\": ['mean', 'min', 'max']})"
   ]
  },
  {
   "cell_type": "markdown",
   "id": "e93c1aa1",
   "metadata": {},
   "source": [
    "## Expenditure by parental status"
   ]
  },
  {
   "cell_type": "code",
   "execution_count": 59,
   "id": "0908eb14",
   "metadata": {
    "ExecuteTime": {
     "end_time": "2021-11-21T20:48:06.208479Z",
     "start_time": "2021-11-21T20:48:05.367999Z"
    }
   },
   "outputs": [
    {
     "data": {
      "text/html": [
       "<div>\n",
       "<style scoped>\n",
       "    .dataframe tbody tr th:only-of-type {\n",
       "        vertical-align: middle;\n",
       "    }\n",
       "\n",
       "    .dataframe tbody tr th {\n",
       "        vertical-align: top;\n",
       "    }\n",
       "\n",
       "    .dataframe thead tr th {\n",
       "        text-align: left;\n",
       "    }\n",
       "\n",
       "    .dataframe thead tr:last-of-type th {\n",
       "        text-align: right;\n",
       "    }\n",
       "</style>\n",
       "<table border=\"1\" class=\"dataframe\">\n",
       "  <thead>\n",
       "    <tr>\n",
       "      <th></th>\n",
       "      <th colspan=\"3\" halign=\"left\">prices</th>\n",
       "    </tr>\n",
       "    <tr>\n",
       "      <th></th>\n",
       "      <th>mean</th>\n",
       "      <th>min</th>\n",
       "      <th>max</th>\n",
       "    </tr>\n",
       "    <tr>\n",
       "      <th>parental_status</th>\n",
       "      <th></th>\n",
       "      <th></th>\n",
       "      <th></th>\n",
       "    </tr>\n",
       "  </thead>\n",
       "  <tbody>\n",
       "    <tr>\n",
       "      <th>Not parent</th>\n",
       "      <td>7.789370</td>\n",
       "      <td>1.0</td>\n",
       "      <td>25.0</td>\n",
       "    </tr>\n",
       "    <tr>\n",
       "      <th>Parent</th>\n",
       "      <td>7.787653</td>\n",
       "      <td>1.0</td>\n",
       "      <td>25.0</td>\n",
       "    </tr>\n",
       "  </tbody>\n",
       "</table>\n",
       "</div>"
      ],
      "text/plain": [
       "                   prices           \n",
       "                     mean  min   max\n",
       "parental_status                     \n",
       "Not parent       7.789370  1.0  25.0\n",
       "Parent           7.787653  1.0  25.0"
      ]
     },
     "execution_count": 59,
     "metadata": {},
     "output_type": "execute_result"
    }
   ],
   "source": [
    "# Aggregate prices and group by parental status\n",
    "df_ords_prods_cust_merged_new.groupby(\"parental_status\").agg({\"prices\": ['mean', 'min', 'max']})"
   ]
  },
  {
   "cell_type": "markdown",
   "id": "37237569",
   "metadata": {},
   "source": [
    "## Expenditure by department"
   ]
  },
  {
   "cell_type": "code",
   "execution_count": 60,
   "id": "6de4ef6d",
   "metadata": {
    "ExecuteTime": {
     "end_time": "2021-11-21T20:48:07.099748Z",
     "start_time": "2021-11-21T20:48:06.211480Z"
    }
   },
   "outputs": [
    {
     "data": {
      "text/html": [
       "<div>\n",
       "<style scoped>\n",
       "    .dataframe tbody tr th:only-of-type {\n",
       "        vertical-align: middle;\n",
       "    }\n",
       "\n",
       "    .dataframe tbody tr th {\n",
       "        vertical-align: top;\n",
       "    }\n",
       "\n",
       "    .dataframe thead tr th {\n",
       "        text-align: left;\n",
       "    }\n",
       "\n",
       "    .dataframe thead tr:last-of-type th {\n",
       "        text-align: right;\n",
       "    }\n",
       "</style>\n",
       "<table border=\"1\" class=\"dataframe\">\n",
       "  <thead>\n",
       "    <tr>\n",
       "      <th></th>\n",
       "      <th colspan=\"3\" halign=\"left\">prices</th>\n",
       "    </tr>\n",
       "    <tr>\n",
       "      <th></th>\n",
       "      <th>mean</th>\n",
       "      <th>min</th>\n",
       "      <th>max</th>\n",
       "    </tr>\n",
       "    <tr>\n",
       "      <th>department</th>\n",
       "      <th></th>\n",
       "      <th></th>\n",
       "      <th></th>\n",
       "    </tr>\n",
       "  </thead>\n",
       "  <tbody>\n",
       "    <tr>\n",
       "      <th>alcohol</th>\n",
       "      <td>8.150993</td>\n",
       "      <td>1.0</td>\n",
       "      <td>15.0</td>\n",
       "    </tr>\n",
       "    <tr>\n",
       "      <th>babies</th>\n",
       "      <td>7.639102</td>\n",
       "      <td>1.0</td>\n",
       "      <td>15.0</td>\n",
       "    </tr>\n",
       "    <tr>\n",
       "      <th>bakery</th>\n",
       "      <td>7.858818</td>\n",
       "      <td>1.0</td>\n",
       "      <td>15.0</td>\n",
       "    </tr>\n",
       "    <tr>\n",
       "      <th>beverages</th>\n",
       "      <td>7.681743</td>\n",
       "      <td>1.0</td>\n",
       "      <td>15.0</td>\n",
       "    </tr>\n",
       "    <tr>\n",
       "      <th>breakfast</th>\n",
       "      <td>8.029482</td>\n",
       "      <td>1.0</td>\n",
       "      <td>14.9</td>\n",
       "    </tr>\n",
       "    <tr>\n",
       "      <th>bulk</th>\n",
       "      <td>8.336297</td>\n",
       "      <td>1.4</td>\n",
       "      <td>14.1</td>\n",
       "    </tr>\n",
       "    <tr>\n",
       "      <th>canned goods</th>\n",
       "      <td>7.545604</td>\n",
       "      <td>1.0</td>\n",
       "      <td>15.0</td>\n",
       "    </tr>\n",
       "    <tr>\n",
       "      <th>dairy eggs</th>\n",
       "      <td>8.335958</td>\n",
       "      <td>1.0</td>\n",
       "      <td>15.0</td>\n",
       "    </tr>\n",
       "    <tr>\n",
       "      <th>deli</th>\n",
       "      <td>7.775141</td>\n",
       "      <td>1.0</td>\n",
       "      <td>15.0</td>\n",
       "    </tr>\n",
       "    <tr>\n",
       "      <th>dry goods pasta</th>\n",
       "      <td>7.353205</td>\n",
       "      <td>1.0</td>\n",
       "      <td>15.0</td>\n",
       "    </tr>\n",
       "    <tr>\n",
       "      <th>frozen</th>\n",
       "      <td>7.732365</td>\n",
       "      <td>1.0</td>\n",
       "      <td>15.0</td>\n",
       "    </tr>\n",
       "    <tr>\n",
       "      <th>households</th>\n",
       "      <td>7.380562</td>\n",
       "      <td>1.0</td>\n",
       "      <td>15.0</td>\n",
       "    </tr>\n",
       "    <tr>\n",
       "      <th>international</th>\n",
       "      <td>7.697858</td>\n",
       "      <td>1.0</td>\n",
       "      <td>15.0</td>\n",
       "    </tr>\n",
       "    <tr>\n",
       "      <th>meat seafood</th>\n",
       "      <td>16.307271</td>\n",
       "      <td>8.0</td>\n",
       "      <td>25.0</td>\n",
       "    </tr>\n",
       "    <tr>\n",
       "      <th>missing</th>\n",
       "      <td>8.634888</td>\n",
       "      <td>1.0</td>\n",
       "      <td>15.0</td>\n",
       "    </tr>\n",
       "    <tr>\n",
       "      <th>other</th>\n",
       "      <td>6.915926</td>\n",
       "      <td>1.1</td>\n",
       "      <td>15.0</td>\n",
       "    </tr>\n",
       "    <tr>\n",
       "      <th>pantry</th>\n",
       "      <td>8.012889</td>\n",
       "      <td>1.0</td>\n",
       "      <td>20.0</td>\n",
       "    </tr>\n",
       "    <tr>\n",
       "      <th>personal care</th>\n",
       "      <td>7.985321</td>\n",
       "      <td>1.0</td>\n",
       "      <td>15.0</td>\n",
       "    </tr>\n",
       "    <tr>\n",
       "      <th>pets</th>\n",
       "      <td>7.857659</td>\n",
       "      <td>1.0</td>\n",
       "      <td>15.0</td>\n",
       "    </tr>\n",
       "    <tr>\n",
       "      <th>produce</th>\n",
       "      <td>7.979177</td>\n",
       "      <td>1.0</td>\n",
       "      <td>15.0</td>\n",
       "    </tr>\n",
       "    <tr>\n",
       "      <th>snacks</th>\n",
       "      <td>4.273811</td>\n",
       "      <td>1.6</td>\n",
       "      <td>7.0</td>\n",
       "    </tr>\n",
       "  </tbody>\n",
       "</table>\n",
       "</div>"
      ],
      "text/plain": [
       "                    prices           \n",
       "                      mean  min   max\n",
       "department                           \n",
       "alcohol           8.150993  1.0  15.0\n",
       "babies            7.639102  1.0  15.0\n",
       "bakery            7.858818  1.0  15.0\n",
       "beverages         7.681743  1.0  15.0\n",
       "breakfast         8.029482  1.0  14.9\n",
       "bulk              8.336297  1.4  14.1\n",
       "canned goods      7.545604  1.0  15.0\n",
       "dairy eggs        8.335958  1.0  15.0\n",
       "deli              7.775141  1.0  15.0\n",
       "dry goods pasta   7.353205  1.0  15.0\n",
       "frozen            7.732365  1.0  15.0\n",
       "households        7.380562  1.0  15.0\n",
       "international     7.697858  1.0  15.0\n",
       "meat seafood     16.307271  8.0  25.0\n",
       "missing           8.634888  1.0  15.0\n",
       "other             6.915926  1.1  15.0\n",
       "pantry            8.012889  1.0  20.0\n",
       "personal care     7.985321  1.0  15.0\n",
       "pets              7.857659  1.0  15.0\n",
       "produce           7.979177  1.0  15.0\n",
       "snacks            4.273811  1.6   7.0"
      ]
     },
     "execution_count": 60,
     "metadata": {},
     "output_type": "execute_result"
    }
   ],
   "source": [
    "# Aggregate prices and group by department\n",
    "df_ords_prods_cust_merged_new.groupby(\"department\").agg({\"prices\": ['mean', 'min', 'max']})"
   ]
  },
  {
   "cell_type": "markdown",
   "id": "243866c0",
   "metadata": {},
   "source": [
    "# Customer profiles by region"
   ]
  },
  {
   "cell_type": "markdown",
   "id": "7266a480",
   "metadata": {},
   "source": [
    "## Age groups by region"
   ]
  },
  {
   "cell_type": "code",
   "execution_count": 61,
   "id": "bd378e6a",
   "metadata": {
    "ExecuteTime": {
     "end_time": "2021-11-21T20:48:09.552251Z",
     "start_time": "2021-11-21T20:48:07.102751Z"
    }
   },
   "outputs": [],
   "source": [
    "# Create a crosstab \"region\" & \"age_group\"\n",
    "crosstab_region_age = pd.crosstab(df_ords_prods_cust_merged_new[\"region\"], df_ords_prods_cust_merged_new[\"age_group\"], dropna = False)"
   ]
  },
  {
   "cell_type": "code",
   "execution_count": 62,
   "id": "ccfdbd4d",
   "metadata": {
    "ExecuteTime": {
     "end_time": "2021-11-21T20:48:09.567489Z",
     "start_time": "2021-11-21T20:48:09.552251Z"
    }
   },
   "outputs": [
    {
     "data": {
      "text/html": [
       "<div>\n",
       "<style scoped>\n",
       "    .dataframe tbody tr th:only-of-type {\n",
       "        vertical-align: middle;\n",
       "    }\n",
       "\n",
       "    .dataframe tbody tr th {\n",
       "        vertical-align: top;\n",
       "    }\n",
       "\n",
       "    .dataframe thead th {\n",
       "        text-align: right;\n",
       "    }\n",
       "</style>\n",
       "<table border=\"1\" class=\"dataframe\">\n",
       "  <thead>\n",
       "    <tr style=\"text-align: right;\">\n",
       "      <th>age_group</th>\n",
       "      <th>Late middle aged adults</th>\n",
       "      <th>Middle aged adults</th>\n",
       "      <th>Seniors</th>\n",
       "      <th>Young adults</th>\n",
       "    </tr>\n",
       "    <tr>\n",
       "      <th>region</th>\n",
       "      <th></th>\n",
       "      <th></th>\n",
       "      <th></th>\n",
       "      <th></th>\n",
       "    </tr>\n",
       "  </thead>\n",
       "  <tbody>\n",
       "    <tr>\n",
       "      <th>Midwest</th>\n",
       "      <td>679624</td>\n",
       "      <td>341729</td>\n",
       "      <td>563575</td>\n",
       "      <td>565343</td>\n",
       "    </tr>\n",
       "    <tr>\n",
       "      <th>Northeast</th>\n",
       "      <td>508952</td>\n",
       "      <td>242910</td>\n",
       "      <td>443234</td>\n",
       "      <td>434933</td>\n",
       "    </tr>\n",
       "    <tr>\n",
       "      <th>South</th>\n",
       "      <td>953001</td>\n",
       "      <td>490266</td>\n",
       "      <td>810196</td>\n",
       "      <td>823558</td>\n",
       "    </tr>\n",
       "    <tr>\n",
       "      <th>West</th>\n",
       "      <td>743755</td>\n",
       "      <td>364758</td>\n",
       "      <td>627849</td>\n",
       "      <td>622908</td>\n",
       "    </tr>\n",
       "  </tbody>\n",
       "</table>\n",
       "</div>"
      ],
      "text/plain": [
       "age_group  Late middle aged adults  Middle aged adults  Seniors  Young adults\n",
       "region                                                                       \n",
       "Midwest                     679624              341729   563575        565343\n",
       "Northeast                   508952              242910   443234        434933\n",
       "South                       953001              490266   810196        823558\n",
       "West                        743755              364758   627849        622908"
      ]
     },
     "execution_count": 62,
     "metadata": {},
     "output_type": "execute_result"
    }
   ],
   "source": [
    "# Print\n",
    "crosstab_region_age"
   ]
  },
  {
   "cell_type": "code",
   "execution_count": 63,
   "id": "fa9aed9d",
   "metadata": {
    "ExecuteTime": {
     "end_time": "2021-11-21T20:48:09.950952Z",
     "start_time": "2021-11-21T20:48:09.569490Z"
    }
   },
   "outputs": [
    {
     "data": {
      "image/png": "[encoded data removed]",
      "text/plain": [
       "<Figure size 432x288 with 1 Axes>"
      ]
     },
     "metadata": {
      "needs_background": "light"
     },
     "output_type": "display_data"
    }
   ],
   "source": [
    "# Create bar chart\n",
    "crosstab_region_age_chart = crosstab_region_age.plot(kind='bar', stacked=True, color = sns.color_palette(\"Blues_r\"))\n",
    "plt.tight_layout()"
   ]
  },
  {
   "cell_type": "code",
   "execution_count": 64,
   "id": "b4f66391",
   "metadata": {
    "ExecuteTime": {
     "end_time": "2021-11-21T20:48:10.078687Z",
     "start_time": "2021-11-21T20:48:09.956679Z"
    }
   },
   "outputs": [],
   "source": [
    "# Export chart\n",
    "crosstab_region_age_chart.figure.savefig(os.path.join(path, '04 Analysis','Visualizations', 'crosstab_region_age_chart.png'))"
   ]
  },
  {
   "cell_type": "markdown",
   "id": "6fa75d45",
   "metadata": {},
   "source": [
    "## Income categories by region"
   ]
  },
  {
   "cell_type": "code",
   "execution_count": 65,
   "id": "307322cb",
   "metadata": {
    "ExecuteTime": {
     "end_time": "2021-11-21T20:48:12.289224Z",
     "start_time": "2021-11-21T20:48:10.092687Z"
    }
   },
   "outputs": [],
   "source": [
    "# Create a crosstab \"region\" & \"income_categ\"\n",
    "crosstab_region_income = pd.crosstab(df_ords_prods_cust_merged_new[\"region\"], df_ords_prods_cust_merged_new[\"income_categ\"], dropna = False)"
   ]
  },
  {
   "cell_type": "code",
   "execution_count": 66,
   "id": "4a8f1f8c",
   "metadata": {
    "ExecuteTime": {
     "end_time": "2021-11-21T20:48:12.321225Z",
     "start_time": "2021-11-21T20:48:12.293225Z"
    }
   },
   "outputs": [
    {
     "data": {
      "text/html": [
       "<div>\n",
       "<style scoped>\n",
       "    .dataframe tbody tr th:only-of-type {\n",
       "        vertical-align: middle;\n",
       "    }\n",
       "\n",
       "    .dataframe tbody tr th {\n",
       "        vertical-align: top;\n",
       "    }\n",
       "\n",
       "    .dataframe thead th {\n",
       "        text-align: right;\n",
       "    }\n",
       "</style>\n",
       "<table border=\"1\" class=\"dataframe\">\n",
       "  <thead>\n",
       "    <tr style=\"text-align: right;\">\n",
       "      <th>income_categ</th>\n",
       "      <th>High income</th>\n",
       "      <th>Low income</th>\n",
       "      <th>Middle class</th>\n",
       "      <th>Upper middle class</th>\n",
       "    </tr>\n",
       "    <tr>\n",
       "      <th>region</th>\n",
       "      <th></th>\n",
       "      <th></th>\n",
       "      <th></th>\n",
       "      <th></th>\n",
       "    </tr>\n",
       "  </thead>\n",
       "  <tbody>\n",
       "    <tr>\n",
       "      <th>Midwest</th>\n",
       "      <td>19503</td>\n",
       "      <td>230999</td>\n",
       "      <td>1645344</td>\n",
       "      <td>254425</td>\n",
       "    </tr>\n",
       "    <tr>\n",
       "      <th>Northeast</th>\n",
       "      <td>11627</td>\n",
       "      <td>172941</td>\n",
       "      <td>1253827</td>\n",
       "      <td>191634</td>\n",
       "    </tr>\n",
       "    <tr>\n",
       "      <th>South</th>\n",
       "      <td>25204</td>\n",
       "      <td>338474</td>\n",
       "      <td>2350837</td>\n",
       "      <td>362506</td>\n",
       "    </tr>\n",
       "    <tr>\n",
       "      <th>West</th>\n",
       "      <td>21115</td>\n",
       "      <td>251773</td>\n",
       "      <td>1802901</td>\n",
       "      <td>283481</td>\n",
       "    </tr>\n",
       "  </tbody>\n",
       "</table>\n",
       "</div>"
      ],
      "text/plain": [
       "income_categ  High income  Low income  Middle class  Upper middle class\n",
       "region                                                                 \n",
       "Midwest             19503      230999       1645344              254425\n",
       "Northeast           11627      172941       1253827              191634\n",
       "South               25204      338474       2350837              362506\n",
       "West                21115      251773       1802901              283481"
      ]
     },
     "execution_count": 66,
     "metadata": {},
     "output_type": "execute_result"
    }
   ],
   "source": [
    "# Print\n",
    "crosstab_region_income"
   ]
  },
  {
   "cell_type": "code",
   "execution_count": 67,
   "id": "e54d27ab",
   "metadata": {
    "ExecuteTime": {
     "end_time": "2021-11-21T20:48:12.337227Z",
     "start_time": "2021-11-21T20:48:12.324230Z"
    }
   },
   "outputs": [],
   "source": [
    "# Copy to clipboard\n",
    "crosstab_region_income.to_clipboard()"
   ]
  },
  {
   "cell_type": "code",
   "execution_count": 68,
   "id": "95950ea7",
   "metadata": {
    "ExecuteTime": {
     "end_time": "2021-11-21T20:48:12.752537Z",
     "start_time": "2021-11-21T20:48:12.339228Z"
    }
   },
   "outputs": [
    {
     "data": {
      "image/png": "[encoded data removed]",
      "text/plain": [
       "<Figure size 432x288 with 1 Axes>"
      ]
     },
     "metadata": {
      "needs_background": "light"
     },
     "output_type": "display_data"
    }
   ],
   "source": [
    "# Create bar chart\n",
    "crosstab_region_income_chart = crosstab_region_income.plot(kind='bar', stacked=True, color = sns.color_palette(\"Blues_r\"))\n",
    "plt.tight_layout()"
   ]
  },
  {
   "cell_type": "code",
   "execution_count": 69,
   "id": "2986f640",
   "metadata": {
    "ExecuteTime": {
     "end_time": "2021-11-21T20:48:12.910549Z",
     "start_time": "2021-11-21T20:48:12.754539Z"
    }
   },
   "outputs": [],
   "source": [
    "# Export chart\n",
    "crosstab_region_income_chart.figure.savefig(os.path.join(path, '04 Analysis','Visualizations', 'crosstab_region_income_chart.png'))"
   ]
  },
  {
   "cell_type": "markdown",
   "id": "d1d74e02",
   "metadata": {},
   "source": [
    "## Parental status by region"
   ]
  },
  {
   "cell_type": "code",
   "execution_count": 70,
   "id": "9ddcf9e4",
   "metadata": {
    "ExecuteTime": {
     "end_time": "2021-11-21T20:48:15.054059Z",
     "start_time": "2021-11-21T20:48:12.912552Z"
    }
   },
   "outputs": [],
   "source": [
    "# Create a crosstab \"region\" & \"parental_status\"\n",
    "crosstab_region_parent = pd.crosstab(df_ords_prods_cust_merged_new[\"region\"], df_ords_prods_cust_merged_new[\"parental_status\"], dropna = False)"
   ]
  },
  {
   "cell_type": "code",
   "execution_count": 71,
   "id": "4bca8631",
   "metadata": {
    "ExecuteTime": {
     "end_time": "2021-11-21T20:48:15.082926Z",
     "start_time": "2021-11-21T20:48:15.054059Z"
    }
   },
   "outputs": [
    {
     "data": {
      "text/html": [
       "<div>\n",
       "<style scoped>\n",
       "    .dataframe tbody tr th:only-of-type {\n",
       "        vertical-align: middle;\n",
       "    }\n",
       "\n",
       "    .dataframe tbody tr th {\n",
       "        vertical-align: top;\n",
       "    }\n",
       "\n",
       "    .dataframe thead th {\n",
       "        text-align: right;\n",
       "    }\n",
       "</style>\n",
       "<table border=\"1\" class=\"dataframe\">\n",
       "  <thead>\n",
       "    <tr style=\"text-align: right;\">\n",
       "      <th>parental_status</th>\n",
       "      <th>Not parent</th>\n",
       "      <th>Parent</th>\n",
       "    </tr>\n",
       "    <tr>\n",
       "      <th>region</th>\n",
       "      <th></th>\n",
       "      <th></th>\n",
       "    </tr>\n",
       "  </thead>\n",
       "  <tbody>\n",
       "    <tr>\n",
       "      <th>Midwest</th>\n",
       "      <td>537408</td>\n",
       "      <td>1612863</td>\n",
       "    </tr>\n",
       "    <tr>\n",
       "      <th>Northeast</th>\n",
       "      <td>403531</td>\n",
       "      <td>1226498</td>\n",
       "    </tr>\n",
       "    <tr>\n",
       "      <th>South</th>\n",
       "      <td>769461</td>\n",
       "      <td>2307560</td>\n",
       "    </tr>\n",
       "    <tr>\n",
       "      <th>West</th>\n",
       "      <td>587288</td>\n",
       "      <td>1771982</td>\n",
       "    </tr>\n",
       "  </tbody>\n",
       "</table>\n",
       "</div>"
      ],
      "text/plain": [
       "parental_status  Not parent   Parent\n",
       "region                              \n",
       "Midwest              537408  1612863\n",
       "Northeast            403531  1226498\n",
       "South                769461  2307560\n",
       "West                 587288  1771982"
      ]
     },
     "execution_count": 71,
     "metadata": {},
     "output_type": "execute_result"
    }
   ],
   "source": [
    "# Print\n",
    "crosstab_region_parent"
   ]
  },
  {
   "cell_type": "code",
   "execution_count": 72,
   "id": "110bf9e0",
   "metadata": {
    "ExecuteTime": {
     "end_time": "2021-11-21T20:48:15.385571Z",
     "start_time": "2021-11-21T20:48:15.082926Z"
    },
    "scrolled": true
   },
   "outputs": [
    {
     "data": {
      "image/png": "[encoded data removed]",
      "text/plain": [
       "<Figure size 432x288 with 1 Axes>"
      ]
     },
     "metadata": {
      "needs_background": "light"
     },
     "output_type": "display_data"
    }
   ],
   "source": [
    "# Create bar chart\n",
    "crosstab_region_parent_chart = crosstab_region_parent.plot(kind='bar', stacked=True, color = sns.color_palette(\"Blues_r\"))                                                                                                  "
   ]
  },
  {
   "cell_type": "code",
   "execution_count": 73,
   "id": "7a7d23ae",
   "metadata": {
    "ExecuteTime": {
     "end_time": "2021-11-21T20:48:15.497335Z",
     "start_time": "2021-11-21T20:48:15.387574Z"
    }
   },
   "outputs": [],
   "source": [
    "# Export chart\n",
    "crosstab_region_parent_chart.figure.savefig(os.path.join(path, '04 Analysis','Visualizations', 'crosstab_region_parent_chart.png'))"
   ]
  },
  {
   "cell_type": "markdown",
   "id": "203870d7",
   "metadata": {},
   "source": [
    "## Loyalty status by region"
   ]
  },
  {
   "cell_type": "code",
   "execution_count": 74,
   "id": "3085a2d9",
   "metadata": {
    "ExecuteTime": {
     "end_time": "2021-11-21T20:48:20.762187Z",
     "start_time": "2021-11-21T20:48:15.499336Z"
    }
   },
   "outputs": [],
   "source": [
    "# Create a crosstab \"region\" & \"loyalty_flag\"\n",
    "crosstab_region_loyalty = pd.crosstab(df_ords_prods_cust_merged_new[\"region\"], df_ords_prods_cust_merged_new[\"loyalty_flag\"], dropna = False, margins = True)"
   ]
  },
  {
   "cell_type": "code",
   "execution_count": 75,
   "id": "9c3748dc",
   "metadata": {
    "ExecuteTime": {
     "end_time": "2021-11-21T20:48:20.793187Z",
     "start_time": "2021-11-21T20:48:20.764187Z"
    }
   },
   "outputs": [
    {
     "data": {
      "text/html": [
       "<div>\n",
       "<style scoped>\n",
       "    .dataframe tbody tr th:only-of-type {\n",
       "        vertical-align: middle;\n",
       "    }\n",
       "\n",
       "    .dataframe tbody tr th {\n",
       "        vertical-align: top;\n",
       "    }\n",
       "\n",
       "    .dataframe thead th {\n",
       "        text-align: right;\n",
       "    }\n",
       "</style>\n",
       "<table border=\"1\" class=\"dataframe\">\n",
       "  <thead>\n",
       "    <tr style=\"text-align: right;\">\n",
       "      <th>loyalty_flag</th>\n",
       "      <th>Loyal customer</th>\n",
       "      <th>New customer</th>\n",
       "      <th>Regular customer</th>\n",
       "      <th>All</th>\n",
       "    </tr>\n",
       "    <tr>\n",
       "      <th>region</th>\n",
       "      <th></th>\n",
       "      <th></th>\n",
       "      <th></th>\n",
       "      <th></th>\n",
       "    </tr>\n",
       "  </thead>\n",
       "  <tbody>\n",
       "    <tr>\n",
       "      <th>Midwest</th>\n",
       "      <td>677996</td>\n",
       "      <td>362550</td>\n",
       "      <td>1109725</td>\n",
       "      <td>2150271</td>\n",
       "    </tr>\n",
       "    <tr>\n",
       "      <th>Northeast</th>\n",
       "      <td>529682</td>\n",
       "      <td>272721</td>\n",
       "      <td>827626</td>\n",
       "      <td>1630029</td>\n",
       "    </tr>\n",
       "    <tr>\n",
       "      <th>South</th>\n",
       "      <td>982027</td>\n",
       "      <td>507059</td>\n",
       "      <td>1587935</td>\n",
       "      <td>3077021</td>\n",
       "    </tr>\n",
       "    <tr>\n",
       "      <th>West</th>\n",
       "      <td>771218</td>\n",
       "      <td>393858</td>\n",
       "      <td>1194194</td>\n",
       "      <td>2359270</td>\n",
       "    </tr>\n",
       "    <tr>\n",
       "      <th>All</th>\n",
       "      <td>2960923</td>\n",
       "      <td>1536188</td>\n",
       "      <td>4719480</td>\n",
       "      <td>9216591</td>\n",
       "    </tr>\n",
       "  </tbody>\n",
       "</table>\n",
       "</div>"
      ],
      "text/plain": [
       "loyalty_flag  Loyal customer  New customer  Regular customer      All\n",
       "region                                                               \n",
       "Midwest               677996        362550           1109725  2150271\n",
       "Northeast             529682        272721            827626  1630029\n",
       "South                 982027        507059           1587935  3077021\n",
       "West                  771218        393858           1194194  2359270\n",
       "All                  2960923       1536188           4719480  9216591"
      ]
     },
     "execution_count": 75,
     "metadata": {},
     "output_type": "execute_result"
    }
   ],
   "source": [
    "# Print\n",
    "crosstab_region_loyalty"
   ]
  },
  {
   "cell_type": "code",
   "execution_count": 76,
   "id": "dd5c81f5",
   "metadata": {
    "ExecuteTime": {
     "end_time": "2021-11-21T20:48:20.824192Z",
     "start_time": "2021-11-21T20:48:20.795189Z"
    }
   },
   "outputs": [],
   "source": [
    "crosstab_region_loyalty.to_clipboard()"
   ]
  },
  {
   "cell_type": "code",
   "execution_count": 77,
   "id": "ab990668",
   "metadata": {
    "ExecuteTime": {
     "end_time": "2021-11-21T20:48:21.254701Z",
     "start_time": "2021-11-21T20:48:20.826194Z"
    }
   },
   "outputs": [
    {
     "data": {
      "image/png": "[encoded data removed]",
      "text/plain": [
       "<Figure size 432x288 with 1 Axes>"
      ]
     },
     "metadata": {
      "needs_background": "light"
     },
     "output_type": "display_data"
    }
   ],
   "source": [
    "# Create bar chart\n",
    "crosstab_region_loyalty_chart = crosstab_region_loyalty.plot(kind='bar', stacked=False, color = sns.color_palette(\"Blues_r\"))\n",
    "plt.title(\"Customer Loyalty Status by Region\")\n",
    "plt.tight_layout()"
   ]
  },
  {
   "cell_type": "code",
   "execution_count": 78,
   "id": "372ed507",
   "metadata": {
    "ExecuteTime": {
     "end_time": "2021-11-21T20:48:21.398187Z",
     "start_time": "2021-11-21T20:48:21.256704Z"
    }
   },
   "outputs": [],
   "source": [
    "# Export chart\n",
    "crosstab_region_loyalty_chart.figure.savefig(os.path.join(path, '04 Analysis','Visualizations', 'crosstab_region_loyalty_chart.png'))"
   ]
  },
  {
   "cell_type": "markdown",
   "id": "c937d76b",
   "metadata": {},
   "source": [
    "## Spending behaviour by region"
   ]
  },
  {
   "cell_type": "code",
   "execution_count": 79,
   "id": "d71d00a4",
   "metadata": {
    "ExecuteTime": {
     "end_time": "2021-11-21T20:48:23.640320Z",
     "start_time": "2021-11-21T20:48:21.400190Z"
    }
   },
   "outputs": [],
   "source": [
    "# Create a crosstab \"region\" & \"spending_flag\"\n",
    "crosstab_region_spend = pd.crosstab(df_ords_prods_cust_merged_new[\"region\"], df_ords_prods_cust_merged_new[\"spending_flag\"], dropna = False)"
   ]
  },
  {
   "cell_type": "code",
   "execution_count": 80,
   "id": "7fe4e5df",
   "metadata": {
    "ExecuteTime": {
     "end_time": "2021-11-21T20:48:24.343437Z",
     "start_time": "2021-11-21T20:48:23.640320Z"
    }
   },
   "outputs": [
    {
     "data": {
      "image/png": "[encoded data removed]",
      "text/plain": [
       "<Figure size 432x288 with 1 Axes>"
      ]
     },
     "metadata": {
      "needs_background": "light"
     },
     "output_type": "display_data"
    }
   ],
   "source": [
    "# Create bar chart\n",
    "crosstab_region_spend_chart = crosstab_region_spend.plot(kind='bar', stacked=True, color = sns.color_palette(\"Blues_r\"))\n",
    "plt.title(\"Spending Behaviour by Region\")\n",
    "plt.tight_layout()"
   ]
  },
  {
   "cell_type": "code",
   "execution_count": 81,
   "id": "bfc01438",
   "metadata": {
    "ExecuteTime": {
     "end_time": "2021-11-21T20:48:24.487448Z",
     "start_time": "2021-11-21T20:48:24.345440Z"
    }
   },
   "outputs": [],
   "source": [
    "# Export chart\n",
    "crosstab_region_spend_chart.figure.savefig(os.path.join(path, '04 Analysis','Visualizations', 'crosstab_region_spend_chart.png'))"
   ]
  },
  {
   "cell_type": "markdown",
   "id": "33cabaab",
   "metadata": {},
   "source": [
    "## Daily orders by region"
   ]
  },
  {
   "cell_type": "code",
   "execution_count": 82,
   "id": "d2665ac7",
   "metadata": {
    "ExecuteTime": {
     "end_time": "2021-11-21T20:48:26.708830Z",
     "start_time": "2021-11-21T20:48:24.489448Z"
    }
   },
   "outputs": [],
   "source": [
    "# Create a crosstab \"order_day_of_week\" & \"region\"\n",
    "crosstab_odow_region= pd.crosstab(df_ords_prods_cust_merged_new[\"order_day_of_week\"], df_ords_prods_cust_merged_new[\"region\"], dropna = False)"
   ]
  },
  {
   "cell_type": "code",
   "execution_count": 83,
   "id": "f90c4e9c",
   "metadata": {
    "ExecuteTime": {
     "end_time": "2021-11-21T20:48:27.130561Z",
     "start_time": "2021-11-21T20:48:26.708830Z"
    },
    "scrolled": false
   },
   "outputs": [
    {
     "data": {
      "text/plain": [
       "Text(0.5, 1.0, 'Daily orders by region')"
      ]
     },
     "execution_count": 83,
     "metadata": {},
     "output_type": "execute_result"
    },
    {
     "data": {
      "image/png": "[encoded data removed]",
      "text/plain": [
       "<Figure size 432x288 with 1 Axes>"
      ]
     },
     "metadata": {
      "needs_background": "light"
     },
     "output_type": "display_data"
    }
   ],
   "source": [
    "# Create bar chart\n",
    "crosstab_odow_region_chart = crosstab_odow_region.plot(color = sns.color_palette(\"Blues_r\"), stacked=False, kind='bar')      \n",
    "plt.title(\"Daily orders by region\")"
   ]
  },
  {
   "cell_type": "code",
   "execution_count": 84,
   "id": "2d958a2d",
   "metadata": {
    "ExecuteTime": {
     "end_time": "2021-11-21T20:48:27.274570Z",
     "start_time": "2021-11-21T20:48:27.133561Z"
    }
   },
   "outputs": [],
   "source": [
    "# Export chart\n",
    "crosstab_odow_region_chart.figure.savefig(os.path.join(path, '04 Analysis','Visualizations', 'crosstab_odow_region_chart.png'))"
   ]
  },
  {
   "cell_type": "markdown",
   "id": "e398ed77",
   "metadata": {
    "ExecuteTime": {
     "end_time": "2021-11-18T18:57:31.045740Z",
     "start_time": "2021-11-18T18:57:31.033924Z"
    }
   },
   "source": [
    "## Spending by department & region"
   ]
  },
  {
   "cell_type": "code",
   "execution_count": 85,
   "id": "aa1ce44b",
   "metadata": {
    "ExecuteTime": {
     "end_time": "2021-11-21T20:48:29.513079Z",
     "start_time": "2021-11-21T20:48:27.276572Z"
    }
   },
   "outputs": [],
   "source": [
    "# Create a crosstab \"department\" & \"region\"\n",
    "crosstab_dept_region = pd.crosstab(df_ords_prods_cust_merged_new[\"department\"], df_ords_prods_cust_merged_new[\"region\"], dropna = False)"
   ]
  },
  {
   "cell_type": "code",
   "execution_count": 86,
   "id": "45016dfb",
   "metadata": {
    "ExecuteTime": {
     "end_time": "2021-11-21T20:48:30.120694Z",
     "start_time": "2021-11-21T20:48:29.513079Z"
    }
   },
   "outputs": [
    {
     "data": {
      "image/png": "[encoded data removed]",
      "text/plain": [
       "<Figure size 432x288 with 1 Axes>"
      ]
     },
     "metadata": {
      "needs_background": "light"
     },
     "output_type": "display_data"
    }
   ],
   "source": [
    "# Create bar chart\n",
    "crosstab_dept_region_chart = crosstab_dept_region.plot(kind='bar', stacked=True, color = sns.color_palette(\"Blues_r\"))\n",
    "plt.tight_layout()"
   ]
  },
  {
   "cell_type": "markdown",
   "id": "09ed6ea0",
   "metadata": {},
   "source": [
    "# Customer profiles by department"
   ]
  },
  {
   "cell_type": "markdown",
   "id": "b14e779b",
   "metadata": {
    "ExecuteTime": {
     "end_time": "2021-11-14T22:47:03.135297Z",
     "start_time": "2021-11-14T22:47:03.118455Z"
    }
   },
   "source": [
    "## Spending by department & age group"
   ]
  },
  {
   "cell_type": "code",
   "execution_count": 109,
   "id": "090a1ffb",
   "metadata": {
    "ExecuteTime": {
     "end_time": "2021-11-21T22:06:29.235899Z",
     "start_time": "2021-11-21T22:06:26.898143Z"
    }
   },
   "outputs": [],
   "source": [
    "# Create a crosstab \"department\" & \"age_group\"\n",
    "crosstab_dept_age = pd.crosstab(df_ords_prods_cust_merged_new[\"department\"], df_ords_prods_cust_merged_new[\"age_group\"], dropna = False)"
   ]
  },
  {
   "cell_type": "code",
   "execution_count": 110,
   "id": "52b6220d",
   "metadata": {
    "ExecuteTime": {
     "end_time": "2021-11-21T22:06:29.252478Z",
     "start_time": "2021-11-21T22:06:29.235899Z"
    }
   },
   "outputs": [
    {
     "data": {
      "text/html": [
       "<div>\n",
       "<style scoped>\n",
       "    .dataframe tbody tr th:only-of-type {\n",
       "        vertical-align: middle;\n",
       "    }\n",
       "\n",
       "    .dataframe tbody tr th {\n",
       "        vertical-align: top;\n",
       "    }\n",
       "\n",
       "    .dataframe thead th {\n",
       "        text-align: right;\n",
       "    }\n",
       "</style>\n",
       "<table border=\"1\" class=\"dataframe\">\n",
       "  <thead>\n",
       "    <tr style=\"text-align: right;\">\n",
       "      <th>age_group</th>\n",
       "      <th>Late middle aged adults</th>\n",
       "      <th>Middle aged adults</th>\n",
       "      <th>Seniors</th>\n",
       "      <th>Young adults</th>\n",
       "    </tr>\n",
       "    <tr>\n",
       "      <th>department</th>\n",
       "      <th></th>\n",
       "      <th></th>\n",
       "      <th></th>\n",
       "      <th></th>\n",
       "    </tr>\n",
       "  </thead>\n",
       "  <tbody>\n",
       "    <tr>\n",
       "      <th>alcohol</th>\n",
       "      <td>13779</td>\n",
       "      <td>6008</td>\n",
       "      <td>10772</td>\n",
       "      <td>11955</td>\n",
       "    </tr>\n",
       "    <tr>\n",
       "      <th>babies</th>\n",
       "      <td>38782</td>\n",
       "      <td>20307</td>\n",
       "      <td>32465</td>\n",
       "      <td>32523</td>\n",
       "    </tr>\n",
       "    <tr>\n",
       "      <th>bakery</th>\n",
       "      <td>104307</td>\n",
       "      <td>52099</td>\n",
       "      <td>88257</td>\n",
       "      <td>88718</td>\n",
       "    </tr>\n",
       "    <tr>\n",
       "      <th>beverages</th>\n",
       "      <td>242694</td>\n",
       "      <td>117633</td>\n",
       "      <td>203647</td>\n",
       "      <td>200803</td>\n",
       "    </tr>\n",
       "    <tr>\n",
       "      <th>breakfast</th>\n",
       "      <td>62897</td>\n",
       "      <td>30975</td>\n",
       "      <td>52150</td>\n",
       "      <td>53471</td>\n",
       "    </tr>\n",
       "    <tr>\n",
       "      <th>bulk</th>\n",
       "      <td>3102</td>\n",
       "      <td>1549</td>\n",
       "      <td>2609</td>\n",
       "      <td>2738</td>\n",
       "    </tr>\n",
       "    <tr>\n",
       "      <th>canned goods</th>\n",
       "      <td>93161</td>\n",
       "      <td>46629</td>\n",
       "      <td>79591</td>\n",
       "      <td>79509</td>\n",
       "    </tr>\n",
       "    <tr>\n",
       "      <th>dairy eggs</th>\n",
       "      <td>480944</td>\n",
       "      <td>241771</td>\n",
       "      <td>408906</td>\n",
       "      <td>413233</td>\n",
       "    </tr>\n",
       "    <tr>\n",
       "      <th>deli</th>\n",
       "      <td>93523</td>\n",
       "      <td>47096</td>\n",
       "      <td>79188</td>\n",
       "      <td>78880</td>\n",
       "    </tr>\n",
       "    <tr>\n",
       "      <th>dry goods pasta</th>\n",
       "      <td>76162</td>\n",
       "      <td>37868</td>\n",
       "      <td>64910</td>\n",
       "      <td>64506</td>\n",
       "    </tr>\n",
       "    <tr>\n",
       "      <th>frozen</th>\n",
       "      <td>197543</td>\n",
       "      <td>96739</td>\n",
       "      <td>167813</td>\n",
       "      <td>165847</td>\n",
       "    </tr>\n",
       "    <tr>\n",
       "      <th>households</th>\n",
       "      <td>64570</td>\n",
       "      <td>32401</td>\n",
       "      <td>54981</td>\n",
       "      <td>54280</td>\n",
       "    </tr>\n",
       "    <tr>\n",
       "      <th>international</th>\n",
       "      <td>23873</td>\n",
       "      <td>11757</td>\n",
       "      <td>20121</td>\n",
       "      <td>20469</td>\n",
       "    </tr>\n",
       "    <tr>\n",
       "      <th>meat seafood</th>\n",
       "      <td>62122</td>\n",
       "      <td>31057</td>\n",
       "      <td>53756</td>\n",
       "      <td>52802</td>\n",
       "    </tr>\n",
       "    <tr>\n",
       "      <th>missing</th>\n",
       "      <td>5954</td>\n",
       "      <td>2844</td>\n",
       "      <td>4933</td>\n",
       "      <td>5373</td>\n",
       "    </tr>\n",
       "    <tr>\n",
       "      <th>other</th>\n",
       "      <td>3176</td>\n",
       "      <td>1496</td>\n",
       "      <td>2680</td>\n",
       "      <td>2795</td>\n",
       "    </tr>\n",
       "    <tr>\n",
       "      <th>pantry</th>\n",
       "      <td>165759</td>\n",
       "      <td>82389</td>\n",
       "      <td>139987</td>\n",
       "      <td>139544</td>\n",
       "    </tr>\n",
       "    <tr>\n",
       "      <th>personal care</th>\n",
       "      <td>39499</td>\n",
       "      <td>19630</td>\n",
       "      <td>32957</td>\n",
       "      <td>33192</td>\n",
       "    </tr>\n",
       "    <tr>\n",
       "      <th>pets</th>\n",
       "      <td>8433</td>\n",
       "      <td>4178</td>\n",
       "      <td>7435</td>\n",
       "      <td>7570</td>\n",
       "    </tr>\n",
       "    <tr>\n",
       "      <th>produce</th>\n",
       "      <td>846435</td>\n",
       "      <td>427144</td>\n",
       "      <td>719610</td>\n",
       "      <td>717416</td>\n",
       "    </tr>\n",
       "    <tr>\n",
       "      <th>snacks</th>\n",
       "      <td>258617</td>\n",
       "      <td>128093</td>\n",
       "      <td>218086</td>\n",
       "      <td>221118</td>\n",
       "    </tr>\n",
       "  </tbody>\n",
       "</table>\n",
       "</div>"
      ],
      "text/plain": [
       "age_group        Late middle aged adults  Middle aged adults  Seniors  \\\n",
       "department                                                              \n",
       "alcohol                            13779                6008    10772   \n",
       "babies                             38782               20307    32465   \n",
       "bakery                            104307               52099    88257   \n",
       "beverages                         242694              117633   203647   \n",
       "breakfast                          62897               30975    52150   \n",
       "bulk                                3102                1549     2609   \n",
       "canned goods                       93161               46629    79591   \n",
       "dairy eggs                        480944              241771   408906   \n",
       "deli                               93523               47096    79188   \n",
       "dry goods pasta                    76162               37868    64910   \n",
       "frozen                            197543               96739   167813   \n",
       "households                         64570               32401    54981   \n",
       "international                      23873               11757    20121   \n",
       "meat seafood                       62122               31057    53756   \n",
       "missing                             5954                2844     4933   \n",
       "other                               3176                1496     2680   \n",
       "pantry                            165759               82389   139987   \n",
       "personal care                      39499               19630    32957   \n",
       "pets                                8433                4178     7435   \n",
       "produce                           846435              427144   719610   \n",
       "snacks                            258617              128093   218086   \n",
       "\n",
       "age_group        Young adults  \n",
       "department                     \n",
       "alcohol                 11955  \n",
       "babies                  32523  \n",
       "bakery                  88718  \n",
       "beverages              200803  \n",
       "breakfast               53471  \n",
       "bulk                     2738  \n",
       "canned goods            79509  \n",
       "dairy eggs             413233  \n",
       "deli                    78880  \n",
       "dry goods pasta         64506  \n",
       "frozen                 165847  \n",
       "households              54280  \n",
       "international           20469  \n",
       "meat seafood            52802  \n",
       "missing                  5373  \n",
       "other                    2795  \n",
       "pantry                 139544  \n",
       "personal care           33192  \n",
       "pets                     7570  \n",
       "produce                717416  \n",
       "snacks                 221118  "
      ]
     },
     "execution_count": 110,
     "metadata": {},
     "output_type": "execute_result"
    }
   ],
   "source": [
    "# Print\n",
    "crosstab_dept_age"
   ]
  },
  {
   "cell_type": "code",
   "execution_count": 111,
   "id": "d39f167a",
   "metadata": {
    "ExecuteTime": {
     "end_time": "2021-11-21T22:06:30.020530Z",
     "start_time": "2021-11-21T22:06:29.255475Z"
    }
   },
   "outputs": [
    {
     "data": {
      "image/png": "[encoded data removed]",
      "text/plain": [
       "<Figure size 432x288 with 1 Axes>"
      ]
     },
     "metadata": {
      "needs_background": "light"
     },
     "output_type": "display_data"
    }
   ],
   "source": [
    "# Create bar chart\n",
    "crosstab_dept_age_chart = crosstab_dept_age.plot(kind='bar', stacked=True, color = sns.color_palette(\"Blues_r\"))\n",
    "plt.tight_layout()"
   ]
  },
  {
   "cell_type": "code",
   "execution_count": 112,
   "id": "ca37eafd",
   "metadata": {
    "ExecuteTime": {
     "end_time": "2021-11-21T22:06:32.933142Z",
     "start_time": "2021-11-21T22:06:32.708328Z"
    }
   },
   "outputs": [],
   "source": [
    "# Export chart\n",
    "crosstab_dept_age_chart.figure.savefig(os.path.join(path, '04 Analysis','Visualizations', 'crosstab_dept_age_chart.png'))"
   ]
  },
  {
   "cell_type": "markdown",
   "id": "a3e006fb",
   "metadata": {
    "ExecuteTime": {
     "end_time": "2021-11-14T22:42:47.473388Z",
     "start_time": "2021-11-14T22:42:47.452382Z"
    }
   },
   "source": [
    "## Spending by department & income"
   ]
  },
  {
   "cell_type": "code",
   "execution_count": 113,
   "id": "4850f204",
   "metadata": {
    "ExecuteTime": {
     "end_time": "2021-11-21T22:06:49.381392Z",
     "start_time": "2021-11-21T22:06:46.854082Z"
    }
   },
   "outputs": [],
   "source": [
    "# Create a crosstab \"department\" & \"income_categ\"\n",
    "crosstab_dept_income = pd.crosstab(df_ords_prods_cust_merged_new[\"department\"], df_ords_prods_cust_merged_new[\"income_categ\"], dropna = False)"
   ]
  },
  {
   "cell_type": "code",
   "execution_count": 114,
   "id": "4a661527",
   "metadata": {
    "ExecuteTime": {
     "end_time": "2021-11-21T22:06:49.414994Z",
     "start_time": "2021-11-21T22:06:49.381392Z"
    }
   },
   "outputs": [
    {
     "data": {
      "text/html": [
       "<div>\n",
       "<style scoped>\n",
       "    .dataframe tbody tr th:only-of-type {\n",
       "        vertical-align: middle;\n",
       "    }\n",
       "\n",
       "    .dataframe tbody tr th {\n",
       "        vertical-align: top;\n",
       "    }\n",
       "\n",
       "    .dataframe thead th {\n",
       "        text-align: right;\n",
       "    }\n",
       "</style>\n",
       "<table border=\"1\" class=\"dataframe\">\n",
       "  <thead>\n",
       "    <tr style=\"text-align: right;\">\n",
       "      <th>income_categ</th>\n",
       "      <th>High income</th>\n",
       "      <th>Low income</th>\n",
       "      <th>Middle class</th>\n",
       "      <th>Upper middle class</th>\n",
       "    </tr>\n",
       "    <tr>\n",
       "      <th>department</th>\n",
       "      <th></th>\n",
       "      <th></th>\n",
       "      <th></th>\n",
       "      <th></th>\n",
       "    </tr>\n",
       "  </thead>\n",
       "  <tbody>\n",
       "    <tr>\n",
       "      <th>alcohol</th>\n",
       "      <td>1908</td>\n",
       "      <td>5403</td>\n",
       "      <td>29896</td>\n",
       "      <td>5307</td>\n",
       "    </tr>\n",
       "    <tr>\n",
       "      <th>babies</th>\n",
       "      <td>590</td>\n",
       "      <td>8644</td>\n",
       "      <td>99361</td>\n",
       "      <td>15482</td>\n",
       "    </tr>\n",
       "    <tr>\n",
       "      <th>bakery</th>\n",
       "      <td>3738</td>\n",
       "      <td>31636</td>\n",
       "      <td>256967</td>\n",
       "      <td>41040</td>\n",
       "    </tr>\n",
       "    <tr>\n",
       "      <th>beverages</th>\n",
       "      <td>7624</td>\n",
       "      <td>113953</td>\n",
       "      <td>556837</td>\n",
       "      <td>86363</td>\n",
       "    </tr>\n",
       "    <tr>\n",
       "      <th>breakfast</th>\n",
       "      <td>1963</td>\n",
       "      <td>27059</td>\n",
       "      <td>147313</td>\n",
       "      <td>23158</td>\n",
       "    </tr>\n",
       "    <tr>\n",
       "      <th>bulk</th>\n",
       "      <td>9</td>\n",
       "      <td>1367</td>\n",
       "      <td>7544</td>\n",
       "      <td>1078</td>\n",
       "    </tr>\n",
       "    <tr>\n",
       "      <th>canned goods</th>\n",
       "      <td>2822</td>\n",
       "      <td>23035</td>\n",
       "      <td>236114</td>\n",
       "      <td>36919</td>\n",
       "    </tr>\n",
       "    <tr>\n",
       "      <th>dairy eggs</th>\n",
       "      <td>13482</td>\n",
       "      <td>148502</td>\n",
       "      <td>1197363</td>\n",
       "      <td>185507</td>\n",
       "    </tr>\n",
       "    <tr>\n",
       "      <th>deli</th>\n",
       "      <td>2242</td>\n",
       "      <td>31609</td>\n",
       "      <td>229251</td>\n",
       "      <td>35585</td>\n",
       "    </tr>\n",
       "    <tr>\n",
       "      <th>dry goods pasta</th>\n",
       "      <td>2041</td>\n",
       "      <td>18681</td>\n",
       "      <td>192843</td>\n",
       "      <td>29881</td>\n",
       "    </tr>\n",
       "    <tr>\n",
       "      <th>frozen</th>\n",
       "      <td>6138</td>\n",
       "      <td>63071</td>\n",
       "      <td>482016</td>\n",
       "      <td>76717</td>\n",
       "    </tr>\n",
       "    <tr>\n",
       "      <th>households</th>\n",
       "      <td>3549</td>\n",
       "      <td>25356</td>\n",
       "      <td>153337</td>\n",
       "      <td>23990</td>\n",
       "    </tr>\n",
       "    <tr>\n",
       "      <th>international</th>\n",
       "      <td>602</td>\n",
       "      <td>6465</td>\n",
       "      <td>60000</td>\n",
       "      <td>9153</td>\n",
       "    </tr>\n",
       "    <tr>\n",
       "      <th>meat seafood</th>\n",
       "      <td>1865</td>\n",
       "      <td>10002</td>\n",
       "      <td>162645</td>\n",
       "      <td>25225</td>\n",
       "    </tr>\n",
       "    <tr>\n",
       "      <th>missing</th>\n",
       "      <td>101</td>\n",
       "      <td>1897</td>\n",
       "      <td>14810</td>\n",
       "      <td>2296</td>\n",
       "    </tr>\n",
       "    <tr>\n",
       "      <th>other</th>\n",
       "      <td>157</td>\n",
       "      <td>1125</td>\n",
       "      <td>7668</td>\n",
       "      <td>1197</td>\n",
       "    </tr>\n",
       "    <tr>\n",
       "      <th>pantry</th>\n",
       "      <td>4698</td>\n",
       "      <td>48571</td>\n",
       "      <td>409770</td>\n",
       "      <td>64640</td>\n",
       "    </tr>\n",
       "    <tr>\n",
       "      <th>personal care</th>\n",
       "      <td>1238</td>\n",
       "      <td>13927</td>\n",
       "      <td>95214</td>\n",
       "      <td>14899</td>\n",
       "    </tr>\n",
       "    <tr>\n",
       "      <th>pets</th>\n",
       "      <td>559</td>\n",
       "      <td>2707</td>\n",
       "      <td>21059</td>\n",
       "      <td>3291</td>\n",
       "    </tr>\n",
       "    <tr>\n",
       "      <th>produce</th>\n",
       "      <td>15275</td>\n",
       "      <td>244303</td>\n",
       "      <td>2125576</td>\n",
       "      <td>325451</td>\n",
       "    </tr>\n",
       "    <tr>\n",
       "      <th>snacks</th>\n",
       "      <td>6848</td>\n",
       "      <td>166874</td>\n",
       "      <td>567325</td>\n",
       "      <td>84867</td>\n",
       "    </tr>\n",
       "  </tbody>\n",
       "</table>\n",
       "</div>"
      ],
      "text/plain": [
       "income_categ     High income  Low income  Middle class  Upper middle class\n",
       "department                                                                \n",
       "alcohol                 1908        5403         29896                5307\n",
       "babies                   590        8644         99361               15482\n",
       "bakery                  3738       31636        256967               41040\n",
       "beverages               7624      113953        556837               86363\n",
       "breakfast               1963       27059        147313               23158\n",
       "bulk                       9        1367          7544                1078\n",
       "canned goods            2822       23035        236114               36919\n",
       "dairy eggs             13482      148502       1197363              185507\n",
       "deli                    2242       31609        229251               35585\n",
       "dry goods pasta         2041       18681        192843               29881\n",
       "frozen                  6138       63071        482016               76717\n",
       "households              3549       25356        153337               23990\n",
       "international            602        6465         60000                9153\n",
       "meat seafood            1865       10002        162645               25225\n",
       "missing                  101        1897         14810                2296\n",
       "other                    157        1125          7668                1197\n",
       "pantry                  4698       48571        409770               64640\n",
       "personal care           1238       13927         95214               14899\n",
       "pets                     559        2707         21059                3291\n",
       "produce                15275      244303       2125576              325451\n",
       "snacks                  6848      166874        567325               84867"
      ]
     },
     "execution_count": 114,
     "metadata": {},
     "output_type": "execute_result"
    }
   ],
   "source": [
    "# Print\n",
    "crosstab_dept_income"
   ]
  },
  {
   "cell_type": "code",
   "execution_count": 115,
   "id": "c212a30d",
   "metadata": {
    "ExecuteTime": {
     "end_time": "2021-11-21T22:06:50.002037Z",
     "start_time": "2021-11-21T22:06:49.418994Z"
    }
   },
   "outputs": [
    {
     "data": {
      "image/png": "[encoded data removed]",
      "text/plain": [
       "<Figure size 432x288 with 1 Axes>"
      ]
     },
     "metadata": {
      "needs_background": "light"
     },
     "output_type": "display_data"
    }
   ],
   "source": [
    "# Create bar chart\n",
    "crosstab_dept_income_chart = crosstab_dept_income.plot(kind='bar', stacked=True, color = sns.color_palette(\"Blues_r\"))\n",
    "plt.tight_layout()"
   ]
  },
  {
   "cell_type": "code",
   "execution_count": 116,
   "id": "75585886",
   "metadata": {
    "ExecuteTime": {
     "end_time": "2021-11-21T22:06:50.224802Z",
     "start_time": "2021-11-21T22:06:50.005042Z"
    }
   },
   "outputs": [],
   "source": [
    "# Export chart\n",
    "crosstab_dept_income_chart.figure.savefig(os.path.join(path, '04 Analysis','Visualizations', 'crosstab_dept_income_chart.png'))"
   ]
  },
  {
   "cell_type": "markdown",
   "id": "6fe8d175",
   "metadata": {},
   "source": [
    "## Spending by department & parental status"
   ]
  },
  {
   "cell_type": "code",
   "execution_count": 117,
   "id": "adb2412c",
   "metadata": {
    "ExecuteTime": {
     "end_time": "2021-11-21T22:07:00.104548Z",
     "start_time": "2021-11-21T22:06:57.842916Z"
    }
   },
   "outputs": [],
   "source": [
    "# Create a crosstab \"department\" & \"parental_status\"\n",
    "crosstab_dept_parent = pd.crosstab(df_ords_prods_cust_merged_new[\"department\"], df_ords_prods_cust_merged_new[\"parental_status\"], dropna = False)"
   ]
  },
  {
   "cell_type": "code",
   "execution_count": 118,
   "id": "7407913c",
   "metadata": {
    "ExecuteTime": {
     "end_time": "2021-11-21T22:07:00.135225Z",
     "start_time": "2021-11-21T22:07:00.104548Z"
    }
   },
   "outputs": [
    {
     "data": {
      "text/html": [
       "<div>\n",
       "<style scoped>\n",
       "    .dataframe tbody tr th:only-of-type {\n",
       "        vertical-align: middle;\n",
       "    }\n",
       "\n",
       "    .dataframe tbody tr th {\n",
       "        vertical-align: top;\n",
       "    }\n",
       "\n",
       "    .dataframe thead th {\n",
       "        text-align: right;\n",
       "    }\n",
       "</style>\n",
       "<table border=\"1\" class=\"dataframe\">\n",
       "  <thead>\n",
       "    <tr style=\"text-align: right;\">\n",
       "      <th>parental_status</th>\n",
       "      <th>Not parent</th>\n",
       "      <th>Parent</th>\n",
       "    </tr>\n",
       "    <tr>\n",
       "      <th>department</th>\n",
       "      <th></th>\n",
       "      <th></th>\n",
       "    </tr>\n",
       "  </thead>\n",
       "  <tbody>\n",
       "    <tr>\n",
       "      <th>alcohol</th>\n",
       "      <td>10870</td>\n",
       "      <td>31644</td>\n",
       "    </tr>\n",
       "    <tr>\n",
       "      <th>babies</th>\n",
       "      <td>31059</td>\n",
       "      <td>93018</td>\n",
       "    </tr>\n",
       "    <tr>\n",
       "      <th>bakery</th>\n",
       "      <td>83285</td>\n",
       "      <td>250096</td>\n",
       "    </tr>\n",
       "    <tr>\n",
       "      <th>beverages</th>\n",
       "      <td>192008</td>\n",
       "      <td>572769</td>\n",
       "    </tr>\n",
       "    <tr>\n",
       "      <th>breakfast</th>\n",
       "      <td>49362</td>\n",
       "      <td>150131</td>\n",
       "    </tr>\n",
       "    <tr>\n",
       "      <th>bulk</th>\n",
       "      <td>2397</td>\n",
       "      <td>7601</td>\n",
       "    </tr>\n",
       "    <tr>\n",
       "      <th>canned goods</th>\n",
       "      <td>74037</td>\n",
       "      <td>224853</td>\n",
       "    </tr>\n",
       "    <tr>\n",
       "      <th>dairy eggs</th>\n",
       "      <td>384642</td>\n",
       "      <td>1160212</td>\n",
       "    </tr>\n",
       "    <tr>\n",
       "      <th>deli</th>\n",
       "      <td>75333</td>\n",
       "      <td>223354</td>\n",
       "    </tr>\n",
       "    <tr>\n",
       "      <th>dry goods pasta</th>\n",
       "      <td>60561</td>\n",
       "      <td>182885</td>\n",
       "    </tr>\n",
       "    <tr>\n",
       "      <th>frozen</th>\n",
       "      <td>156389</td>\n",
       "      <td>471553</td>\n",
       "    </tr>\n",
       "    <tr>\n",
       "      <th>households</th>\n",
       "      <td>50695</td>\n",
       "      <td>155537</td>\n",
       "    </tr>\n",
       "    <tr>\n",
       "      <th>international</th>\n",
       "      <td>19113</td>\n",
       "      <td>57107</td>\n",
       "    </tr>\n",
       "    <tr>\n",
       "      <th>meat seafood</th>\n",
       "      <td>48670</td>\n",
       "      <td>151067</td>\n",
       "    </tr>\n",
       "    <tr>\n",
       "      <th>missing</th>\n",
       "      <td>4672</td>\n",
       "      <td>14432</td>\n",
       "    </tr>\n",
       "    <tr>\n",
       "      <th>other</th>\n",
       "      <td>2542</td>\n",
       "      <td>7605</td>\n",
       "    </tr>\n",
       "    <tr>\n",
       "      <th>pantry</th>\n",
       "      <td>130766</td>\n",
       "      <td>396913</td>\n",
       "    </tr>\n",
       "    <tr>\n",
       "      <th>personal care</th>\n",
       "      <td>31324</td>\n",
       "      <td>93954</td>\n",
       "    </tr>\n",
       "    <tr>\n",
       "      <th>pets</th>\n",
       "      <td>7114</td>\n",
       "      <td>20502</td>\n",
       "    </tr>\n",
       "    <tr>\n",
       "      <th>produce</th>\n",
       "      <td>677310</td>\n",
       "      <td>2033295</td>\n",
       "    </tr>\n",
       "    <tr>\n",
       "      <th>snacks</th>\n",
       "      <td>205539</td>\n",
       "      <td>620375</td>\n",
       "    </tr>\n",
       "  </tbody>\n",
       "</table>\n",
       "</div>"
      ],
      "text/plain": [
       "parental_status  Not parent   Parent\n",
       "department                          \n",
       "alcohol               10870    31644\n",
       "babies                31059    93018\n",
       "bakery                83285   250096\n",
       "beverages            192008   572769\n",
       "breakfast             49362   150131\n",
       "bulk                   2397     7601\n",
       "canned goods          74037   224853\n",
       "dairy eggs           384642  1160212\n",
       "deli                  75333   223354\n",
       "dry goods pasta       60561   182885\n",
       "frozen               156389   471553\n",
       "households            50695   155537\n",
       "international         19113    57107\n",
       "meat seafood          48670   151067\n",
       "missing                4672    14432\n",
       "other                  2542     7605\n",
       "pantry               130766   396913\n",
       "personal care         31324    93954\n",
       "pets                   7114    20502\n",
       "produce              677310  2033295\n",
       "snacks               205539   620375"
      ]
     },
     "execution_count": 118,
     "metadata": {},
     "output_type": "execute_result"
    }
   ],
   "source": [
    "# Print\n",
    "crosstab_dept_parent"
   ]
  },
  {
   "cell_type": "code",
   "execution_count": 119,
   "id": "a6b0acf3",
   "metadata": {
    "ExecuteTime": {
     "end_time": "2021-11-21T22:07:00.628916Z",
     "start_time": "2021-11-21T22:07:00.138226Z"
    }
   },
   "outputs": [
    {
     "data": {
      "image/png": "[encoded data removed]",
      "text/plain": [
       "<Figure size 432x288 with 1 Axes>"
      ]
     },
     "metadata": {
      "needs_background": "light"
     },
     "output_type": "display_data"
    }
   ],
   "source": [
    "# Create bar chart\n",
    "crosstab_dept_parent_chart = crosstab_dept_parent.plot(kind='bar', stacked=True, color = sns.color_palette(\"Blues_r\"))\n",
    "plt.tight_layout()"
   ]
  },
  {
   "cell_type": "code",
   "execution_count": 120,
   "id": "4198dbb7",
   "metadata": {
    "ExecuteTime": {
     "end_time": "2021-11-21T22:07:00.820320Z",
     "start_time": "2021-11-21T22:07:00.631918Z"
    }
   },
   "outputs": [],
   "source": [
    "# Export chart\n",
    "crosstab_dept_parent_chart.figure.savefig(os.path.join(path, '04 Analysis','Visualizations', 'crosstab_dept_parent_chart.png'))"
   ]
  },
  {
   "cell_type": "markdown",
   "id": "3315e2c4",
   "metadata": {},
   "source": [
    "# Customer profiles by loyalty status"
   ]
  },
  {
   "cell_type": "markdown",
   "id": "ed808219",
   "metadata": {},
   "source": [
    "## Loyalty status by age group"
   ]
  },
  {
   "cell_type": "code",
   "execution_count": 99,
   "id": "909701df",
   "metadata": {
    "ExecuteTime": {
     "end_time": "2021-11-21T20:48:42.408456Z",
     "start_time": "2021-11-21T20:48:39.955536Z"
    }
   },
   "outputs": [],
   "source": [
    "# Create a crosstab \"loyalty_flag\" & \"age_group\"\n",
    "crosstab_loyalty_age = pd.crosstab(df_ords_prods_cust_merged_new[\"loyalty_flag\"], df_ords_prods_cust_merged_new[\"age_group\"], dropna = False)"
   ]
  },
  {
   "cell_type": "code",
   "execution_count": 100,
   "id": "4a8efb6d",
   "metadata": {
    "ExecuteTime": {
     "end_time": "2021-11-21T20:48:42.425723Z",
     "start_time": "2021-11-21T20:48:42.410092Z"
    }
   },
   "outputs": [
    {
     "data": {
      "text/html": [
       "<div>\n",
       "<style scoped>\n",
       "    .dataframe tbody tr th:only-of-type {\n",
       "        vertical-align: middle;\n",
       "    }\n",
       "\n",
       "    .dataframe tbody tr th {\n",
       "        vertical-align: top;\n",
       "    }\n",
       "\n",
       "    .dataframe thead th {\n",
       "        text-align: right;\n",
       "    }\n",
       "</style>\n",
       "<table border=\"1\" class=\"dataframe\">\n",
       "  <thead>\n",
       "    <tr style=\"text-align: right;\">\n",
       "      <th>age_group</th>\n",
       "      <th>Late middle aged adults</th>\n",
       "      <th>Middle aged adults</th>\n",
       "      <th>Seniors</th>\n",
       "      <th>Young adults</th>\n",
       "    </tr>\n",
       "    <tr>\n",
       "      <th>loyalty_flag</th>\n",
       "      <th></th>\n",
       "      <th></th>\n",
       "      <th></th>\n",
       "      <th></th>\n",
       "    </tr>\n",
       "  </thead>\n",
       "  <tbody>\n",
       "    <tr>\n",
       "      <th>Loyal customer</th>\n",
       "      <td>935191</td>\n",
       "      <td>467982</td>\n",
       "      <td>777738</td>\n",
       "      <td>780012</td>\n",
       "    </tr>\n",
       "    <tr>\n",
       "      <th>New customer</th>\n",
       "      <td>479828</td>\n",
       "      <td>233403</td>\n",
       "      <td>411113</td>\n",
       "      <td>411844</td>\n",
       "    </tr>\n",
       "    <tr>\n",
       "      <th>Regular customer</th>\n",
       "      <td>1470313</td>\n",
       "      <td>738278</td>\n",
       "      <td>1256003</td>\n",
       "      <td>1254886</td>\n",
       "    </tr>\n",
       "  </tbody>\n",
       "</table>\n",
       "</div>"
      ],
      "text/plain": [
       "age_group         Late middle aged adults  Middle aged adults  Seniors  \\\n",
       "loyalty_flag                                                             \n",
       "Loyal customer                     935191              467982   777738   \n",
       "New customer                       479828              233403   411113   \n",
       "Regular customer                  1470313              738278  1256003   \n",
       "\n",
       "age_group         Young adults  \n",
       "loyalty_flag                    \n",
       "Loyal customer          780012  \n",
       "New customer            411844  \n",
       "Regular customer       1254886  "
      ]
     },
     "execution_count": 100,
     "metadata": {},
     "output_type": "execute_result"
    }
   ],
   "source": [
    "# Print\n",
    "crosstab_loyalty_age"
   ]
  },
  {
   "cell_type": "code",
   "execution_count": 101,
   "id": "fe98b977",
   "metadata": {
    "ExecuteTime": {
     "end_time": "2021-11-21T20:48:42.441666Z",
     "start_time": "2021-11-21T20:48:42.427670Z"
    }
   },
   "outputs": [],
   "source": [
    "# Copy to clipboard\n",
    "crosstab_loyalty_age.to_clipboard()"
   ]
  },
  {
   "cell_type": "code",
   "execution_count": 102,
   "id": "3c86c2e2",
   "metadata": {
    "ExecuteTime": {
     "end_time": "2021-11-21T20:48:42.777298Z",
     "start_time": "2021-11-21T20:48:42.444664Z"
    },
    "scrolled": true
   },
   "outputs": [
    {
     "data": {
      "image/png": "[encoded data removed]",
      "text/plain": [
       "<Figure size 432x288 with 1 Axes>"
      ]
     },
     "metadata": {
      "needs_background": "light"
     },
     "output_type": "display_data"
    }
   ],
   "source": [
    "# Create bar chart\n",
    "crosstab_loyalty_age_chart = crosstab_loyalty_age.plot(kind='bar', stacked=True, color = sns.color_palette(\"Blues_r\"))   \n",
    "plt.title(\"Customer Loyalty by Age Group\")\n",
    "plt.tight_layout()"
   ]
  },
  {
   "cell_type": "code",
   "execution_count": 103,
   "id": "efcc1a2c",
   "metadata": {
    "ExecuteTime": {
     "end_time": "2021-11-21T20:48:42.920071Z",
     "start_time": "2021-11-21T20:48:42.780302Z"
    }
   },
   "outputs": [],
   "source": [
    "# Export line chart outside Jupyter as image file\n",
    "crosstab_loyalty_age_chart.figure.savefig(os.path.join(path, '04 Analysis','Visualizations', 'crosstab_loyalty_age_chart.png'))"
   ]
  },
  {
   "cell_type": "markdown",
   "id": "c2cec6fc",
   "metadata": {},
   "source": [
    "## Loyalty status by income category"
   ]
  },
  {
   "cell_type": "code",
   "execution_count": 104,
   "id": "3478df96",
   "metadata": {
    "ExecuteTime": {
     "end_time": "2021-11-21T20:48:45.352890Z",
     "start_time": "2021-11-21T20:48:42.922072Z"
    }
   },
   "outputs": [],
   "source": [
    "# Create a crosstab \"income_categ\" & \"loyalty_flag\"\n",
    "crosstab_loyalty_income = pd.crosstab(df_ords_prods_cust_merged_new[\"loyalty_flag\"], df_ords_prods_cust_merged_new[\"income_categ\"], dropna = False)"
   ]
  },
  {
   "cell_type": "code",
   "execution_count": 105,
   "id": "eb403cf6",
   "metadata": {
    "ExecuteTime": {
     "end_time": "2021-11-21T20:48:45.383504Z",
     "start_time": "2021-11-21T20:48:45.352890Z"
    }
   },
   "outputs": [
    {
     "data": {
      "text/html": [
       "<div>\n",
       "<style scoped>\n",
       "    .dataframe tbody tr th:only-of-type {\n",
       "        vertical-align: middle;\n",
       "    }\n",
       "\n",
       "    .dataframe tbody tr th {\n",
       "        vertical-align: top;\n",
       "    }\n",
       "\n",
       "    .dataframe thead th {\n",
       "        text-align: right;\n",
       "    }\n",
       "</style>\n",
       "<table border=\"1\" class=\"dataframe\">\n",
       "  <thead>\n",
       "    <tr style=\"text-align: right;\">\n",
       "      <th>income_categ</th>\n",
       "      <th>High income</th>\n",
       "      <th>Low income</th>\n",
       "      <th>Middle class</th>\n",
       "      <th>Upper middle class</th>\n",
       "    </tr>\n",
       "    <tr>\n",
       "      <th>loyalty_flag</th>\n",
       "      <th></th>\n",
       "      <th></th>\n",
       "      <th></th>\n",
       "      <th></th>\n",
       "    </tr>\n",
       "  </thead>\n",
       "  <tbody>\n",
       "    <tr>\n",
       "      <th>Loyal customer</th>\n",
       "      <td>29670</td>\n",
       "      <td>297274</td>\n",
       "      <td>2281373</td>\n",
       "      <td>352606</td>\n",
       "    </tr>\n",
       "    <tr>\n",
       "      <th>New customer</th>\n",
       "      <td>7474</td>\n",
       "      <td>191045</td>\n",
       "      <td>1157630</td>\n",
       "      <td>180039</td>\n",
       "    </tr>\n",
       "    <tr>\n",
       "      <th>Regular customer</th>\n",
       "      <td>40305</td>\n",
       "      <td>505868</td>\n",
       "      <td>3613906</td>\n",
       "      <td>559401</td>\n",
       "    </tr>\n",
       "  </tbody>\n",
       "</table>\n",
       "</div>"
      ],
      "text/plain": [
       "income_categ      High income  Low income  Middle class  Upper middle class\n",
       "loyalty_flag                                                               \n",
       "Loyal customer          29670      297274       2281373              352606\n",
       "New customer             7474      191045       1157630              180039\n",
       "Regular customer        40305      505868       3613906              559401"
      ]
     },
     "execution_count": 105,
     "metadata": {},
     "output_type": "execute_result"
    }
   ],
   "source": [
    "# Print\n",
    "crosstab_loyalty_income"
   ]
  },
  {
   "cell_type": "code",
   "execution_count": 106,
   "id": "43157221",
   "metadata": {
    "ExecuteTime": {
     "end_time": "2021-11-21T20:48:45.398500Z",
     "start_time": "2021-11-21T20:48:45.385502Z"
    }
   },
   "outputs": [],
   "source": [
    "# Copy to clipboard\n",
    "crosstab_loyalty_income.to_clipboard()"
   ]
  },
  {
   "cell_type": "code",
   "execution_count": 107,
   "id": "17bccb89",
   "metadata": {
    "ExecuteTime": {
     "end_time": "2021-11-21T20:48:45.843531Z",
     "start_time": "2021-11-21T20:48:45.400501Z"
    },
    "scrolled": true
   },
   "outputs": [
    {
     "data": {
      "image/png": "[encoded data removed]",
      "text/plain": [
       "<Figure size 432x288 with 1 Axes>"
      ]
     },
     "metadata": {
      "needs_background": "light"
     },
     "output_type": "display_data"
    }
   ],
   "source": [
    "# Create bar chart\n",
    "crosstab_loyalty_income_chart = crosstab_loyalty_income.plot(kind='bar', stacked=True, color = sns.color_palette(\"Blues_r\"))   \n",
    "plt.title(\"Customer Loyalty by Income Category\")\n",
    "plt.tight_layout()"
   ]
  },
  {
   "cell_type": "code",
   "execution_count": 108,
   "id": "cd87d298",
   "metadata": {
    "ExecuteTime": {
     "end_time": "2021-11-21T20:48:46.051547Z",
     "start_time": "2021-11-21T20:48:45.845535Z"
    }
   },
   "outputs": [],
   "source": [
    "# Export chart\n",
    "crosstab_loyalty_income_chart.figure.savefig(os.path.join(path, '04 Analysis','Visualizations', 'crosstab_loyalty_income_chart.png'))"
   ]
  },
  {
   "cell_type": "markdown",
   "id": "1ee0e52f",
   "metadata": {},
   "source": [
    "## Loyalty by parental status"
   ]
  },
  {
   "cell_type": "code",
   "execution_count": 109,
   "id": "5a083d2f",
   "metadata": {
    "ExecuteTime": {
     "end_time": "2021-11-21T20:48:48.280067Z",
     "start_time": "2021-11-21T20:48:46.054548Z"
    }
   },
   "outputs": [],
   "source": [
    "# Create a crosstab \"income_categ\" & \"loyalty_flag\"\n",
    "crosstab_loyalty_parent = pd.crosstab(df_ords_prods_cust_merged_new[\"loyalty_flag\"], df_ords_prods_cust_merged_new[\"parental_status\"], dropna = False)"
   ]
  },
  {
   "cell_type": "code",
   "execution_count": 110,
   "id": "62a7c901",
   "metadata": {
    "ExecuteTime": {
     "end_time": "2021-11-21T20:48:48.535655Z",
     "start_time": "2021-11-21T20:48:48.283069Z"
    }
   },
   "outputs": [
    {
     "data": {
      "image/png": "[encoded data removed]",
      "text/plain": [
       "<Figure size 432x288 with 1 Axes>"
      ]
     },
     "metadata": {
      "needs_background": "light"
     },
     "output_type": "display_data"
    }
   ],
   "source": [
    "# Create bar chart\n",
    "crosstab_loyalty_parent_chart = crosstab_loyalty_parent.plot(kind='bar', stacked=True, color = sns.color_palette(\"Blues_r\"))   \n",
    "plt.title(\"Customer Loyalty by Parental Status\")\n",
    "plt.tight_layout()"
   ]
  },
  {
   "cell_type": "code",
   "execution_count": 111,
   "id": "9bc576cf",
   "metadata": {
    "ExecuteTime": {
     "end_time": "2021-11-21T20:48:48.647699Z",
     "start_time": "2021-11-21T20:48:48.538657Z"
    }
   },
   "outputs": [],
   "source": [
    "# Export chart\n",
    "crosstab_loyalty_parent_chart.figure.savefig(os.path.join(path, '04 Analysis','Visualizations', 'crosstab_loyalty_parent_chart.png'))"
   ]
  },
  {
   "cell_type": "markdown",
   "id": "5acab4c4",
   "metadata": {},
   "source": [
    "## Spending behaviour by loyalty status"
   ]
  },
  {
   "cell_type": "code",
   "execution_count": 112,
   "id": "51e4866b",
   "metadata": {
    "ExecuteTime": {
     "end_time": "2021-11-21T20:48:50.972618Z",
     "start_time": "2021-11-21T20:48:48.649700Z"
    }
   },
   "outputs": [],
   "source": [
    "# Create a crosstab \"loyalty_flag\" & \"spending_flag\"\n",
    "crosstab_loyalty_spend = pd.crosstab(df_ords_prods_cust_merged_new[\"loyalty_flag\"], df_ords_prods_cust_merged_new[\"spending_flag\"], dropna = False)"
   ]
  },
  {
   "cell_type": "code",
   "execution_count": 113,
   "id": "8a08ef42",
   "metadata": {
    "ExecuteTime": {
     "end_time": "2021-11-21T20:48:51.275279Z",
     "start_time": "2021-11-21T20:48:50.974619Z"
    },
    "scrolled": true
   },
   "outputs": [
    {
     "data": {
      "image/png": "[encoded data removed]",
      "text/plain": [
       "<Figure size 432x288 with 1 Axes>"
      ]
     },
     "metadata": {
      "needs_background": "light"
     },
     "output_type": "display_data"
    }
   ],
   "source": [
    "# Create bar chart\n",
    "crosstab_loyalty_spend_chart = crosstab_loyalty_spend.plot(kind='bar', stacked=True, color = sns.color_palette(\"Blues_r\")) \n",
    "plt.title(\"Spending Behaviour by Loyalty Status\")\n",
    "plt.tight_layout()"
   ]
  },
  {
   "cell_type": "code",
   "execution_count": 114,
   "id": "8da140f6",
   "metadata": {
    "ExecuteTime": {
     "end_time": "2021-11-21T20:48:51.386289Z",
     "start_time": "2021-11-21T20:48:51.277283Z"
    }
   },
   "outputs": [],
   "source": [
    "# Export chart\n",
    "crosstab_loyalty_spend_chart.figure.savefig(os.path.join(path, '04 Analysis','Visualizations', 'crosstab_loyalty_spend_chart.png'))"
   ]
  },
  {
   "cell_type": "markdown",
   "id": "b9a2203a",
   "metadata": {},
   "source": [
    "## Daily orders by loyalty status"
   ]
  },
  {
   "cell_type": "code",
   "execution_count": 115,
   "id": "0de750d1",
   "metadata": {
    "ExecuteTime": {
     "end_time": "2021-11-21T20:48:53.359967Z",
     "start_time": "2021-11-21T20:48:51.388292Z"
    }
   },
   "outputs": [],
   "source": [
    "# Create a crosstab \"order_day_of_week\" & \"loyalty_flag\"\n",
    "crosstab_odow_loyalty = pd.crosstab(df_ords_prods_cust_merged_new[\"order_day_of_week\"], df_ords_prods_cust_merged_new[\"loyalty_flag\"], dropna = False)"
   ]
  },
  {
   "cell_type": "code",
   "execution_count": 116,
   "id": "ce8b0b87",
   "metadata": {
    "ExecuteTime": {
     "end_time": "2021-11-21T20:48:53.709634Z",
     "start_time": "2021-11-21T20:48:53.361973Z"
    }
   },
   "outputs": [
    {
     "data": {
      "image/png": "[encoded data removed]",
      "text/plain": [
       "<Figure size 432x288 with 1 Axes>"
      ]
     },
     "metadata": {
      "needs_background": "light"
     },
     "output_type": "display_data"
    }
   ],
   "source": [
    "# Create bar chart\n",
    "crosstab_odow_loyalty_chart = crosstab_odow_loyalty.plot(color = sns.color_palette(\"Blues_r\"), kind='bar', stacked=False)\n",
    "plt.title(\"Daily Orders by Loyalty Status\")\n",
    "plt.tight_layout()"
   ]
  },
  {
   "cell_type": "code",
   "execution_count": 117,
   "id": "c70e6da1",
   "metadata": {
    "ExecuteTime": {
     "end_time": "2021-11-21T20:48:53.836988Z",
     "start_time": "2021-11-21T20:48:53.711638Z"
    }
   },
   "outputs": [],
   "source": [
    "# Export line chart outside Jupyter as image file\n",
    "crosstab_odow_loyalty_chart.figure.savefig(os.path.join(path, '04 Analysis','Visualizations', 'crosstab_odow_loyalty_chart.png'))"
   ]
  },
  {
   "cell_type": "markdown",
   "id": "54e8bc04",
   "metadata": {},
   "source": [
    "## Spending by department & loyalty status"
   ]
  },
  {
   "cell_type": "code",
   "execution_count": 118,
   "id": "e258d2cb",
   "metadata": {
    "ExecuteTime": {
     "end_time": "2021-11-21T20:48:56.488608Z",
     "start_time": "2021-11-21T20:48:53.839159Z"
    }
   },
   "outputs": [],
   "source": [
    "# Create a crosstab \"department\" & \"loyalty_flag\"\n",
    "crosstab_dept_loyalty = pd.crosstab(df_ords_prods_cust_merged_new[\"department\"], df_ords_prods_cust_merged_new[\"loyalty_flag\"], dropna = False)"
   ]
  },
  {
   "cell_type": "code",
   "execution_count": 119,
   "id": "ec4eba81",
   "metadata": {
    "ExecuteTime": {
     "end_time": "2021-11-21T20:48:57.078363Z",
     "start_time": "2021-11-21T20:48:56.490609Z"
    }
   },
   "outputs": [
    {
     "data": {
      "image/png": "[encoded data removed]",
      "text/plain": [
       "<Figure size 432x288 with 1 Axes>"
      ]
     },
     "metadata": {
      "needs_background": "light"
     },
     "output_type": "display_data"
    }
   ],
   "source": [
    "# Create bar chart\n",
    "crosstab_dept_loyalty_chart = crosstab_dept_loyalty.plot(kind='bar', stacked=True, color = sns.color_palette(\"Blues_r\"))   \n",
    "plt.tight_layout()"
   ]
  },
  {
   "cell_type": "code",
   "execution_count": 120,
   "id": "ee77ec64",
   "metadata": {
    "ExecuteTime": {
     "end_time": "2021-11-21T20:48:57.283676Z",
     "start_time": "2021-11-21T20:48:57.080363Z"
    }
   },
   "outputs": [],
   "source": [
    "# Export chart\n",
    "crosstab_dept_loyalty_chart.figure.savefig(os.path.join(path, '04 Analysis','Visualizations', 'crosstab_dept_loyalty_chart.png'))"
   ]
  },
  {
   "cell_type": "markdown",
   "id": "45578e08",
   "metadata": {
    "ExecuteTime": {
     "end_time": "2021-11-14T15:24:37.060214Z",
     "start_time": "2021-11-14T15:24:37.052217Z"
    }
   },
   "source": [
    "# Variables to explore specific customer profiles (examples)"
   ]
  },
  {
   "cell_type": "markdown",
   "id": "bcaabbab",
   "metadata": {},
   "source": [
    "## High earning customers"
   ]
  },
  {
   "cell_type": "code",
   "execution_count": 126,
   "id": "ddd2bd64",
   "metadata": {
    "ExecuteTime": {
     "end_time": "2021-11-21T20:55:02.736645Z",
     "start_time": "2021-11-21T20:55:00.526055Z"
    }
   },
   "outputs": [],
   "source": [
    "# Create a crosstab \"age_group\" & \"income_categ\"\n",
    "crosstab_age_income = pd.crosstab(df_ords_prods_cust_merged_new[\"age_group\"], df_ords_prods_cust_merged_new[\"income_categ\"], dropna = False)"
   ]
  },
  {
   "cell_type": "code",
   "execution_count": 127,
   "id": "d65d5aa4",
   "metadata": {
    "ExecuteTime": {
     "end_time": "2021-11-21T20:55:02.875288Z",
     "start_time": "2021-11-21T20:55:02.862131Z"
    },
    "scrolled": false
   },
   "outputs": [
    {
     "data": {
      "text/html": [
       "<div>\n",
       "<style scoped>\n",
       "    .dataframe tbody tr th:only-of-type {\n",
       "        vertical-align: middle;\n",
       "    }\n",
       "\n",
       "    .dataframe tbody tr th {\n",
       "        vertical-align: top;\n",
       "    }\n",
       "\n",
       "    .dataframe thead th {\n",
       "        text-align: right;\n",
       "    }\n",
       "</style>\n",
       "<table border=\"1\" class=\"dataframe\">\n",
       "  <thead>\n",
       "    <tr style=\"text-align: right;\">\n",
       "      <th>income_categ</th>\n",
       "      <th>High income</th>\n",
       "      <th>Low income</th>\n",
       "      <th>Middle class</th>\n",
       "      <th>Upper middle class</th>\n",
       "    </tr>\n",
       "    <tr>\n",
       "      <th>age_group</th>\n",
       "      <th></th>\n",
       "      <th></th>\n",
       "      <th></th>\n",
       "      <th></th>\n",
       "    </tr>\n",
       "  </thead>\n",
       "  <tbody>\n",
       "    <tr>\n",
       "      <th>Late middle aged adults</th>\n",
       "      <td>33310</td>\n",
       "      <td>239903</td>\n",
       "      <td>2087986</td>\n",
       "      <td>524133</td>\n",
       "    </tr>\n",
       "    <tr>\n",
       "      <th>Middle aged adults</th>\n",
       "      <td>9271</td>\n",
       "      <td>176236</td>\n",
       "      <td>1138870</td>\n",
       "      <td>115286</td>\n",
       "    </tr>\n",
       "    <tr>\n",
       "      <th>Seniors</th>\n",
       "      <td>25197</td>\n",
       "      <td>201898</td>\n",
       "      <td>1778857</td>\n",
       "      <td>438902</td>\n",
       "    </tr>\n",
       "    <tr>\n",
       "      <th>Young adults</th>\n",
       "      <td>9671</td>\n",
       "      <td>376150</td>\n",
       "      <td>2047196</td>\n",
       "      <td>13725</td>\n",
       "    </tr>\n",
       "  </tbody>\n",
       "</table>\n",
       "</div>"
      ],
      "text/plain": [
       "income_categ             High income  Low income  Middle class  \\\n",
       "age_group                                                        \n",
       "Late middle aged adults        33310      239903       2087986   \n",
       "Middle aged adults              9271      176236       1138870   \n",
       "Seniors                        25197      201898       1778857   \n",
       "Young adults                    9671      376150       2047196   \n",
       "\n",
       "income_categ             Upper middle class  \n",
       "age_group                                    \n",
       "Late middle aged adults              524133  \n",
       "Middle aged adults                   115286  \n",
       "Seniors                              438902  \n",
       "Young adults                          13725  "
      ]
     },
     "execution_count": 127,
     "metadata": {},
     "output_type": "execute_result"
    }
   ],
   "source": [
    "# Print\n",
    "crosstab_age_income"
   ]
  },
  {
   "cell_type": "code",
   "execution_count": 132,
   "id": "e791c391",
   "metadata": {
    "ExecuteTime": {
     "end_time": "2021-11-21T20:57:45.759679Z",
     "start_time": "2021-11-21T20:57:45.738011Z"
    }
   },
   "outputs": [],
   "source": [
    "# Copy to clipboard\n",
    "crosstab_age_income.to_clipboard()"
   ]
  },
  {
   "cell_type": "code",
   "execution_count": 130,
   "id": "0071f3b8",
   "metadata": {
    "ExecuteTime": {
     "end_time": "2021-11-21T20:56:43.366023Z",
     "start_time": "2021-11-21T20:56:43.047556Z"
    },
    "scrolled": true
   },
   "outputs": [
    {
     "data": {
      "image/png": "[encoded data removed]",
      "text/plain": [
       "<Figure size 432x288 with 1 Axes>"
      ]
     },
     "metadata": {
      "needs_background": "light"
     },
     "output_type": "display_data"
    }
   ],
   "source": [
    "# Create bar chart\n",
    "crosstab_age_income_chart = crosstab_age_income.plot(kind='bar', stacked=True, color = sns.color_palette(\"Blues_r\"))\n",
    "plt.title(\"Orders by Age and Income\")\n",
    "plt.tight_layout()"
   ]
  },
  {
   "cell_type": "code",
   "execution_count": 131,
   "id": "2a7d3ade",
   "metadata": {
    "ExecuteTime": {
     "end_time": "2021-11-21T20:56:44.055291Z",
     "start_time": "2021-11-21T20:56:43.929547Z"
    }
   },
   "outputs": [],
   "source": [
    "# Export chart\n",
    "crosstab_age_income_chart.figure.savefig(os.path.join(path, '04 Analysis','Visualizations', 'crosstab_age_income_chart.png'))"
   ]
  },
  {
   "cell_type": "markdown",
   "id": "06484309",
   "metadata": {},
   "source": [
    "## Young parents"
   ]
  },
  {
   "cell_type": "code",
   "execution_count": 71,
   "id": "1367fd16",
   "metadata": {
    "ExecuteTime": {
     "end_time": "2021-11-21T21:41:43.717838Z",
     "start_time": "2021-11-21T21:41:41.532673Z"
    }
   },
   "outputs": [],
   "source": [
    "# Create a crosstab \"parental_status\" & \"age_group\"\n",
    "crosstab_parent_age = pd.crosstab(df_ords_prods_cust_merged_new[\"age_group\"], df_ords_prods_cust_merged_new[\"parental_status\"], dropna = False)"
   ]
  },
  {
   "cell_type": "code",
   "execution_count": 72,
   "id": "533b3014",
   "metadata": {
    "ExecuteTime": {
     "end_time": "2021-11-21T21:41:43.733841Z",
     "start_time": "2021-11-21T21:41:43.719840Z"
    },
    "scrolled": true
   },
   "outputs": [
    {
     "data": {
      "text/html": [
       "<div>\n",
       "<style scoped>\n",
       "    .dataframe tbody tr th:only-of-type {\n",
       "        vertical-align: middle;\n",
       "    }\n",
       "\n",
       "    .dataframe tbody tr th {\n",
       "        vertical-align: top;\n",
       "    }\n",
       "\n",
       "    .dataframe thead th {\n",
       "        text-align: right;\n",
       "    }\n",
       "</style>\n",
       "<table border=\"1\" class=\"dataframe\">\n",
       "  <thead>\n",
       "    <tr style=\"text-align: right;\">\n",
       "      <th>parental_status</th>\n",
       "      <th>Not parent</th>\n",
       "      <th>Parent</th>\n",
       "    </tr>\n",
       "    <tr>\n",
       "      <th>age_group</th>\n",
       "      <th></th>\n",
       "      <th></th>\n",
       "    </tr>\n",
       "  </thead>\n",
       "  <tbody>\n",
       "    <tr>\n",
       "      <th>Late middle aged adults</th>\n",
       "      <td>726390</td>\n",
       "      <td>2158942</td>\n",
       "    </tr>\n",
       "    <tr>\n",
       "      <th>Middle aged adults</th>\n",
       "      <td>357172</td>\n",
       "      <td>1082491</td>\n",
       "    </tr>\n",
       "    <tr>\n",
       "      <th>Seniors</th>\n",
       "      <td>603611</td>\n",
       "      <td>1841243</td>\n",
       "    </tr>\n",
       "    <tr>\n",
       "      <th>Young adults</th>\n",
       "      <td>610515</td>\n",
       "      <td>1836227</td>\n",
       "    </tr>\n",
       "  </tbody>\n",
       "</table>\n",
       "</div>"
      ],
      "text/plain": [
       "parental_status          Not parent   Parent\n",
       "age_group                                   \n",
       "Late middle aged adults      726390  2158942\n",
       "Middle aged adults           357172  1082491\n",
       "Seniors                      603611  1841243\n",
       "Young adults                 610515  1836227"
      ]
     },
     "execution_count": 72,
     "metadata": {},
     "output_type": "execute_result"
    }
   ],
   "source": [
    "# Print\n",
    "crosstab_parent_age"
   ]
  },
  {
   "cell_type": "code",
   "execution_count": 73,
   "id": "850359e3",
   "metadata": {
    "ExecuteTime": {
     "end_time": "2021-11-21T21:41:43.764842Z",
     "start_time": "2021-11-21T21:41:43.735841Z"
    }
   },
   "outputs": [],
   "source": [
    "# Copy to clipboard\n",
    "crosstab_parent_age.to_clipboard()"
   ]
  },
  {
   "cell_type": "code",
   "execution_count": 74,
   "id": "fa0891c2",
   "metadata": {
    "ExecuteTime": {
     "end_time": "2021-11-21T21:41:45.448399Z",
     "start_time": "2021-11-21T21:41:45.180679Z"
    }
   },
   "outputs": [
    {
     "data": {
      "image/png": "[encoded data removed]",
      "text/plain": [
       "<Figure size 432x288 with 1 Axes>"
      ]
     },
     "metadata": {
      "needs_background": "light"
     },
     "output_type": "display_data"
    }
   ],
   "source": [
    "# Create bar chart\n",
    "crosstab_parent_age_chart = crosstab_parent_age.plot(kind='bar', stacked=True, color = sns.color_palette(\"Blues_r\")) \n",
    "plt.title(\"Orders by Age and Parental Status\")\n",
    "plt.tight_layout()"
   ]
  },
  {
   "cell_type": "code",
   "execution_count": 75,
   "id": "dcc55158",
   "metadata": {
    "ExecuteTime": {
     "end_time": "2021-11-21T21:41:48.761669Z",
     "start_time": "2021-11-21T21:41:48.661489Z"
    }
   },
   "outputs": [],
   "source": [
    "# Export chart\n",
    "crosstab_parent_age_chart.figure.savefig(os.path.join(path, '04 Analysis','Visualizations', 'crosstab_parent_age_chart.png'))"
   ]
  },
  {
   "cell_type": "code",
   "execution_count": null,
   "id": "61fc99d1",
   "metadata": {},
   "outputs": [],
   "source": []
  },
  {
   "cell_type": "code",
   "execution_count": 66,
   "id": "3f2e0932",
   "metadata": {
    "ExecuteTime": {
     "end_time": "2021-11-21T21:39:07.822629Z",
     "start_time": "2021-11-21T21:39:05.582345Z"
    }
   },
   "outputs": [],
   "source": [
    "# Create a crosstab \"parental_status\" & \"department\"\n",
    "crosstab_parent_spend = pd.crosstab(df_ords_prods_cust_merged_new[\"department\"], df_ords_prods_cust_merged_new[\"spending_flag\"], dropna = False)"
   ]
  },
  {
   "cell_type": "code",
   "execution_count": 67,
   "id": "46f690a3",
   "metadata": {
    "ExecuteTime": {
     "end_time": "2021-11-21T21:39:10.859555Z",
     "start_time": "2021-11-21T21:39:10.830794Z"
    }
   },
   "outputs": [
    {
     "data": {
      "text/html": [
       "<div>\n",
       "<style scoped>\n",
       "    .dataframe tbody tr th:only-of-type {\n",
       "        vertical-align: middle;\n",
       "    }\n",
       "\n",
       "    .dataframe tbody tr th {\n",
       "        vertical-align: top;\n",
       "    }\n",
       "\n",
       "    .dataframe thead th {\n",
       "        text-align: right;\n",
       "    }\n",
       "</style>\n",
       "<table border=\"1\" class=\"dataframe\">\n",
       "  <thead>\n",
       "    <tr style=\"text-align: right;\">\n",
       "      <th>spending_flag</th>\n",
       "      <th>High spender</th>\n",
       "      <th>Low spender</th>\n",
       "    </tr>\n",
       "    <tr>\n",
       "      <th>department</th>\n",
       "      <th></th>\n",
       "      <th></th>\n",
       "    </tr>\n",
       "  </thead>\n",
       "  <tbody>\n",
       "    <tr>\n",
       "      <th>alcohol</th>\n",
       "      <td>2732</td>\n",
       "      <td>39782</td>\n",
       "    </tr>\n",
       "    <tr>\n",
       "      <th>babies</th>\n",
       "      <td>934</td>\n",
       "      <td>123143</td>\n",
       "    </tr>\n",
       "    <tr>\n",
       "      <th>bakery</th>\n",
       "      <td>6760</td>\n",
       "      <td>326621</td>\n",
       "    </tr>\n",
       "    <tr>\n",
       "      <th>beverages</th>\n",
       "      <td>14914</td>\n",
       "      <td>749863</td>\n",
       "    </tr>\n",
       "    <tr>\n",
       "      <th>breakfast</th>\n",
       "      <td>3587</td>\n",
       "      <td>195906</td>\n",
       "    </tr>\n",
       "    <tr>\n",
       "      <th>bulk</th>\n",
       "      <td>50</td>\n",
       "      <td>9948</td>\n",
       "    </tr>\n",
       "    <tr>\n",
       "      <th>canned goods</th>\n",
       "      <td>5041</td>\n",
       "      <td>293849</td>\n",
       "    </tr>\n",
       "    <tr>\n",
       "      <th>dairy eggs</th>\n",
       "      <td>28986</td>\n",
       "      <td>1515868</td>\n",
       "    </tr>\n",
       "    <tr>\n",
       "      <th>deli</th>\n",
       "      <td>4313</td>\n",
       "      <td>294374</td>\n",
       "    </tr>\n",
       "    <tr>\n",
       "      <th>dry goods pasta</th>\n",
       "      <td>3861</td>\n",
       "      <td>239585</td>\n",
       "    </tr>\n",
       "    <tr>\n",
       "      <th>frozen</th>\n",
       "      <td>11164</td>\n",
       "      <td>616778</td>\n",
       "    </tr>\n",
       "    <tr>\n",
       "      <th>households</th>\n",
       "      <td>5606</td>\n",
       "      <td>200626</td>\n",
       "    </tr>\n",
       "    <tr>\n",
       "      <th>international</th>\n",
       "      <td>1177</td>\n",
       "      <td>75043</td>\n",
       "    </tr>\n",
       "    <tr>\n",
       "      <th>meat seafood</th>\n",
       "      <td>7100</td>\n",
       "      <td>192637</td>\n",
       "    </tr>\n",
       "    <tr>\n",
       "      <th>missing</th>\n",
       "      <td>259</td>\n",
       "      <td>18845</td>\n",
       "    </tr>\n",
       "    <tr>\n",
       "      <th>other</th>\n",
       "      <td>236</td>\n",
       "      <td>9911</td>\n",
       "    </tr>\n",
       "    <tr>\n",
       "      <th>pantry</th>\n",
       "      <td>9552</td>\n",
       "      <td>518127</td>\n",
       "    </tr>\n",
       "    <tr>\n",
       "      <th>personal care</th>\n",
       "      <td>2427</td>\n",
       "      <td>122851</td>\n",
       "    </tr>\n",
       "    <tr>\n",
       "      <th>pets</th>\n",
       "      <td>966</td>\n",
       "      <td>26650</td>\n",
       "    </tr>\n",
       "    <tr>\n",
       "      <th>produce</th>\n",
       "      <td>35408</td>\n",
       "      <td>2675197</td>\n",
       "    </tr>\n",
       "    <tr>\n",
       "      <th>snacks</th>\n",
       "      <td>10135</td>\n",
       "      <td>815779</td>\n",
       "    </tr>\n",
       "  </tbody>\n",
       "</table>\n",
       "</div>"
      ],
      "text/plain": [
       "spending_flag    High spender  Low spender\n",
       "department                                \n",
       "alcohol                  2732        39782\n",
       "babies                    934       123143\n",
       "bakery                   6760       326621\n",
       "beverages               14914       749863\n",
       "breakfast                3587       195906\n",
       "bulk                       50         9948\n",
       "canned goods             5041       293849\n",
       "dairy eggs              28986      1515868\n",
       "deli                     4313       294374\n",
       "dry goods pasta          3861       239585\n",
       "frozen                  11164       616778\n",
       "households               5606       200626\n",
       "international            1177        75043\n",
       "meat seafood             7100       192637\n",
       "missing                   259        18845\n",
       "other                     236         9911\n",
       "pantry                   9552       518127\n",
       "personal care            2427       122851\n",
       "pets                      966        26650\n",
       "produce                 35408      2675197\n",
       "snacks                  10135       815779"
      ]
     },
     "execution_count": 67,
     "metadata": {},
     "output_type": "execute_result"
    }
   ],
   "source": [
    "# Print\n",
    "crosstab_parent_spend"
   ]
  },
  {
   "cell_type": "code",
   "execution_count": 69,
   "id": "d8fb54ea",
   "metadata": {
    "ExecuteTime": {
     "end_time": "2021-11-21T21:40:03.445950Z",
     "start_time": "2021-11-21T21:40:03.418948Z"
    }
   },
   "outputs": [],
   "source": [
    "# Copy to clipboard\n",
    "crosstab_parent_spend.to_clipboard()"
   ]
  },
  {
   "cell_type": "markdown",
   "id": "e5d71d2d",
   "metadata": {},
   "source": [
    "## Loyal customers with large families"
   ]
  },
  {
   "cell_type": "code",
   "execution_count": 84,
   "id": "35a43cd6",
   "metadata": {
    "ExecuteTime": {
     "end_time": "2021-11-21T21:43:44.089209Z",
     "start_time": "2021-11-21T21:43:42.343711Z"
    }
   },
   "outputs": [],
   "source": [
    "# Create a crosstab \"loyalty_flag\" & \"n_dependants\"\n",
    "crosstab_loyalty_depend = pd.crosstab(df_ords_prods_cust_merged_new[\"loyalty_flag\"], df_ords_prods_cust_merged_new[\"n_dependants\"], dropna = False)"
   ]
  },
  {
   "cell_type": "code",
   "execution_count": 85,
   "id": "3a0e632e",
   "metadata": {
    "ExecuteTime": {
     "end_time": "2021-11-21T21:43:44.108125Z",
     "start_time": "2021-11-21T21:43:44.091212Z"
    }
   },
   "outputs": [
    {
     "data": {
      "text/html": [
       "<div>\n",
       "<style scoped>\n",
       "    .dataframe tbody tr th:only-of-type {\n",
       "        vertical-align: middle;\n",
       "    }\n",
       "\n",
       "    .dataframe tbody tr th {\n",
       "        vertical-align: top;\n",
       "    }\n",
       "\n",
       "    .dataframe thead th {\n",
       "        text-align: right;\n",
       "    }\n",
       "</style>\n",
       "<table border=\"1\" class=\"dataframe\">\n",
       "  <thead>\n",
       "    <tr style=\"text-align: right;\">\n",
       "      <th>n_dependants</th>\n",
       "      <th>0</th>\n",
       "      <th>1</th>\n",
       "      <th>2</th>\n",
       "      <th>3</th>\n",
       "    </tr>\n",
       "    <tr>\n",
       "      <th>loyalty_flag</th>\n",
       "      <th></th>\n",
       "      <th></th>\n",
       "      <th></th>\n",
       "      <th></th>\n",
       "    </tr>\n",
       "  </thead>\n",
       "  <tbody>\n",
       "    <tr>\n",
       "      <th>Loyal customer</th>\n",
       "      <td>747181</td>\n",
       "      <td>732944</td>\n",
       "      <td>735770</td>\n",
       "      <td>745028</td>\n",
       "    </tr>\n",
       "    <tr>\n",
       "      <th>New customer</th>\n",
       "      <td>382066</td>\n",
       "      <td>382934</td>\n",
       "      <td>389031</td>\n",
       "      <td>382157</td>\n",
       "    </tr>\n",
       "    <tr>\n",
       "      <th>Regular customer</th>\n",
       "      <td>1168441</td>\n",
       "      <td>1181697</td>\n",
       "      <td>1177627</td>\n",
       "      <td>1191715</td>\n",
       "    </tr>\n",
       "  </tbody>\n",
       "</table>\n",
       "</div>"
      ],
      "text/plain": [
       "n_dependants            0        1        2        3\n",
       "loyalty_flag                                        \n",
       "Loyal customer     747181   732944   735770   745028\n",
       "New customer       382066   382934   389031   382157\n",
       "Regular customer  1168441  1181697  1177627  1191715"
      ]
     },
     "execution_count": 85,
     "metadata": {},
     "output_type": "execute_result"
    }
   ],
   "source": [
    "# Print\n",
    "crosstab_loyalty_depend"
   ]
  },
  {
   "cell_type": "code",
   "execution_count": 95,
   "id": "c87fedef",
   "metadata": {
    "ExecuteTime": {
     "end_time": "2021-11-21T21:45:56.433754Z",
     "start_time": "2021-11-21T21:45:56.417767Z"
    }
   },
   "outputs": [],
   "source": [
    "# Copy to clipboard\n",
    "crosstab_loyalty_depend.to_clipboard()"
   ]
  },
  {
   "cell_type": "code",
   "execution_count": 93,
   "id": "ca144a38",
   "metadata": {
    "ExecuteTime": {
     "end_time": "2021-11-21T21:45:35.929487Z",
     "start_time": "2021-11-21T21:45:35.648728Z"
    }
   },
   "outputs": [
    {
     "data": {
      "image/png": "[encoded data removed]",
      "text/plain": [
       "<Figure size 432x288 with 1 Axes>"
      ]
     },
     "metadata": {
      "needs_background": "light"
     },
     "output_type": "display_data"
    }
   ],
   "source": [
    "# Create bar chart\n",
    "crosstab_loyalty_depend_chart = crosstab_loyalty_depend.plot(kind='bar', stacked=True, color = sns.color_palette(\"Blues_r\"))\n",
    "plt.title(\"Orders by Loyalty Status and Dependants\")\n",
    "plt.tight_layout()"
   ]
  },
  {
   "cell_type": "code",
   "execution_count": 94,
   "id": "eab210b3",
   "metadata": {
    "ExecuteTime": {
     "end_time": "2021-11-21T21:45:36.311942Z",
     "start_time": "2021-11-21T21:45:36.188392Z"
    }
   },
   "outputs": [],
   "source": [
    "# Export chart\n",
    "crosstab_loyalty_depend_chart.figure.savefig(os.path.join(path, '04 Analysis','Visualizations', 'crosstab_loyalty_depend_chart.png'))"
   ]
  },
  {
   "cell_type": "markdown",
   "id": "6b38b98f",
   "metadata": {},
   "source": [
    "## Singles with pets"
   ]
  },
  {
   "cell_type": "code",
   "execution_count": 96,
   "id": "5060f04b",
   "metadata": {
    "ExecuteTime": {
     "end_time": "2021-11-21T21:49:43.322192Z",
     "start_time": "2021-11-21T21:49:41.057933Z"
    }
   },
   "outputs": [],
   "source": [
    "# Create a crosstab \"deparment\" & \"fam_status\"\n",
    "crosstab_dept_fam = pd.crosstab(df_ords_prods_cust_merged_new[\"department\"], df_ords_prods_cust_merged_new[\"fam_status\"], dropna = False)"
   ]
  },
  {
   "cell_type": "code",
   "execution_count": 97,
   "id": "03f96115",
   "metadata": {
    "ExecuteTime": {
     "end_time": "2021-11-21T21:50:28.311112Z",
     "start_time": "2021-11-21T21:50:28.281569Z"
    }
   },
   "outputs": [
    {
     "data": {
      "text/html": [
       "<div>\n",
       "<style scoped>\n",
       "    .dataframe tbody tr th:only-of-type {\n",
       "        vertical-align: middle;\n",
       "    }\n",
       "\n",
       "    .dataframe tbody tr th {\n",
       "        vertical-align: top;\n",
       "    }\n",
       "\n",
       "    .dataframe thead th {\n",
       "        text-align: right;\n",
       "    }\n",
       "</style>\n",
       "<table border=\"1\" class=\"dataframe\">\n",
       "  <thead>\n",
       "    <tr style=\"text-align: right;\">\n",
       "      <th>fam_status</th>\n",
       "      <th>divorced/widowed</th>\n",
       "      <th>living with parents and siblings</th>\n",
       "      <th>married</th>\n",
       "      <th>single</th>\n",
       "    </tr>\n",
       "    <tr>\n",
       "      <th>department</th>\n",
       "      <th></th>\n",
       "      <th></th>\n",
       "      <th></th>\n",
       "      <th></th>\n",
       "    </tr>\n",
       "  </thead>\n",
       "  <tbody>\n",
       "    <tr>\n",
       "      <th>alcohol</th>\n",
       "      <td>3496</td>\n",
       "      <td>2592</td>\n",
       "      <td>29052</td>\n",
       "      <td>7374</td>\n",
       "    </tr>\n",
       "    <tr>\n",
       "      <th>babies</th>\n",
       "      <td>10619</td>\n",
       "      <td>5822</td>\n",
       "      <td>87196</td>\n",
       "      <td>20440</td>\n",
       "    </tr>\n",
       "    <tr>\n",
       "      <th>bakery</th>\n",
       "      <td>28599</td>\n",
       "      <td>16056</td>\n",
       "      <td>234040</td>\n",
       "      <td>54686</td>\n",
       "    </tr>\n",
       "    <tr>\n",
       "      <th>beverages</th>\n",
       "      <td>65774</td>\n",
       "      <td>35220</td>\n",
       "      <td>537549</td>\n",
       "      <td>126234</td>\n",
       "    </tr>\n",
       "    <tr>\n",
       "      <th>breakfast</th>\n",
       "      <td>16882</td>\n",
       "      <td>10002</td>\n",
       "      <td>140129</td>\n",
       "      <td>32480</td>\n",
       "    </tr>\n",
       "    <tr>\n",
       "      <th>bulk</th>\n",
       "      <td>782</td>\n",
       "      <td>500</td>\n",
       "      <td>7101</td>\n",
       "      <td>1615</td>\n",
       "    </tr>\n",
       "    <tr>\n",
       "      <th>canned goods</th>\n",
       "      <td>24904</td>\n",
       "      <td>14076</td>\n",
       "      <td>210777</td>\n",
       "      <td>49133</td>\n",
       "    </tr>\n",
       "    <tr>\n",
       "      <th>dairy eggs</th>\n",
       "      <td>132161</td>\n",
       "      <td>74882</td>\n",
       "      <td>1085330</td>\n",
       "      <td>252481</td>\n",
       "    </tr>\n",
       "    <tr>\n",
       "      <th>deli</th>\n",
       "      <td>26123</td>\n",
       "      <td>14203</td>\n",
       "      <td>209151</td>\n",
       "      <td>49210</td>\n",
       "    </tr>\n",
       "    <tr>\n",
       "      <th>dry goods pasta</th>\n",
       "      <td>20800</td>\n",
       "      <td>11451</td>\n",
       "      <td>171434</td>\n",
       "      <td>39761</td>\n",
       "    </tr>\n",
       "    <tr>\n",
       "      <th>frozen</th>\n",
       "      <td>54374</td>\n",
       "      <td>30414</td>\n",
       "      <td>441139</td>\n",
       "      <td>102015</td>\n",
       "    </tr>\n",
       "    <tr>\n",
       "      <th>households</th>\n",
       "      <td>17463</td>\n",
       "      <td>9881</td>\n",
       "      <td>145656</td>\n",
       "      <td>33232</td>\n",
       "    </tr>\n",
       "    <tr>\n",
       "      <th>international</th>\n",
       "      <td>6470</td>\n",
       "      <td>3584</td>\n",
       "      <td>53523</td>\n",
       "      <td>12643</td>\n",
       "    </tr>\n",
       "    <tr>\n",
       "      <th>meat seafood</th>\n",
       "      <td>16965</td>\n",
       "      <td>9529</td>\n",
       "      <td>141538</td>\n",
       "      <td>31705</td>\n",
       "    </tr>\n",
       "    <tr>\n",
       "      <th>missing</th>\n",
       "      <td>1463</td>\n",
       "      <td>944</td>\n",
       "      <td>13488</td>\n",
       "      <td>3209</td>\n",
       "    </tr>\n",
       "    <tr>\n",
       "      <th>other</th>\n",
       "      <td>834</td>\n",
       "      <td>542</td>\n",
       "      <td>7063</td>\n",
       "      <td>1708</td>\n",
       "    </tr>\n",
       "    <tr>\n",
       "      <th>pantry</th>\n",
       "      <td>44704</td>\n",
       "      <td>25194</td>\n",
       "      <td>371719</td>\n",
       "      <td>86062</td>\n",
       "    </tr>\n",
       "    <tr>\n",
       "      <th>personal care</th>\n",
       "      <td>10640</td>\n",
       "      <td>5897</td>\n",
       "      <td>88057</td>\n",
       "      <td>20684</td>\n",
       "    </tr>\n",
       "    <tr>\n",
       "      <th>pets</th>\n",
       "      <td>2471</td>\n",
       "      <td>1482</td>\n",
       "      <td>19020</td>\n",
       "      <td>4643</td>\n",
       "    </tr>\n",
       "    <tr>\n",
       "      <th>produce</th>\n",
       "      <td>232062</td>\n",
       "      <td>128220</td>\n",
       "      <td>1905075</td>\n",
       "      <td>445248</td>\n",
       "    </tr>\n",
       "    <tr>\n",
       "      <th>snacks</th>\n",
       "      <td>70600</td>\n",
       "      <td>38687</td>\n",
       "      <td>581688</td>\n",
       "      <td>134939</td>\n",
       "    </tr>\n",
       "  </tbody>\n",
       "</table>\n",
       "</div>"
      ],
      "text/plain": [
       "fam_status       divorced/widowed  living with parents and siblings  married  \\\n",
       "department                                                                     \n",
       "alcohol                      3496                              2592    29052   \n",
       "babies                      10619                              5822    87196   \n",
       "bakery                      28599                             16056   234040   \n",
       "beverages                   65774                             35220   537549   \n",
       "breakfast                   16882                             10002   140129   \n",
       "bulk                          782                               500     7101   \n",
       "canned goods                24904                             14076   210777   \n",
       "dairy eggs                 132161                             74882  1085330   \n",
       "deli                        26123                             14203   209151   \n",
       "dry goods pasta             20800                             11451   171434   \n",
       "frozen                      54374                             30414   441139   \n",
       "households                  17463                              9881   145656   \n",
       "international                6470                              3584    53523   \n",
       "meat seafood                16965                              9529   141538   \n",
       "missing                      1463                               944    13488   \n",
       "other                         834                               542     7063   \n",
       "pantry                      44704                             25194   371719   \n",
       "personal care               10640                              5897    88057   \n",
       "pets                         2471                              1482    19020   \n",
       "produce                    232062                            128220  1905075   \n",
       "snacks                      70600                             38687   581688   \n",
       "\n",
       "fam_status       single  \n",
       "department               \n",
       "alcohol            7374  \n",
       "babies            20440  \n",
       "bakery            54686  \n",
       "beverages        126234  \n",
       "breakfast         32480  \n",
       "bulk               1615  \n",
       "canned goods      49133  \n",
       "dairy eggs       252481  \n",
       "deli              49210  \n",
       "dry goods pasta   39761  \n",
       "frozen           102015  \n",
       "households        33232  \n",
       "international     12643  \n",
       "meat seafood      31705  \n",
       "missing            3209  \n",
       "other              1708  \n",
       "pantry            86062  \n",
       "personal care     20684  \n",
       "pets               4643  \n",
       "produce          445248  \n",
       "snacks           134939  "
      ]
     },
     "execution_count": 97,
     "metadata": {},
     "output_type": "execute_result"
    }
   ],
   "source": [
    "# Print\n",
    "crosstab_dept_fam"
   ]
  },
  {
   "cell_type": "code",
   "execution_count": 98,
   "id": "e76688b6",
   "metadata": {
    "ExecuteTime": {
     "end_time": "2021-11-21T21:50:33.981782Z",
     "start_time": "2021-11-21T21:50:33.966781Z"
    }
   },
   "outputs": [],
   "source": [
    "# Copy to clipboard\n",
    "crosstab_dept_fam.to_clipboard()"
   ]
  },
  {
   "cell_type": "code",
   "execution_count": 104,
   "id": "f6f4235a",
   "metadata": {
    "ExecuteTime": {
     "end_time": "2021-11-21T21:59:02.751480Z",
     "start_time": "2021-11-21T21:59:02.195666Z"
    }
   },
   "outputs": [
    {
     "data": {
      "image/png": "[encoded data removed]",
      "text/plain": [
       "<Figure size 432x288 with 1 Axes>"
      ]
     },
     "metadata": {
      "needs_background": "light"
     },
     "output_type": "display_data"
    }
   ],
   "source": [
    "# Create bar chart\n",
    "crosstab_dept_fam_chart = crosstab_dept_fam.plot(kind='bar', stacked=True, color = sns.color_palette(\"Blues_r\"))\n",
    "plt.title(\"Orders by Department and Family Status\")\n",
    "plt.tight_layout()"
   ]
  },
  {
   "cell_type": "code",
   "execution_count": 105,
   "id": "8a1b9c51",
   "metadata": {
    "ExecuteTime": {
     "end_time": "2021-11-21T21:59:20.721981Z",
     "start_time": "2021-11-21T21:59:20.480039Z"
    }
   },
   "outputs": [],
   "source": [
    "# Export chart\n",
    "crosstab_dept_fam_chart.figure.savefig(os.path.join(path, '04 Analysis','Visualizations', 'crosstab_dept_fam_chart.png'))"
   ]
  }
 ],
 "metadata": {
  "kernelspec": {
   "display_name": "Python 3",
   "language": "python",
   "name": "python3"
  },
  "language_info": {
   "codemirror_mode": {
    "name": "ipython",
    "version": 3
   },
   "file_extension": ".py",
   "mimetype": "text/x-python",
   "name": "python",
   "nbconvert_exporter": "python",
   "pygments_lexer": "ipython3",
   "version": "3.8.8"
  },
  "toc": {
   "base_numbering": 1,
   "nav_menu": {},
   "number_sections": true,
   "sideBar": true,
   "skip_h1_title": false,
   "title_cell": "Table of Contents",
   "title_sidebar": "Contents",
   "toc_cell": false,
   "toc_position": {
    "height": "calc(100% - 180px)",
    "left": "10px",
    "top": "150px",
    "width": "426.667px"
   },
   "toc_section_display": true,
   "toc_window_display": true
  }
 },
 "nbformat": 4,
 "nbformat_minor": 5
}
